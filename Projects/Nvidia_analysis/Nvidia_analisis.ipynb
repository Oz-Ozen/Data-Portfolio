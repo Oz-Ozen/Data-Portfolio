{
 "cells": [
  {
   "cell_type": "markdown",
   "id": "ee637430",
   "metadata": {},
   "source": [
    "# NVIDIA time series analisis with python\n"
   ]
  },
  {
   "cell_type": "markdown",
   "id": "1899379a",
   "metadata": {},
   "source": [
    "📌 Introduction \n",
    "\n",
    "In this project, we explore and contextualize the financial market, with emphasis on  **NVIDIA** and **Bitcoin** data market. aiming to determine wich asset was more profitable from 2020 to 2025\n",
    "#\n",
    "As an optional and complementary extension, we also develop a **Transformer-bases machine learning model**, to evaluate its capacity to predict movements for **NVIDIA**.\n",
    "#\n",
    "*This model is not the main idea of the job, but it shows the potential of machine learning in time series analisis.* \n",
    "\n",
    "\n"
   ]
  },
  {
   "cell_type": "code",
   "execution_count": 1,
   "id": "c4c20fa4",
   "metadata": {},
   "outputs": [],
   "source": [
    "#imports \n",
    "\n",
    "import pandas as pd\n",
    "import numpy as np\n",
    "from datetime import datetime, timedelta \n",
    "\n",
    "\n",
    "import yfinance as yf\n",
    "\n",
    "import plotly.graph_objects as go\n",
    "import plotly.io as pio\n",
    "import plotly.express as px\n"
   ]
  },
  {
   "cell_type": "code",
   "execution_count": 2,
   "id": "7eb6f28f",
   "metadata": {},
   "outputs": [],
   "source": [
    "import plotly.io as pio\n",
    "\n",
    "pio.renderers.default = \"notebook_connected+png\""
   ]
  },
  {
   "cell_type": "markdown",
   "id": "5dcd3fd5",
   "metadata": {},
   "source": [
    "📥 loading the data\n",
    "\n",
    "we started by downloading the historical data of  **NVIDIA** (NVDA) using the yfinance library. Then, we explored its structure, checked for missing values and performed  basic preparation for interactive visualizations with Plolty"
   ]
  },
  {
   "cell_type": "code",
   "execution_count": 3,
   "id": "fd98c431",
   "metadata": {},
   "outputs": [
    {
     "name": "stderr",
     "output_type": "stream",
     "text": [
      "/tmp/ipykernel_355679/3237408474.py:11: FutureWarning:\n",
      "\n",
      "YF.download() has changed argument auto_adjust default to True\n",
      "\n",
      "[*********************100%***********************]  1 of 1 completed\n"
     ]
    },
    {
     "data": {
      "text/html": [
       "<div>\n",
       "<style scoped>\n",
       "    .dataframe tbody tr th:only-of-type {\n",
       "        vertical-align: middle;\n",
       "    }\n",
       "\n",
       "    .dataframe tbody tr th {\n",
       "        vertical-align: top;\n",
       "    }\n",
       "\n",
       "    .dataframe thead tr th {\n",
       "        text-align: left;\n",
       "    }\n",
       "\n",
       "    .dataframe thead tr:last-of-type th {\n",
       "        text-align: right;\n",
       "    }\n",
       "</style>\n",
       "<table border=\"1\" class=\"dataframe\">\n",
       "  <thead>\n",
       "    <tr>\n",
       "      <th>Price</th>\n",
       "      <th>Close</th>\n",
       "      <th>High</th>\n",
       "      <th>Low</th>\n",
       "      <th>Open</th>\n",
       "      <th>Volume</th>\n",
       "    </tr>\n",
       "    <tr>\n",
       "      <th>Ticker</th>\n",
       "      <th>NVDA</th>\n",
       "      <th>NVDA</th>\n",
       "      <th>NVDA</th>\n",
       "      <th>NVDA</th>\n",
       "      <th>NVDA</th>\n",
       "    </tr>\n",
       "    <tr>\n",
       "      <th>Date</th>\n",
       "      <th></th>\n",
       "      <th></th>\n",
       "      <th></th>\n",
       "      <th></th>\n",
       "      <th></th>\n",
       "    </tr>\n",
       "  </thead>\n",
       "  <tbody>\n",
       "    <tr>\n",
       "      <th>2020-01-02</th>\n",
       "      <td>5.971747</td>\n",
       "      <td>5.971747</td>\n",
       "      <td>5.892343</td>\n",
       "      <td>5.942873</td>\n",
       "      <td>237536000</td>\n",
       "    </tr>\n",
       "    <tr>\n",
       "      <th>2020-01-03</th>\n",
       "      <td>5.876163</td>\n",
       "      <td>5.919972</td>\n",
       "      <td>5.827126</td>\n",
       "      <td>5.852018</td>\n",
       "      <td>205384000</td>\n",
       "    </tr>\n",
       "    <tr>\n",
       "      <th>2020-01-06</th>\n",
       "      <td>5.900805</td>\n",
       "      <td>5.906032</td>\n",
       "      <td>5.756682</td>\n",
       "      <td>5.782819</td>\n",
       "      <td>262636000</td>\n",
       "    </tr>\n",
       "    <tr>\n",
       "      <th>2020-01-07</th>\n",
       "      <td>5.972244</td>\n",
       "      <td>6.018045</td>\n",
       "      <td>5.884128</td>\n",
       "      <td>5.929182</td>\n",
       "      <td>314856000</td>\n",
       "    </tr>\n",
       "    <tr>\n",
       "      <th>2020-01-08</th>\n",
       "      <td>5.983446</td>\n",
       "      <td>6.024766</td>\n",
       "      <td>5.927937</td>\n",
       "      <td>5.968013</td>\n",
       "      <td>277108000</td>\n",
       "    </tr>\n",
       "    <tr>\n",
       "      <th>...</th>\n",
       "      <td>...</td>\n",
       "      <td>...</td>\n",
       "      <td>...</td>\n",
       "      <td>...</td>\n",
       "      <td>...</td>\n",
       "    </tr>\n",
       "    <tr>\n",
       "      <th>2025-05-23</th>\n",
       "      <td>131.280884</td>\n",
       "      <td>132.670787</td>\n",
       "      <td>129.151042</td>\n",
       "      <td>129.990980</td>\n",
       "      <td>198821300</td>\n",
       "    </tr>\n",
       "    <tr>\n",
       "      <th>2025-05-27</th>\n",
       "      <td>135.490585</td>\n",
       "      <td>135.650578</td>\n",
       "      <td>133.300735</td>\n",
       "      <td>134.140673</td>\n",
       "      <td>192953600</td>\n",
       "    </tr>\n",
       "    <tr>\n",
       "      <th>2025-05-28</th>\n",
       "      <td>134.800644</td>\n",
       "      <td>137.240477</td>\n",
       "      <td>134.780641</td>\n",
       "      <td>136.020560</td>\n",
       "      <td>304021100</td>\n",
       "    </tr>\n",
       "    <tr>\n",
       "      <th>2025-05-29</th>\n",
       "      <td>139.180344</td>\n",
       "      <td>143.480048</td>\n",
       "      <td>137.900434</td>\n",
       "      <td>142.240129</td>\n",
       "      <td>369241900</td>\n",
       "    </tr>\n",
       "    <tr>\n",
       "      <th>2025-05-30</th>\n",
       "      <td>135.120621</td>\n",
       "      <td>139.610299</td>\n",
       "      <td>132.910767</td>\n",
       "      <td>138.710368</td>\n",
       "      <td>333170900</td>\n",
       "    </tr>\n",
       "  </tbody>\n",
       "</table>\n",
       "<p>1360 rows × 5 columns</p>\n",
       "</div>"
      ],
      "text/plain": [
       "Price            Close        High         Low        Open     Volume\n",
       "Ticker            NVDA        NVDA        NVDA        NVDA       NVDA\n",
       "Date                                                                 \n",
       "2020-01-02    5.971747    5.971747    5.892343    5.942873  237536000\n",
       "2020-01-03    5.876163    5.919972    5.827126    5.852018  205384000\n",
       "2020-01-06    5.900805    5.906032    5.756682    5.782819  262636000\n",
       "2020-01-07    5.972244    6.018045    5.884128    5.929182  314856000\n",
       "2020-01-08    5.983446    6.024766    5.927937    5.968013  277108000\n",
       "...                ...         ...         ...         ...        ...\n",
       "2025-05-23  131.280884  132.670787  129.151042  129.990980  198821300\n",
       "2025-05-27  135.490585  135.650578  133.300735  134.140673  192953600\n",
       "2025-05-28  134.800644  137.240477  134.780641  136.020560  304021100\n",
       "2025-05-29  139.180344  143.480048  137.900434  142.240129  369241900\n",
       "2025-05-30  135.120621  139.610299  132.910767  138.710368  333170900\n",
       "\n",
       "[1360 rows x 5 columns]"
      ]
     },
     "execution_count": 3,
     "metadata": {},
     "output_type": "execute_result"
    }
   ],
   "source": [
    "#interval \n",
    "\n",
    "start = \"2020-01-01\"\n",
    "end = \"2025-05-31\"\n",
    "\n",
    "#ticker\n",
    "ticker = \"NVDA\"\n",
    "\n",
    "#get data \n",
    "\n",
    "nvda = yf.download(ticker, start, end)\n",
    "\n",
    "#preview the data \n",
    "nvda"
   ]
  },
  {
   "cell_type": "code",
   "execution_count": 4,
   "id": "4ca5cd77",
   "metadata": {},
   "outputs": [
    {
     "data": {
      "text/html": [
       "<div>\n",
       "<style scoped>\n",
       "    .dataframe tbody tr th:only-of-type {\n",
       "        vertical-align: middle;\n",
       "    }\n",
       "\n",
       "    .dataframe tbody tr th {\n",
       "        vertical-align: top;\n",
       "    }\n",
       "\n",
       "    .dataframe thead tr th {\n",
       "        text-align: left;\n",
       "    }\n",
       "</style>\n",
       "<table border=\"1\" class=\"dataframe\">\n",
       "  <thead>\n",
       "    <tr>\n",
       "      <th>Price</th>\n",
       "      <th>Close</th>\n",
       "      <th>High</th>\n",
       "      <th>Low</th>\n",
       "      <th>Open</th>\n",
       "      <th>Volume</th>\n",
       "    </tr>\n",
       "    <tr>\n",
       "      <th>Ticker</th>\n",
       "      <th>NVDA</th>\n",
       "      <th>NVDA</th>\n",
       "      <th>NVDA</th>\n",
       "      <th>NVDA</th>\n",
       "      <th>NVDA</th>\n",
       "    </tr>\n",
       "  </thead>\n",
       "  <tbody>\n",
       "    <tr>\n",
       "      <th>count</th>\n",
       "      <td>1360.000000</td>\n",
       "      <td>1360.000000</td>\n",
       "      <td>1360.000000</td>\n",
       "      <td>1360.000000</td>\n",
       "      <td>1.360000e+03</td>\n",
       "    </tr>\n",
       "    <tr>\n",
       "      <th>mean</th>\n",
       "      <td>44.741815</td>\n",
       "      <td>45.590498</td>\n",
       "      <td>43.810030</td>\n",
       "      <td>44.744791</td>\n",
       "      <td>4.342142e+08</td>\n",
       "    </tr>\n",
       "    <tr>\n",
       "      <th>std</th>\n",
       "      <td>43.069255</td>\n",
       "      <td>43.903162</td>\n",
       "      <td>42.182949</td>\n",
       "      <td>43.130547</td>\n",
       "      <td>1.883864e+08</td>\n",
       "    </tr>\n",
       "    <tr>\n",
       "      <th>min</th>\n",
       "      <td>4.891637</td>\n",
       "      <td>5.228870</td>\n",
       "      <td>4.500106</td>\n",
       "      <td>4.983791</td>\n",
       "      <td>9.788400e+07</td>\n",
       "    </tr>\n",
       "    <tr>\n",
       "      <th>25%</th>\n",
       "      <td>13.895235</td>\n",
       "      <td>14.146937</td>\n",
       "      <td>13.678740</td>\n",
       "      <td>13.939442</td>\n",
       "      <td>2.924312e+08</td>\n",
       "    </tr>\n",
       "    <tr>\n",
       "      <th>50%</th>\n",
       "      <td>22.679834</td>\n",
       "      <td>23.014241</td>\n",
       "      <td>22.183555</td>\n",
       "      <td>22.612917</td>\n",
       "      <td>4.090920e+08</td>\n",
       "    </tr>\n",
       "    <tr>\n",
       "      <th>75%</th>\n",
       "      <td>59.682195</td>\n",
       "      <td>59.988560</td>\n",
       "      <td>58.680141</td>\n",
       "      <td>59.663204</td>\n",
       "      <td>5.367932e+08</td>\n",
       "    </tr>\n",
       "    <tr>\n",
       "      <th>max</th>\n",
       "      <td>149.405869</td>\n",
       "      <td>153.105279</td>\n",
       "      <td>147.796143</td>\n",
       "      <td>153.005289</td>\n",
       "      <td>1.543911e+09</td>\n",
       "    </tr>\n",
       "  </tbody>\n",
       "</table>\n",
       "</div>"
      ],
      "text/plain": [
       "Price         Close         High          Low         Open        Volume\n",
       "Ticker         NVDA         NVDA         NVDA         NVDA          NVDA\n",
       "count   1360.000000  1360.000000  1360.000000  1360.000000  1.360000e+03\n",
       "mean      44.741815    45.590498    43.810030    44.744791  4.342142e+08\n",
       "std       43.069255    43.903162    42.182949    43.130547  1.883864e+08\n",
       "min        4.891637     5.228870     4.500106     4.983791  9.788400e+07\n",
       "25%       13.895235    14.146937    13.678740    13.939442  2.924312e+08\n",
       "50%       22.679834    23.014241    22.183555    22.612917  4.090920e+08\n",
       "75%       59.682195    59.988560    58.680141    59.663204  5.367932e+08\n",
       "max      149.405869   153.105279   147.796143   153.005289  1.543911e+09"
      ]
     },
     "execution_count": 4,
     "metadata": {},
     "output_type": "execute_result"
    }
   ],
   "source": [
    "#describe the data\n",
    "nvda.describe()"
   ]
  },
  {
   "cell_type": "code",
   "execution_count": 5,
   "id": "1755c7e5",
   "metadata": {},
   "outputs": [
    {
     "data": {
      "text/plain": [
       "Price   Ticker\n",
       "Close   NVDA      0\n",
       "High    NVDA      0\n",
       "Low     NVDA      0\n",
       "Open    NVDA      0\n",
       "Volume  NVDA      0\n",
       "dtype: int64"
      ]
     },
     "execution_count": 5,
     "metadata": {},
     "output_type": "execute_result"
    }
   ],
   "source": [
    "#nulls \n",
    "\n",
    "nvda.isnull().sum()"
   ]
  },
  {
   "cell_type": "markdown",
   "id": "f3aff131",
   "metadata": {},
   "source": [
    "\n",
    "*It appears that the DataFrame contains a MultiIndex structure. To facilite data handling, we will flatten the columns*\n"
   ]
  },
  {
   "cell_type": "code",
   "execution_count": 6,
   "id": "5599211a",
   "metadata": {},
   "outputs": [],
   "source": [
    "nvda.columns = nvda.columns.droplevel(1)"
   ]
  },
  {
   "cell_type": "markdown",
   "id": "e5656f92",
   "metadata": {},
   "source": [
    "📈 Visualizing the data \n",
    "\n",
    "We visualized the Market's evolution from 2020 to mid 2025.\n",
    "\n",
    "We focused on the critic period of april 2025, observing how the market react to the tariff crisis.\n",
    "\n",
    "To better understand the behavior during this time, we included a candlestick chart for more detailed insights\n"
   ]
  },
  {
   "cell_type": "code",
   "execution_count": 7,
   "id": "a741ef15",
   "metadata": {},
   "outputs": [],
   "source": [
    "#set colors \n",
    "\n",
    "dc_colors = [\"#2B3A64\", \"#96aae3\", \"#C3681D\", \"#EFBD95\", \"#E73F74\", \"#80BA5A\", \"#E68310\", \"#008695\", \"#CF1C90\", \"#f97b72\", \"#4b4b8f\", \"#A5AA99\"]\n",
    "\n",
    "# Set template\n",
    "pio.templates[\"dc\"] = go.layout.Template(\n",
    "    layout=dict(\n",
    "    \tfont={\"family\": \"Poppins, Sans-serif\", \"color\": \"#505050\"},\n",
    "        title={\"font\": {\"family\": \"Poppins, Sans-serif\", \"color\": \"black\"}, \"yanchor\": \"top\", \"y\": 0.92, \"xanchor\": \"left\", \"x\": 0.025},\n",
    "    \tplot_bgcolor=\"white\",\n",
    "    \tpaper_bgcolor=\"white\",\n",
    "    \thoverlabel=dict(bgcolor=\"white\"),\n",
    "    \tmargin=dict(l=100, r=50, t=75, b=70),\n",
    "        colorway=dc_colors,\n",
    "        xaxis=dict(showgrid=False),\n",
    "        yaxis=dict(showgrid=True, \n",
    "                   gridwidth=0.1, \n",
    "                   gridcolor='lightgrey', \n",
    "                   showline=True,\n",
    "                   nticks=10,\n",
    "                   linewidth=1, \n",
    "                   linecolor='black', \n",
    "                   rangemode=\"tozero\")\n",
    "    )\n",
    ") "
   ]
  },
  {
   "cell_type": "code",
   "execution_count": 29,
   "id": "31792588",
   "metadata": {},
   "outputs": [
    {
     "data": {
      "image/png": "[encoded data removed]",
      "text/html": [
       "<div>            <script src=\"https://cdnjs.cloudflare.com/ajax/libs/mathjax/2.7.5/MathJax.js?config=TeX-AMS-MML_SVG\"></script><script type=\"text/javascript\">if (window.MathJax && window.MathJax.Hub && window.MathJax.Hub.Config) {window.MathJax.Hub.Config({SVG: {font: \"STIX-Web\"}});}</script>                <script type=\"text/javascript\">window.PlotlyConfig = {MathJaxConfig: 'local'};</script>\n",
       "        <script charset=\"utf-8\" src=\"https://cdn.plot.ly/plotly-3.0.1.min.js\"></script>                <div id=\"5bfb150c-05c1-42de-ad6d-d5271be78b52\" class=\"plotly-graph-div\" style=\"height:525px; width:100%;\"></div>            <script type=\"text/javascript\">                window.PLOTLYENV=window.PLOTLYENV || {};                                if (document.getElementById(\"5bfb150c-05c1-42de-ad6d-d5271be78b52\")) {                    Plotly.newPlot(                        \"5bfb150c-05c1-42de-ad6d-d5271be78b52\",                        [{\"hovertemplate\":\"Date=%{x}\\u003cbr\\u003eClose=%{y}\\u003cextra\\u003e\\u003c\\u002fextra\\u003e\",\"legendgroup\":\"\",\"line\":{\"color\":\"#2B3A64\",\"dash\":\"solid\"},\"marker\":{\"symbol\":\"circle\"},\"mode\":\"lines\",\"name\":\"\",\"showlegend\":false,\"x\":[\"2020-01-02T00:00:00\",\"2020-01-03T00:00:00\",\"2020-01-06T00:00:00\",\"2020-01-07T00:00:00\",\"2020-01-08T00:00:00\",\"2020-01-09T00:00:00\",\"2020-01-10T00:00:00\",\"2020-01-13T00:00:00\",\"2020-01-14T00:00:00\",\"2020-01-15T00:00:00\",\"2020-01-16T00:00:00\",\"2020-01-17T00:00:00\",\"2020-01-21T00:00:00\",\"2020-01-22T00:00:00\",\"2020-01-23T00:00:00\",\"2020-01-24T00:00:00\",\"2020-01-27T00:00:00\",\"2020-01-28T00:00:00\",\"2020-01-29T00:00:00\",\"2020-01-30T00:00:00\",\"2020-01-31T00:00:00\",\"2020-02-03T00:00:00\",\"2020-02-04T00:00:00\",\"2020-02-05T00:00:00\",\"2020-02-06T00:00:00\",\"2020-02-07T00:00:00\",\"2020-02-10T00:00:00\",\"2020-02-11T00:00:00\",\"2020-02-12T00:00:00\",\"2020-02-13T00:00:00\",\"2020-02-14T00:00:00\",\"2020-02-18T00:00:00\",\"2020-02-19T00:00:00\",\"2020-02-20T00:00:00\",\"2020-02-21T00:00:00\",\"2020-02-24T00:00:00\",\"2020-02-25T00:00:00\",\"2020-02-26T00:00:00\",\"2020-02-27T00:00:00\",\"2020-02-28T00:00:00\",\"2020-03-02T00:00:00\",\"2020-03-03T00:00:00\",\"2020-03-04T00:00:00\",\"2020-03-05T00:00:00\",\"2020-03-06T00:00:00\",\"2020-03-09T00:00:00\",\"2020-03-10T00:00:00\",\"2020-03-11T00:00:00\",\"2020-03-12T00:00:00\",\"2020-03-13T00:00:00\",\"2020-03-16T00:00:00\",\"2020-03-17T00:00:00\",\"2020-03-18T00:00:00\",\"2020-03-19T00:00:00\",\"2020-03-20T00:00:00\",\"2020-03-23T00:00:00\",\"2020-03-24T00:00:00\",\"2020-03-25T00:00:00\",\"2020-03-26T00:00:00\",\"2020-03-27T00:00:00\",\"2020-03-30T00:00:00\",\"2020-03-31T00:00:00\",\"2020-04-01T00:00:00\",\"2020-04-02T00:00:00\",\"2020-04-03T00:00:00\",\"2020-04-06T00:00:00\",\"2020-04-07T00:00:00\",\"2020-04-08T00:00:00\",\"2020-04-09T00:00:00\",\"2020-04-13T00:00:00\",\"2020-04-14T00:00:00\",\"2020-04-15T00:00:00\",\"2020-04-16T00:00:00\",\"2020-04-17T00:00:00\",\"2020-04-20T00:00:00\",\"2020-04-21T00:00:00\",\"2020-04-22T00:00:00\",\"2020-04-23T00:00:00\",\"2020-04-24T00:00:00\",\"2020-04-27T00:00:00\",\"2020-04-28T00:00:00\",\"2020-04-29T00:00:00\",\"2020-04-30T00:00:00\",\"2020-05-01T00:00:00\",\"2020-05-04T00:00:00\",\"2020-05-05T00:00:00\",\"2020-05-06T00:00:00\",\"2020-05-07T00:00:00\",\"2020-05-08T00:00:00\",\"2020-05-11T00:00:00\",\"2020-05-12T00:00:00\",\"2020-05-13T00:00:00\",\"2020-05-14T00:00:00\",\"2020-05-15T00:00:00\",\"2020-05-18T00:00:00\",\"2020-05-19T00:00:00\",\"2020-05-20T00:00:00\",\"2020-05-21T00:00:00\",\"2020-05-22T00:00:00\",\"2020-05-26T00:00:00\",\"2020-05-27T00:00:00\",\"2020-05-28T00:00:00\",\"2020-05-29T00:00:00\",\"2020-06-01T00:00:00\",\"2020-06-02T00:00:00\",\"2020-06-03T00:00:00\",\"2020-06-04T00:00:00\",\"2020-06-05T00:00:00\",\"2020-06-08T00:00:00\",\"2020-06-09T00:00:00\",\"2020-06-10T00:00:00\",\"2020-06-11T00:00:00\",\"2020-06-12T00:00:00\",\"2020-06-15T00:00:00\",\"2020-06-16T00:00:00\",\"2020-06-17T00:00:00\",\"2020-06-18T00:00:00\",\"2020-06-19T00:00:00\",\"2020-06-22T00:00:00\",\"2020-06-23T00:00:00\",\"2020-06-24T00:00:00\",\"2020-06-25T00:00:00\",\"2020-06-26T00:00:00\",\"2020-06-29T00:00:00\",\"2020-06-30T00:00:00\",\"2020-07-01T00:00:00\",\"2020-07-02T00:00:00\",\"2020-07-06T00:00:00\",\"2020-07-07T00:00:00\",\"2020-07-08T00:00:00\",\"2020-07-09T00:00:00\",\"2020-07-10T00:00:00\",\"2020-07-13T00:00:00\",\"2020-07-14T00:00:00\",\"2020-07-15T00:00:00\",\"2020-07-16T00:00:00\",\"2020-07-17T00:00:00\",\"2020-07-20T00:00:00\",\"2020-07-21T00:00:00\",\"2020-07-22T00:00:00\",\"2020-07-23T00:00:00\",\"2020-07-24T00:00:00\",\"2020-07-27T00:00:00\",\"2020-07-28T00:00:00\",\"2020-07-29T00:00:00\",\"2020-07-30T00:00:00\",\"2020-07-31T00:00:00\",\"2020-08-03T00:00:00\",\"2020-08-04T00:00:00\",\"2020-08-05T00:00:00\",\"2020-08-06T00:00:00\",\"2020-08-07T00:00:00\",\"2020-08-10T00:00:00\",\"2020-08-11T00:00:00\",\"2020-08-12T00:00:00\",\"2020-08-13T00:00:00\",\"2020-08-14T00:00:00\",\"2020-08-17T00:00:00\",\"2020-08-18T00:00:00\",\"2020-08-19T00:00:00\",\"2020-08-20T00:00:00\",\"2020-08-21T00:00:00\",\"2020-08-24T00:00:00\",\"2020-08-25T00:00:00\",\"2020-08-26T00:00:00\",\"2020-08-27T00:00:00\",\"2020-08-28T00:00:00\",\"2020-08-31T00:00:00\",\"2020-09-01T00:00:00\",\"2020-09-02T00:00:00\",\"2020-09-03T00:00:00\",\"2020-09-04T00:00:00\",\"2020-09-08T00:00:00\",\"2020-09-09T00:00:00\",\"2020-09-10T00:00:00\",\"2020-09-11T00:00:00\",\"2020-09-14T00:00:00\",\"2020-09-15T00:00:00\",\"2020-09-16T00:00:00\",\"2020-09-17T00:00:00\",\"2020-09-18T00:00:00\",\"2020-09-21T00:00:00\",\"2020-09-22T00:00:00\",\"2020-09-23T00:00:00\",\"2020-09-24T00:00:00\",\"2020-09-25T00:00:00\",\"2020-09-28T00:00:00\",\"2020-09-29T00:00:00\",\"2020-09-30T00:00:00\",\"2020-10-01T00:00:00\",\"2020-10-02T00:00:00\",\"2020-10-05T00:00:00\",\"2020-10-06T00:00:00\",\"2020-10-07T00:00:00\",\"2020-10-08T00:00:00\",\"2020-10-09T00:00:00\",\"2020-10-12T00:00:00\",\"2020-10-13T00:00:00\",\"2020-10-14T00:00:00\",\"2020-10-15T00:00:00\",\"2020-10-16T00:00:00\",\"2020-10-19T00:00:00\",\"2020-10-20T00:00:00\",\"2020-10-21T00:00:00\",\"2020-10-22T00:00:00\",\"2020-10-23T00:00:00\",\"2020-10-26T00:00:00\",\"2020-10-27T00:00:00\",\"2020-10-28T00:00:00\",\"2020-10-29T00:00:00\",\"2020-10-30T00:00:00\",\"2020-11-02T00:00:00\",\"2020-11-03T00:00:00\",\"2020-11-04T00:00:00\",\"2020-11-05T00:00:00\",\"2020-11-06T00:00:00\",\"2020-11-09T00:00:00\",\"2020-11-10T00:00:00\",\"2020-11-11T00:00:00\",\"2020-11-12T00:00:00\",\"2020-11-13T00:00:00\",\"2020-11-16T00:00:00\",\"2020-11-17T00:00:00\",\"2020-11-18T00:00:00\",\"2020-11-19T00:00:00\",\"2020-11-20T00:00:00\",\"2020-11-23T00:00:00\",\"2020-11-24T00:00:00\",\"2020-11-25T00:00:00\",\"2020-11-27T00:00:00\",\"2020-11-30T00:00:00\",\"2020-12-01T00:00:00\",\"2020-12-02T00:00:00\",\"2020-12-03T00:00:00\",\"2020-12-04T00:00:00\",\"2020-12-07T00:00:00\",\"2020-12-08T00:00:00\",\"2020-12-09T00:00:00\",\"2020-12-10T00:00:00\",\"2020-12-11T00:00:00\",\"2020-12-14T00:00:00\",\"2020-12-15T00:00:00\",\"2020-12-16T00:00:00\",\"2020-12-17T00:00:00\",\"2020-12-18T00:00:00\",\"2020-12-21T00:00:00\",\"2020-12-22T00:00:00\",\"2020-12-23T00:00:00\",\"2020-12-24T00:00:00\",\"2020-12-28T00:00:00\",\"2020-12-29T00:00:00\",\"2020-12-30T00:00:00\",\"2020-12-31T00:00:00\",\"2021-01-04T00:00:00\",\"2021-01-05T00:00:00\",\"2021-01-06T00:00:00\",\"2021-01-07T00:00:00\",\"2021-01-08T00:00:00\",\"2021-01-11T00:00:00\",\"2021-01-12T00:00:00\",\"2021-01-13T00:00:00\",\"2021-01-14T00:00:00\",\"2021-01-15T00:00:00\",\"2021-01-19T00:00:00\",\"2021-01-20T00:00:00\",\"2021-01-21T00:00:00\",\"2021-01-22T00:00:00\",\"2021-01-25T00:00:00\",\"2021-01-26T00:00:00\",\"2021-01-27T00:00:00\",\"2021-01-28T00:00:00\",\"2021-01-29T00:00:00\",\"2021-02-01T00:00:00\",\"2021-02-02T00:00:00\",\"2021-02-03T00:00:00\",\"2021-02-04T00:00:00\",\"2021-02-05T00:00:00\",\"2021-02-08T00:00:00\",\"2021-02-09T00:00:00\",\"2021-02-10T00:00:00\",\"2021-02-11T00:00:00\",\"2021-02-12T00:00:00\",\"2021-02-16T00:00:00\",\"2021-02-17T00:00:00\",\"2021-02-18T00:00:00\",\"2021-02-19T00:00:00\",\"2021-02-22T00:00:00\",\"2021-02-23T00:00:00\",\"2021-02-24T00:00:00\",\"2021-02-25T00:00:00\",\"2021-02-26T00:00:00\",\"2021-03-01T00:00:00\",\"2021-03-02T00:00:00\",\"2021-03-03T00:00:00\",\"2021-03-04T00:00:00\",\"2021-03-05T00:00:00\",\"2021-03-08T00:00:00\",\"2021-03-09T00:00:00\",\"2021-03-10T00:00:00\",\"2021-03-11T00:00:00\",\"2021-03-12T00:00:00\",\"2021-03-15T00:00:00\",\"2021-03-16T00:00:00\",\"2021-03-17T00:00:00\",\"2021-03-18T00:00:00\",\"2021-03-19T00:00:00\",\"2021-03-22T00:00:00\",\"2021-03-23T00:00:00\",\"2021-03-24T00:00:00\",\"2021-03-25T00:00:00\",\"2021-03-26T00:00:00\",\"2021-03-29T00:00:00\",\"2021-03-30T00:00:00\",\"2021-03-31T00:00:00\",\"2021-04-01T00:00:00\",\"2021-04-05T00:00:00\",\"2021-04-06T00:00:00\",\"2021-04-07T00:00:00\",\"2021-04-08T00:00:00\",\"2021-04-09T00:00:00\",\"2021-04-12T00:00:00\",\"2021-04-13T00:00:00\",\"2021-04-14T00:00:00\",\"2021-04-15T00:00:00\",\"2021-04-16T00:00:00\",\"2021-04-19T00:00:00\",\"2021-04-20T00:00:00\",\"2021-04-21T00:00:00\",\"2021-04-22T00:00:00\",\"2021-04-23T00:00:00\",\"2021-04-26T00:00:00\",\"2021-04-27T00:00:00\",\"2021-04-28T00:00:00\",\"2021-04-29T00:00:00\",\"2021-04-30T00:00:00\",\"2021-05-03T00:00:00\",\"2021-05-04T00:00:00\",\"2021-05-05T00:00:00\",\"2021-05-06T00:00:00\",\"2021-05-07T00:00:00\",\"2021-05-10T00:00:00\",\"2021-05-11T00:00:00\",\"2021-05-12T00:00:00\",\"2021-05-13T00:00:00\",\"2021-05-14T00:00:00\",\"2021-05-17T00:00:00\",\"2021-05-18T00:00:00\",\"2021-05-19T00:00:00\",\"2021-05-20T00:00:00\",\"2021-05-21T00:00:00\",\"2021-05-24T00:00:00\",\"2021-05-25T00:00:00\",\"2021-05-26T00:00:00\",\"2021-05-27T00:00:00\",\"2021-05-28T00:00:00\",\"2021-06-01T00:00:00\",\"2021-06-02T00:00:00\",\"2021-06-03T00:00:00\",\"2021-06-04T00:00:00\",\"2021-06-07T00:00:00\",\"2021-06-08T00:00:00\",\"2021-06-09T00:00:00\",\"2021-06-10T00:00:00\",\"2021-06-11T00:00:00\",\"2021-06-14T00:00:00\",\"2021-06-15T00:00:00\",\"2021-06-16T00:00:00\",\"2021-06-17T00:00:00\",\"2021-06-18T00:00:00\",\"2021-06-21T00:00:00\",\"2021-06-22T00:00:00\",\"2021-06-23T00:00:00\",\"2021-06-24T00:00:00\",\"2021-06-25T00:00:00\",\"2021-06-28T00:00:00\",\"2021-06-29T00:00:00\",\"2021-06-30T00:00:00\",\"2021-07-01T00:00:00\",\"2021-07-02T00:00:00\",\"2021-07-06T00:00:00\",\"2021-07-07T00:00:00\",\"2021-07-08T00:00:00\",\"2021-07-09T00:00:00\",\"2021-07-12T00:00:00\",\"2021-07-13T00:00:00\",\"2021-07-14T00:00:00\",\"2021-07-15T00:00:00\",\"2021-07-16T00:00:00\",\"2021-07-19T00:00:00\",\"2021-07-20T00:00:00\",\"2021-07-21T00:00:00\",\"2021-07-22T00:00:00\",\"2021-07-23T00:00:00\",\"2021-07-26T00:00:00\",\"2021-07-27T00:00:00\",\"2021-07-28T00:00:00\",\"2021-07-29T00:00:00\",\"2021-07-30T00:00:00\",\"2021-08-02T00:00:00\",\"2021-08-03T00:00:00\",\"2021-08-04T00:00:00\",\"2021-08-05T00:00:00\",\"2021-08-06T00:00:00\",\"2021-08-09T00:00:00\",\"2021-08-10T00:00:00\",\"2021-08-11T00:00:00\",\"2021-08-12T00:00:00\",\"2021-08-13T00:00:00\",\"2021-08-16T00:00:00\",\"2021-08-17T00:00:00\",\"2021-08-18T00:00:00\",\"2021-08-19T00:00:00\",\"2021-08-20T00:00:00\",\"2021-08-23T00:00:00\",\"2021-08-24T00:00:00\",\"2021-08-25T00:00:00\",\"2021-08-26T00:00:00\",\"2021-08-27T00:00:00\",\"2021-08-30T00:00:00\",\"2021-08-31T00:00:00\",\"2021-09-01T00:00:00\",\"2021-09-02T00:00:00\",\"2021-09-03T00:00:00\",\"2021-09-07T00:00:00\",\"2021-09-08T00:00:00\",\"2021-09-09T00:00:00\",\"2021-09-10T00:00:00\",\"2021-09-13T00:00:00\",\"2021-09-14T00:00:00\",\"2021-09-15T00:00:00\",\"2021-09-16T00:00:00\",\"2021-09-17T00:00:00\",\"2021-09-20T00:00:00\",\"2021-09-21T00:00:00\",\"2021-09-22T00:00:00\",\"2021-09-23T00:00:00\",\"2021-09-24T00:00:00\",\"2021-09-27T00:00:00\",\"2021-09-28T00:00:00\",\"2021-09-29T00:00:00\",\"2021-09-30T00:00:00\",\"2021-10-01T00:00:00\",\"2021-10-04T00:00:00\",\"2021-10-05T00:00:00\",\"2021-10-06T00:00:00\",\"2021-10-07T00:00:00\",\"2021-10-08T00:00:00\",\"2021-10-11T00:00:00\",\"2021-10-12T00:00:00\",\"2021-10-13T00:00:00\",\"2021-10-14T00:00:00\",\"2021-10-15T00:00:00\",\"2021-10-18T00:00:00\",\"2021-10-19T00:00:00\",\"2021-10-20T00:00:00\",\"2021-10-21T00:00:00\",\"2021-10-22T00:00:00\",\"2021-10-25T00:00:00\",\"2021-10-26T00:00:00\",\"2021-10-27T00:00:00\",\"2021-10-28T00:00:00\",\"2021-10-29T00:00:00\",\"2021-11-01T00:00:00\",\"2021-11-02T00:00:00\",\"2021-11-03T00:00:00\",\"2021-11-04T00:00:00\",\"2021-11-05T00:00:00\",\"2021-11-08T00:00:00\",\"2021-11-09T00:00:00\",\"2021-11-10T00:00:00\",\"2021-11-11T00:00:00\",\"2021-11-12T00:00:00\",\"2021-11-15T00:00:00\",\"2021-11-16T00:00:00\",\"2021-11-17T00:00:00\",\"2021-11-18T00:00:00\",\"2021-11-19T00:00:00\",\"2021-11-22T00:00:00\",\"2021-11-23T00:00:00\",\"2021-11-24T00:00:00\",\"2021-11-26T00:00:00\",\"2021-11-29T00:00:00\",\"2021-11-30T00:00:00\",\"2021-12-01T00:00:00\",\"2021-12-02T00:00:00\",\"2021-12-03T00:00:00\",\"2021-12-06T00:00:00\",\"2021-12-07T00:00:00\",\"2021-12-08T00:00:00\",\"2021-12-09T00:00:00\",\"2021-12-10T00:00:00\",\"2021-12-13T00:00:00\",\"2021-12-14T00:00:00\",\"2021-12-15T00:00:00\",\"2021-12-16T00:00:00\",\"2021-12-17T00:00:00\",\"2021-12-20T00:00:00\",\"2021-12-21T00:00:00\",\"2021-12-22T00:00:00\",\"2021-12-23T00:00:00\",\"2021-12-27T00:00:00\",\"2021-12-28T00:00:00\",\"2021-12-29T00:00:00\",\"2021-12-30T00:00:00\",\"2021-12-31T00:00:00\",\"2022-01-03T00:00:00\",\"2022-01-04T00:00:00\",\"2022-01-05T00:00:00\",\"2022-01-06T00:00:00\",\"2022-01-07T00:00:00\",\"2022-01-10T00:00:00\",\"2022-01-11T00:00:00\",\"2022-01-12T00:00:00\",\"2022-01-13T00:00:00\",\"2022-01-14T00:00:00\",\"2022-01-18T00:00:00\",\"2022-01-19T00:00:00\",\"2022-01-20T00:00:00\",\"2022-01-21T00:00:00\",\"2022-01-24T00:00:00\",\"2022-01-25T00:00:00\",\"2022-01-26T00:00:00\",\"2022-01-27T00:00:00\",\"2022-01-28T00:00:00\",\"2022-01-31T00:00:00\",\"2022-02-01T00:00:00\",\"2022-02-02T00:00:00\",\"2022-02-03T00:00:00\",\"2022-02-04T00:00:00\",\"2022-02-07T00:00:00\",\"2022-02-08T00:00:00\",\"2022-02-09T00:00:00\",\"2022-02-10T00:00:00\",\"2022-02-11T00:00:00\",\"2022-02-14T00:00:00\",\"2022-02-15T00:00:00\",\"2022-02-16T00:00:00\",\"2022-02-17T00:00:00\",\"2022-02-18T00:00:00\",\"2022-02-22T00:00:00\",\"2022-02-23T00:00:00\",\"2022-02-24T00:00:00\",\"2022-02-25T00:00:00\",\"2022-02-28T00:00:00\",\"2022-03-01T00:00:00\",\"2022-03-02T00:00:00\",\"2022-03-03T00:00:00\",\"2022-03-04T00:00:00\",\"2022-03-07T00:00:00\",\"2022-03-08T00:00:00\",\"2022-03-09T00:00:00\",\"2022-03-10T00:00:00\",\"2022-03-11T00:00:00\",\"2022-03-14T00:00:00\",\"2022-03-15T00:00:00\",\"2022-03-16T00:00:00\",\"2022-03-17T00:00:00\",\"2022-03-18T00:00:00\",\"2022-03-21T00:00:00\",\"2022-03-22T00:00:00\",\"2022-03-23T00:00:00\",\"2022-03-24T00:00:00\",\"2022-03-25T00:00:00\",\"2022-03-28T00:00:00\",\"2022-03-29T00:00:00\",\"2022-03-30T00:00:00\",\"2022-03-31T00:00:00\",\"2022-04-01T00:00:00\",\"2022-04-04T00:00:00\",\"2022-04-05T00:00:00\",\"2022-04-06T00:00:00\",\"2022-04-07T00:00:00\",\"2022-04-08T00:00:00\",\"2022-04-11T00:00:00\",\"2022-04-12T00:00:00\",\"2022-04-13T00:00:00\",\"2022-04-14T00:00:00\",\"2022-04-18T00:00:00\",\"2022-04-19T00:00:00\",\"2022-04-20T00:00:00\",\"2022-04-21T00:00:00\",\"2022-04-22T00:00:00\",\"2022-04-25T00:00:00\",\"2022-04-26T00:00:00\",\"2022-04-27T00:00:00\",\"2022-04-28T00:00:00\",\"2022-04-29T00:00:00\",\"2022-05-02T00:00:00\",\"2022-05-03T00:00:00\",\"2022-05-04T00:00:00\",\"2022-05-05T00:00:00\",\"2022-05-06T00:00:00\",\"2022-05-09T00:00:00\",\"2022-05-10T00:00:00\",\"2022-05-11T00:00:00\",\"2022-05-12T00:00:00\",\"2022-05-13T00:00:00\",\"2022-05-16T00:00:00\",\"2022-05-17T00:00:00\",\"2022-05-18T00:00:00\",\"2022-05-19T00:00:00\",\"2022-05-20T00:00:00\",\"2022-05-23T00:00:00\",\"2022-05-24T00:00:00\",\"2022-05-25T00:00:00\",\"2022-05-26T00:00:00\",\"2022-05-27T00:00:00\",\"2022-05-31T00:00:00\",\"2022-06-01T00:00:00\",\"2022-06-02T00:00:00\",\"2022-06-03T00:00:00\",\"2022-06-06T00:00:00\",\"2022-06-07T00:00:00\",\"2022-06-08T00:00:00\",\"2022-06-09T00:00:00\",\"2022-06-10T00:00:00\",\"2022-06-13T00:00:00\",\"2022-06-14T00:00:00\",\"2022-06-15T00:00:00\",\"2022-06-16T00:00:00\",\"2022-06-17T00:00:00\",\"2022-06-21T00:00:00\",\"2022-06-22T00:00:00\",\"2022-06-23T00:00:00\",\"2022-06-24T00:00:00\",\"2022-06-27T00:00:00\",\"2022-06-28T00:00:00\",\"2022-06-29T00:00:00\",\"2022-06-30T00:00:00\",\"2022-07-01T00:00:00\",\"2022-07-05T00:00:00\",\"2022-07-06T00:00:00\",\"2022-07-07T00:00:00\",\"2022-07-08T00:00:00\",\"2022-07-11T00:00:00\",\"2022-07-12T00:00:00\",\"2022-07-13T00:00:00\",\"2022-07-14T00:00:00\",\"2022-07-15T00:00:00\",\"2022-07-18T00:00:00\",\"2022-07-19T00:00:00\",\"2022-07-20T00:00:00\",\"2022-07-21T00:00:00\",\"2022-07-22T00:00:00\",\"2022-07-25T00:00:00\",\"2022-07-26T00:00:00\",\"2022-07-27T00:00:00\",\"2022-07-28T00:00:00\",\"2022-07-29T00:00:00\",\"2022-08-01T00:00:00\",\"2022-08-02T00:00:00\",\"2022-08-03T00:00:00\",\"2022-08-04T00:00:00\",\"2022-08-05T00:00:00\",\"2022-08-08T00:00:00\",\"2022-08-09T00:00:00\",\"2022-08-10T00:00:00\",\"2022-08-11T00:00:00\",\"2022-08-12T00:00:00\",\"2022-08-15T00:00:00\",\"2022-08-16T00:00:00\",\"2022-08-17T00:00:00\",\"2022-08-18T00:00:00\",\"2022-08-19T00:00:00\",\"2022-08-22T00:00:00\",\"2022-08-23T00:00:00\",\"2022-08-24T00:00:00\",\"2022-08-25T00:00:00\",\"2022-08-26T00:00:00\",\"2022-08-29T00:00:00\",\"2022-08-30T00:00:00\",\"2022-08-31T00:00:00\",\"2022-09-01T00:00:00\",\"2022-09-02T00:00:00\",\"2022-09-06T00:00:00\",\"2022-09-07T00:00:00\",\"2022-09-08T00:00:00\",\"2022-09-09T00:00:00\",\"2022-09-12T00:00:00\",\"2022-09-13T00:00:00\",\"2022-09-14T00:00:00\",\"2022-09-15T00:00:00\",\"2022-09-16T00:00:00\",\"2022-09-19T00:00:00\",\"2022-09-20T00:00:00\",\"2022-09-21T00:00:00\",\"2022-09-22T00:00:00\",\"2022-09-23T00:00:00\",\"2022-09-26T00:00:00\",\"2022-09-27T00:00:00\",\"2022-09-28T00:00:00\",\"2022-09-29T00:00:00\",\"2022-09-30T00:00:00\",\"2022-10-03T00:00:00\",\"2022-10-04T00:00:00\",\"2022-10-05T00:00:00\",\"2022-10-06T00:00:00\",\"2022-10-07T00:00:00\",\"2022-10-10T00:00:00\",\"2022-10-11T00:00:00\",\"2022-10-12T00:00:00\",\"2022-10-13T00:00:00\",\"2022-10-14T00:00:00\",\"2022-10-17T00:00:00\",\"2022-10-18T00:00:00\",\"2022-10-19T00:00:00\",\"2022-10-20T00:00:00\",\"2022-10-21T00:00:00\",\"2022-10-24T00:00:00\",\"2022-10-25T00:00:00\",\"2022-10-26T00:00:00\",\"2022-10-27T00:00:00\",\"2022-10-28T00:00:00\",\"2022-10-31T00:00:00\",\"2022-11-01T00:00:00\",\"2022-11-02T00:00:00\",\"2022-11-03T00:00:00\",\"2022-11-04T00:00:00\",\"2022-11-07T00:00:00\",\"2022-11-08T00:00:00\",\"2022-11-09T00:00:00\",\"2022-11-10T00:00:00\",\"2022-11-11T00:00:00\",\"2022-11-14T00:00:00\",\"2022-11-15T00:00:00\",\"2022-11-16T00:00:00\",\"2022-11-17T00:00:00\",\"2022-11-18T00:00:00\",\"2022-11-21T00:00:00\",\"2022-11-22T00:00:00\",\"2022-11-23T00:00:00\",\"2022-11-25T00:00:00\",\"2022-11-28T00:00:00\",\"2022-11-29T00:00:00\",\"2022-11-30T00:00:00\",\"2022-12-01T00:00:00\",\"2022-12-02T00:00:00\",\"2022-12-05T00:00:00\",\"2022-12-06T00:00:00\",\"2022-12-07T00:00:00\",\"2022-12-08T00:00:00\",\"2022-12-09T00:00:00\",\"2022-12-12T00:00:00\",\"2022-12-13T00:00:00\",\"2022-12-14T00:00:00\",\"2022-12-15T00:00:00\",\"2022-12-16T00:00:00\",\"2022-12-19T00:00:00\",\"2022-12-20T00:00:00\",\"2022-12-21T00:00:00\",\"2022-12-22T00:00:00\",\"2022-12-23T00:00:00\",\"2022-12-27T00:00:00\",\"2022-12-28T00:00:00\",\"2022-12-29T00:00:00\",\"2022-12-30T00:00:00\",\"2023-01-03T00:00:00\",\"2023-01-04T00:00:00\",\"2023-01-05T00:00:00\",\"2023-01-06T00:00:00\",\"2023-01-09T00:00:00\",\"2023-01-10T00:00:00\",\"2023-01-11T00:00:00\",\"2023-01-12T00:00:00\",\"2023-01-13T00:00:00\",\"2023-01-17T00:00:00\",\"2023-01-18T00:00:00\",\"2023-01-19T00:00:00\",\"2023-01-20T00:00:00\",\"2023-01-23T00:00:00\",\"2023-01-24T00:00:00\",\"2023-01-25T00:00:00\",\"2023-01-26T00:00:00\",\"2023-01-27T00:00:00\",\"2023-01-30T00:00:00\",\"2023-01-31T00:00:00\",\"2023-02-01T00:00:00\",\"2023-02-02T00:00:00\",\"2023-02-03T00:00:00\",\"2023-02-06T00:00:00\",\"2023-02-07T00:00:00\",\"2023-02-08T00:00:00\",\"2023-02-09T00:00:00\",\"2023-02-10T00:00:00\",\"2023-02-13T00:00:00\",\"2023-02-14T00:00:00\",\"2023-02-15T00:00:00\",\"2023-02-16T00:00:00\",\"2023-02-17T00:00:00\",\"2023-02-21T00:00:00\",\"2023-02-22T00:00:00\",\"2023-02-23T00:00:00\",\"2023-02-24T00:00:00\",\"2023-02-27T00:00:00\",\"2023-02-28T00:00:00\",\"2023-03-01T00:00:00\",\"2023-03-02T00:00:00\",\"2023-03-03T00:00:00\",\"2023-03-06T00:00:00\",\"2023-03-07T00:00:00\",\"2023-03-08T00:00:00\",\"2023-03-09T00:00:00\",\"2023-03-10T00:00:00\",\"2023-03-13T00:00:00\",\"2023-03-14T00:00:00\",\"2023-03-15T00:00:00\",\"2023-03-16T00:00:00\",\"2023-03-17T00:00:00\",\"2023-03-20T00:00:00\",\"2023-03-21T00:00:00\",\"2023-03-22T00:00:00\",\"2023-03-23T00:00:00\",\"2023-03-24T00:00:00\",\"2023-03-27T00:00:00\",\"2023-03-28T00:00:00\",\"2023-03-29T00:00:00\",\"2023-03-30T00:00:00\",\"2023-03-31T00:00:00\",\"2023-04-03T00:00:00\",\"2023-04-04T00:00:00\",\"2023-04-05T00:00:00\",\"2023-04-06T00:00:00\",\"2023-04-10T00:00:00\",\"2023-04-11T00:00:00\",\"2023-04-12T00:00:00\",\"2023-04-13T00:00:00\",\"2023-04-14T00:00:00\",\"2023-04-17T00:00:00\",\"2023-04-18T00:00:00\",\"2023-04-19T00:00:00\",\"2023-04-20T00:00:00\",\"2023-04-21T00:00:00\",\"2023-04-24T00:00:00\",\"2023-04-25T00:00:00\",\"2023-04-26T00:00:00\",\"2023-04-27T00:00:00\",\"2023-04-28T00:00:00\",\"2023-05-01T00:00:00\",\"2023-05-02T00:00:00\",\"2023-05-03T00:00:00\",\"2023-05-04T00:00:00\",\"2023-05-05T00:00:00\",\"2023-05-08T00:00:00\",\"2023-05-09T00:00:00\",\"2023-05-10T00:00:00\",\"2023-05-11T00:00:00\",\"2023-05-12T00:00:00\",\"2023-05-15T00:00:00\",\"2023-05-16T00:00:00\",\"2023-05-17T00:00:00\",\"2023-05-18T00:00:00\",\"2023-05-19T00:00:00\",\"2023-05-22T00:00:00\",\"2023-05-23T00:00:00\",\"2023-05-24T00:00:00\",\"2023-05-25T00:00:00\",\"2023-05-26T00:00:00\",\"2023-05-30T00:00:00\",\"2023-05-31T00:00:00\",\"2023-06-01T00:00:00\",\"2023-06-02T00:00:00\",\"2023-06-05T00:00:00\",\"2023-06-06T00:00:00\",\"2023-06-07T00:00:00\",\"2023-06-08T00:00:00\",\"2023-06-09T00:00:00\",\"2023-06-12T00:00:00\",\"2023-06-13T00:00:00\",\"2023-06-14T00:00:00\",\"2023-06-15T00:00:00\",\"2023-06-16T00:00:00\",\"2023-06-20T00:00:00\",\"2023-06-21T00:00:00\",\"2023-06-22T00:00:00\",\"2023-06-23T00:00:00\",\"2023-06-26T00:00:00\",\"2023-06-27T00:00:00\",\"2023-06-28T00:00:00\",\"2023-06-29T00:00:00\",\"2023-06-30T00:00:00\",\"2023-07-03T00:00:00\",\"2023-07-05T00:00:00\",\"2023-07-06T00:00:00\",\"2023-07-07T00:00:00\",\"2023-07-10T00:00:00\",\"2023-07-11T00:00:00\",\"2023-07-12T00:00:00\",\"2023-07-13T00:00:00\",\"2023-07-14T00:00:00\",\"2023-07-17T00:00:00\",\"2023-07-18T00:00:00\",\"2023-07-19T00:00:00\",\"2023-07-20T00:00:00\",\"2023-07-21T00:00:00\",\"2023-07-24T00:00:00\",\"2023-07-25T00:00:00\",\"2023-07-26T00:00:00\",\"2023-07-27T00:00:00\",\"2023-07-28T00:00:00\",\"2023-07-31T00:00:00\",\"2023-08-01T00:00:00\",\"2023-08-02T00:00:00\",\"2023-08-03T00:00:00\",\"2023-08-04T00:00:00\",\"2023-08-07T00:00:00\",\"2023-08-08T00:00:00\",\"2023-08-09T00:00:00\",\"2023-08-10T00:00:00\",\"2023-08-11T00:00:00\",\"2023-08-14T00:00:00\",\"2023-08-15T00:00:00\",\"2023-08-16T00:00:00\",\"2023-08-17T00:00:00\",\"2023-08-18T00:00:00\",\"2023-08-21T00:00:00\",\"2023-08-22T00:00:00\",\"2023-08-23T00:00:00\",\"2023-08-24T00:00:00\",\"2023-08-25T00:00:00\",\"2023-08-28T00:00:00\",\"2023-08-29T00:00:00\",\"2023-08-30T00:00:00\",\"2023-08-31T00:00:00\",\"2023-09-01T00:00:00\",\"2023-09-05T00:00:00\",\"2023-09-06T00:00:00\",\"2023-09-07T00:00:00\",\"2023-09-08T00:00:00\",\"2023-09-11T00:00:00\",\"2023-09-12T00:00:00\",\"2023-09-13T00:00:00\",\"2023-09-14T00:00:00\",\"2023-09-15T00:00:00\",\"2023-09-18T00:00:00\",\"2023-09-19T00:00:00\",\"2023-09-20T00:00:00\",\"2023-09-21T00:00:00\",\"2023-09-22T00:00:00\",\"2023-09-25T00:00:00\",\"2023-09-26T00:00:00\",\"2023-09-27T00:00:00\",\"2023-09-28T00:00:00\",\"2023-09-29T00:00:00\",\"2023-10-02T00:00:00\",\"2023-10-03T00:00:00\",\"2023-10-04T00:00:00\",\"2023-10-05T00:00:00\",\"2023-10-06T00:00:00\",\"2023-10-09T00:00:00\",\"2023-10-10T00:00:00\",\"2023-10-11T00:00:00\",\"2023-10-12T00:00:00\",\"2023-10-13T00:00:00\",\"2023-10-16T00:00:00\",\"2023-10-17T00:00:00\",\"2023-10-18T00:00:00\",\"2023-10-19T00:00:00\",\"2023-10-20T00:00:00\",\"2023-10-23T00:00:00\",\"2023-10-24T00:00:00\",\"2023-10-25T00:00:00\",\"2023-10-26T00:00:00\",\"2023-10-27T00:00:00\",\"2023-10-30T00:00:00\",\"2023-10-31T00:00:00\",\"2023-11-01T00:00:00\",\"2023-11-02T00:00:00\",\"2023-11-03T00:00:00\",\"2023-11-06T00:00:00\",\"2023-11-07T00:00:00\",\"2023-11-08T00:00:00\",\"2023-11-09T00:00:00\",\"2023-11-10T00:00:00\",\"2023-11-13T00:00:00\",\"2023-11-14T00:00:00\",\"2023-11-15T00:00:00\",\"2023-11-16T00:00:00\",\"2023-11-17T00:00:00\",\"2023-11-20T00:00:00\",\"2023-11-21T00:00:00\",\"2023-11-22T00:00:00\",\"2023-11-24T00:00:00\",\"2023-11-27T00:00:00\",\"2023-11-28T00:00:00\",\"2023-11-29T00:00:00\",\"2023-11-30T00:00:00\",\"2023-12-01T00:00:00\",\"2023-12-04T00:00:00\",\"2023-12-05T00:00:00\",\"2023-12-06T00:00:00\",\"2023-12-07T00:00:00\",\"2023-12-08T00:00:00\",\"2023-12-11T00:00:00\",\"2023-12-12T00:00:00\",\"2023-12-13T00:00:00\",\"2023-12-14T00:00:00\",\"2023-12-15T00:00:00\",\"2023-12-18T00:00:00\",\"2023-12-19T00:00:00\",\"2023-12-20T00:00:00\",\"2023-12-21T00:00:00\",\"2023-12-22T00:00:00\",\"2023-12-26T00:00:00\",\"2023-12-27T00:00:00\",\"2023-12-28T00:00:00\",\"2023-12-29T00:00:00\",\"2024-01-02T00:00:00\",\"2024-01-03T00:00:00\",\"2024-01-04T00:00:00\",\"2024-01-05T00:00:00\",\"2024-01-08T00:00:00\",\"2024-01-09T00:00:00\",\"2024-01-10T00:00:00\",\"2024-01-11T00:00:00\",\"2024-01-12T00:00:00\",\"2024-01-16T00:00:00\",\"2024-01-17T00:00:00\",\"2024-01-18T00:00:00\",\"2024-01-19T00:00:00\",\"2024-01-22T00:00:00\",\"2024-01-23T00:00:00\",\"2024-01-24T00:00:00\",\"2024-01-25T00:00:00\",\"2024-01-26T00:00:00\",\"2024-01-29T00:00:00\",\"2024-01-30T00:00:00\",\"2024-01-31T00:00:00\",\"2024-02-01T00:00:00\",\"2024-02-02T00:00:00\",\"2024-02-05T00:00:00\",\"2024-02-06T00:00:00\",\"2024-02-07T00:00:00\",\"2024-02-08T00:00:00\",\"2024-02-09T00:00:00\",\"2024-02-12T00:00:00\",\"2024-02-13T00:00:00\",\"2024-02-14T00:00:00\",\"2024-02-15T00:00:00\",\"2024-02-16T00:00:00\",\"2024-02-20T00:00:00\",\"2024-02-21T00:00:00\",\"2024-02-22T00:00:00\",\"2024-02-23T00:00:00\",\"2024-02-26T00:00:00\",\"2024-02-27T00:00:00\",\"2024-02-28T00:00:00\",\"2024-02-29T00:00:00\",\"2024-03-01T00:00:00\",\"2024-03-04T00:00:00\",\"2024-03-05T00:00:00\",\"2024-03-06T00:00:00\",\"2024-03-07T00:00:00\",\"2024-03-08T00:00:00\",\"2024-03-11T00:00:00\",\"2024-03-12T00:00:00\",\"2024-03-13T00:00:00\",\"2024-03-14T00:00:00\",\"2024-03-15T00:00:00\",\"2024-03-18T00:00:00\",\"2024-03-19T00:00:00\",\"2024-03-20T00:00:00\",\"2024-03-21T00:00:00\",\"2024-03-22T00:00:00\",\"2024-03-25T00:00:00\",\"2024-03-26T00:00:00\",\"2024-03-27T00:00:00\",\"2024-03-28T00:00:00\",\"2024-04-01T00:00:00\",\"2024-04-02T00:00:00\",\"2024-04-03T00:00:00\",\"2024-04-04T00:00:00\",\"2024-04-05T00:00:00\",\"2024-04-08T00:00:00\",\"2024-04-09T00:00:00\",\"2024-04-10T00:00:00\",\"2024-04-11T00:00:00\",\"2024-04-12T00:00:00\",\"2024-04-15T00:00:00\",\"2024-04-16T00:00:00\",\"2024-04-17T00:00:00\",\"2024-04-18T00:00:00\",\"2024-04-19T00:00:00\",\"2024-04-22T00:00:00\",\"2024-04-23T00:00:00\",\"2024-04-24T00:00:00\",\"2024-04-25T00:00:00\",\"2024-04-26T00:00:00\",\"2024-04-29T00:00:00\",\"2024-04-30T00:00:00\",\"2024-05-01T00:00:00\",\"2024-05-02T00:00:00\",\"2024-05-03T00:00:00\",\"2024-05-06T00:00:00\",\"2024-05-07T00:00:00\",\"2024-05-08T00:00:00\",\"2024-05-09T00:00:00\",\"2024-05-10T00:00:00\",\"2024-05-13T00:00:00\",\"2024-05-14T00:00:00\",\"2024-05-15T00:00:00\",\"2024-05-16T00:00:00\",\"2024-05-17T00:00:00\",\"2024-05-20T00:00:00\",\"2024-05-21T00:00:00\",\"2024-05-22T00:00:00\",\"2024-05-23T00:00:00\",\"2024-05-24T00:00:00\",\"2024-05-28T00:00:00\",\"2024-05-29T00:00:00\",\"2024-05-30T00:00:00\",\"2024-05-31T00:00:00\",\"2024-06-03T00:00:00\",\"2024-06-04T00:00:00\",\"2024-06-05T00:00:00\",\"2024-06-06T00:00:00\",\"2024-06-07T00:00:00\",\"2024-06-10T00:00:00\",\"2024-06-11T00:00:00\",\"2024-06-12T00:00:00\",\"2024-06-13T00:00:00\",\"2024-06-14T00:00:00\",\"2024-06-17T00:00:00\",\"2024-06-18T00:00:00\",\"2024-06-20T00:00:00\",\"2024-06-21T00:00:00\",\"2024-06-24T00:00:00\",\"2024-06-25T00:00:00\",\"2024-06-26T00:00:00\",\"2024-06-27T00:00:00\",\"2024-06-28T00:00:00\",\"2024-07-01T00:00:00\",\"2024-07-02T00:00:00\",\"2024-07-03T00:00:00\",\"2024-07-05T00:00:00\",\"2024-07-08T00:00:00\",\"2024-07-09T00:00:00\",\"2024-07-10T00:00:00\",\"2024-07-11T00:00:00\",\"2024-07-12T00:00:00\",\"2024-07-15T00:00:00\",\"2024-07-16T00:00:00\",\"2024-07-17T00:00:00\",\"2024-07-18T00:00:00\",\"2024-07-19T00:00:00\",\"2024-07-22T00:00:00\",\"2024-07-23T00:00:00\",\"2024-07-24T00:00:00\",\"2024-07-25T00:00:00\",\"2024-07-26T00:00:00\",\"2024-07-29T00:00:00\",\"2024-07-30T00:00:00\",\"2024-07-31T00:00:00\",\"2024-08-01T00:00:00\",\"2024-08-02T00:00:00\",\"2024-08-05T00:00:00\",\"2024-08-06T00:00:00\",\"2024-08-07T00:00:00\",\"2024-08-08T00:00:00\",\"2024-08-09T00:00:00\",\"2024-08-12T00:00:00\",\"2024-08-13T00:00:00\",\"2024-08-14T00:00:00\",\"2024-08-15T00:00:00\",\"2024-08-16T00:00:00\",\"2024-08-19T00:00:00\",\"2024-08-20T00:00:00\",\"2024-08-21T00:00:00\",\"2024-08-22T00:00:00\",\"2024-08-23T00:00:00\",\"2024-08-26T00:00:00\",\"2024-08-27T00:00:00\",\"2024-08-28T00:00:00\",\"2024-08-29T00:00:00\",\"2024-08-30T00:00:00\",\"2024-09-03T00:00:00\",\"2024-09-04T00:00:00\",\"2024-09-05T00:00:00\",\"2024-09-06T00:00:00\",\"2024-09-09T00:00:00\",\"2024-09-10T00:00:00\",\"2024-09-11T00:00:00\",\"2024-09-12T00:00:00\",\"2024-09-13T00:00:00\",\"2024-09-16T00:00:00\",\"2024-09-17T00:00:00\",\"2024-09-18T00:00:00\",\"2024-09-19T00:00:00\",\"2024-09-20T00:00:00\",\"2024-09-23T00:00:00\",\"2024-09-24T00:00:00\",\"2024-09-25T00:00:00\",\"2024-09-26T00:00:00\",\"2024-09-27T00:00:00\",\"2024-09-30T00:00:00\",\"2024-10-01T00:00:00\",\"2024-10-02T00:00:00\",\"2024-10-03T00:00:00\",\"2024-10-04T00:00:00\",\"2024-10-07T00:00:00\",\"2024-10-08T00:00:00\",\"2024-10-09T00:00:00\",\"2024-10-10T00:00:00\",\"2024-10-11T00:00:00\",\"2024-10-14T00:00:00\",\"2024-10-15T00:00:00\",\"2024-10-16T00:00:00\",\"2024-10-17T00:00:00\",\"2024-10-18T00:00:00\",\"2024-10-21T00:00:00\",\"2024-10-22T00:00:00\",\"2024-10-23T00:00:00\",\"2024-10-24T00:00:00\",\"2024-10-25T00:00:00\",\"2024-10-28T00:00:00\",\"2024-10-29T00:00:00\",\"2024-10-30T00:00:00\",\"2024-10-31T00:00:00\",\"2024-11-01T00:00:00\",\"2024-11-04T00:00:00\",\"2024-11-05T00:00:00\",\"2024-11-06T00:00:00\",\"2024-11-07T00:00:00\",\"2024-11-08T00:00:00\",\"2024-11-11T00:00:00\",\"2024-11-12T00:00:00\",\"2024-11-13T00:00:00\",\"2024-11-14T00:00:00\",\"2024-11-15T00:00:00\",\"2024-11-18T00:00:00\",\"2024-11-19T00:00:00\",\"2024-11-20T00:00:00\",\"2024-11-21T00:00:00\",\"2024-11-22T00:00:00\",\"2024-11-25T00:00:00\",\"2024-11-26T00:00:00\",\"2024-11-27T00:00:00\",\"2024-11-29T00:00:00\",\"2024-12-02T00:00:00\",\"2024-12-03T00:00:00\",\"2024-12-04T00:00:00\",\"2024-12-05T00:00:00\",\"2024-12-06T00:00:00\",\"2024-12-09T00:00:00\",\"2024-12-10T00:00:00\",\"2024-12-11T00:00:00\",\"2024-12-12T00:00:00\",\"2024-12-13T00:00:00\",\"2024-12-16T00:00:00\",\"2024-12-17T00:00:00\",\"2024-12-18T00:00:00\",\"2024-12-19T00:00:00\",\"2024-12-20T00:00:00\",\"2024-12-23T00:00:00\",\"2024-12-24T00:00:00\",\"2024-12-26T00:00:00\",\"2024-12-27T00:00:00\",\"2024-12-30T00:00:00\",\"2024-12-31T00:00:00\",\"2025-01-02T00:00:00\",\"2025-01-03T00:00:00\",\"2025-01-06T00:00:00\",\"2025-01-07T00:00:00\",\"2025-01-08T00:00:00\",\"2025-01-10T00:00:00\",\"2025-01-13T00:00:00\",\"2025-01-14T00:00:00\",\"2025-01-15T00:00:00\",\"2025-01-16T00:00:00\",\"2025-01-17T00:00:00\",\"2025-01-21T00:00:00\",\"2025-01-22T00:00:00\",\"2025-01-23T00:00:00\",\"2025-01-24T00:00:00\",\"2025-01-27T00:00:00\",\"2025-01-28T00:00:00\",\"2025-01-29T00:00:00\",\"2025-01-30T00:00:00\",\"2025-01-31T00:00:00\",\"2025-02-03T00:00:00\",\"2025-02-04T00:00:00\",\"2025-02-05T00:00:00\",\"2025-02-06T00:00:00\",\"2025-02-07T00:00:00\",\"2025-02-10T00:00:00\",\"2025-02-11T00:00:00\",\"2025-02-12T00:00:00\",\"2025-02-13T00:00:00\",\"2025-02-14T00:00:00\",\"2025-02-18T00:00:00\",\"2025-02-19T00:00:00\",\"2025-02-20T00:00:00\",\"2025-02-21T00:00:00\",\"2025-02-24T00:00:00\",\"2025-02-25T00:00:00\",\"2025-02-26T00:00:00\",\"2025-02-27T00:00:00\",\"2025-02-28T00:00:00\",\"2025-03-03T00:00:00\",\"2025-03-04T00:00:00\",\"2025-03-05T00:00:00\",\"2025-03-06T00:00:00\",\"2025-03-07T00:00:00\",\"2025-03-10T00:00:00\",\"2025-03-11T00:00:00\",\"2025-03-12T00:00:00\",\"2025-03-13T00:00:00\",\"2025-03-14T00:00:00\",\"2025-03-17T00:00:00\",\"2025-03-18T00:00:00\",\"2025-03-19T00:00:00\",\"2025-03-20T00:00:00\",\"2025-03-21T00:00:00\",\"2025-03-24T00:00:00\",\"2025-03-25T00:00:00\",\"2025-03-26T00:00:00\",\"2025-03-27T00:00:00\",\"2025-03-28T00:00:00\",\"2025-03-31T00:00:00\",\"2025-04-01T00:00:00\",\"2025-04-02T00:00:00\",\"2025-04-03T00:00:00\",\"2025-04-04T00:00:00\",\"2025-04-07T00:00:00\",\"2025-04-08T00:00:00\",\"2025-04-09T00:00:00\",\"2025-04-10T00:00:00\",\"2025-04-11T00:00:00\",\"2025-04-14T00:00:00\",\"2025-04-15T00:00:00\",\"2025-04-16T00:00:00\",\"2025-04-17T00:00:00\",\"2025-04-21T00:00:00\",\"2025-04-22T00:00:00\",\"2025-04-23T00:00:00\",\"2025-04-24T00:00:00\",\"2025-04-25T00:00:00\",\"2025-04-28T00:00:00\",\"2025-04-29T00:00:00\",\"2025-04-30T00:00:00\",\"2025-05-01T00:00:00\",\"2025-05-02T00:00:00\",\"2025-05-05T00:00:00\",\"2025-05-06T00:00:00\",\"2025-05-07T00:00:00\",\"2025-05-08T00:00:00\",\"2025-05-09T00:00:00\",\"2025-05-12T00:00:00\",\"2025-05-13T00:00:00\",\"2025-05-14T00:00:00\",\"2025-05-15T00:00:00\",\"2025-05-16T00:00:00\",\"2025-05-19T00:00:00\",\"2025-05-20T00:00:00\",\"2025-05-21T00:00:00\",\"2025-05-22T00:00:00\",\"2025-05-23T00:00:00\",\"2025-05-27T00:00:00\",\"2025-05-28T00:00:00\",\"2025-05-29T00:00:00\",\"2025-05-30T00:00:00\"],\"xaxis\":\"x\",\"y\":{\"dtype\":\"f8\",\"bdata\":\"AAAAoBHjF0AAAADgMIEXQAAAAIBsmhdAAAAAAJTjF0AAAABgDO8XQAAAAMBWMhhAAAAAYHlTGEAAAACAuBYZQAAAACDsnhhAAAAAAFZzGEAAAADg+sgYQAAAAGDm0RhAAAAA4L6vGEAAAACADucYQAAAAMAmLRlAAAAA4HzwGEAAAADgdeoXQAAAAGCCsBhAAAAAoJJyGEAAAAAgdHkYQAAAAABeihdAAAAAQMbtF0AAAABAGZsYQAAAACCg9xhAAAAAAJVQGUAAAADgxwwZQAAAAGDYLhpAAAAAQECsGkAAAABAxiIbQAAAAMDp9RpAAAAAAHbaHEAAAADARocdQAAAAGBkVR9AAAAAQHW8HkAAAADAjUcdQAAAAOCiNRtAAAAAQGUXGkAAAAAAIqYaQAAAACBgKhlAAAAAIO\\u002fnGkAAAABAJIobQAAAAMBTfRpAAAAAYDdYHEAAAAAADzobQAAAACAngRpAAAAAIMRzGEAAAADApgIaQAAAAOAIjhhAAAAAgNOMFUAAAAAAcv4XQAAAAEAJkRNAAAAAgE+lFUAAAADgxTQUQAAAAECkNxVAAAAAYIB\\u002fFEAAAAAAgDAVQAAAAIAm0xhAAAAAAFt4GEAAAABAt6AZQAAAACCxLRlAAAAAAK11GkAAAAAA7EIaQAAAAIBRNxhAAAAAoJJzGUAAAAAgvkwYQAAAAGBXvRpAAAAAAF7OGUAAAABgXJgaQAAAAGBYMhpAAAAAQFPiGkAAAACA70kcQAAAAICd+htAAAAAIBtcHUAAAABAZx8dQAAAAGD\\u002fmBxAAAAA4KbZGkAAAADgCoIcQAAAAMB2SxxAAAAAIMfZHEAAAAAgzpgdQAAAAMDrBh1AAAAAYAC8HUAAAACAYh4dQAAAAOAXLBxAAAAAoCIFHUAAAADAnkMdQAAAAMDpqh1AAAAA4HtfHkAAAABgFCIfQAAAAGAXEiBAAAAA4OAXH0AAAADg7AAfQAAAACA9ACBAAAAAwAHrIEAAAABAX28hQAAAAECOiyFAAAAAIHffIUAAAABAIHwhQAAAAOAn\\u002fCFAAAAAYMteIUAAAACgmvwgQAAAAMAX6SBAAAAAAEOvIUAAAAAg8IshQAAAAOCglSFAAAAAADF5IUAAAADgs3khQAAAAOAIyCFAAAAAgFmNIUAAAADgVQgiQAAAAOAErCJAAAAAAOKIIUAAAAAgas4hQAAAAICHSSJAAAAAgNETIkAAAAAgTGkiQAAAAGAcYCJAAAAAoC52IkAAAADAq\\u002f0iQAAAAOCA1iJAAAAAoAppIkAAAACg6uoiQAAAAID1PyJAAAAAgOxWIkAAAABg3+4iQAAAAKBU\\u002fyJAAAAAoE0pI0AAAABAJZ0jQAAAACC7rSNAAAAAQGhdJEAAAABg7vIkQAAAAADA4yRAAAAAwNcJJEAAAADAka8kQAAAAGAmYyRAAAAAoPEzJEAAAADgAVYkQAAAACDT8yRAAAAAgNGWJEAAAADAFM8kQAAAAIBkMSRAAAAA4G9SJEAAAABAR8YkQAAAACAnXSRAAAAAILvcJEAAAACggyglQAAAAMDlKCVAAAAAoLryJUAAAABAuWEmQAAAAKDUfyZAAAAAwLWYJkAAAAAgTlMmQAAAAACzQSZAAAAAwPKgJUAAAABAKs4mQAAAACCRzyZAAAAAIFENJ0AAAABgypcoQAAAAIDhcChAAAAAYH4yKEAAAAAAxTMoQAAAAACeSClAAAAAQF9bKUAAAABAjWopQAAAAGBKdilAAAAAAGwsKUAAAABAiDUqQAAAACA\\u002fqSpAAAAAwDaPK0AAAABAd5ssQAAAAAAI9ClAAAAAYGorKUAAAABgPMEnQAAAAACiWilAAAAAIMmMKEAAAACgnkEoQAAAAKDnqilAAAAAAIbnKUAAAACgSPQoQAAAAABA2ihAAAAAAEFOKEAAAABAsPUoQAAAAAAzMylAAAAAYNEsKEAAAACASp8oQAAAAMCrqylAAAAA4Pv9KUAAAAAgW18qQAAAAGDs+ipAAAAAIM0lK0AAAAAA5QsqQAAAAEAYNCtAAAAAgBRkK0AAAADgNdgrQAAAAGBGmCtAAAAAgHpxK0AAAACA9F0sQAAAAEBQaSxAAAAAADYbLEAAAACARtsrQAAAAKBdiitAAAAAgDTqKkAAAABAoDUrQAAAAKD89ypAAAAA4GWkKkAAAABgbBkrQAAAAOA4NCpAAAAAoKW2KkAAAACAti0pQAAAAMBe+ClAAAAAID3+KEAAAABgGhYpQAAAAGAS9ilAAAAA4I6BK0AAAABgQzwsQAAAAEB5CS1AAAAA4BguK0AAAACgtXYpQAAAAOB+wSpAAAAAgEbVKkAAAAAguoMqQAAAAGAj8ypAAAAAAKrDKkAAAABg+8YqQAAAAGDazCpAAAAAYOkYKkAAAACglTMqQAAAAOCM1ilAAAAAQPNjKkAAAABgenEqQAAAACASuSpAAAAAgDOzKkAAAACgEQIrQAAAAABJuCpAAAAAACILK0AAAAAA5iMrQAAAAKDLoCpAAAAAYLfKKUAAAACA6N8pQAAAACDY9ClAAAAAYLuLKkAAAABAKKYqQAAAAIDnaSpAAAAAIFScKkAAAADg93gqQAAAAIC7lypAAAAAoCh8KkAAAADgzPIpQAAAAADj6ilAAAAAIAS7KUAAAADAGdEpQAAAAKCAOCpAAAAAYCkKKkAAAACgCCgqQAAAAMDAvCpAAAAAADwpKUAAAABgu50qQAAAAGBkeypAAAAAAG4rK0AAAAAgmuUqQAAAAOCZ\\u002fSpAAAAAYFRUKkAAAAAgVqYpQAAAAOD4+ilAAAAAwNaoKkAAAADgCqkrQAAAAEDlWStAAAAAgKQ7K0AAAACgU8wqQAAAAIAUxClAAAAAwB4IKkAAAABA2OgpQAAAAMAYZypAAAAA4F0KK0AAAACA9vwqQAAAAIBCQStAAAAAINsbK0AAAABAvMwsQAAAACAfcyxAAAAAAPFyLUAAAAAgXGsuQAAAAOCI1y1AAAAAIPSTLkAAAACgUrstQAAAACABlC1AAAAAYMrFLUAAAADAWqIsQAAAAGA1NSxAAAAA4H\\u002frLEAAAABAGIsqQAAAACDrWitAAAAAwOSbK0AAAACAhL0qQAAAACBhiilAAAAAwIOsKEAAAAAAHNsoQAAAAODCHydAAAAAgFD7KEAAAADgwOAoQAAAAKAM7SlAAAAAgNCmKUAAAABAD1IqQAAAAMAjhSpAAAAAIK6eKkAAAABgn2IpQAAAAECUoSlAAAAAwIFPKkAAAABgghQqQAAAAMADOilAAAAAAPoCKUAAAACAQp4pQAAAAKDv1SlAAAAAYNyuKUAAAACAQaIqQAAAAIACjytAAAAAYMjoK0AAAABgbKgrQAAAAKB3OCxAAAAAYBeRLEAAAACgfLssQAAAAMC4WC5AAAAAYA1JL0AAAADgdHsuQAAAAIBvGTBAAAAAgBHAL0AAAADgvqYuQAAAAKBwRS5AAAAAoBumLkAAAAAgeaEtQAAAAGB0dS5AAAAAICDiLkAAAABg9rAuQAAAAABUey5AAAAAwNiTLkAAAAAg0fItQAAAAACUmi1AAAAA4JWiLEAAAADgXdksQAAAAMBQ+ixAAAAAQBCOLUAAAACA6XYsQAAAAKCZiyxAAAAA4M5zK0AAAACALUQrQAAAAKBKayxAAAAAYLRDLEAAAABgNvcrQAAAAIDAECxAAAAAwAcoLUAAAAAgwOktQAAAAMCSJi9AAAAAgNU4L0AAAADAhVMvQAAAAAA85y5AAAAAgNM0MEAAAAAA7zkwQAAAACAlvTBAAAAAAA7uMEAAAABAd4kxQAAAAIDfkzFAAAAAQH9qMUAAAAAgS1IxQAAAAEBYYzFAAAAAYJfJMUAAAACgBfsxQAAAAAA0wDFAAAAAIMLFMUAAAAAAIp4yQAAAAOBnmTJAAAAAYGBjMkAAAACgwtgyQAAAAIBQBDNAAAAAoC8qM0AAAADgm\\u002f0yQAAAAOBQ8TNAAAAAQPv7M0AAAABgyfUzQAAAAOBNKzRAAAAAAI5xNEAAAABglac0QAAAACAdVDRAAAAA4E3cM0AAAADg+wE0QAAAAOAReDRAAAAA4AI1NEAAAAAgqMwzQAAAAMAR7TJAAAAAYFwfMkAAAAAgbb0yQAAAAMCSkjJAAAAAgG1eM0AAAABAbo0zQAAAACA8hDNAAAAAYMtAM0AAAABA0yozQAAAAEAvdjNAAAAAwM2eM0AAAADgKXUzQAAAAEBItTNAAAAAYOPFM0AAAABAJDs0QAAAAIDflzRAAAAAwKRSNEAAAAAAgkA0QAAAAKDM5DNAAAAAQEGoM0AAAAAg4dwzQAAAAEAsJTRAAAAAoF\\u002foM0AAAACAsGozQAAAAIDo\\u002fzJAAAAAwIvBM0AAAACgmcU0QAAAACBV6TVAAAAAgC6\\u002fNUAAAACgeSo2QAAAAABvBTZAAAAAgIiWNkAAAAAg0aM2QAAAAABsVzZAAAAAoLplNkAAAABgO1o2QAAAAEBxzDZAAAAAADKeNkAAAAAgq0s2QAAAAOBGIjZAAAAA4C5vNkAAAACg4xs2QAAAAGDiMjZAAAAAAC5MNkAAAABg4jI2QAAAAICA2zVAAAAAQGwSNUAAAACAZzQ1QAAAAED65TVAAAAAoDRwNkAAAACAvwk2QAAAAGAunjVAAAAA4KSoNEAAAADAJHo0QAAAAAD9rDRAAAAAYKGzNEAAAAAAk7EzQAAAAKBHaTRAAAAAgOaoNEAAAADgtgg1QAAAAABfyjRAAAAAYJ+nNEAAAACAfaE0QAAAAED35TRAAAAAwCe0NUAAAAAAy9E1QAAAACDGLTZAAAAAACY\\u002fNkAAAACAXg82QAAAACDcpTZAAAAAAIyuNkAAAAAA+B43QAAAAIBAqzhAAAAA4ElnOEAAAABgfOQ4QAAAAABuhDlAAAAAQNzGOUAAAADAhFk6QAAAAEDaizpAAAAAYDq+PUAAAAAAtbE9QAAAAGB\\u002fvj5AAAAA4O+YPkAAAACA2GY9QAAAAOC3VD5AAAAA4LdUPkAAAADAdfc9QAAAAEDwJD5AAAAAgEE0PUAAAADACZ0\\u002fQAAAAKDfdUBAAAAAoNXkP0AAAADgLa8\\u002fQAAAAKAkTkBAAAAAYBdxP0AAAAAg06dAQAAAAOBlTkBAAAAAoLNgP0AAAABAowhAQAAAAIAYoz5AAAAAQHf7PUAAAABAGC9AQAAAAKCdxD9AAAAAwDhvPkAAAABgmyQ+QAAAAMAVHDxAAAAAwA5JPEAAAAAgTWc+QAAAAODVVTxAAAAAoBfAO0AAAACAI6s7QAAAAECkBT1AAAAA4LBYPUAAAADABJY9QAAAAGB94z5AAAAAwEpEPkAAAAAARPI9QAAAAEA4iD1AAAAAgIBbPUAAAAAA7hA+QAAAACCVPD1AAAAAwMCNO0AAAACgbSA8QAAAAMCGMjtAAAAAYJ9ZO0AAAABALsQ7QAAAAECw8jtAAAAAAM+GOkAAAACgluQ6QAAAAOAW2zlAAAAAYHYFOUAAAACgIxs4QAAAAEDYVDdAAAAAYFVUN0AAAADAiEg2QAAAAAADuzZAAAAAYG7nNUAAAADAY8w2QAAAAID\\u002fcDhAAAAA4NaXOEAAAACALjI5QAAAAICF5zdAAAAA4FJGOEAAAABA1q44QAAAAODwDzlAAAAAwAaoOkAAAAAA58Y5QAAAAMDG5zdAAAAAIAk5OEAAAACAXXI6QAAAAGB0djpAAAAAIF12OEAAAADAU5k3QAAAAMDuWDdAAAAAAKJYNkAAAAAAarQ3QAAAAADtHDhAAAAAgDBXOEAAAAAgKm83QAAAAIAULjhAAAAAQMKsN0AAAAAg6+U2QAAAAKAVUTVAAAAAQH16NUAAAACA2vk2QAAAAIDenjZAAAAAYEEQNkAAAABgdks1QAAAACBg7zZAAAAAAJ90OEAAAABgoLk4QAAAAKDIaDpAAAAA4JmwOkAAAABg7no6QAAAAIB3lzlAAAAA4H8aPEAAAADgcaU7QAAAAEAiLDxAAAAAINKbPEAAAABA76Q7QAAAAOCtPTtAAAAAoPqqOkAAAAAgmFA7QAAAAIBf4zlAAAAAYN9dOEAAAACAAys4QAAAAMCwFDdAAAAAYHzhNUAAAACg7nc1QAAAAOCUKjZAAAAAgA85NUAAAACAPb81QAAAAKBNKTZAAAAAYE9yNUAAAADAUCY0QAAAACCXezNAAAAAoH\\u002feM0AAAAAAycEyQAAAAIB0YjJAAAAAANS\\u002fM0AAAAAgMYQyQAAAAMAwgDNAAAAAINORM0AAAABA6Ew0QAAAACAZ0DJAAAAAwOekMkAAAADACOwwQAAAAGDhkDFAAAAA4D+aMEAAAAAg9iUwQAAAACBArTFAAAAAQEk8MUAAAACgoCUyQAAAAID36DBAAAAAIIEYMUAAAAAAm6owQAAAAKC+3jBAAAAAQJggMEAAAACAbPIwQAAAACBP0jFAAAAA4KnHMkAAAACAI6QyQAAAAKAsSjJAAAAAoESPM0AAAAAAaLAyQAAAACBGwTJAAAAAAA7lMkAAAAAAA58yQAAAAECiBTJAAAAAwBXzMEAAAABguT8vQAAAAIBaoC9AAAAAgNGAMEAAAABANSgvQAAAAIDZti9AAAAAoMmKMEAAAADgIFYwQAAAAECeMzBAAAAA4PAZMUAAAABgPtgwQAAAAID\\u002f6i9AAAAA4AoKL0AAAACAOkYuQAAAAAARAS1AAAAAIIjiLUAAAAAgZzcuQAAAAOCZqy9AAAAAQGChL0AAAACApkIuQAAAAGDcHi5AAAAAwMhILkAAAACgILMuQAAAACCFei9AAAAAQOsTMEAAAADAr\\u002fcwQAAAAKAGyDFAAAAAACUGMkAAAADgRksxQAAAAODd\\u002fzBAAAAA4FmCMEAAAAAArsMxQAAAAOBF9TFAAAAAwAcjMkAAAACgGGoyQAAAAADTfzJAAAAAIKTdMkAAAACA9C8zQAAAAKAu9jJAAAAAYHLEMUAAAAAgtw8xQAAAAKAoEjJAAAAAQInqMUAAAADgmq4yQAAAAKAsATNAAAAAQBDaMkAAAACg\\u002f04yQAAAACD3vjJAAAAAQMPSMUAAAABgbAIxQAAAAEAAKDFAAAAAYHsyMUAAAACAH+MxQAAAAICQPDBAAAAAQHWOL0AAAABANeQuQAAAAAD\\u002fJC5AAAAAYHfVK0AAAACAM0ErQAAAAGAm5CpAAAAAoIllK0AAAAAAsPIrQAAAAEC4vSxAAAAAQBH6LEAAAAAAYjsqQAAAAGDZOSpAAAAAABTUKUAAAADApV0qQAAAAKC\\u002fuypAAAAAgGVSKkAAAADg3X0qQAAAAGDgFylAAAAAAN0AKUAAAACAk20oQAAAAMAvzChAAAAAAGBxKUAAAAAgfGkoQAAAAIAPQChAAAAAgNH+KEAAAABAy00qQAAAAABGYypAAAAAIN86KkAAAAAA1x8oQAAAAOA0UCdAAAAAgD8lJ0AAAAAgRPkmQAAAAICE5CdAAAAAYKZtJkAAAADgsb8nQAAAAMAY6CdAAAAAQA4TKEAAAAAAMFwoQAAAAOBK5yhAAAAAYE8rKUAAAADg3X0qQAAAAGAzwylAAAAAgGVSKkAAAABA6KIrQAAAAICP9ipAAAAAABYOK0AAAABgY2gqQAAAAGCxzypAAAAAYJVHLEAAAADgvJEsQAAAAKCsKy1AAAAAID+FK0AAAAAAx3YvQAAAAIDuTjBAAAAAwL9GMEAAAADgnaUwQAAAAKCayC9AAAAA4HFRL0AAAADAYsguQAAAAABWmS5AAAAAYAgFMEAAAABAB4AwQAAAAGBbQDBAAAAAICieL0AAAADgAj4vQAAAAKBw6DBAAAAAIKoeMUAAAABga9wwQAAAAEBimDBAAAAAQBPyL0AAAAAgDhswQAAAAEBcJzFAAAAAAGT8MEAAAAAg+YQxQAAAAOBSDjJAAAAAoIaoMUAAAACA2+8wQAAAAKBojjBAAAAA4FM9MEAAAAAgGhIwQAAAAACBfDBAAAAA4JemLkAAAADgjmIuQAAAAOCHNyxAAAAAwAwMLEAAAACgGC4tQAAAAEC5My1AAAAAYMWaLEAAAAAgyHgtQAAAAGAxgSxAAAAAIA2xLUAAAAAgbjovQAAAAKAsyi9AAAAAQDz5L0AAAADAD38wQAAAACBN4jBAAAAA4K+vMUAAAADAj1wxQAAAAEAHwDBAAAAAYLrSMUAAAACgCy0zQAAAAMB1PzNAAAAAYEtOM0AAAABAz8gzQAAAAEDPWDRAAAAAgB0lM0AAAADgB4UzQAAAAICl7DRAAAAAYJGwNUAAAACAzRQ1QAAAAGD9ETVAAAAAQD8nNkAAAABAbi82QAAAAKAxUTZAAAAAIAE\\u002fNUAAAAAAxsQ1QAAAAGBa8zZAAAAAgGi+NkAAAACggvs1QAAAAEB3XjVAAAAAwPuiNEAAAABATrw0QAAAAICapDdAAAAAwOtDN0AAAADA6Xo3QAAAAGAEMjdAAAAAQIetNkAAAABgFUs3QAAAAIBo3jdAAAAAAHiIN0AAAADgcUU3QAAAAIDjKThAAAAAQE5rN0AAAAAA0fI2QAAAAGAS8zZAAAAAwLMLOEAAAACg6TU4QAAAAIDMhTlAAAAAYN60OUAAAAAgo+E5QAAAACAgLjpAAAAAgPByOkAAAAAg5Ss7QAAAAKB\\u002fwjpAAAAAwA6DOkAAAABAGmQ6QAAAAODw9jpAAAAAAANdO0AAAADAzcE7QAAAAKDl8TtAAAAAIOtuO0AAAACgl9w6QAAAAOB\\u002fBDtAAAAAACePO0AAAACARCY7QAAAAMDYeTpAAAAAIKlxOkAAAABgIL06QAAAAMCL+zpAAAAA4KmlO0AAAADgMuk7QAAAAICjFTtAAAAAwHkZO0AAAABgxwU7QAAAAKDeODpAAAAAAMfvOkAAAABA2TQ7QAAAAOCjujtAAAAAgKTjPEAAAAAgkjA8QAAAAOAyyDtAAAAAgM2KO0AAAABAzqg8QAAAACBLIT1AAAAAwOuMPEAAAABgP908QAAAACC2jjxAAAAA4NNRPEAAAACgpO48QAAAAKAnMT1AAAAAoAQoPkAAAADAvac\\u002fQAAAAIDVPT9AAAAAoFInP0AAAADAe6o+QAAAAKAchD5AAAAAYPL5QkAAAADAgXVDQAAAAACFCkRAAAAAwEXnQkAAAAAg595DQAAAAEA9pkNAAAAAQEmSQ0AAAABAKFBDQAAAAIDZuUJAAAAAoD8+Q0AAAAAAgl9DQAAAAGCWukNAAAAAIJZ\\u002fREAAAAAgO3xFQAAAAAA6UEVAAAAAADdVRUAAAACg+eNFQAAAAABfgkVAAAAAQNB\\u002fRUAAAADgbRdFQAAAAGCyTURAAAAAoNTsREAAAABAvYtEQAAAAKAAZkRAAAAAQFMjRUAAAAAghjFFQAAAAKA+JUVAAAAAoN4JRUAAAACgCT1FQAAAAAC4E0VAAAAAgIAwRUAAAAAAAPBFQAAAAOBv+UZAAAAA4HO4RkAAAADAWTdHQAAAAGB+u0dAAAAAgCaGR0AAAAAA+r5GQAAAAEAQJEZAAAAA4NJKRkAAAAAAUdNGQAAAAABHtkZAAAAAQJbvRkAAAADgUVxHQAAAAOChWUdAAAAAIDw9R0AAAACg8h5GQAAAAGBqPkZAAAAAwIVTRkAAAAAgzbFGQAAAAOB5UUZAAAAAAJBDRUAAAADAUy5FQAAAAEA5akRAAAAAYPDcRUAAAACA3PRFQAAAAODIukVAAAAAgJ6oRUAAAADg3KJFQAAAACAUeEdAAAAAoOjRRkAAAADAI4tHQAAAAMAmkUdAAAAAgK7+RkAAAABgMWdHQAAAAOCCYEhAAAAAAOqdSEAAAAAAjqlIQAAAAEBVPUhAAAAAwFJCSEAAAABgmYRHQAAAAACyG0dAAAAAwBvGRkAAAAAAtJNGQAAAAOBMbEZAAAAAgPq6RkAAAACgQsdGQAAAAAA18EVAAAAAQKb4RUAAAACgl79FQAAAAEC2G0VAAAAAIGF\\u002fREAAAAAgPstEQAAAAKCJGUVAAAAAAMDxREAAAAAgAjlFQAAAACB0iEVAAAAAIOi8RUAAAADACmFGQAAAAEA1v0VAAAAAwD4CRkAAAABABFVGQAAAAIBq3kZAAAAAYNufRkAAAACABeNGQAAAAAD6Y0dAAAAAQMJ1R0AAAACA6LdGQAAAAIAECUdAAAAAoBH1RUAAAAAANhZFQAAAAMAOCkVAAAAAwLauREAAAADA3nlFQAAAAADj0UVAAAAAAN3gREAAAACA+iZEQAAAACA9PURAAAAAQM2RREAAAABAD2FEQAAAAAC3JkVAAAAAIM29RUAAAABAkn1GQAAAACAC3UZAAAAAYBv3RkAAAADgS0ZHQAAAACBmdkdAAAAAgJUnSEAAAABgC0xIQAAAAACV0EhAAAAAoFRuSEAAAAAgEbpIQAAAAIDIokhAAAAAYOowSUAAAAAgbfVIQAAAAKBTWEhAAAAAABLgR0AAAADgrxtIQAAAAMDT5UdAAAAAQKMOSEAAAAAAX19HQAAAAGC7XkdAAAAAIC2+RkAAAAAAzEVHQAAAAODKvUZAAAAAoKJJR0AAAABAEL5HQAAAAACaTUdAAAAAAGLRR0AAAADghghIQAAAAOALKkhAAAAAwCJvSEAAAABAAQdJQAAAAMB8ykhAAAAA4HcLSEAAAABg7ntIQAAAAMB1Z0hAAAAA4OegSEAAAAAAkLJIQAAAACD\\u002fv0hAAAAAIP+\\u002fSEAAAAAAwxJIQAAAAKAfxkdAAAAAAAP9R0AAAADAnolIQAAAAIBoHUpAAAAAAOWOSkAAAADAtClLQAAAACAYZktAAAAAwMNXS0AAAACgry1MQAAAAMCXA0xAAAAA4HGKTEAAAADgdbtNQAAAAOBQ0E1AAAAAAFbsTUAAAACA16pOQAAAAMB3y05AAAAAQH6ATkAAAACg9jdPQAAAAIB\\u002fX09AAAAA4PO\\u002fTkAAAAAg3n9PQAAAAEBbiFBAAAAAQEZTUUAAAACAVAxRQAAAAABXhFFAAAAAgApnUUAAAACgdQZSQAAAAMDQDVJAAAAAwCMGUkAAAABAf3dSQAAAACALKFJAAAAAIColUkAAAACA81pRQAAAAKBJ3FBAAAAAQDKgU0AAAABgC7JTQAAAACCjw1NAAAAAgJ+qU0AAAACgOGhTQAAAAGDqxFNAAAAAYIOPVEAAAADgvUxVQAAAAMCBe1VAAAAAgIoqVkAAAACgdChXQAAAAECQ31VAAAAAQFpvVUAAAACAF\\u002fhWQAAAAGCEtlZAAAAAIC36VUAAAACgVPNVQAAAACDeGlZAAAAAIDJXVkAAAADAgZVWQAAAAOCC2VZAAAAAQBiQV0AAAABgtb1XQAAAAOCLIVdAAAAAgLONVkAAAACge5RWQAAAAEDulFZAAAAAYKZaVkAAAABAbjtWQAAAAEC7d1VAAAAAYEX+VUAAAAAAS8ZVQAAAAEB7VFVAAAAAgEfAVUAAAADgHaVWQAAAAKCoCVZAAAAAwN99VUAAAACAVdhVQAAAAIAZAFVAAAAAwMkoVUAAAAAA3ApTQAAAAGAg31NAAAAAAPmYVEAAAACgTOlTQAAAAABYplRAAAAAYM7sVUAAAACgNu5VQAAAACCHl1VAAAAAQILAVEAAAABAGnJVQAAAACA8MFZAAAAAAJ0GV0AAAABAJqFWQAAAAOAQmFZAAAAAYIwtVkAAAABA53VWQAAAAOA7l1ZAAAAAQHXUVkAAAADg6KVXQAAAAKCSlFdAAAAA4EwcV0AAAACgga9XQAAAAGBG1ldAAAAAwGG6V0AAAABgfvBZQAAAACBOm1pAAAAAgMN2XEAAAAAg4LFcQAAAAKAvnVtAAAAAQLhlW0AAAABgEr1cQAAAAMAAGV1AAAAA4AqZXkAAAACAyjxeQAAAAADBNV5AAAAAYHVvXkAAAADgyzdeQAAAAABFSl9AAAAA4DUyYEAAAADg03pgQAAAAGAJXmBAAAAAoDDxYEAAAACAo1dgQAAAAODroV9AAAAAIKeEXUAAAAAgNoNfQAAAAKALl19AAAAAgNr8XkAAAAAgEOBeQAAAAECwEF9AAAAAgGaoXkAAAADgqQdgQAAAAKCTcl9AAAAAoBoFYEAAAAAg1WpgQAAAAMDB22BAAAAAgAbXX0AAAADgXyZgQAAAAEDIDGBAAAAAgHyUX0AAAACg+XxdQAAAAABQQ15AAAAA4CJ5XUAAAAAgEOBeQAAAAEBIo15AAAAAwLCNXEAAAABgpg9cQAAAAACOQVxAAAAAIIHjW0AAAACgn+xZQAAAAADqPl1AAAAAoDtLW0AAAACgHM9aQAAAAADFGllAAAAAgOQNWkAAAADAPbhYQAAAAGD1O1pAAAAAAOItWkAAAACgEz9bQAAAAMCcBl1AAAAA4LuCXUAAAACgjrReQAAAAACaIl9AAAAAoK8+YEAAAACgbc1fQAAAAICzDmBAAAAA4NvsXkAAAABAiCpgQAAAAEDiml9AAAAAwE0IYEAAAABggGRfQAAAAABiY11AAAAAgETVXUAAAAAg0f1aQAAAACBLi1pAAAAA4EXLWkAAAACACrNZQAAAAKDtm1pAAAAAADcEW0AAAACA4DddQAAAAEA0x11AAAAA4KTEXUAAAADAMjBdQAAAAGAO5FxAAAAAQAJWXEAAAABg8XVdQAAAAEBK\\u002flxAAAAAQO0OXUAAAAAA5jVeQAAAAODR3l5AAAAAYLsAX0AAAACgz1deQAAAAMBeWl5AAAAAgEY+XUAAAADgpbRdQAAAAOCWtF5AAAAA4Ak5X0AAAACgMuxfQAAAACCAm2BAAAAAYNKTYEAAAAAg7dhgQAAAAGCb2GBAAAAAIDlBYUAAAAAAO3JgQAAAACAK9mBAAAAAQMAcYUAAAACg+z5hQAAAAECp9WFAAAAAgNLxYUAAAABA5HBhQAAAAOAVjGFAAAAAoDywYUAAAADgmo9hQAAAAID1pmFAAAAAYNppYUAAAACAV5dgQAAAAGDN62BAAAAAAJkAYUAAAADAFnxhQAAAAGByMmJAAAAAQBCbYkAAAABgEnNiQAAAAMA\\u002fJ2JAAAAAwC+IYkAAAADgj0diQAAAAOA8V2JAAAAAQFC+YUAAAABAxINhQAAAAIA8X2JAAAAAoGc7YkAAAAAAXFRiQAAAAIBavWFAAAAAQKP\\u002fYEAAAABgbhxhQAAAAODh6WBAAAAAQPtGYUAAAABgI1NhQAAAAGBJh2FAAAAAIGkjYkAAAADAKyFiQAAAACBYzWFAAAAA4DNZYUAAAADgiuFgQAAAAEAzaWFAAAAAoCsqYUAAAACATsdgQAAAAGBRf2BAAAAAgM5LYEAAAABAdBxgQAAAAKAVVWBAAAAAQLTVYEAAAADgt3RhQAAAAOBQhmFAAAAAgAl9YUAAAADAnB9hQAAAAED4LmFAAAAAIJbIYEAAAACgNElhQAAAAEBLDmJAAAAA4PysYkAAAACAwYNhQAAAAODLgmFAAAAAIGv8YEAAAAAArKZgQAAAAKCjd2BAAAAAAPoGYUAAAADgjLFgQAAAAEACNmFAAAAAINWZYUAAAAAge2FiQAAAAKBHZmJAAAAAYBrTYUAAAAAAqJldQAAAAKADH2BAAAAAoIXrXkAAAAAAUChfQAAAAGA9A15AAAAAAAkpXUAAAADgX6hdQAAAAKDUM19AAAAAQBgVYEAAAACANTpgQAAAAOCMsWBAAAAAIOqYYEAAAACAzWNgQAAAAMCU6GBAAAAAoHtaYUAAAACAFGxhQAAAAACkZmFAAAAA4MuCYUAAAADAEM1gQAAAAIBJSGBAAAAAIAOnX0AAAABASGhgQAAAAABcCF5AAAAA4JY5X0AAAABgqYJcQAAAAGAp\\u002flxAAAAAAP1RXUAAAACAVqNbQAAAAAD\\u002fKlxAAAAAYJ29WkAAAABAhC9bQAAAAIDY7lxAAAAAQJvkXEAAAADgVmpeQAAAAIBj4V1AAAAAwAHbXEAAAADgwWBdQAAAAKBkoV1AAAAA4EZsXUAAAABgs1leQAAAAMCfK15AAAAAgCJwXEAAAABgBttbQAAAAIBkaltAAAAAoNYXW0AAAABAHIlbQAAAAKBjmltAAAAAYL9yWUAAAADAa5NXQAAAAKCGaFhAAAAAwMUSWEAAAACgnJRcQAAAAIAA5FpAAAAA4Aa7W0AAAACg8qxbQAAAACBNDFxAAAAAQOUeWkAAAACg6F5ZQAAAAEDPOVhAAAAAQIW4WEAAAADA+6xZQAAAAAAMm1pAAAAAoCXAW0AAAACgPC5bQAAAAKDLQFtAAAAAYGU6W0AAAABAi+ZbQAAAAMB9n1xAAAAAYPlzXEAAAABADmJcQAAAAOBRQ11AAAAAoChXXUAAAADgFCldQAAAACB0v15AAAAAoHg9YEAAAABAlOpgQAAAAKBC2mBAAAAAwH\\u002fsYEAAAABg8PFgQAAAAIDcy2BAAAAAoE55YEAAAADgQ5pgQAAAAAD9aGBAAAAA4LLvYEAAAADgntlgQAAAAGDFZWFAAAAAINzjYEA=\"},\"yaxis\":\"y\",\"type\":\"scattergl\"}],                        {\"template\":{\"layout\":{\"colorway\":[\"#2B3A64\",\"#96aae3\",\"#C3681D\",\"#EFBD95\",\"#E73F74\",\"#80BA5A\",\"#E68310\",\"#008695\",\"#CF1C90\",\"#f97b72\",\"#4b4b8f\",\"#A5AA99\"],\"font\":{\"color\":\"#505050\",\"family\":\"Poppins, Sans-serif\"},\"hoverlabel\":{\"bgcolor\":\"white\"},\"margin\":{\"b\":70,\"l\":100,\"r\":50,\"t\":75},\"paper_bgcolor\":\"white\",\"plot_bgcolor\":\"white\",\"title\":{\"font\":{\"color\":\"black\",\"family\":\"Poppins, Sans-serif\"},\"x\":0.025,\"xanchor\":\"left\",\"y\":0.92,\"yanchor\":\"top\"},\"xaxis\":{\"showgrid\":false},\"yaxis\":{\"gridcolor\":\"lightgrey\",\"gridwidth\":0.1,\"linecolor\":\"black\",\"linewidth\":1,\"nticks\":10,\"rangemode\":\"tozero\",\"showgrid\":true,\"showline\":true}}},\"xaxis\":{\"anchor\":\"y\",\"domain\":[0.0,1.0],\"title\":{\"text\":\"Date\"}},\"yaxis\":{\"anchor\":\"x\",\"domain\":[0.0,1.0],\"title\":{\"text\":\"Close\"}},\"legend\":{\"tracegroupgap\":0},\"title\":{\"text\":\"NVIDIA Closes price (Daily)\"}},                        {\"responsive\": true}                    ).then(function(){\n",
       "                            \n",
       "var gd = document.getElementById('5bfb150c-05c1-42de-ad6d-d5271be78b52');\n",
       "var x = new MutationObserver(function (mutations, observer) {{\n",
       "        var display = window.getComputedStyle(gd).display;\n",
       "        if (!display || display === 'none') {{\n",
       "            console.log([gd, 'removed!']);\n",
       "            Plotly.purge(gd);\n",
       "            observer.disconnect();\n",
       "        }}\n",
       "}});\n",
       "\n",
       "// Listen for the removal of the full notebook cells\n",
       "var notebookContainer = gd.closest('#notebook-container');\n",
       "if (notebookContainer) {{\n",
       "    x.observe(notebookContainer, {childList: true});\n",
       "}}\n",
       "\n",
       "// Listen for the clearing of the current output cell\n",
       "var outputEl = gd.closest('.output');\n",
       "if (outputEl) {{\n",
       "    x.observe(outputEl, {childList: true});\n",
       "}}\n",
       "\n",
       "                        })                };            </script>        </div>"
      ]
     },
     "metadata": {},
     "output_type": "display_data"
    }
   ],
   "source": [
    "fig = px.line(nvda,\n",
    "              x = nvda.index,\n",
    "              y = \"Close\",\n",
    "              template= \"dc\",\n",
    "              title= \"NVIDIA Closes price (Daily)\")\n",
    "\n",
    "fig.show()"
   ]
  },
  {
   "cell_type": "code",
   "execution_count": 9,
   "id": "2581f6fc",
   "metadata": {},
   "outputs": [
    {
     "data": {
      "image/png": "[encoded data removed]",
      "text/html": [
       "<div>            <script src=\"https://cdnjs.cloudflare.com/ajax/libs/mathjax/2.7.5/MathJax.js?config=TeX-AMS-MML_SVG\"></script><script type=\"text/javascript\">if (window.MathJax && window.MathJax.Hub && window.MathJax.Hub.Config) {window.MathJax.Hub.Config({SVG: {font: \"STIX-Web\"}});}</script>                <script type=\"text/javascript\">window.PlotlyConfig = {MathJaxConfig: 'local'};</script>\n",
       "        <script charset=\"utf-8\" src=\"https://cdn.plot.ly/plotly-3.0.1.min.js\"></script>                <div id=\"4ace582d-9823-40bc-9459-b43e09fe627a\" class=\"plotly-graph-div\" style=\"height:525px; width:100%;\"></div>            <script type=\"text/javascript\">                window.PLOTLYENV=window.PLOTLYENV || {};                                if (document.getElementById(\"4ace582d-9823-40bc-9459-b43e09fe627a\")) {                    Plotly.newPlot(                        \"4ace582d-9823-40bc-9459-b43e09fe627a\",                        [{\"hovertemplate\":\"Date=%{x}\\u003cbr\\u003eClose=%{y}\\u003cextra\\u003e\\u003c\\u002fextra\\u003e\",\"legendgroup\":\"\",\"line\":{\"color\":\"#2B3A64\",\"dash\":\"solid\"},\"marker\":{\"symbol\":\"circle\"},\"mode\":\"lines\",\"name\":\"\",\"orientation\":\"v\",\"showlegend\":false,\"x\":[\"2025-01-02T00:00:00\",\"2025-01-03T00:00:00\",\"2025-01-06T00:00:00\",\"2025-01-07T00:00:00\",\"2025-01-08T00:00:00\",\"2025-01-10T00:00:00\",\"2025-01-13T00:00:00\",\"2025-01-14T00:00:00\",\"2025-01-15T00:00:00\",\"2025-01-16T00:00:00\",\"2025-01-17T00:00:00\",\"2025-01-21T00:00:00\",\"2025-01-22T00:00:00\",\"2025-01-23T00:00:00\",\"2025-01-24T00:00:00\",\"2025-01-27T00:00:00\",\"2025-01-28T00:00:00\",\"2025-01-29T00:00:00\",\"2025-01-30T00:00:00\",\"2025-01-31T00:00:00\",\"2025-02-03T00:00:00\",\"2025-02-04T00:00:00\",\"2025-02-05T00:00:00\",\"2025-02-06T00:00:00\",\"2025-02-07T00:00:00\",\"2025-02-10T00:00:00\",\"2025-02-11T00:00:00\",\"2025-02-12T00:00:00\",\"2025-02-13T00:00:00\",\"2025-02-14T00:00:00\",\"2025-02-18T00:00:00\",\"2025-02-19T00:00:00\",\"2025-02-20T00:00:00\",\"2025-02-21T00:00:00\",\"2025-02-24T00:00:00\",\"2025-02-25T00:00:00\",\"2025-02-26T00:00:00\",\"2025-02-27T00:00:00\",\"2025-02-28T00:00:00\",\"2025-03-03T00:00:00\",\"2025-03-04T00:00:00\",\"2025-03-05T00:00:00\",\"2025-03-06T00:00:00\",\"2025-03-07T00:00:00\",\"2025-03-10T00:00:00\",\"2025-03-11T00:00:00\",\"2025-03-12T00:00:00\",\"2025-03-13T00:00:00\",\"2025-03-14T00:00:00\",\"2025-03-17T00:00:00\",\"2025-03-18T00:00:00\",\"2025-03-19T00:00:00\",\"2025-03-20T00:00:00\",\"2025-03-21T00:00:00\",\"2025-03-24T00:00:00\",\"2025-03-25T00:00:00\",\"2025-03-26T00:00:00\",\"2025-03-27T00:00:00\",\"2025-03-28T00:00:00\",\"2025-03-31T00:00:00\",\"2025-04-01T00:00:00\",\"2025-04-02T00:00:00\",\"2025-04-03T00:00:00\",\"2025-04-04T00:00:00\",\"2025-04-07T00:00:00\",\"2025-04-08T00:00:00\",\"2025-04-09T00:00:00\",\"2025-04-10T00:00:00\",\"2025-04-11T00:00:00\",\"2025-04-14T00:00:00\",\"2025-04-15T00:00:00\",\"2025-04-16T00:00:00\",\"2025-04-17T00:00:00\",\"2025-04-21T00:00:00\",\"2025-04-22T00:00:00\",\"2025-04-23T00:00:00\",\"2025-04-24T00:00:00\",\"2025-04-25T00:00:00\",\"2025-04-28T00:00:00\",\"2025-04-29T00:00:00\",\"2025-04-30T00:00:00\"],\"xaxis\":\"x\",\"y\":{\"dtype\":\"f8\",\"bdata\":\"AAAAoDRJYUAAAABASw5iQAAAAOD8rGJAAAAAgMGDYUAAAADgy4JhQAAAACBr\\u002fGBAAAAAAKymYEAAAACgo3dgQAAAAAD6BmFAAAAA4IyxYEAAAABAAjZhQAAAACDVmWFAAAAAIHthYkAAAACgR2ZiQAAAAGAa02FAAAAAAKiZXUAAAACgAx9gQAAAAKCF615AAAAAAFAoX0AAAABgPQNeQAAAAAAJKV1AAAAA4F+oXUAAAACg1DNfQAAAAEAYFWBAAAAAgDU6YEAAAADgjLFgQAAAACDqmGBAAAAAgM1jYEAAAADAlOhgQAAAAKB7WmFAAAAAgBRsYUAAAAAApGZhQAAAAODLgmFAAAAAwBDNYEAAAACASUhgQAAAACADp19AAAAAQEhoYEAAAAAAXAheQAAAAOCWOV9AAAAAYKmCXEAAAABgKf5cQAAAAAD9UV1AAAAAgFajW0AAAAAA\\u002fypcQAAAAGCdvVpAAAAAQIQvW0AAAACA2O5cQAAAAECb5FxAAAAA4FZqXkAAAACAY+FdQAAAAMAB21xAAAAA4MFgXUAAAACgZKFdQAAAAOBGbF1AAAAAYLNZXkAAAADAnyteQAAAAIAicFxAAAAAYAbbW0AAAACAZGpbQAAAAKDWF1tAAAAAQByJW0AAAACgY5pbQAAAAGC\\u002fcllAAAAAwGuTV0AAAACghmhYQAAAAMDFElhAAAAAoJyUXEAAAACAAORaQAAAAOAGu1tAAAAAoPKsW0AAAAAgTQxcQAAAAEDlHlpAAAAAoOheWUAAAABAzzlYQAAAAECFuFhAAAAAwPusWUAAAAAADJtaQAAAAKAlwFtAAAAAoDwuW0AAAACgy0BbQAAAAGBlOltA\"},\"yaxis\":\"y\",\"type\":\"scatter\"}],                        {\"template\":{\"layout\":{\"colorway\":[\"#2B3A64\",\"#96aae3\",\"#C3681D\",\"#EFBD95\",\"#E73F74\",\"#80BA5A\",\"#E68310\",\"#008695\",\"#CF1C90\",\"#f97b72\",\"#4b4b8f\",\"#A5AA99\"],\"font\":{\"color\":\"#505050\",\"family\":\"Poppins, Sans-serif\"},\"hoverlabel\":{\"bgcolor\":\"white\"},\"margin\":{\"b\":70,\"l\":100,\"r\":50,\"t\":75},\"paper_bgcolor\":\"white\",\"plot_bgcolor\":\"white\",\"title\":{\"font\":{\"color\":\"black\",\"family\":\"Poppins, Sans-serif\"},\"x\":0.025,\"xanchor\":\"left\",\"y\":0.92,\"yanchor\":\"top\"},\"xaxis\":{\"showgrid\":false},\"yaxis\":{\"gridcolor\":\"lightgrey\",\"gridwidth\":0.1,\"linecolor\":\"black\",\"linewidth\":1,\"nticks\":10,\"rangemode\":\"tozero\",\"showgrid\":true,\"showline\":true}}},\"xaxis\":{\"anchor\":\"y\",\"domain\":[0.0,1.0],\"title\":{\"text\":\"Date\"}},\"yaxis\":{\"anchor\":\"x\",\"domain\":[0.0,1.0],\"title\":{\"text\":\"Close\"}},\"legend\":{\"tracegroupgap\":0},\"title\":{\"text\":\"NVIDIA Closing price early 2025 (Daily)\"}},                        {\"responsive\": true}                    ).then(function(){\n",
       "                            \n",
       "var gd = document.getElementById('4ace582d-9823-40bc-9459-b43e09fe627a');\n",
       "var x = new MutationObserver(function (mutations, observer) {{\n",
       "        var display = window.getComputedStyle(gd).display;\n",
       "        if (!display || display === 'none') {{\n",
       "            console.log([gd, 'removed!']);\n",
       "            Plotly.purge(gd);\n",
       "            observer.disconnect();\n",
       "        }}\n",
       "}});\n",
       "\n",
       "// Listen for the removal of the full notebook cells\n",
       "var notebookContainer = gd.closest('#notebook-container');\n",
       "if (notebookContainer) {{\n",
       "    x.observe(notebookContainer, {childList: true});\n",
       "}}\n",
       "\n",
       "// Listen for the clearing of the current output cell\n",
       "var outputEl = gd.closest('.output');\n",
       "if (outputEl) {{\n",
       "    x.observe(outputEl, {childList: true});\n",
       "}}\n",
       "\n",
       "                        })                };            </script>        </div>"
      ]
     },
     "metadata": {},
     "output_type": "display_data"
    }
   ],
   "source": [
    "# Filtered dataframe for march 2020\n",
    "\n",
    "nvda_2025 = nvda[\"2025-01\":\"2025-04\"]\n",
    "\n",
    "fig = px.line(nvda_2025,\n",
    "              x= nvda_2025.index,\n",
    "              y = \"Close\",\n",
    "              template= \"dc\",\n",
    "              title= \"NVIDIA Closing price early 2025 (Daily)\")\n",
    "\n",
    "fig.show()\n",
    "\n"
   ]
  },
  {
   "cell_type": "code",
   "execution_count": 10,
   "id": "f13ef89f",
   "metadata": {},
   "outputs": [
    {
     "data": {
      "image/png": "[encoded data removed]",
      "text/html": [
       "<div>            <script src=\"https://cdnjs.cloudflare.com/ajax/libs/mathjax/2.7.5/MathJax.js?config=TeX-AMS-MML_SVG\"></script><script type=\"text/javascript\">if (window.MathJax && window.MathJax.Hub && window.MathJax.Hub.Config) {window.MathJax.Hub.Config({SVG: {font: \"STIX-Web\"}});}</script>                <script type=\"text/javascript\">window.PlotlyConfig = {MathJaxConfig: 'local'};</script>\n",
       "        <script charset=\"utf-8\" src=\"https://cdn.plot.ly/plotly-3.0.1.min.js\"></script>                <div id=\"3319f50e-542d-48ba-97a7-d4af21c1cec2\" class=\"plotly-graph-div\" style=\"height:525px; width:100%;\"></div>            <script type=\"text/javascript\">                window.PLOTLYENV=window.PLOTLYENV || {};                                if (document.getElementById(\"3319f50e-542d-48ba-97a7-d4af21c1cec2\")) {                    Plotly.newPlot(                        \"3319f50e-542d-48ba-97a7-d4af21c1cec2\",                        [{\"close\":{\"dtype\":\"f8\",\"bdata\":\"AAAAoDRJYUAAAABASw5iQAAAAOD8rGJAAAAAgMGDYUAAAADgy4JhQAAAACBr\\u002fGBAAAAAAKymYEAAAACgo3dgQAAAAAD6BmFAAAAA4IyxYEAAAABAAjZhQAAAACDVmWFAAAAAIHthYkAAAACgR2ZiQAAAAGAa02FAAAAAAKiZXUAAAACgAx9gQAAAAKCF615AAAAAAFAoX0AAAABgPQNeQAAAAAAJKV1AAAAA4F+oXUAAAACg1DNfQAAAAEAYFWBAAAAAgDU6YEAAAADgjLFgQAAAACDqmGBAAAAAgM1jYEAAAADAlOhgQAAAAKB7WmFAAAAAgBRsYUAAAAAApGZhQAAAAODLgmFAAAAAwBDNYEAAAACASUhgQAAAACADp19AAAAAQEhoYEAAAAAAXAheQAAAAOCWOV9AAAAAYKmCXEAAAABgKf5cQAAAAAD9UV1AAAAAgFajW0AAAAAA\\u002fypcQAAAAGCdvVpAAAAAQIQvW0AAAACA2O5cQAAAAECb5FxAAAAA4FZqXkAAAACAY+FdQAAAAMAB21xAAAAA4MFgXUAAAACgZKFdQAAAAOBGbF1AAAAAYLNZXkAAAADAnyteQAAAAIAicFxAAAAAYAbbW0AAAACAZGpbQAAAAKDWF1tAAAAAQByJW0AAAACgY5pbQAAAAGC\\u002fcllAAAAAwGuTV0AAAACghmhYQAAAAMDFElhAAAAAoJyUXEAAAACAAORaQAAAAOAGu1tAAAAAoPKsW0AAAAAgTQxcQAAAAEDlHlpAAAAAoOheWUAAAABAzzlYQAAAAECFuFhAAAAAwPusWUAAAAAADJtaQAAAAKAlwFtAAAAAoDwuW0AAAACgy0BbQAAAAGBlOltA\"},\"high\":{\"dtype\":\"f8\",\"bdata\":\"ZnwPX3FbYUAE9ncuDRxiQMmktYNVBGNAeXkocV4jY0Dn+T8MqP1hQISVQLO3fGFANsQBqP2uYEAeYN+jdAthQH8M7fixDWFAnjZ5hkhXYUC24ojUSE9hQCaPb83TuWFACPhlTIR4YkDcFp58mWZiQLX9BjpFnmJAldLb7CIMYEBDN558VR9gQI85ZDCmt19A9PkPc7U+X0BQbmtNFPVfQPSY+lJBo11ARnzIQYxLXkCUjOhstT5fQLxUg4H5F2BAIn6GjCpLYEAXj+t7Td9gQLPfomeqzmBAcaq0S\\u002f+GYEBgC3KGSw9hQOrDlNhHZ2FAVToB6VbtYUBGROQuyqphQMwv1sVklGFAGoBeVP2tYUCmkU4DKlJhQIRqA0i6RWBAuIEXY6u2YEBORLhrn99gQLF656x3RF9AwxPxoYXrXkCw50d4m9JdQI2IcaiykF1AAytIXDXVXEBJ+zBJjF1cQNHB\\u002fH0+9VtAid7+SzMOXEAGbgoXHzBdQDTIDOUdcF1AAfHbQsd3XkCtklHtabheQBdFAirAwF1AVKpUqkMcXkBYzIb5QwxeQPanjuvVfl1AIrcXdImNXkA5KFNxBVJeQAauA1k7tV1A2ZeWkEqcXEDP5Se8LTdcQEpl5nDyvFtAx55uUU+MW0DaYKX5OP5bQNST9aPZZ1pAIginAeAHWUBm0oYyjG9ZQKOxFgTudVpAMfilX+PFXEC1VNchjLZbQLbxW0u04ltATRryTA2SXEBMnYDiLGdcQK3II+IVslpACgPPm50dWkBpOyrft9tYQMADEXRl81hAh4sr\\u002f7syWkCho\\u002fMfFqJaQN0rD\\u002fdh+ltAPtEpgjCXW0CfjGloT4xbQAAAAGBlOltA\"},\"low\":{\"dtype\":\"f8\",\"bdata\":\"X0Wg\\u002fXbTYEDdUUJko3ZhQOFTFgF6eWJAbx8GrJh\\u002fYUCw\\u002fR2fNTFhQKdLzNtYxmBAT2vuqqYvYEBuFO2i7UBgQH+AYwuaaGBAsgcVm\\u002f2uYEAxU8Y5Be5gQKBnO\\u002fIrImFAb+ddvrL0YUCbUYNATPZhQCthi1ptu2FA+GTBDJgrXUCaY\\u002f+tzA5dQJ31BMf1AV5AVqIjEi6FXUAROLTT7cpdQB919gZ5P1xADrwNKJgrXUCtOHWDZC9eQPcMlE4lTF9AePr0TbU+X0Cj3w2GDD5gQE95Mrr2X2BAM3EzueQhYEAIvoEyw2RgQMYMJ85M72BA0mhlMQw9YUDGpXrIVCZhQPntvsOSGGFAQnNlh0TAYEBAc7Fj40FgQIB0EArgGl9Ay3HwTwQPYEBmwr6eZv9dQCzGY8hlGF1AG7AElcIQXEAGDeYM54VbQNMVHQF1n1xAyIrsDPGMW0AC6d6QuuJaQCD1XKVZXFpA2rdJjTIwWkBOrKWA0TdcQCm4W+kNclxAazXXQBOJXUAJR+k0ZYFdQPIJUAMNolxAZm4XeAHrXEDuuRT4jx1dQNBr5Pdd2lxAjdngujrVXUAhV0sDWrpdQC50snHwLFxAkls4oL+pW0BqV7jO\\u002fkNbQL20A8Ej6VlAf4FLUJudWkCOEj7hFbJaQG\\u002fCR7ryZVlAYGJ5gKEGV0CD\\u002f72KS6dVQH98mzcFnVdAkc\\u002f3fnxhWEBuvy\\u002fUKMlYQEZtLA0+3lpAsMXSvf5DW0CViAdPgp9bQBBsn3haHFlAkNeGY8ECWUBBRp5AI8JXQD+C4tR8UVhAJ2gAidOAWUBGIUXnlMZZQE+yPiFAblpASSKZ9c6AWkB4aQ7MrttaQL+RKWGoBFpA\"},\"open\":{\"dtype\":\"f8\",\"bdata\":\"8ODmLUz\\u002fYEAYRH7FmH9hQKYJZbwckmJA1AAGUysgY0C\\u002fLPbb0tFhQAjQ9LawLWFA+CJ8SAI\\u002fYEBLqJiz5QBhQMOIngwctGBA4va1i8NTYUBC3Va5XxVhQEbRZrVmZGFArPZnj18UYkAvvWXe2SBiQNYbLcUSi2JAAtaRH+kxX0DttS77lHJeQAcTa3ixnl9AsTtN2SDFXkCiF48wpPBeQIi5Bo3QrlxAjaMLWDs8XUAS8HDeYW9eQP6fhRWQ2V9AbEbzUV8mYEBW2ww6NUJgQF\\u002fobSrgkWBAvDsP+\\u002fc\\u002fYEB+qICOPXFgQC5mX6KnDmFAjUdBJ+mnYUAGATVhmW9hQHAqFJs8gGFAm7AJdY6AYUAMEWfyNhFhQNecdFKwPmBAAp1xVAI\\u002fYEBBCRqPTd9gQLILln8PgF1AbleQQl3fXkDvG07\\u002fdKhbQLuUacLnY11AiLVKTL9gXEBnddfO2c5bQLDLi+Z2eFtA9yNRLkG+WkByRaNXLIdcQE75q1lmQV1AcqrpWoOmXUBOnQJ50K5eQNCnMrN5f11A77LWKMJQXUCuusagriJdQOHCS\\u002f2jO11AGSObfcn3XUA66cEoqiJeQDOjCVkxrl1ABtZLt+fVW0BqtQNO3d5bQAEHJ1LaR1pAzUb1GswgW0B33p1PFdJaQFILtw0u4FlAfLjSBM25WECGEwEWDd1VQCLH6fVg81lAJ2a1MoW4WEB5UsezMVdbQHAV\\u002foOEH1tA9sxjYYiGXECj8SpGlr1bQCsehk68IlpAivyi4VUcWkC3BkxC17BYQGwoCSB7sVhAUM+8sNAgWkCCl3ibQt5ZQPz7KdvstVpAqHhKKKxrW0CGShbJZupaQGJAna+dHVpA\"},\"x\":[\"2025-01-02T00:00:00\",\"2025-01-03T00:00:00\",\"2025-01-06T00:00:00\",\"2025-01-07T00:00:00\",\"2025-01-08T00:00:00\",\"2025-01-10T00:00:00\",\"2025-01-13T00:00:00\",\"2025-01-14T00:00:00\",\"2025-01-15T00:00:00\",\"2025-01-16T00:00:00\",\"2025-01-17T00:00:00\",\"2025-01-21T00:00:00\",\"2025-01-22T00:00:00\",\"2025-01-23T00:00:00\",\"2025-01-24T00:00:00\",\"2025-01-27T00:00:00\",\"2025-01-28T00:00:00\",\"2025-01-29T00:00:00\",\"2025-01-30T00:00:00\",\"2025-01-31T00:00:00\",\"2025-02-03T00:00:00\",\"2025-02-04T00:00:00\",\"2025-02-05T00:00:00\",\"2025-02-06T00:00:00\",\"2025-02-07T00:00:00\",\"2025-02-10T00:00:00\",\"2025-02-11T00:00:00\",\"2025-02-12T00:00:00\",\"2025-02-13T00:00:00\",\"2025-02-14T00:00:00\",\"2025-02-18T00:00:00\",\"2025-02-19T00:00:00\",\"2025-02-20T00:00:00\",\"2025-02-21T00:00:00\",\"2025-02-24T00:00:00\",\"2025-02-25T00:00:00\",\"2025-02-26T00:00:00\",\"2025-02-27T00:00:00\",\"2025-02-28T00:00:00\",\"2025-03-03T00:00:00\",\"2025-03-04T00:00:00\",\"2025-03-05T00:00:00\",\"2025-03-06T00:00:00\",\"2025-03-07T00:00:00\",\"2025-03-10T00:00:00\",\"2025-03-11T00:00:00\",\"2025-03-12T00:00:00\",\"2025-03-13T00:00:00\",\"2025-03-14T00:00:00\",\"2025-03-17T00:00:00\",\"2025-03-18T00:00:00\",\"2025-03-19T00:00:00\",\"2025-03-20T00:00:00\",\"2025-03-21T00:00:00\",\"2025-03-24T00:00:00\",\"2025-03-25T00:00:00\",\"2025-03-26T00:00:00\",\"2025-03-27T00:00:00\",\"2025-03-28T00:00:00\",\"2025-03-31T00:00:00\",\"2025-04-01T00:00:00\",\"2025-04-02T00:00:00\",\"2025-04-03T00:00:00\",\"2025-04-04T00:00:00\",\"2025-04-07T00:00:00\",\"2025-04-08T00:00:00\",\"2025-04-09T00:00:00\",\"2025-04-10T00:00:00\",\"2025-04-11T00:00:00\",\"2025-04-14T00:00:00\",\"2025-04-15T00:00:00\",\"2025-04-16T00:00:00\",\"2025-04-17T00:00:00\",\"2025-04-21T00:00:00\",\"2025-04-22T00:00:00\",\"2025-04-23T00:00:00\",\"2025-04-24T00:00:00\",\"2025-04-25T00:00:00\",\"2025-04-28T00:00:00\",\"2025-04-29T00:00:00\",\"2025-04-30T00:00:00\"],\"type\":\"candlestick\"}],                        {\"template\":{\"data\":{\"barpolar\":[{\"marker\":{\"line\":{\"color\":\"rgb(237,237,237)\",\"width\":0.5},\"pattern\":{\"fillmode\":\"overlay\",\"size\":10,\"solidity\":0.2}},\"type\":\"barpolar\"}],\"bar\":[{\"error_x\":{\"color\":\"rgb(51,51,51)\"},\"error_y\":{\"color\":\"rgb(51,51,51)\"},\"marker\":{\"line\":{\"color\":\"rgb(237,237,237)\",\"width\":0.5},\"pattern\":{\"fillmode\":\"overlay\",\"size\":10,\"solidity\":0.2}},\"type\":\"bar\"}],\"carpet\":[{\"aaxis\":{\"endlinecolor\":\"rgb(51,51,51)\",\"gridcolor\":\"white\",\"linecolor\":\"white\",\"minorgridcolor\":\"white\",\"startlinecolor\":\"rgb(51,51,51)\"},\"baxis\":{\"endlinecolor\":\"rgb(51,51,51)\",\"gridcolor\":\"white\",\"linecolor\":\"white\",\"minorgridcolor\":\"white\",\"startlinecolor\":\"rgb(51,51,51)\"},\"type\":\"carpet\"}],\"choropleth\":[{\"colorbar\":{\"outlinewidth\":0,\"tickcolor\":\"rgb(237,237,237)\",\"ticklen\":6,\"ticks\":\"inside\"},\"type\":\"choropleth\"}],\"contourcarpet\":[{\"colorbar\":{\"outlinewidth\":0,\"tickcolor\":\"rgb(237,237,237)\",\"ticklen\":6,\"ticks\":\"inside\"},\"type\":\"contourcarpet\"}],\"contour\":[{\"colorbar\":{\"outlinewidth\":0,\"tickcolor\":\"rgb(237,237,237)\",\"ticklen\":6,\"ticks\":\"inside\"},\"colorscale\":[[0,\"rgb(20,44,66)\"],[1,\"rgb(90,179,244)\"]],\"type\":\"contour\"}],\"heatmap\":[{\"colorbar\":{\"outlinewidth\":0,\"tickcolor\":\"rgb(237,237,237)\",\"ticklen\":6,\"ticks\":\"inside\"},\"colorscale\":[[0,\"rgb(20,44,66)\"],[1,\"rgb(90,179,244)\"]],\"type\":\"heatmap\"}],\"histogram2dcontour\":[{\"colorbar\":{\"outlinewidth\":0,\"tickcolor\":\"rgb(237,237,237)\",\"ticklen\":6,\"ticks\":\"inside\"},\"colorscale\":[[0,\"rgb(20,44,66)\"],[1,\"rgb(90,179,244)\"]],\"type\":\"histogram2dcontour\"}],\"histogram2d\":[{\"colorbar\":{\"outlinewidth\":0,\"tickcolor\":\"rgb(237,237,237)\",\"ticklen\":6,\"ticks\":\"inside\"},\"colorscale\":[[0,\"rgb(20,44,66)\"],[1,\"rgb(90,179,244)\"]],\"type\":\"histogram2d\"}],\"histogram\":[{\"marker\":{\"pattern\":{\"fillmode\":\"overlay\",\"size\":10,\"solidity\":0.2}},\"type\":\"histogram\"}],\"mesh3d\":[{\"colorbar\":{\"outlinewidth\":0,\"tickcolor\":\"rgb(237,237,237)\",\"ticklen\":6,\"ticks\":\"inside\"},\"type\":\"mesh3d\"}],\"parcoords\":[{\"line\":{\"colorbar\":{\"outlinewidth\":0,\"tickcolor\":\"rgb(237,237,237)\",\"ticklen\":6,\"ticks\":\"inside\"}},\"type\":\"parcoords\"}],\"pie\":[{\"automargin\":true,\"type\":\"pie\"}],\"scatter3d\":[{\"line\":{\"colorbar\":{\"outlinewidth\":0,\"tickcolor\":\"rgb(237,237,237)\",\"ticklen\":6,\"ticks\":\"inside\"}},\"marker\":{\"colorbar\":{\"outlinewidth\":0,\"tickcolor\":\"rgb(237,237,237)\",\"ticklen\":6,\"ticks\":\"inside\"}},\"type\":\"scatter3d\"}],\"scattercarpet\":[{\"marker\":{\"colorbar\":{\"outlinewidth\":0,\"tickcolor\":\"rgb(237,237,237)\",\"ticklen\":6,\"ticks\":\"inside\"}},\"type\":\"scattercarpet\"}],\"scattergeo\":[{\"marker\":{\"colorbar\":{\"outlinewidth\":0,\"tickcolor\":\"rgb(237,237,237)\",\"ticklen\":6,\"ticks\":\"inside\"}},\"type\":\"scattergeo\"}],\"scattergl\":[{\"marker\":{\"colorbar\":{\"outlinewidth\":0,\"tickcolor\":\"rgb(237,237,237)\",\"ticklen\":6,\"ticks\":\"inside\"}},\"type\":\"scattergl\"}],\"scattermapbox\":[{\"marker\":{\"colorbar\":{\"outlinewidth\":0,\"tickcolor\":\"rgb(237,237,237)\",\"ticklen\":6,\"ticks\":\"inside\"}},\"type\":\"scattermapbox\"}],\"scattermap\":[{\"marker\":{\"colorbar\":{\"outlinewidth\":0,\"tickcolor\":\"rgb(237,237,237)\",\"ticklen\":6,\"ticks\":\"inside\"}},\"type\":\"scattermap\"}],\"scatterpolargl\":[{\"marker\":{\"colorbar\":{\"outlinewidth\":0,\"tickcolor\":\"rgb(237,237,237)\",\"ticklen\":6,\"ticks\":\"inside\"}},\"type\":\"scatterpolargl\"}],\"scatterpolar\":[{\"marker\":{\"colorbar\":{\"outlinewidth\":0,\"tickcolor\":\"rgb(237,237,237)\",\"ticklen\":6,\"ticks\":\"inside\"}},\"type\":\"scatterpolar\"}],\"scatter\":[{\"fillpattern\":{\"fillmode\":\"overlay\",\"size\":10,\"solidity\":0.2},\"type\":\"scatter\"}],\"scatterternary\":[{\"marker\":{\"colorbar\":{\"outlinewidth\":0,\"tickcolor\":\"rgb(237,237,237)\",\"ticklen\":6,\"ticks\":\"inside\"}},\"type\":\"scatterternary\"}],\"surface\":[{\"colorbar\":{\"outlinewidth\":0,\"tickcolor\":\"rgb(237,237,237)\",\"ticklen\":6,\"ticks\":\"inside\"},\"colorscale\":[[0,\"rgb(20,44,66)\"],[1,\"rgb(90,179,244)\"]],\"type\":\"surface\"}],\"table\":[{\"cells\":{\"fill\":{\"color\":\"rgb(237,237,237)\"},\"line\":{\"color\":\"white\"}},\"header\":{\"fill\":{\"color\":\"rgb(217,217,217)\"},\"line\":{\"color\":\"white\"}},\"type\":\"table\"}]},\"layout\":{\"annotationdefaults\":{\"arrowhead\":0,\"arrowwidth\":1},\"autotypenumbers\":\"strict\",\"coloraxis\":{\"colorbar\":{\"outlinewidth\":0,\"tickcolor\":\"rgb(237,237,237)\",\"ticklen\":6,\"ticks\":\"inside\"}},\"colorscale\":{\"sequential\":[[0,\"rgb(20,44,66)\"],[1,\"rgb(90,179,244)\"]],\"sequentialminus\":[[0,\"rgb(20,44,66)\"],[1,\"rgb(90,179,244)\"]]},\"colorway\":[\"#F8766D\",\"#A3A500\",\"#00BF7D\",\"#00B0F6\",\"#E76BF3\"],\"font\":{\"color\":\"rgb(51,51,51)\"},\"geo\":{\"bgcolor\":\"white\",\"lakecolor\":\"white\",\"landcolor\":\"rgb(237,237,237)\",\"showlakes\":true,\"showland\":true,\"subunitcolor\":\"white\"},\"hoverlabel\":{\"align\":\"left\"},\"hovermode\":\"closest\",\"paper_bgcolor\":\"white\",\"plot_bgcolor\":\"rgb(237,237,237)\",\"polar\":{\"angularaxis\":{\"gridcolor\":\"white\",\"linecolor\":\"white\",\"showgrid\":true,\"tickcolor\":\"rgb(51,51,51)\",\"ticks\":\"outside\"},\"bgcolor\":\"rgb(237,237,237)\",\"radialaxis\":{\"gridcolor\":\"white\",\"linecolor\":\"white\",\"showgrid\":true,\"tickcolor\":\"rgb(51,51,51)\",\"ticks\":\"outside\"}},\"scene\":{\"xaxis\":{\"backgroundcolor\":\"rgb(237,237,237)\",\"gridcolor\":\"white\",\"gridwidth\":2,\"linecolor\":\"white\",\"showbackground\":true,\"showgrid\":true,\"tickcolor\":\"rgb(51,51,51)\",\"ticks\":\"outside\",\"zerolinecolor\":\"white\"},\"yaxis\":{\"backgroundcolor\":\"rgb(237,237,237)\",\"gridcolor\":\"white\",\"gridwidth\":2,\"linecolor\":\"white\",\"showbackground\":true,\"showgrid\":true,\"tickcolor\":\"rgb(51,51,51)\",\"ticks\":\"outside\",\"zerolinecolor\":\"white\"},\"zaxis\":{\"backgroundcolor\":\"rgb(237,237,237)\",\"gridcolor\":\"white\",\"gridwidth\":2,\"linecolor\":\"white\",\"showbackground\":true,\"showgrid\":true,\"tickcolor\":\"rgb(51,51,51)\",\"ticks\":\"outside\",\"zerolinecolor\":\"white\"}},\"shapedefaults\":{\"fillcolor\":\"black\",\"line\":{\"width\":0},\"opacity\":0.3},\"ternary\":{\"aaxis\":{\"gridcolor\":\"white\",\"linecolor\":\"white\",\"showgrid\":true,\"tickcolor\":\"rgb(51,51,51)\",\"ticks\":\"outside\"},\"baxis\":{\"gridcolor\":\"white\",\"linecolor\":\"white\",\"showgrid\":true,\"tickcolor\":\"rgb(51,51,51)\",\"ticks\":\"outside\"},\"bgcolor\":\"rgb(237,237,237)\",\"caxis\":{\"gridcolor\":\"white\",\"linecolor\":\"white\",\"showgrid\":true,\"tickcolor\":\"rgb(51,51,51)\",\"ticks\":\"outside\"}},\"xaxis\":{\"automargin\":true,\"gridcolor\":\"white\",\"linecolor\":\"white\",\"showgrid\":true,\"tickcolor\":\"rgb(51,51,51)\",\"ticks\":\"outside\",\"title\":{\"standoff\":15},\"zerolinecolor\":\"white\"},\"yaxis\":{\"automargin\":true,\"gridcolor\":\"white\",\"linecolor\":\"white\",\"showgrid\":true,\"tickcolor\":\"rgb(51,51,51)\",\"ticks\":\"outside\",\"title\":{\"standoff\":15},\"zerolinecolor\":\"white\"}}},\"title\":{\"text\":\"NVIDIA price (candlesticks)\"}},                        {\"responsive\": true}                    ).then(function(){\n",
       "                            \n",
       "var gd = document.getElementById('3319f50e-542d-48ba-97a7-d4af21c1cec2');\n",
       "var x = new MutationObserver(function (mutations, observer) {{\n",
       "        var display = window.getComputedStyle(gd).display;\n",
       "        if (!display || display === 'none') {{\n",
       "            console.log([gd, 'removed!']);\n",
       "            Plotly.purge(gd);\n",
       "            observer.disconnect();\n",
       "        }}\n",
       "}});\n",
       "\n",
       "// Listen for the removal of the full notebook cells\n",
       "var notebookContainer = gd.closest('#notebook-container');\n",
       "if (notebookContainer) {{\n",
       "    x.observe(notebookContainer, {childList: true});\n",
       "}}\n",
       "\n",
       "// Listen for the clearing of the current output cell\n",
       "var outputEl = gd.closest('.output');\n",
       "if (outputEl) {{\n",
       "    x.observe(outputEl, {childList: true});\n",
       "}}\n",
       "\n",
       "                        })                };            </script>        </div>"
      ]
     },
     "metadata": {},
     "output_type": "display_data"
    }
   ],
   "source": [
    "candlestick = go.Candlestick(\n",
    "    x = nvda_2025.index,\n",
    "    open = nvda_2025['Open'],\n",
    "    close = nvda_2025['Close'],\n",
    "    high = nvda_2025['High'],\n",
    "    low = nvda_2025['Low']\n",
    ")\n",
    "\n",
    "#create the figure\n",
    "\n",
    "fig = go.Figure(data = candlestick)\n",
    "fig.update_layout(title = \"NVIDIA price (candlesticks)\", template =\"ggplot2\")\n",
    "fig.show()"
   ]
  },
  {
   "cell_type": "markdown",
   "id": "aebc1f10",
   "metadata": {},
   "source": [
    "🪙 Bitcoin comparison\n",
    "#\n",
    "We download historical data for Bitcoin (BTC-USD) to compare with the NVIDIA Stocks\n",
    "#\n",
    "To make both assets comparable, we applied a base-100 normalization, allowing us to visualize their relative growth from a common starting point\n",
    "\n",
    "#\n",
    "Finally, we created a logarithmic-scale chart to better capture the cumulative percentage changes over the time, especially during period of rapid growth"
   ]
  },
  {
   "cell_type": "code",
   "execution_count": 11,
   "id": "16c29632",
   "metadata": {},
   "outputs": [
    {
     "name": "stderr",
     "output_type": "stream",
     "text": [
      "/tmp/ipykernel_355679/1109610688.py:1: FutureWarning:\n",
      "\n",
      "YF.download() has changed argument auto_adjust default to True\n",
      "\n",
      "[*********************100%***********************]  1 of 1 completed\n"
     ]
    }
   ],
   "source": [
    "btc = yf.download(tickers='BTC-USD', start= start, end= end)\n",
    "btc.columns = btc.columns.droplevel(1)\n"
   ]
  },
  {
   "cell_type": "code",
   "execution_count": 12,
   "id": "4ea93529",
   "metadata": {},
   "outputs": [
    {
     "data": {
      "text/html": [
       "<div>\n",
       "<style scoped>\n",
       "    .dataframe tbody tr th:only-of-type {\n",
       "        vertical-align: middle;\n",
       "    }\n",
       "\n",
       "    .dataframe tbody tr th {\n",
       "        vertical-align: top;\n",
       "    }\n",
       "\n",
       "    .dataframe thead th {\n",
       "        text-align: right;\n",
       "    }\n",
       "</style>\n",
       "<table border=\"1\" class=\"dataframe\">\n",
       "  <thead>\n",
       "    <tr style=\"text-align: right;\">\n",
       "      <th></th>\n",
       "      <th>NVIDIA</th>\n",
       "      <th>Bitcoin</th>\n",
       "    </tr>\n",
       "    <tr>\n",
       "      <th>Date</th>\n",
       "      <th></th>\n",
       "      <th></th>\n",
       "    </tr>\n",
       "  </thead>\n",
       "  <tbody>\n",
       "    <tr>\n",
       "      <th>2020-01-02</th>\n",
       "      <td>100.000000</td>\n",
       "      <td>100.000000</td>\n",
       "    </tr>\n",
       "    <tr>\n",
       "      <th>2020-01-03</th>\n",
       "      <td>98.399398</td>\n",
       "      <td>105.145166</td>\n",
       "    </tr>\n",
       "    <tr>\n",
       "      <th>2020-01-06</th>\n",
       "      <td>98.812033</td>\n",
       "      <td>111.219703</td>\n",
       "    </tr>\n",
       "    <tr>\n",
       "      <th>2020-01-07</th>\n",
       "      <td>100.008328</td>\n",
       "      <td>116.866755</td>\n",
       "    </tr>\n",
       "    <tr>\n",
       "      <th>2020-01-08</th>\n",
       "      <td>100.195901</td>\n",
       "      <td>115.666699</td>\n",
       "    </tr>\n",
       "    <tr>\n",
       "      <th>...</th>\n",
       "      <td>...</td>\n",
       "      <td>...</td>\n",
       "    </tr>\n",
       "    <tr>\n",
       "      <th>2025-05-23</th>\n",
       "      <td>2198.366500</td>\n",
       "      <td>1535.870794</td>\n",
       "    </tr>\n",
       "    <tr>\n",
       "      <th>2025-05-27</th>\n",
       "      <td>2268.860136</td>\n",
       "      <td>1560.304994</td>\n",
       "    </tr>\n",
       "    <tr>\n",
       "      <th>2025-05-28</th>\n",
       "      <td>2257.306709</td>\n",
       "      <td>1543.236530</td>\n",
       "    </tr>\n",
       "    <tr>\n",
       "      <th>2025-05-29</th>\n",
       "      <td>2330.647053</td>\n",
       "      <td>1512.307040</td>\n",
       "    </tr>\n",
       "    <tr>\n",
       "      <th>2025-05-30</th>\n",
       "      <td>2262.664887</td>\n",
       "      <td>1488.784106</td>\n",
       "    </tr>\n",
       "  </tbody>\n",
       "</table>\n",
       "<p>1360 rows × 2 columns</p>\n",
       "</div>"
      ],
      "text/plain": [
       "                 NVIDIA      Bitcoin\n",
       "Date                                \n",
       "2020-01-02   100.000000   100.000000\n",
       "2020-01-03    98.399398   105.145166\n",
       "2020-01-06    98.812033   111.219703\n",
       "2020-01-07   100.008328   116.866755\n",
       "2020-01-08   100.195901   115.666699\n",
       "...                 ...          ...\n",
       "2025-05-23  2198.366500  1535.870794\n",
       "2025-05-27  2268.860136  1560.304994\n",
       "2025-05-28  2257.306709  1543.236530\n",
       "2025-05-29  2330.647053  1512.307040\n",
       "2025-05-30  2262.664887  1488.784106\n",
       "\n",
       "[1360 rows x 2 columns]"
      ]
     },
     "execution_count": 12,
     "metadata": {},
     "output_type": "execute_result"
    }
   ],
   "source": [
    "Combined = pd.DataFrame({\n",
    "    \"NVIDIA\": nvda[\"Close\"],\n",
    "    \"Bitcoin\":btc[\"Close\"]\n",
    "})\n",
    "\n",
    "Combined.dropna(inplace= True) #we must drop NaN because Bitcoin trades on weekends while nvidia doesn't\n",
    "normalized = Combined / Combined.iloc[0] * 100\n",
    "normalized\n"
   ]
  },
  {
   "cell_type": "code",
   "execution_count": 13,
   "id": "8af90c97",
   "metadata": {},
   "outputs": [
    {
     "data": {
      "image/png": "[encoded data removed]",
      "text/html": [
       "<div>            <script src=\"https://cdnjs.cloudflare.com/ajax/libs/mathjax/2.7.5/MathJax.js?config=TeX-AMS-MML_SVG\"></script><script type=\"text/javascript\">if (window.MathJax && window.MathJax.Hub && window.MathJax.Hub.Config) {window.MathJax.Hub.Config({SVG: {font: \"STIX-Web\"}});}</script>                <script type=\"text/javascript\">window.PlotlyConfig = {MathJaxConfig: 'local'};</script>\n",
       "        <script charset=\"utf-8\" src=\"https://cdn.plot.ly/plotly-3.0.1.min.js\"></script>                <div id=\"5dd603c9-4063-41a8-b649-67b48b4a5ee5\" class=\"plotly-graph-div\" style=\"height:525px; width:100%;\"></div>            <script type=\"text/javascript\">                window.PLOTLYENV=window.PLOTLYENV || {};                                if (document.getElementById(\"5dd603c9-4063-41a8-b649-67b48b4a5ee5\")) {                    Plotly.newPlot(                        \"5dd603c9-4063-41a8-b649-67b48b4a5ee5\",                        [{\"hovertemplate\":\"Asset=NVIDIA\\u003cbr\\u003eDate=%{x}\\u003cbr\\u003eNormalized index=%{y}\\u003cextra\\u003e\\u003c\\u002fextra\\u003e\",\"legendgroup\":\"NVIDIA\",\"line\":{\"color\":\"#2B3A64\",\"dash\":\"solid\"},\"marker\":{\"symbol\":\"circle\"},\"mode\":\"lines\",\"name\":\"NVIDIA\",\"showlegend\":true,\"x\":[\"2020-01-02T00:00:00\",\"2020-01-03T00:00:00\",\"2020-01-06T00:00:00\",\"2020-01-07T00:00:00\",\"2020-01-08T00:00:00\",\"2020-01-09T00:00:00\",\"2020-01-10T00:00:00\",\"2020-01-13T00:00:00\",\"2020-01-14T00:00:00\",\"2020-01-15T00:00:00\",\"2020-01-16T00:00:00\",\"2020-01-17T00:00:00\",\"2020-01-21T00:00:00\",\"2020-01-22T00:00:00\",\"2020-01-23T00:00:00\",\"2020-01-24T00:00:00\",\"2020-01-27T00:00:00\",\"2020-01-28T00:00:00\",\"2020-01-29T00:00:00\",\"2020-01-30T00:00:00\",\"2020-01-31T00:00:00\",\"2020-02-03T00:00:00\",\"2020-02-04T00:00:00\",\"2020-02-05T00:00:00\",\"2020-02-06T00:00:00\",\"2020-02-07T00:00:00\",\"2020-02-10T00:00:00\",\"2020-02-11T00:00:00\",\"2020-02-12T00:00:00\",\"2020-02-13T00:00:00\",\"2020-02-14T00:00:00\",\"2020-02-18T00:00:00\",\"2020-02-19T00:00:00\",\"2020-02-20T00:00:00\",\"2020-02-21T00:00:00\",\"2020-02-24T00:00:00\",\"2020-02-25T00:00:00\",\"2020-02-26T00:00:00\",\"2020-02-27T00:00:00\",\"2020-02-28T00:00:00\",\"2020-03-02T00:00:00\",\"2020-03-03T00:00:00\",\"2020-03-04T00:00:00\",\"2020-03-05T00:00:00\",\"2020-03-06T00:00:00\",\"2020-03-09T00:00:00\",\"2020-03-10T00:00:00\",\"2020-03-11T00:00:00\",\"2020-03-12T00:00:00\",\"2020-03-13T00:00:00\",\"2020-03-16T00:00:00\",\"2020-03-17T00:00:00\",\"2020-03-18T00:00:00\",\"2020-03-19T00:00:00\",\"2020-03-20T00:00:00\",\"2020-03-23T00:00:00\",\"2020-03-24T00:00:00\",\"2020-03-25T00:00:00\",\"2020-03-26T00:00:00\",\"2020-03-27T00:00:00\",\"2020-03-30T00:00:00\",\"2020-03-31T00:00:00\",\"2020-04-01T00:00:00\",\"2020-04-02T00:00:00\",\"2020-04-03T00:00:00\",\"2020-04-06T00:00:00\",\"2020-04-07T00:00:00\",\"2020-04-08T00:00:00\",\"2020-04-09T00:00:00\",\"2020-04-13T00:00:00\",\"2020-04-14T00:00:00\",\"2020-04-15T00:00:00\",\"2020-04-16T00:00:00\",\"2020-04-17T00:00:00\",\"2020-04-20T00:00:00\",\"2020-04-21T00:00:00\",\"2020-04-22T00:00:00\",\"2020-04-23T00:00:00\",\"2020-04-24T00:00:00\",\"2020-04-27T00:00:00\",\"2020-04-28T00:00:00\",\"2020-04-29T00:00:00\",\"2020-04-30T00:00:00\",\"2020-05-01T00:00:00\",\"2020-05-04T00:00:00\",\"2020-05-05T00:00:00\",\"2020-05-06T00:00:00\",\"2020-05-07T00:00:00\",\"2020-05-08T00:00:00\",\"2020-05-11T00:00:00\",\"2020-05-12T00:00:00\",\"2020-05-13T00:00:00\",\"2020-05-14T00:00:00\",\"2020-05-15T00:00:00\",\"2020-05-18T00:00:00\",\"2020-05-19T00:00:00\",\"2020-05-20T00:00:00\",\"2020-05-21T00:00:00\",\"2020-05-22T00:00:00\",\"2020-05-26T00:00:00\",\"2020-05-27T00:00:00\",\"2020-05-28T00:00:00\",\"2020-05-29T00:00:00\",\"2020-06-01T00:00:00\",\"2020-06-02T00:00:00\",\"2020-06-03T00:00:00\",\"2020-06-04T00:00:00\",\"2020-06-05T00:00:00\",\"2020-06-08T00:00:00\",\"2020-06-09T00:00:00\",\"2020-06-10T00:00:00\",\"2020-06-11T00:00:00\",\"2020-06-12T00:00:00\",\"2020-06-15T00:00:00\",\"2020-06-16T00:00:00\",\"2020-06-17T00:00:00\",\"2020-06-18T00:00:00\",\"2020-06-19T00:00:00\",\"2020-06-22T00:00:00\",\"2020-06-23T00:00:00\",\"2020-06-24T00:00:00\",\"2020-06-25T00:00:00\",\"2020-06-26T00:00:00\",\"2020-06-29T00:00:00\",\"2020-06-30T00:00:00\",\"2020-07-01T00:00:00\",\"2020-07-02T00:00:00\",\"2020-07-06T00:00:00\",\"2020-07-07T00:00:00\",\"2020-07-08T00:00:00\",\"2020-07-09T00:00:00\",\"2020-07-10T00:00:00\",\"2020-07-13T00:00:00\",\"2020-07-14T00:00:00\",\"2020-07-15T00:00:00\",\"2020-07-16T00:00:00\",\"2020-07-17T00:00:00\",\"2020-07-20T00:00:00\",\"2020-07-21T00:00:00\",\"2020-07-22T00:00:00\",\"2020-07-23T00:00:00\",\"2020-07-24T00:00:00\",\"2020-07-27T00:00:00\",\"2020-07-28T00:00:00\",\"2020-07-29T00:00:00\",\"2020-07-30T00:00:00\",\"2020-07-31T00:00:00\",\"2020-08-03T00:00:00\",\"2020-08-04T00:00:00\",\"2020-08-05T00:00:00\",\"2020-08-06T00:00:00\",\"2020-08-07T00:00:00\",\"2020-08-10T00:00:00\",\"2020-08-11T00:00:00\",\"2020-08-12T00:00:00\",\"2020-08-13T00:00:00\",\"2020-08-14T00:00:00\",\"2020-08-17T00:00:00\",\"2020-08-18T00:00:00\",\"2020-08-19T00:00:00\",\"2020-08-20T00:00:00\",\"2020-08-21T00:00:00\",\"2020-08-24T00:00:00\",\"2020-08-25T00:00:00\",\"2020-08-26T00:00:00\",\"2020-08-27T00:00:00\",\"2020-08-28T00:00:00\",\"2020-08-31T00:00:00\",\"2020-09-01T00:00:00\",\"2020-09-02T00:00:00\",\"2020-09-03T00:00:00\",\"2020-09-04T00:00:00\",\"2020-09-08T00:00:00\",\"2020-09-09T00:00:00\",\"2020-09-10T00:00:00\",\"2020-09-11T00:00:00\",\"2020-09-14T00:00:00\",\"2020-09-15T00:00:00\",\"2020-09-16T00:00:00\",\"2020-09-17T00:00:00\",\"2020-09-18T00:00:00\",\"2020-09-21T00:00:00\",\"2020-09-22T00:00:00\",\"2020-09-23T00:00:00\",\"2020-09-24T00:00:00\",\"2020-09-25T00:00:00\",\"2020-09-28T00:00:00\",\"2020-09-29T00:00:00\",\"2020-09-30T00:00:00\",\"2020-10-01T00:00:00\",\"2020-10-02T00:00:00\",\"2020-10-05T00:00:00\",\"2020-10-06T00:00:00\",\"2020-10-07T00:00:00\",\"2020-10-08T00:00:00\",\"2020-10-09T00:00:00\",\"2020-10-12T00:00:00\",\"2020-10-13T00:00:00\",\"2020-10-14T00:00:00\",\"2020-10-15T00:00:00\",\"2020-10-16T00:00:00\",\"2020-10-19T00:00:00\",\"2020-10-20T00:00:00\",\"2020-10-21T00:00:00\",\"2020-10-22T00:00:00\",\"2020-10-23T00:00:00\",\"2020-10-26T00:00:00\",\"2020-10-27T00:00:00\",\"2020-10-28T00:00:00\",\"2020-10-29T00:00:00\",\"2020-10-30T00:00:00\",\"2020-11-02T00:00:00\",\"2020-11-03T00:00:00\",\"2020-11-04T00:00:00\",\"2020-11-05T00:00:00\",\"2020-11-06T00:00:00\",\"2020-11-09T00:00:00\",\"2020-11-10T00:00:00\",\"2020-11-11T00:00:00\",\"2020-11-12T00:00:00\",\"2020-11-13T00:00:00\",\"2020-11-16T00:00:00\",\"2020-11-17T00:00:00\",\"2020-11-18T00:00:00\",\"2020-11-19T00:00:00\",\"2020-11-20T00:00:00\",\"2020-11-23T00:00:00\",\"2020-11-24T00:00:00\",\"2020-11-25T00:00:00\",\"2020-11-27T00:00:00\",\"2020-11-30T00:00:00\",\"2020-12-01T00:00:00\",\"2020-12-02T00:00:00\",\"2020-12-03T00:00:00\",\"2020-12-04T00:00:00\",\"2020-12-07T00:00:00\",\"2020-12-08T00:00:00\",\"2020-12-09T00:00:00\",\"2020-12-10T00:00:00\",\"2020-12-11T00:00:00\",\"2020-12-14T00:00:00\",\"2020-12-15T00:00:00\",\"2020-12-16T00:00:00\",\"2020-12-17T00:00:00\",\"2020-12-18T00:00:00\",\"2020-12-21T00:00:00\",\"2020-12-22T00:00:00\",\"2020-12-23T00:00:00\",\"2020-12-24T00:00:00\",\"2020-12-28T00:00:00\",\"2020-12-29T00:00:00\",\"2020-12-30T00:00:00\",\"2020-12-31T00:00:00\",\"2021-01-04T00:00:00\",\"2021-01-05T00:00:00\",\"2021-01-06T00:00:00\",\"2021-01-07T00:00:00\",\"2021-01-08T00:00:00\",\"2021-01-11T00:00:00\",\"2021-01-12T00:00:00\",\"2021-01-13T00:00:00\",\"2021-01-14T00:00:00\",\"2021-01-15T00:00:00\",\"2021-01-19T00:00:00\",\"2021-01-20T00:00:00\",\"2021-01-21T00:00:00\",\"2021-01-22T00:00:00\",\"2021-01-25T00:00:00\",\"2021-01-26T00:00:00\",\"2021-01-27T00:00:00\",\"2021-01-28T00:00:00\",\"2021-01-29T00:00:00\",\"2021-02-01T00:00:00\",\"2021-02-02T00:00:00\",\"2021-02-03T00:00:00\",\"2021-02-04T00:00:00\",\"2021-02-05T00:00:00\",\"2021-02-08T00:00:00\",\"2021-02-09T00:00:00\",\"2021-02-10T00:00:00\",\"2021-02-11T00:00:00\",\"2021-02-12T00:00:00\",\"2021-02-16T00:00:00\",\"2021-02-17T00:00:00\",\"2021-02-18T00:00:00\",\"2021-02-19T00:00:00\",\"2021-02-22T00:00:00\",\"2021-02-23T00:00:00\",\"2021-02-24T00:00:00\",\"2021-02-25T00:00:00\",\"2021-02-26T00:00:00\",\"2021-03-01T00:00:00\",\"2021-03-02T00:00:00\",\"2021-03-03T00:00:00\",\"2021-03-04T00:00:00\",\"2021-03-05T00:00:00\",\"2021-03-08T00:00:00\",\"2021-03-09T00:00:00\",\"2021-03-10T00:00:00\",\"2021-03-11T00:00:00\",\"2021-03-12T00:00:00\",\"2021-03-15T00:00:00\",\"2021-03-16T00:00:00\",\"2021-03-17T00:00:00\",\"2021-03-18T00:00:00\",\"2021-03-19T00:00:00\",\"2021-03-22T00:00:00\",\"2021-03-23T00:00:00\",\"2021-03-24T00:00:00\",\"2021-03-25T00:00:00\",\"2021-03-26T00:00:00\",\"2021-03-29T00:00:00\",\"2021-03-30T00:00:00\",\"2021-03-31T00:00:00\",\"2021-04-01T00:00:00\",\"2021-04-05T00:00:00\",\"2021-04-06T00:00:00\",\"2021-04-07T00:00:00\",\"2021-04-08T00:00:00\",\"2021-04-09T00:00:00\",\"2021-04-12T00:00:00\",\"2021-04-13T00:00:00\",\"2021-04-14T00:00:00\",\"2021-04-15T00:00:00\",\"2021-04-16T00:00:00\",\"2021-04-19T00:00:00\",\"2021-04-20T00:00:00\",\"2021-04-21T00:00:00\",\"2021-04-22T00:00:00\",\"2021-04-23T00:00:00\",\"2021-04-26T00:00:00\",\"2021-04-27T00:00:00\",\"2021-04-28T00:00:00\",\"2021-04-29T00:00:00\",\"2021-04-30T00:00:00\",\"2021-05-03T00:00:00\",\"2021-05-04T00:00:00\",\"2021-05-05T00:00:00\",\"2021-05-06T00:00:00\",\"2021-05-07T00:00:00\",\"2021-05-10T00:00:00\",\"2021-05-11T00:00:00\",\"2021-05-12T00:00:00\",\"2021-05-13T00:00:00\",\"2021-05-14T00:00:00\",\"2021-05-17T00:00:00\",\"2021-05-18T00:00:00\",\"2021-05-19T00:00:00\",\"2021-05-20T00:00:00\",\"2021-05-21T00:00:00\",\"2021-05-24T00:00:00\",\"2021-05-25T00:00:00\",\"2021-05-26T00:00:00\",\"2021-05-27T00:00:00\",\"2021-05-28T00:00:00\",\"2021-06-01T00:00:00\",\"2021-06-02T00:00:00\",\"2021-06-03T00:00:00\",\"2021-06-04T00:00:00\",\"2021-06-07T00:00:00\",\"2021-06-08T00:00:00\",\"2021-06-09T00:00:00\",\"2021-06-10T00:00:00\",\"2021-06-11T00:00:00\",\"2021-06-14T00:00:00\",\"2021-06-15T00:00:00\",\"2021-06-16T00:00:00\",\"2021-06-17T00:00:00\",\"2021-06-18T00:00:00\",\"2021-06-21T00:00:00\",\"2021-06-22T00:00:00\",\"2021-06-23T00:00:00\",\"2021-06-24T00:00:00\",\"2021-06-25T00:00:00\",\"2021-06-28T00:00:00\",\"2021-06-29T00:00:00\",\"2021-06-30T00:00:00\",\"2021-07-01T00:00:00\",\"2021-07-02T00:00:00\",\"2021-07-06T00:00:00\",\"2021-07-07T00:00:00\",\"2021-07-08T00:00:00\",\"2021-07-09T00:00:00\",\"2021-07-12T00:00:00\",\"2021-07-13T00:00:00\",\"2021-07-14T00:00:00\",\"2021-07-15T00:00:00\",\"2021-07-16T00:00:00\",\"2021-07-19T00:00:00\",\"2021-07-20T00:00:00\",\"2021-07-21T00:00:00\",\"2021-07-22T00:00:00\",\"2021-07-23T00:00:00\",\"2021-07-26T00:00:00\",\"2021-07-27T00:00:00\",\"2021-07-28T00:00:00\",\"2021-07-29T00:00:00\",\"2021-07-30T00:00:00\",\"2021-08-02T00:00:00\",\"2021-08-03T00:00:00\",\"2021-08-04T00:00:00\",\"2021-08-05T00:00:00\",\"2021-08-06T00:00:00\",\"2021-08-09T00:00:00\",\"2021-08-10T00:00:00\",\"2021-08-11T00:00:00\",\"2021-08-12T00:00:00\",\"2021-08-13T00:00:00\",\"2021-08-16T00:00:00\",\"2021-08-17T00:00:00\",\"2021-08-18T00:00:00\",\"2021-08-19T00:00:00\",\"2021-08-20T00:00:00\",\"2021-08-23T00:00:00\",\"2021-08-24T00:00:00\",\"2021-08-25T00:00:00\",\"2021-08-26T00:00:00\",\"2021-08-27T00:00:00\",\"2021-08-30T00:00:00\",\"2021-08-31T00:00:00\",\"2021-09-01T00:00:00\",\"2021-09-02T00:00:00\",\"2021-09-03T00:00:00\",\"2021-09-07T00:00:00\",\"2021-09-08T00:00:00\",\"2021-09-09T00:00:00\",\"2021-09-10T00:00:00\",\"2021-09-13T00:00:00\",\"2021-09-14T00:00:00\",\"2021-09-15T00:00:00\",\"2021-09-16T00:00:00\",\"2021-09-17T00:00:00\",\"2021-09-20T00:00:00\",\"2021-09-21T00:00:00\",\"2021-09-22T00:00:00\",\"2021-09-23T00:00:00\",\"2021-09-24T00:00:00\",\"2021-09-27T00:00:00\",\"2021-09-28T00:00:00\",\"2021-09-29T00:00:00\",\"2021-09-30T00:00:00\",\"2021-10-01T00:00:00\",\"2021-10-04T00:00:00\",\"2021-10-05T00:00:00\",\"2021-10-06T00:00:00\",\"2021-10-07T00:00:00\",\"2021-10-08T00:00:00\",\"2021-10-11T00:00:00\",\"2021-10-12T00:00:00\",\"2021-10-13T00:00:00\",\"2021-10-14T00:00:00\",\"2021-10-15T00:00:00\",\"2021-10-18T00:00:00\",\"2021-10-19T00:00:00\",\"2021-10-20T00:00:00\",\"2021-10-21T00:00:00\",\"2021-10-22T00:00:00\",\"2021-10-25T00:00:00\",\"2021-10-26T00:00:00\",\"2021-10-27T00:00:00\",\"2021-10-28T00:00:00\",\"2021-10-29T00:00:00\",\"2021-11-01T00:00:00\",\"2021-11-02T00:00:00\",\"2021-11-03T00:00:00\",\"2021-11-04T00:00:00\",\"2021-11-05T00:00:00\",\"2021-11-08T00:00:00\",\"2021-11-09T00:00:00\",\"2021-11-10T00:00:00\",\"2021-11-11T00:00:00\",\"2021-11-12T00:00:00\",\"2021-11-15T00:00:00\",\"2021-11-16T00:00:00\",\"2021-11-17T00:00:00\",\"2021-11-18T00:00:00\",\"2021-11-19T00:00:00\",\"2021-11-22T00:00:00\",\"2021-11-23T00:00:00\",\"2021-11-24T00:00:00\",\"2021-11-26T00:00:00\",\"2021-11-29T00:00:00\",\"2021-11-30T00:00:00\",\"2021-12-01T00:00:00\",\"2021-12-02T00:00:00\",\"2021-12-03T00:00:00\",\"2021-12-06T00:00:00\",\"2021-12-07T00:00:00\",\"2021-12-08T00:00:00\",\"2021-12-09T00:00:00\",\"2021-12-10T00:00:00\",\"2021-12-13T00:00:00\",\"2021-12-14T00:00:00\",\"2021-12-15T00:00:00\",\"2021-12-16T00:00:00\",\"2021-12-17T00:00:00\",\"2021-12-20T00:00:00\",\"2021-12-21T00:00:00\",\"2021-12-22T00:00:00\",\"2021-12-23T00:00:00\",\"2021-12-27T00:00:00\",\"2021-12-28T00:00:00\",\"2021-12-29T00:00:00\",\"2021-12-30T00:00:00\",\"2021-12-31T00:00:00\",\"2022-01-03T00:00:00\",\"2022-01-04T00:00:00\",\"2022-01-05T00:00:00\",\"2022-01-06T00:00:00\",\"2022-01-07T00:00:00\",\"2022-01-10T00:00:00\",\"2022-01-11T00:00:00\",\"2022-01-12T00:00:00\",\"2022-01-13T00:00:00\",\"2022-01-14T00:00:00\",\"2022-01-18T00:00:00\",\"2022-01-19T00:00:00\",\"2022-01-20T00:00:00\",\"2022-01-21T00:00:00\",\"2022-01-24T00:00:00\",\"2022-01-25T00:00:00\",\"2022-01-26T00:00:00\",\"2022-01-27T00:00:00\",\"2022-01-28T00:00:00\",\"2022-01-31T00:00:00\",\"2022-02-01T00:00:00\",\"2022-02-02T00:00:00\",\"2022-02-03T00:00:00\",\"2022-02-04T00:00:00\",\"2022-02-07T00:00:00\",\"2022-02-08T00:00:00\",\"2022-02-09T00:00:00\",\"2022-02-10T00:00:00\",\"2022-02-11T00:00:00\",\"2022-02-14T00:00:00\",\"2022-02-15T00:00:00\",\"2022-02-16T00:00:00\",\"2022-02-17T00:00:00\",\"2022-02-18T00:00:00\",\"2022-02-22T00:00:00\",\"2022-02-23T00:00:00\",\"2022-02-24T00:00:00\",\"2022-02-25T00:00:00\",\"2022-02-28T00:00:00\",\"2022-03-01T00:00:00\",\"2022-03-02T00:00:00\",\"2022-03-03T00:00:00\",\"2022-03-04T00:00:00\",\"2022-03-07T00:00:00\",\"2022-03-08T00:00:00\",\"2022-03-09T00:00:00\",\"2022-03-10T00:00:00\",\"2022-03-11T00:00:00\",\"2022-03-14T00:00:00\",\"2022-03-15T00:00:00\",\"2022-03-16T00:00:00\",\"2022-03-17T00:00:00\",\"2022-03-18T00:00:00\",\"2022-03-21T00:00:00\",\"2022-03-22T00:00:00\",\"2022-03-23T00:00:00\",\"2022-03-24T00:00:00\",\"2022-03-25T00:00:00\",\"2022-03-28T00:00:00\",\"2022-03-29T00:00:00\",\"2022-03-30T00:00:00\",\"2022-03-31T00:00:00\",\"2022-04-01T00:00:00\",\"2022-04-04T00:00:00\",\"2022-04-05T00:00:00\",\"2022-04-06T00:00:00\",\"2022-04-07T00:00:00\",\"2022-04-08T00:00:00\",\"2022-04-11T00:00:00\",\"2022-04-12T00:00:00\",\"2022-04-13T00:00:00\",\"2022-04-14T00:00:00\",\"2022-04-18T00:00:00\",\"2022-04-19T00:00:00\",\"2022-04-20T00:00:00\",\"2022-04-21T00:00:00\",\"2022-04-22T00:00:00\",\"2022-04-25T00:00:00\",\"2022-04-26T00:00:00\",\"2022-04-27T00:00:00\",\"2022-04-28T00:00:00\",\"2022-04-29T00:00:00\",\"2022-05-02T00:00:00\",\"2022-05-03T00:00:00\",\"2022-05-04T00:00:00\",\"2022-05-05T00:00:00\",\"2022-05-06T00:00:00\",\"2022-05-09T00:00:00\",\"2022-05-10T00:00:00\",\"2022-05-11T00:00:00\",\"2022-05-12T00:00:00\",\"2022-05-13T00:00:00\",\"2022-05-16T00:00:00\",\"2022-05-17T00:00:00\",\"2022-05-18T00:00:00\",\"2022-05-19T00:00:00\",\"2022-05-20T00:00:00\",\"2022-05-23T00:00:00\",\"2022-05-24T00:00:00\",\"2022-05-25T00:00:00\",\"2022-05-26T00:00:00\",\"2022-05-27T00:00:00\",\"2022-05-31T00:00:00\",\"2022-06-01T00:00:00\",\"2022-06-02T00:00:00\",\"2022-06-03T00:00:00\",\"2022-06-06T00:00:00\",\"2022-06-07T00:00:00\",\"2022-06-08T00:00:00\",\"2022-06-09T00:00:00\",\"2022-06-10T00:00:00\",\"2022-06-13T00:00:00\",\"2022-06-14T00:00:00\",\"2022-06-15T00:00:00\",\"2022-06-16T00:00:00\",\"2022-06-17T00:00:00\",\"2022-06-21T00:00:00\",\"2022-06-22T00:00:00\",\"2022-06-23T00:00:00\",\"2022-06-24T00:00:00\",\"2022-06-27T00:00:00\",\"2022-06-28T00:00:00\",\"2022-06-29T00:00:00\",\"2022-06-30T00:00:00\",\"2022-07-01T00:00:00\",\"2022-07-05T00:00:00\",\"2022-07-06T00:00:00\",\"2022-07-07T00:00:00\",\"2022-07-08T00:00:00\",\"2022-07-11T00:00:00\",\"2022-07-12T00:00:00\",\"2022-07-13T00:00:00\",\"2022-07-14T00:00:00\",\"2022-07-15T00:00:00\",\"2022-07-18T00:00:00\",\"2022-07-19T00:00:00\",\"2022-07-20T00:00:00\",\"2022-07-21T00:00:00\",\"2022-07-22T00:00:00\",\"2022-07-25T00:00:00\",\"2022-07-26T00:00:00\",\"2022-07-27T00:00:00\",\"2022-07-28T00:00:00\",\"2022-07-29T00:00:00\",\"2022-08-01T00:00:00\",\"2022-08-02T00:00:00\",\"2022-08-03T00:00:00\",\"2022-08-04T00:00:00\",\"2022-08-05T00:00:00\",\"2022-08-08T00:00:00\",\"2022-08-09T00:00:00\",\"2022-08-10T00:00:00\",\"2022-08-11T00:00:00\",\"2022-08-12T00:00:00\",\"2022-08-15T00:00:00\",\"2022-08-16T00:00:00\",\"2022-08-17T00:00:00\",\"2022-08-18T00:00:00\",\"2022-08-19T00:00:00\",\"2022-08-22T00:00:00\",\"2022-08-23T00:00:00\",\"2022-08-24T00:00:00\",\"2022-08-25T00:00:00\",\"2022-08-26T00:00:00\",\"2022-08-29T00:00:00\",\"2022-08-30T00:00:00\",\"2022-08-31T00:00:00\",\"2022-09-01T00:00:00\",\"2022-09-02T00:00:00\",\"2022-09-06T00:00:00\",\"2022-09-07T00:00:00\",\"2022-09-08T00:00:00\",\"2022-09-09T00:00:00\",\"2022-09-12T00:00:00\",\"2022-09-13T00:00:00\",\"2022-09-14T00:00:00\",\"2022-09-15T00:00:00\",\"2022-09-16T00:00:00\",\"2022-09-19T00:00:00\",\"2022-09-20T00:00:00\",\"2022-09-21T00:00:00\",\"2022-09-22T00:00:00\",\"2022-09-23T00:00:00\",\"2022-09-26T00:00:00\",\"2022-09-27T00:00:00\",\"2022-09-28T00:00:00\",\"2022-09-29T00:00:00\",\"2022-09-30T00:00:00\",\"2022-10-03T00:00:00\",\"2022-10-04T00:00:00\",\"2022-10-05T00:00:00\",\"2022-10-06T00:00:00\",\"2022-10-07T00:00:00\",\"2022-10-10T00:00:00\",\"2022-10-11T00:00:00\",\"2022-10-12T00:00:00\",\"2022-10-13T00:00:00\",\"2022-10-14T00:00:00\",\"2022-10-17T00:00:00\",\"2022-10-18T00:00:00\",\"2022-10-19T00:00:00\",\"2022-10-20T00:00:00\",\"2022-10-21T00:00:00\",\"2022-10-24T00:00:00\",\"2022-10-25T00:00:00\",\"2022-10-26T00:00:00\",\"2022-10-27T00:00:00\",\"2022-10-28T00:00:00\",\"2022-10-31T00:00:00\",\"2022-11-01T00:00:00\",\"2022-11-02T00:00:00\",\"2022-11-03T00:00:00\",\"2022-11-04T00:00:00\",\"2022-11-07T00:00:00\",\"2022-11-08T00:00:00\",\"2022-11-09T00:00:00\",\"2022-11-10T00:00:00\",\"2022-11-11T00:00:00\",\"2022-11-14T00:00:00\",\"2022-11-15T00:00:00\",\"2022-11-16T00:00:00\",\"2022-11-17T00:00:00\",\"2022-11-18T00:00:00\",\"2022-11-21T00:00:00\",\"2022-11-22T00:00:00\",\"2022-11-23T00:00:00\",\"2022-11-25T00:00:00\",\"2022-11-28T00:00:00\",\"2022-11-29T00:00:00\",\"2022-11-30T00:00:00\",\"2022-12-01T00:00:00\",\"2022-12-02T00:00:00\",\"2022-12-05T00:00:00\",\"2022-12-06T00:00:00\",\"2022-12-07T00:00:00\",\"2022-12-08T00:00:00\",\"2022-12-09T00:00:00\",\"2022-12-12T00:00:00\",\"2022-12-13T00:00:00\",\"2022-12-14T00:00:00\",\"2022-12-15T00:00:00\",\"2022-12-16T00:00:00\",\"2022-12-19T00:00:00\",\"2022-12-20T00:00:00\",\"2022-12-21T00:00:00\",\"2022-12-22T00:00:00\",\"2022-12-23T00:00:00\",\"2022-12-27T00:00:00\",\"2022-12-28T00:00:00\",\"2022-12-29T00:00:00\",\"2022-12-30T00:00:00\",\"2023-01-03T00:00:00\",\"2023-01-04T00:00:00\",\"2023-01-05T00:00:00\",\"2023-01-06T00:00:00\",\"2023-01-09T00:00:00\",\"2023-01-10T00:00:00\",\"2023-01-11T00:00:00\",\"2023-01-12T00:00:00\",\"2023-01-13T00:00:00\",\"2023-01-17T00:00:00\",\"2023-01-18T00:00:00\",\"2023-01-19T00:00:00\",\"2023-01-20T00:00:00\",\"2023-01-23T00:00:00\",\"2023-01-24T00:00:00\",\"2023-01-25T00:00:00\",\"2023-01-26T00:00:00\",\"2023-01-27T00:00:00\",\"2023-01-30T00:00:00\",\"2023-01-31T00:00:00\",\"2023-02-01T00:00:00\",\"2023-02-02T00:00:00\",\"2023-02-03T00:00:00\",\"2023-02-06T00:00:00\",\"2023-02-07T00:00:00\",\"2023-02-08T00:00:00\",\"2023-02-09T00:00:00\",\"2023-02-10T00:00:00\",\"2023-02-13T00:00:00\",\"2023-02-14T00:00:00\",\"2023-02-15T00:00:00\",\"2023-02-16T00:00:00\",\"2023-02-17T00:00:00\",\"2023-02-21T00:00:00\",\"2023-02-22T00:00:00\",\"2023-02-23T00:00:00\",\"2023-02-24T00:00:00\",\"2023-02-27T00:00:00\",\"2023-02-28T00:00:00\",\"2023-03-01T00:00:00\",\"2023-03-02T00:00:00\",\"2023-03-03T00:00:00\",\"2023-03-06T00:00:00\",\"2023-03-07T00:00:00\",\"2023-03-08T00:00:00\",\"2023-03-09T00:00:00\",\"2023-03-10T00:00:00\",\"2023-03-13T00:00:00\",\"2023-03-14T00:00:00\",\"2023-03-15T00:00:00\",\"2023-03-16T00:00:00\",\"2023-03-17T00:00:00\",\"2023-03-20T00:00:00\",\"2023-03-21T00:00:00\",\"2023-03-22T00:00:00\",\"2023-03-23T00:00:00\",\"2023-03-24T00:00:00\",\"2023-03-27T00:00:00\",\"2023-03-28T00:00:00\",\"2023-03-29T00:00:00\",\"2023-03-30T00:00:00\",\"2023-03-31T00:00:00\",\"2023-04-03T00:00:00\",\"2023-04-04T00:00:00\",\"2023-04-05T00:00:00\",\"2023-04-06T00:00:00\",\"2023-04-10T00:00:00\",\"2023-04-11T00:00:00\",\"2023-04-12T00:00:00\",\"2023-04-13T00:00:00\",\"2023-04-14T00:00:00\",\"2023-04-17T00:00:00\",\"2023-04-18T00:00:00\",\"2023-04-19T00:00:00\",\"2023-04-20T00:00:00\",\"2023-04-21T00:00:00\",\"2023-04-24T00:00:00\",\"2023-04-25T00:00:00\",\"2023-04-26T00:00:00\",\"2023-04-27T00:00:00\",\"2023-04-28T00:00:00\",\"2023-05-01T00:00:00\",\"2023-05-02T00:00:00\",\"2023-05-03T00:00:00\",\"2023-05-04T00:00:00\",\"2023-05-05T00:00:00\",\"2023-05-08T00:00:00\",\"2023-05-09T00:00:00\",\"2023-05-10T00:00:00\",\"2023-05-11T00:00:00\",\"2023-05-12T00:00:00\",\"2023-05-15T00:00:00\",\"2023-05-16T00:00:00\",\"2023-05-17T00:00:00\",\"2023-05-18T00:00:00\",\"2023-05-19T00:00:00\",\"2023-05-22T00:00:00\",\"2023-05-23T00:00:00\",\"2023-05-24T00:00:00\",\"2023-05-25T00:00:00\",\"2023-05-26T00:00:00\",\"2023-05-30T00:00:00\",\"2023-05-31T00:00:00\",\"2023-06-01T00:00:00\",\"2023-06-02T00:00:00\",\"2023-06-05T00:00:00\",\"2023-06-06T00:00:00\",\"2023-06-07T00:00:00\",\"2023-06-08T00:00:00\",\"2023-06-09T00:00:00\",\"2023-06-12T00:00:00\",\"2023-06-13T00:00:00\",\"2023-06-14T00:00:00\",\"2023-06-15T00:00:00\",\"2023-06-16T00:00:00\",\"2023-06-20T00:00:00\",\"2023-06-21T00:00:00\",\"2023-06-22T00:00:00\",\"2023-06-23T00:00:00\",\"2023-06-26T00:00:00\",\"2023-06-27T00:00:00\",\"2023-06-28T00:00:00\",\"2023-06-29T00:00:00\",\"2023-06-30T00:00:00\",\"2023-07-03T00:00:00\",\"2023-07-05T00:00:00\",\"2023-07-06T00:00:00\",\"2023-07-07T00:00:00\",\"2023-07-10T00:00:00\",\"2023-07-11T00:00:00\",\"2023-07-12T00:00:00\",\"2023-07-13T00:00:00\",\"2023-07-14T00:00:00\",\"2023-07-17T00:00:00\",\"2023-07-18T00:00:00\",\"2023-07-19T00:00:00\",\"2023-07-20T00:00:00\",\"2023-07-21T00:00:00\",\"2023-07-24T00:00:00\",\"2023-07-25T00:00:00\",\"2023-07-26T00:00:00\",\"2023-07-27T00:00:00\",\"2023-07-28T00:00:00\",\"2023-07-31T00:00:00\",\"2023-08-01T00:00:00\",\"2023-08-02T00:00:00\",\"2023-08-03T00:00:00\",\"2023-08-04T00:00:00\",\"2023-08-07T00:00:00\",\"2023-08-08T00:00:00\",\"2023-08-09T00:00:00\",\"2023-08-10T00:00:00\",\"2023-08-11T00:00:00\",\"2023-08-14T00:00:00\",\"2023-08-15T00:00:00\",\"2023-08-16T00:00:00\",\"2023-08-17T00:00:00\",\"2023-08-18T00:00:00\",\"2023-08-21T00:00:00\",\"2023-08-22T00:00:00\",\"2023-08-23T00:00:00\",\"2023-08-24T00:00:00\",\"2023-08-25T00:00:00\",\"2023-08-28T00:00:00\",\"2023-08-29T00:00:00\",\"2023-08-30T00:00:00\",\"2023-08-31T00:00:00\",\"2023-09-01T00:00:00\",\"2023-09-05T00:00:00\",\"2023-09-06T00:00:00\",\"2023-09-07T00:00:00\",\"2023-09-08T00:00:00\",\"2023-09-11T00:00:00\",\"2023-09-12T00:00:00\",\"2023-09-13T00:00:00\",\"2023-09-14T00:00:00\",\"2023-09-15T00:00:00\",\"2023-09-18T00:00:00\",\"2023-09-19T00:00:00\",\"2023-09-20T00:00:00\",\"2023-09-21T00:00:00\",\"2023-09-22T00:00:00\",\"2023-09-25T00:00:00\",\"2023-09-26T00:00:00\",\"2023-09-27T00:00:00\",\"2023-09-28T00:00:00\",\"2023-09-29T00:00:00\",\"2023-10-02T00:00:00\",\"2023-10-03T00:00:00\",\"2023-10-04T00:00:00\",\"2023-10-05T00:00:00\",\"2023-10-06T00:00:00\",\"2023-10-09T00:00:00\",\"2023-10-10T00:00:00\",\"2023-10-11T00:00:00\",\"2023-10-12T00:00:00\",\"2023-10-13T00:00:00\",\"2023-10-16T00:00:00\",\"2023-10-17T00:00:00\",\"2023-10-18T00:00:00\",\"2023-10-19T00:00:00\",\"2023-10-20T00:00:00\",\"2023-10-23T00:00:00\",\"2023-10-24T00:00:00\",\"2023-10-25T00:00:00\",\"2023-10-26T00:00:00\",\"2023-10-27T00:00:00\",\"2023-10-30T00:00:00\",\"2023-10-31T00:00:00\",\"2023-11-01T00:00:00\",\"2023-11-02T00:00:00\",\"2023-11-03T00:00:00\",\"2023-11-06T00:00:00\",\"2023-11-07T00:00:00\",\"2023-11-08T00:00:00\",\"2023-11-09T00:00:00\",\"2023-11-10T00:00:00\",\"2023-11-13T00:00:00\",\"2023-11-14T00:00:00\",\"2023-11-15T00:00:00\",\"2023-11-16T00:00:00\",\"2023-11-17T00:00:00\",\"2023-11-20T00:00:00\",\"2023-11-21T00:00:00\",\"2023-11-22T00:00:00\",\"2023-11-24T00:00:00\",\"2023-11-27T00:00:00\",\"2023-11-28T00:00:00\",\"2023-11-29T00:00:00\",\"2023-11-30T00:00:00\",\"2023-12-01T00:00:00\",\"2023-12-04T00:00:00\",\"2023-12-05T00:00:00\",\"2023-12-06T00:00:00\",\"2023-12-07T00:00:00\",\"2023-12-08T00:00:00\",\"2023-12-11T00:00:00\",\"2023-12-12T00:00:00\",\"2023-12-13T00:00:00\",\"2023-12-14T00:00:00\",\"2023-12-15T00:00:00\",\"2023-12-18T00:00:00\",\"2023-12-19T00:00:00\",\"2023-12-20T00:00:00\",\"2023-12-21T00:00:00\",\"2023-12-22T00:00:00\",\"2023-12-26T00:00:00\",\"2023-12-27T00:00:00\",\"2023-12-28T00:00:00\",\"2023-12-29T00:00:00\",\"2024-01-02T00:00:00\",\"2024-01-03T00:00:00\",\"2024-01-04T00:00:00\",\"2024-01-05T00:00:00\",\"2024-01-08T00:00:00\",\"2024-01-09T00:00:00\",\"2024-01-10T00:00:00\",\"2024-01-11T00:00:00\",\"2024-01-12T00:00:00\",\"2024-01-16T00:00:00\",\"2024-01-17T00:00:00\",\"2024-01-18T00:00:00\",\"2024-01-19T00:00:00\",\"2024-01-22T00:00:00\",\"2024-01-23T00:00:00\",\"2024-01-24T00:00:00\",\"2024-01-25T00:00:00\",\"2024-01-26T00:00:00\",\"2024-01-29T00:00:00\",\"2024-01-30T00:00:00\",\"2024-01-31T00:00:00\",\"2024-02-01T00:00:00\",\"2024-02-02T00:00:00\",\"2024-02-05T00:00:00\",\"2024-02-06T00:00:00\",\"2024-02-07T00:00:00\",\"2024-02-08T00:00:00\",\"2024-02-09T00:00:00\",\"2024-02-12T00:00:00\",\"2024-02-13T00:00:00\",\"2024-02-14T00:00:00\",\"2024-02-15T00:00:00\",\"2024-02-16T00:00:00\",\"2024-02-20T00:00:00\",\"2024-02-21T00:00:00\",\"2024-02-22T00:00:00\",\"2024-02-23T00:00:00\",\"2024-02-26T00:00:00\",\"2024-02-27T00:00:00\",\"2024-02-28T00:00:00\",\"2024-02-29T00:00:00\",\"2024-03-01T00:00:00\",\"2024-03-04T00:00:00\",\"2024-03-05T00:00:00\",\"2024-03-06T00:00:00\",\"2024-03-07T00:00:00\",\"2024-03-08T00:00:00\",\"2024-03-11T00:00:00\",\"2024-03-12T00:00:00\",\"2024-03-13T00:00:00\",\"2024-03-14T00:00:00\",\"2024-03-15T00:00:00\",\"2024-03-18T00:00:00\",\"2024-03-19T00:00:00\",\"2024-03-20T00:00:00\",\"2024-03-21T00:00:00\",\"2024-03-22T00:00:00\",\"2024-03-25T00:00:00\",\"2024-03-26T00:00:00\",\"2024-03-27T00:00:00\",\"2024-03-28T00:00:00\",\"2024-04-01T00:00:00\",\"2024-04-02T00:00:00\",\"2024-04-03T00:00:00\",\"2024-04-04T00:00:00\",\"2024-04-05T00:00:00\",\"2024-04-08T00:00:00\",\"2024-04-09T00:00:00\",\"2024-04-10T00:00:00\",\"2024-04-11T00:00:00\",\"2024-04-12T00:00:00\",\"2024-04-15T00:00:00\",\"2024-04-16T00:00:00\",\"2024-04-17T00:00:00\",\"2024-04-18T00:00:00\",\"2024-04-19T00:00:00\",\"2024-04-22T00:00:00\",\"2024-04-23T00:00:00\",\"2024-04-24T00:00:00\",\"2024-04-25T00:00:00\",\"2024-04-26T00:00:00\",\"2024-04-29T00:00:00\",\"2024-04-30T00:00:00\",\"2024-05-01T00:00:00\",\"2024-05-02T00:00:00\",\"2024-05-03T00:00:00\",\"2024-05-06T00:00:00\",\"2024-05-07T00:00:00\",\"2024-05-08T00:00:00\",\"2024-05-09T00:00:00\",\"2024-05-10T00:00:00\",\"2024-05-13T00:00:00\",\"2024-05-14T00:00:00\",\"2024-05-15T00:00:00\",\"2024-05-16T00:00:00\",\"2024-05-17T00:00:00\",\"2024-05-20T00:00:00\",\"2024-05-21T00:00:00\",\"2024-05-22T00:00:00\",\"2024-05-23T00:00:00\",\"2024-05-24T00:00:00\",\"2024-05-28T00:00:00\",\"2024-05-29T00:00:00\",\"2024-05-30T00:00:00\",\"2024-05-31T00:00:00\",\"2024-06-03T00:00:00\",\"2024-06-04T00:00:00\",\"2024-06-05T00:00:00\",\"2024-06-06T00:00:00\",\"2024-06-07T00:00:00\",\"2024-06-10T00:00:00\",\"2024-06-11T00:00:00\",\"2024-06-12T00:00:00\",\"2024-06-13T00:00:00\",\"2024-06-14T00:00:00\",\"2024-06-17T00:00:00\",\"2024-06-18T00:00:00\",\"2024-06-20T00:00:00\",\"2024-06-21T00:00:00\",\"2024-06-24T00:00:00\",\"2024-06-25T00:00:00\",\"2024-06-26T00:00:00\",\"2024-06-27T00:00:00\",\"2024-06-28T00:00:00\",\"2024-07-01T00:00:00\",\"2024-07-02T00:00:00\",\"2024-07-03T00:00:00\",\"2024-07-05T00:00:00\",\"2024-07-08T00:00:00\",\"2024-07-09T00:00:00\",\"2024-07-10T00:00:00\",\"2024-07-11T00:00:00\",\"2024-07-12T00:00:00\",\"2024-07-15T00:00:00\",\"2024-07-16T00:00:00\",\"2024-07-17T00:00:00\",\"2024-07-18T00:00:00\",\"2024-07-19T00:00:00\",\"2024-07-22T00:00:00\",\"2024-07-23T00:00:00\",\"2024-07-24T00:00:00\",\"2024-07-25T00:00:00\",\"2024-07-26T00:00:00\",\"2024-07-29T00:00:00\",\"2024-07-30T00:00:00\",\"2024-07-31T00:00:00\",\"2024-08-01T00:00:00\",\"2024-08-02T00:00:00\",\"2024-08-05T00:00:00\",\"2024-08-06T00:00:00\",\"2024-08-07T00:00:00\",\"2024-08-08T00:00:00\",\"2024-08-09T00:00:00\",\"2024-08-12T00:00:00\",\"2024-08-13T00:00:00\",\"2024-08-14T00:00:00\",\"2024-08-15T00:00:00\",\"2024-08-16T00:00:00\",\"2024-08-19T00:00:00\",\"2024-08-20T00:00:00\",\"2024-08-21T00:00:00\",\"2024-08-22T00:00:00\",\"2024-08-23T00:00:00\",\"2024-08-26T00:00:00\",\"2024-08-27T00:00:00\",\"2024-08-28T00:00:00\",\"2024-08-29T00:00:00\",\"2024-08-30T00:00:00\",\"2024-09-03T00:00:00\",\"2024-09-04T00:00:00\",\"2024-09-05T00:00:00\",\"2024-09-06T00:00:00\",\"2024-09-09T00:00:00\",\"2024-09-10T00:00:00\",\"2024-09-11T00:00:00\",\"2024-09-12T00:00:00\",\"2024-09-13T00:00:00\",\"2024-09-16T00:00:00\",\"2024-09-17T00:00:00\",\"2024-09-18T00:00:00\",\"2024-09-19T00:00:00\",\"2024-09-20T00:00:00\",\"2024-09-23T00:00:00\",\"2024-09-24T00:00:00\",\"2024-09-25T00:00:00\",\"2024-09-26T00:00:00\",\"2024-09-27T00:00:00\",\"2024-09-30T00:00:00\",\"2024-10-01T00:00:00\",\"2024-10-02T00:00:00\",\"2024-10-03T00:00:00\",\"2024-10-04T00:00:00\",\"2024-10-07T00:00:00\",\"2024-10-08T00:00:00\",\"2024-10-09T00:00:00\",\"2024-10-10T00:00:00\",\"2024-10-11T00:00:00\",\"2024-10-14T00:00:00\",\"2024-10-15T00:00:00\",\"2024-10-16T00:00:00\",\"2024-10-17T00:00:00\",\"2024-10-18T00:00:00\",\"2024-10-21T00:00:00\",\"2024-10-22T00:00:00\",\"2024-10-23T00:00:00\",\"2024-10-24T00:00:00\",\"2024-10-25T00:00:00\",\"2024-10-28T00:00:00\",\"2024-10-29T00:00:00\",\"2024-10-30T00:00:00\",\"2024-10-31T00:00:00\",\"2024-11-01T00:00:00\",\"2024-11-04T00:00:00\",\"2024-11-05T00:00:00\",\"2024-11-06T00:00:00\",\"2024-11-07T00:00:00\",\"2024-11-08T00:00:00\",\"2024-11-11T00:00:00\",\"2024-11-12T00:00:00\",\"2024-11-13T00:00:00\",\"2024-11-14T00:00:00\",\"2024-11-15T00:00:00\",\"2024-11-18T00:00:00\",\"2024-11-19T00:00:00\",\"2024-11-20T00:00:00\",\"2024-11-21T00:00:00\",\"2024-11-22T00:00:00\",\"2024-11-25T00:00:00\",\"2024-11-26T00:00:00\",\"2024-11-27T00:00:00\",\"2024-11-29T00:00:00\",\"2024-12-02T00:00:00\",\"2024-12-03T00:00:00\",\"2024-12-04T00:00:00\",\"2024-12-05T00:00:00\",\"2024-12-06T00:00:00\",\"2024-12-09T00:00:00\",\"2024-12-10T00:00:00\",\"2024-12-11T00:00:00\",\"2024-12-12T00:00:00\",\"2024-12-13T00:00:00\",\"2024-12-16T00:00:00\",\"2024-12-17T00:00:00\",\"2024-12-18T00:00:00\",\"2024-12-19T00:00:00\",\"2024-12-20T00:00:00\",\"2024-12-23T00:00:00\",\"2024-12-24T00:00:00\",\"2024-12-26T00:00:00\",\"2024-12-27T00:00:00\",\"2024-12-30T00:00:00\",\"2024-12-31T00:00:00\",\"2025-01-02T00:00:00\",\"2025-01-03T00:00:00\",\"2025-01-06T00:00:00\",\"2025-01-07T00:00:00\",\"2025-01-08T00:00:00\",\"2025-01-10T00:00:00\",\"2025-01-13T00:00:00\",\"2025-01-14T00:00:00\",\"2025-01-15T00:00:00\",\"2025-01-16T00:00:00\",\"2025-01-17T00:00:00\",\"2025-01-21T00:00:00\",\"2025-01-22T00:00:00\",\"2025-01-23T00:00:00\",\"2025-01-24T00:00:00\",\"2025-01-27T00:00:00\",\"2025-01-28T00:00:00\",\"2025-01-29T00:00:00\",\"2025-01-30T00:00:00\",\"2025-01-31T00:00:00\",\"2025-02-03T00:00:00\",\"2025-02-04T00:00:00\",\"2025-02-05T00:00:00\",\"2025-02-06T00:00:00\",\"2025-02-07T00:00:00\",\"2025-02-10T00:00:00\",\"2025-02-11T00:00:00\",\"2025-02-12T00:00:00\",\"2025-02-13T00:00:00\",\"2025-02-14T00:00:00\",\"2025-02-18T00:00:00\",\"2025-02-19T00:00:00\",\"2025-02-20T00:00:00\",\"2025-02-21T00:00:00\",\"2025-02-24T00:00:00\",\"2025-02-25T00:00:00\",\"2025-02-26T00:00:00\",\"2025-02-27T00:00:00\",\"2025-02-28T00:00:00\",\"2025-03-03T00:00:00\",\"2025-03-04T00:00:00\",\"2025-03-05T00:00:00\",\"2025-03-06T00:00:00\",\"2025-03-07T00:00:00\",\"2025-03-10T00:00:00\",\"2025-03-11T00:00:00\",\"2025-03-12T00:00:00\",\"2025-03-13T00:00:00\",\"2025-03-14T00:00:00\",\"2025-03-17T00:00:00\",\"2025-03-18T00:00:00\",\"2025-03-19T00:00:00\",\"2025-03-20T00:00:00\",\"2025-03-21T00:00:00\",\"2025-03-24T00:00:00\",\"2025-03-25T00:00:00\",\"2025-03-26T00:00:00\",\"2025-03-27T00:00:00\",\"2025-03-28T00:00:00\",\"2025-03-31T00:00:00\",\"2025-04-01T00:00:00\",\"2025-04-02T00:00:00\",\"2025-04-03T00:00:00\",\"2025-04-04T00:00:00\",\"2025-04-07T00:00:00\",\"2025-04-08T00:00:00\",\"2025-04-09T00:00:00\",\"2025-04-10T00:00:00\",\"2025-04-11T00:00:00\",\"2025-04-14T00:00:00\",\"2025-04-15T00:00:00\",\"2025-04-16T00:00:00\",\"2025-04-17T00:00:00\",\"2025-04-21T00:00:00\",\"2025-04-22T00:00:00\",\"2025-04-23T00:00:00\",\"2025-04-24T00:00:00\",\"2025-04-25T00:00:00\",\"2025-04-28T00:00:00\",\"2025-04-29T00:00:00\",\"2025-04-30T00:00:00\",\"2025-05-01T00:00:00\",\"2025-05-02T00:00:00\",\"2025-05-05T00:00:00\",\"2025-05-06T00:00:00\",\"2025-05-07T00:00:00\",\"2025-05-08T00:00:00\",\"2025-05-09T00:00:00\",\"2025-05-12T00:00:00\",\"2025-05-13T00:00:00\",\"2025-05-14T00:00:00\",\"2025-05-15T00:00:00\",\"2025-05-16T00:00:00\",\"2025-05-19T00:00:00\",\"2025-05-20T00:00:00\",\"2025-05-21T00:00:00\",\"2025-05-22T00:00:00\",\"2025-05-23T00:00:00\",\"2025-05-27T00:00:00\",\"2025-05-28T00:00:00\",\"2025-05-29T00:00:00\",\"2025-05-30T00:00:00\"],\"xaxis\":\"x\",\"y\":{\"dtype\":\"f8\",\"bdata\":\"AAAAAAAAWUDabZK7j5lYQHyF6lf4s1hA0u8mc4gAWUCSGB2liQxZQNYBe672UllAsnfGjaR1WUAsrHqj\\u002fEFaQA7G50WbxFlAtbtxPP2WWUCxl+2yn\\u002fBZQExsM5n1+VlAKmIcsjbWWUDcMl0WGhBaQDpZwnJ2WVpAz8nA9fgZWkCGUFNrvAdZQJLvF04D11lA7uLzwTCWWUC8JadVZJ1ZQJWyo1Aqo1hAEzL\\u002fUjQLWUANQJfJmsBZQGAxvVlxIVpABNFrU4t+WkAJ2m1ylTdaQBCoOuwpZ1tAIJ\\u002fgrGnqW0B+NVp1dWZcQGHbytaBN1xAGwXO66EyXkDl17wQgOdeQFab\\u002f\\u002fiSZWBABpPRSYsVYEAluWH2zqReQMOuoxIzelxAvWYnFZ9OW0B2gC1yAuRbQNAINraOVlpAQVjhd+AoXEB+FwZ0pNJcQNvULHRNuVtA1Jj5slGqXUBaRPfy035cQGQtdHZOvVtACl0MfnCXWUC92uoj6ThbQHIG4pTusllA1+Nh2+GNVkDQqP\\u002ftphxZQKhZ\\u002fIhuelRArE336YGnVkA+Bg9DzCVVQCX\\u002f9n+6NFZAIEhmJQJ0VUCG8gwQQS1WQGx0v6NE+1lA\\u002fEJPHD6cWUDyBYxvadJaQIlxVkUHWlpAySOeb0uxW0BIpzcHLXxbQD2tFNQsWFlA0YqoVCqjWkB5HlUCmW5ZQEcxrqhM\\u002fFtAoAebujACW0CRKXeLmNVbQKVe\\u002fKvTaltAailVsAEjXEC\\u002fBpp6X5tdQMBXi1JbSF1AiPijfVG6XkCA9lmJyXpeQBZz5m0e7l1AR6gI2+0ZXECb9j4dGNZdQNWKjPX4nF1AE+TX5eoxXkAiCn6H2PleQDRfuwAqYV5AQ9J0nK4eX0DeFgyjuHleQDwb3eIjfF1AuwEClEtfXkDNcJUKsaBeQKYSnibMDF9AQeGyLcjJX0A6w+zvuEpgQLWPZ33J0WBA7xqMWGJFYED2xTNzXzlgQA2OF0oav2BAXLZeTM+0YUAVisawVz9iQJqMdd\\u002fWXGJAiiHHpai0YkD7tazSsExiQLeMKKCv0mJAL9iPEv4tYkApsd4TOsdhQIPGgHfOsmFAL\\u002fkQiTWCYkDwB\\u002fFOPV1iQNBKEqZhZ2JA9xOKkZ5JYkBP1qeKJ0piQORk2uginGJA1OiHhbdeYkCo8Jjobt9iQEi0JWC+imNArB2FvQpaYkCitr9C0KJiQHkFcy+qI2NA23FTgXPrYkAE0Na\\u002f6URjQAG6dWtMO2NAdBVW8WVSY0ADnOg3M+BjQNM2ViQ1t2NAhxSJMqVEY0DqXaZiksxjQDpWHQemGWNAXO+W9a4xY0BcGwlTttBjQEXu8ePv4WNA1PmGjd0NZECBIrf6GodkQIYeybB2mGRAzge1VVNQZUA9NqkG0exlQJ2F0JDt3GVAIE6NDd74ZECdSJrjUKZlQP2LzPVVVmVAEOxGH+4kZUCHuAixlEhlQOxzQm\\u002fA7WVAYJ3pZmmMZUAJozLFS8dlQKcum5BCImVA2WaRGthEZUBCJsZEFb5lQDZq4CwPUGVAx5Mm95TVZUAd7CFu5SRmQLfQmCBMJWZAorBugoj4ZkC1sJkcs2xnQBgLe5w1jGdAtkhQgT+mZ0A6JMH\\u002fm11nQAl2at0uS2dA5IEJIfGiZkDXICKiMd5nQBPl5jqp32dAEGh3zUkgaEAX1s9zJL1pQOr+gXNrlGlAX64jJyBTaUBlZzj\\u002fdVRpQM4hnlE1dmpAiRReSNaJakBDp71ZuZlqQPTjxX8CpmpAGjAm\\u002f7JYakC4y\\u002fyPKW5rQKYWhrZE52tAF9PrdPPXbED0PBi\\u002fs\\u002fBtQP7kRf+bKWtASPQeXqVXakAhPgMul9xoQMLO7zYQiWpAOBzP7p+xaUCCo3\\u002fU9GJpQLeyBlkT3WpA7lfbzIQca0DBFxT98R1qQKTSbtOyAmpAavAX6S1waUDLF8teah9qQMvcv9bKX2pA3NRRcy9NaUCvf6ML\\u002fsRpQEnHdpzg3WpAlA8XlwY0a0BVos1S75lrQKX6UzrAPGxAETNLcKBpbEAjykGllUJrQJodbw+WeGxALd+msc6qbEAXVY1OWSRtQIaSGipv4WxAIG64g9S4bEDydyNHU7BtQNULp4M2vG1AlR4+onhqbUADXMt9jidtQNz1aIDg0mxAjBKy7kArbEB63VNTMHpsQBiGOnOtOWxAyYSFoDHia0BIVn4KrFxsQGuuiI\\u002fKbGtAIHiODkv1a0C9yHPlDFpqQGjSoYAmLmtAgclZPF0oakDqF1ElV0FqQLCUUba+K2tAwWoTsajJbEDnoA9EEI1tQIM64PPVY25AMEcFJU9ybEC7ShW\\u002fcqZqQI9nbbalAGxAJmbdRlkVbECKFDQrAMBrQDv0OV2aNGxAAPUftOoCbECee7mnYwZsQC6S9a+IDGxAA0fTSjVQa0A4LD20H2xrQJ0d5zbBCmtAmpb5P76ea0AyISu95qxrQGwMEXjU92tAxBNO1K\\u002fxa0BSrCu2OkRsQIy+\\u002fPgB92tAjKdMNLdNbEDFfbidomdsQFuhpWds3mtAkUkejl7+akCt3aJ2jBRrQEu22dF1KmtAnp9F52DIa0AZyLr8CORrQLSgr4X5pGtAMtain7\\u002fZa0CA+a6VvbRrQGUPgCzw1GtAAlcfZBS4a0AsFl4wUihrQGF9H+sJIGtAeIxMB\\u002fDtakAA9W4VDQVrQOrv911FcWtA\\u002fKCQWcVAa0AWl0HsCGBrQPry+gOv+2tAZA6o+VxVakBUuOCcN9trQM6NMf9Gt2tAOJt7c4RvbEDjaq+mbyZsQOZ3LauNP2xAoNwxDGWOa0D4I+FaS9hqQJvxXqrfMGtAauqBedfma0CDvlSs+\\u002fJsQBiMl\\u002fUloGxAjjjkV3yAbEA48J6o+wtsQLKHbYVs92pABoiJX6I+a0DJr5rP5h1rQC1zOEgJomtA+pLc8OlMbEATQWSu4j5sQCdmyVhdhmxA+Z3XzjdfbEBOtr1yRCRuQCpbH2J6xm1ABpb9wDfSbkC0Y7YWNtZvQCP6E4l\\u002fO29AYmrNJlkAcEDtCurD+B1vQESenEPS9G5A7JzGYO0ob0DhyaZq6fdtQOMsjR2uhW1AMsyOCXdEbkAQ0ncttsdrQG3FUAk4oWxA1L4utDjlbECm6fHie\\u002fxrQPyGCeAIu2pAJnTqB9XSaUALrKgTmQNqQHOY6o+XM2hAx\\u002fiGuk0lakBvqI9GgQlqQDyT7VZNImtATuuabsvYakCai1zYBIxrQLBexqR6wWtA3\\u002fx4rDXca0A7esjkbJFqQGmEs7tQ02pAS7A35ViJa0Bbn6HHmUtrQNSSpuLsZmpAxC\\u002fjn1ItakDl36Bj189qQMh5LaMcCmtAKXBpSTfhakCCEVez899rQKniqsW812xACERdfLE1bUBaDLLJVfJsQPVSvDwXiW1Aym8FH9jlbUAxh9cTNxJuQC0UUmS0wm9AnbE\\u002f4B1fcEB8EkHYDudvQN5uGTh52XBA8\\u002fW2xGWdcEDKM9aaLgpwQNnKvUSGrm9AsHIwLdkJcEBOyGPs6gJvQGPia8DG4G9A7PleYUEpcEA0JhJKhw9wQBuAHHDs5m9AHKeI00oAcEDbdE43DVhvQCgPc42z+25AG4npSyf4bUBqx2O+fDFuQJ+zG6T4U25APKEohprubkAn5gv5ccptQGhN0N4Y4G1AVNR1rUS7bECoCjona4lsQI5q2HtIvm1A8+l4B9qUbUAQC4Gby0RtQPo\\u002fOGCGX21Aim8A8dCDbkB38rgRkE5vQDQQ7+wSTXBAeAHYNaFWcEAyPmiCmGRwQHPNu8ntK3BABo5W8SP2cEAsF5ddfPtwQAeYrJ7PhHFAJAtt5\\u002f+3cUADmdHxplpyQJCsylWLZXJADt5Bij06ckD7KwW16CByQIRLijnBMnJAq9VH+sOdckDJJ\\u002fjZf9FyQGJWGp7wk3JApOeiAcGZckBbQYjcNXxzQANhzFlDd3NA7sCEX7c+c0DFeunPkblzQF7z9jYn53NAmbFSFcoOdECr\\u002f4uaIuBzQEKBP50y33RAddf6NVzqdEB68S9x4ON0QJMa3FDjG3VAwFblaGlldUA0Qq9B9Z11QEBrylqZRnVAlUrs+jTJdEAxvE1vpPB0QLsbz\\u002f86bHVA9VqvGgwmdUDQwSKV1Lh0QB1XojDTznNAPAj2D4j3ckAANaJD9pxzQNX4tbkccHNArCHqHHdFdEBuOiqHqHZ0QGa8dLYIbXRA7DRXg3MmdECwURdVdQ90QOk02j1UXnRA3VZHQteIdEAdzhewQl10QOopruNdoHRAgchfGL+xdEBvHamadix1QNOzjfuDjXVAct5GcQ9FdUDfnSldFDJ1QM9A\\u002fg8Z0nRAwNvMfruSdEDNe10Xz8l0QNbu5o14FXVAjTdjstbVdEDlD9lfTFJ0QKem16eK4nNAqeqTrDOtdECOE7mNX711QJgy6Oyy7nZAIZwYg5XCdkD8MDN34DJ3QDT2mv8bDHdAhLxESvijd0DMevFd37F3QM0FsfrqYXdAC7KUQ+Rwd0CAupzf22R3QPnIwBVk3HdAgfOgL\\u002f2rd0Ainu3nnVV3QGM7ruxLKndAu3IMScl6d0CFn+16nCN3QOD32IWtO3dAe2AL4SZWd0Dg99iFrTt3QMgvRVM54HZAuqIfi8YNdkDp5GIiVzF2QOYL\\u002fQcw63ZAbfdHO9t7d0D8m2n2nxB3QN3kU78LoHZAPdA3aBGfdUByxj6cZm51QJ2A+lmdo3VAErqP9JCqdUDW3b1ofJx0QNSZSFTAXHVAXUADF1afdUByRNNcnQN2QNZ0ptZdwnVAz7T3uP+ddUDNHwezlJd1QGyEJD8\\u002f33VAbNZ8PAu3dkDfHHsDENZ2QO4yplBUNndAQ208cINId0ClbjwDghZ3QKixcbwCtHdAgvR9Oxq9d0C3afY7wzJ4QDXIF7iC0XlANI8TaGGKeUAlPA1MaQ16QJPWvsfOtHpAzjFlb1X6ekBtO3NR05N7QODnjjeByHtA\\u002fFaWKwMhf0DZvOlw6BN\\u002fQD222YOcFoBAnRKRv\\u002fQCgEDkjgL5jsV+QF3lTcODvn9AXeVNw4O+f0Bj+JQ56Vx\\u002fQB4y0DSCjH9A8iaZhZyQfkBthbX3EIuAQA314Pg3OoFA8RgKHKOwgEAyh\\u002fc5j5SAQHYCJA6jEIFA0SLJrBF0gECJcQNOf26BQLBUdljnEIFApR20DH5rgECog22Z5MeAQGSJFaZFCIBAXK4Nghphf0BkRIpTJPCAQLgRu\\u002fPGn4BADvNTx0Daf0CTGGZgKYx\\u002fQPYiM89ia31ATl23QXSafUBqeTWt9tF\\u002fQDMcrczTp31AuR0\\u002fXhsLfUBT3lpNLfV8QMC1Nj7TX35ABghTgb62fkDMMyTq7fZ+QLCxWST4KYBAk+9Ps1Ktf0Ci1uyDeVd\\u002fQBsObNF86H5A\\u002fCU6qa+5fkDWRhRJkXd\\u002fQO2uQnhTmX5AT668B2zWfEARavp97m99QKO9ONrxdnxAdh4a1NyffECbErTCYg99QOOxCoUPQH1A+BgkzTnDe0CUmUoPYCV8QGVWlluBD3tAaWDCpuwvekBpBNHSrjp5QCd7DiIma3hAzrjwKJ1qeEBhZfUkVlJ3QOVpsuolyndAMZvOfrXsdkCnlLj0Vdx3QMBWW9mKlHlAWGXqiDG9eUBtZm0zul56QNFUxfyoBHlAHlonMeFneUDeREo7Q9V5QFF4bCTkOnpAv81ryP3le0A24J+vYPp6QAmnF0ftBHlAJEIP8PhZeUCnMmJy1K17QM6Q0hkcsntAjSJeeiiaeUCiwAuD0rJ4QGi7BWVtb3hAr+Z2bC9jd0BN\\u002ftvcK894QCbLhYKNPHlARFkU\\u002f4d5eUD8OnP1sYZ4QCvMpqGBTnlAKqhfzCjHeEClQ6LYDfd3QM1+dF1bT3ZAoe714LB6dkBoozgD6wt4QISsQrmxrHdA1xZ4dW8Xd0DgQqYNeUl2QCBADKfzAHhAv9zakFWYeUDC074OjuB5QNxIwUfNo3tAGMeHMPfue0CdeKd\\u002fy7Z7QPWeUFy7yHpA3BDNBbppfUBo6V3CN+98QL6rnr4ufH1A3TQU2xLxfUBTkDsMr+58QDJDAgOegnxAK4u54BTpe0BspdHiaZZ8QLbGCcssGHtA3dfoloaAeUBYp+8NTEt5QC2dn2EBKHhAekTvk3zmdkCguWXAA3h2QOUCP\\u002fz8MndAh3XrrDY2dkALSAU2pcJ2QLbCtXymMXdAs32XcCFydkAoB+6uqhZ1QJbcIJn8Y3RAjT2l54DLdEBZECAihqFzQDBL7oHAPXNAIKEbb2erdEBvDC+OD2FzQHNIMRjNaHRAVOMC0UF7dEB9hpGEDj91QC806PyAsHNAuN84ZUyDc0BiSYON4rVxQEQTOYNpYnJAlXUwIEpgcUBVF69BleZwQHKfe6sagHJAZz94UuAJckA2p+8PF\\u002f5yQEy70LassnFAxHTAYW3kcUBH0HhZaHFxQIIT8uf5p3FAROKwXffgcEDHtzqFkrxxQF+MQ7fjpnJAZry5IK2nc0CEFksAf4JzQCgdHAFXJHNA9mLw0ZR4dEBUfB7VVY9zQAFOAin9oHNAYK++1m\\u002fGc0AQVGZYIX1zQGbgrw6b3HJAVhgYqEO9cUDh1ts9PFpwQCcFyB3NjHBAHOV7ZqxFcUAzO+7s7U1wQBEiUsmSmHBANQ3\\u002fcBtQcUA+VJGO\\u002fhhxQO\\u002fogkjg9HBA61FiRO7lcUDgxEUcLKFxQLD3uM7cs3BADDiH0yQ+cECGVMSMWa9vQCdGMWsJW25A42k59gFHb0ByUGVU1Z9vQEs5zuKvknBAgMflFlaNcEC5uHHemqtvQPej3tUlhm9AomvbSAayb0C1dLNTqRBwQLaqwMgAeXBAlptbKrPTcEAZoqGLFMJxQIGxA44gnHJAHe5P5iPdckBOwc\\u002fCkBlyQEt8+z6kynFA48LZDkdHcUCaLkoWlJdyQGB3foZ7y3JAVZYbNV\\u002f7ckD5Ki3Hv0VzQLJ92lR9XHNAY55SiK2+c0DwT+7F0xR0QJnh3cNc2HNAcKy1nGGYckCzuROLOttxQJkfStW26XJA0BwS1D7AckCdiq44c41zQAVDGuLd43NAOLd9++66c0BkZ4+MYylzQAA\\u002fYp+SnnNAEQxwQF2nckCq\\u002fA0+Uc1xQA\\u002f2zlql9HFAIpXtf53\\u002fcUB1wCOnfLhyQLPXTD89\\u002fnBAffiEwm+DcED5KAJdWCpwQMV0waSRjG9Ay+HrEnohbUA9utylTYZsQH75VpTqJGxAhxNmNFWsbECgSA9CD0BtQCM4W1aNFG5AQUKpLrZTbkC1P5kZSXRrQKr4Py6ucmtAsK7H2SoIa0DQwKmRJZhrQLCJ6uih+mtAHGgtHV+Ma0Dlg8UD3rlrQJLRw0wyQ2pA0F2tahwrakBhhSoI9pBpQBM+ktL682lAaqd\\u002ffd2gakC1VMParYxpQJOrnRtTYWlAa1Q2hvgoakAUdaj2jYdrQM6hZe0InmtAXX17IMBza0CYyghFmj9pQPMFsW5LZmhAJGG0olU5aEBfzoChTQtoQPeA6CeEAWlAUuAwfy55Z0CYYUxM+tpoQAmGNhlDBWlAet+wBjkyaUC11FYdw35pQGkAiUZZEGpAo4sOHIlXakDlg8UD3rlrQFzAEeiA9mpAHGgtHV+Ma0C17XHdj+xsQDp66E8vOGxAmxkYbs5QbEBwwANQY6NrQHdR1Y+BD2xAcitGTOmYbUBepSdVheZtQL9MnUihh25AiH1f8ITNbEA3+FlmC3dwQCKMKlZ2EXFAxypc++UIcUDavIq3L2xxQFG5ID3doXBATpY5LoJjcEDIuVktyRtwQArPpzAqA3BAEBkZuR7EcECKPfy52ERxQDg1MFw1AnFAFkix06aLcEBFOZTGVllwQLRk\\u002fI0fsnFA1UGu3N\\u002fqcUD\\u002fBqDriqVxQFxg7z5WXnFAQGxF5JC3cEBA5d4pK9twQBE4kbb583FAtVhJ6ADHcUBTaMg681VyQApfrlaz5XJAREY00Ch7ckDBGlbo4rlxQK3Ah6LlU3FAerDKuQn\\u002fcECgFTVezNFwQFQ\\u002frW8oQXFAGSE8MhoKcEAyUEXZ\\u002f8xvQJn97FAciG1A5VuHiZpabUCDDiksKopuQGYNXuwNkG5AvixZlfnvbUC6OEqLVNhuQNo513o01W1APh9zvjgTb0B6zfEKd1dwQJBSt5qvonBAldqOGFC7cED3KLux1UNxQHmjqdSyq3FAMYzCe6eCckA8JwzQpytyQJ0jQCPUh3FAJ\\u002fOS9lOnckAwqtYwyBF0QPzPVfgNJXRAdIeLi5Q0dEBwXUDRzbR0QBsjGX6DS3VA5RPmeHsJdECP29j03W10QNt7hC895nVAm9LVEUqzdkAXtnAuRBB2QJjFkoBSDXZAxX7zlX8vd0BkSb0zEDh3QM0kglBmW3dAWK5RM288dkDWGHW2b8h2QGgJClkdBXhAXIpa7rPNd0CSIUBBuQF3QJtbVptcXXZAV9aewiSZdUC8DdNPpbN1QDzKEMWfvnhAu4Sywm9ZeEBTlE25\\u002fZJ4QKVs09KyRnhA3xQwVQm8d0CO6LnS7mB4QLIVDEgf+3hA+lZ8qy2heEAerzkQCFt4QM71laIeSnlAbufHDaiCeEAqlmOSjQR4QAWdM\\u002f7RBHhATZiqz4YqeUDxQ2IvtFZ5QG1UnZw9tnpA2Rcj84DnekDDYWa2WxZ7QJebcBZpZntAnPrXS26ue0AZCnEgAXB8QPOyBG2yAXxAOLX9zky\\u002fe0D7uy0R5557QAkjbTmVOHxAcalk4WijfEAJO1Xo5Qx9QGvsEXQ7P31AUv01mia2fEDhwQ+uAR18QHwhjvTFRnxAYusM+eLXfEA3CzxgHWp8QJNXD\\u002fCotXtAywXRqhete0Dsup8YE\\u002fx7QDmdZgdnPXxA0QRaXnLvfEAFb7ryIDZ9QORCdgW2WHxA+dUICrpcfEDvyhK3HEh8QKWLOr+ncXtA8lVq5hUxfEBbjpgNYHl8QPJtUpVmBX1AywxG8T08fkBQbK2L04B9QGNsc1CXE31ADXjjllXTfED9Hz3eqf59QFtTKPXDfH5AoPARwHrhfUBw2yeJjDV+QG1ctHta431As5M9\\u002fqGjfUD4bNtIwUd+QDbpBKhdjX5ABWTJULuPf0Di2nrNqpCAQHSo9Ac\\u002fWYBAvBtOVXdNgEAeX8hVIwyAQDZ4YtYd8H9AEAfEa03cg0DX1kqonl2EQO5CIWCT+YRAtoAJC8LIg0BbeTk67cuEQFIozHOfkIRAJ60Kcr17hEDhYNqjhzaEQBi3yPk3mYNAeDoSZckjhEAF6RZ\\u002fmEaEQEZ3zUvrpYRANA7X6Bh0hUAqy32Hg3yGQEzDs4F1ToZAFiIkAq5ThkCMZT6FF+mGQEyqSaXwgoZAqcA7Y0OAhkDsHLviAxOGQG15kw\\u002fiP4VAWn6jgW7mhUBZo0X\\u002f0ICFQLijcDxSWYVAUI3gKHcfhkAelcFmUy6GQB9AJW55IYZAN7We5NIEhkAsims9YDqGQK9JVsAhD4ZADsUDlkEthkDzHAZVrfWGQMnDXWt7C4hAXGIrRHjHh0Cypm3RR0yIQJRuaa+U1ohAUisKhMCeiEC52us1TM6HQB8CY5wqLIdAte9ulLtUh0DsKpTUleOHQBD0mHExxYdADMaqTCwBiEDbc1ns+HKIQPHZrd0ocIhAVsrrYXBSiEA4esn2zyaHQLRTMBK\\u002fR4dAviFEN9Zdh0DiwEEtgsCHQHT6U+6xW4dAzWsncjRBhkBjC+\\u002fk+iqGQK2EdTa9XYVAksFkV7rhhkBCB8vRw\\u002fqGQHC3TXD7vYZARWw8YfiqhkBgJmUX8qSGQACY1EkGkIhAGO\\u002fqqRzih0Bh83VH+aOIQCFAHf1DqohAs5KZmvgQiEDrqsUeWn6IQIPieZBJg4lAtbfpHo3DiUA9IT\\u002f5u8+JQMk1rlJ4XolAHGcVWbFjiUCBfQPjIJ2IQKoYDDBWL4hAssoDCMPVh0DhGTcIAqGHQMab9uXEd4dA4G5OBR3Kh0AJS1+l99aHQC1JOc3k9YZAFgtDwbr+hkApBA+JA8OGQJblnlh\\u002fF4ZA+eGjcOFzhUAN8iZcR8OFQI7gB8k4FYZA8l\\u002fXj5TrhUDW9WCtKDaGQMdGJFNOiYZAxzxaADTAhkCTrRx7\\u002fGuHQEu2nJOcwoZAOmsht8UIh0CKQdeJZl+HQIXH17oz74dASxihYbqth0BY9k6qBfSHQOLnTmH8eohAck7pvZiNiED\\u002fpKll5saHQOSh4eTJG4hAH+h7a\\u002fv6hkCMppd6vRGGQMVcq0IFBYZARhROr2ulhUB6PFP+CnqGQFaWwiEp1oZAmQnNIejZhUA+OsJXXBeFQISmqn6oLoVA5VH+TymHhUDD46rmJVSFQO3MqFcDI4ZAuuPuqyPBhkD9P3NJ2ImHQLGLLpC67YdA8qgiIAsJiEBnPpg47FuIQM5XqUBEjohA3YvjJLVHiUDWHSbu3W2JQN4E5ICU+IlAxarRJ8CRiUBfRqkPBOGJQCTsibOlyIlADsoq+WZdikAUMBseJB+KQKCutK+4eolAHe+Jm9z8iEA0ssKbQTuJQKTp3gbjAolAk6PIU5ktiUAQuddxKnaIQPgYEzJ\\u002fdYhA32EcynXNh0A8a0NjZluIQKPIJ\\u002fYOzYdAOBxPzGpfiEAI\\u002fL02RdmIQPKqAXyRY4hAEJohaX3tiEBnGnMPNCeJQCTeMORISolA9DGK4peSiUDXWvLsiTGKQJLEwo0z8olARp11JUgqiUCgVy0j\\u002fJ+JQEE5blOPiolAved\\u002frq7GiUC49+drKdmJQNkI0so454lA2QjSyjjniUClGhZF6jGJQJpCTLu04YhAdAdQ1CYbiUD5umnMT66JQMIcyg3qVItAEcW4QLDLi0AW2h6ktm2MQLV0LljqrIxAXlO0CuudjEDTwqCizn2NQAJvwqjAUY1ApNwEV+PejUBUBWOoHR6PQJBxlG3xM49AKBTEyERRj0BKU\\u002f5YUwyQQFCWEA9mHZBA6EtOTFTsj0B9d5WULFaQQPP3\\u002f87capBA1gx\\u002fcV8XkEDogqwtzXuQQGrjHhGQTZFA57aDiO8hkkDI07aJr9eRQNI\\u002f6IxJVZJAaaixkJ82kkAmCghIeN2SQH3YgiYr5ZJAyd9mlyLdkkAVQbNAxlOTQGTxlmGeAJNAfr9uCpv9kkDfGJta+CmSQDGEC5lnpZFAFLO3XkyKlEALW5xk+pyUQCf8sP5jr5RA7\\u002f9U\\u002fjWVlEAHRqcOt0+UQFY8On66sJRA0zCAI8SElUBT7CrQz0qWQP9kSITBe5ZAZHJ9IPIyl0DJcFQFsTyYQN9VuIV55JZA9LFgCQlvlkDv2I7\\u002fEgqYQK1msq1xxZdARXG811MAl0AD\\u002fGOvKfmWQBeErcuKIpdA51RXaK5hl0DCkhtM5aKXQOgQX5kR6pdAJ1eC4iipmEAfBMIa5tiYQEpBJtt1NZhAyOlh8Lmal0Ar8Gb10qGXQEb4ruxKopdABLjw20tll0CIBHpXn0SXQJ+5lPvNd5ZAYJKT75wEl0CI6ZDWBsqWQOZTmoLpUpZAP8rymrvDlkDSxhWfO7OXQDh8jQWIEJdA6h\\u002fVwDt+lkBhR2uJ6NyWQDlvczqZ+pVAAsOa0i4llkDwwtTIAO6TQBijHiUpzJRAeLRemaqOlUD9BmW9ztaUQP6\\u002f8BepnJVABM8lnFXylkA2VlGlzvOWQNxwcyIVmZZASNOscgu4lUDXnObW6XGWQE9neqvnOJdA5EYDt0UZmEDTzmesFK+XQEuaovKSpZdAqjbK3xc2l0BokTLS0YGXQFFE6AW0pJdA+tmfssfkl0B6Qpe5\\u002fb+YQN1c0KzYrZhAeVRxR\\u002fgvmEDkC3HyCMqYQDv41SOc8phAHspRzGrVmECz2bQs6CWbQDzoa2qt2JtA1mXFM0rKnUDOkkLuJwieQFx19f6S5pxAfkOOAIasnECo5L+73xOeQDEC1bAWdJ5A8EaZ4AIDoEBZkf75eKWfQBqEKYkbnp9A4Sl7OoDan0BUBizGPqCfQCu40\\u002fLAX6BAG63ZHWfzoECQ7\\u002fFQZz+hQBIqaWNFIaFAKa1g7Ue7oUDrvFgykxqhQNFapCefjaBA3KxkJcHknkD7ePwejX2gQGMh9Snuh6BARkpS+j03oEDXwUwULSigQE+nyCafQaBAwVVmSQwLoECX2c6a38agQAZZp6jYdKBAbB3K0jHEoEBfBIrFqS6hQIqISWTZpKFAdR0GMGmpoECGBhrvA+egQEqdWgk7zKBAn52xVpeGoECf4VEQuNyeQI2CSkRMrJ9AAXzIhbPYnkDXwUwULSigQDhO36JeCKBAofXx7UjinUApuPIaX16dQIwsbwKakp1Ad8U\\u002fRiswnUCYS75C2yGbQKnn9ifEm55ATzM6b82QnECoqH\\u002fh5Q6cQNB5KW85RppAyxaV+qxEm0AHDazoGt+ZQI8liFfjdJtALu1kEShmm0C7rVtuFIScQGRvZVLXYJ5Arq6dAb\\u002finkDbcpTaaBGgQFxn4tz+SqBAaajbrXUAoUBvXtqCY6SgQHebIS09zqBA\\u002fi5dRd8uoEA9LUnnXeugQOH5el7wiaBA8uKOHYvHoEAml1QWe22gQGN4kirvwZ5A6OQwHiA5n0CDVzd+xz+cQIj\\u002fUWzrx5tACkP2VuEKnED5Cy9Gl+WaQHQ\\u002f\\u002fFhU2ZtAqsRHr3lGnEBs2iG3ZpSeQFdQVB1oKp9Ait\\u002fRM7onn0DspRNfXYyeQJ6wLsCsPJ5AyJj+PQKonUC04mXuW9WeQBpBJ40hWJ5AjlPI\\u002f4ppnkBcX4JCQp6fQIaINYqGJ6BAtBD6i0U5oEBYJIlnwMGfQOErEA5uxJ9AM\\u002fyvCRmbnkAVi25l\\u002fBafQLu7yCttEaBA\\u002f1M3nrxWoEDbSnaGfbSgQFcyOkyZYaFA2P0r9I9ZoUBFMb4A46GhQIq7mnGNoaFAxYdZFgsPokAdgT\\u002fkZzahQEqoXEZbwKFAnQZOKd\\u002fooUBVQXjdsgyiQE9q3ofjy6JAsARV\\u002fd7HokDHWuLQ7kCiQP0ePNFkXaJAhAyryjqDokDhDqLME2GiQDQEd\\u002f+EeaJAoy+U+5A5okBdog8RP12hQOQgRWmktaFAUcMQF2jLoUDmFVvhpkyiQOBformBC6NAveDef\\u002f94o0Czb22XJE+jQCDwq4fJ\\u002f6JA24dc1D1lo0CrLA8YmyGjQCGiUxQDMqNAK67JU\\u002faRokAi4W32r1SiQP0AAx1iOqNA1D011OEUo0DdJKne\\u002fy6jQHJ6aCD1kKJAmI+v42bKoUBB3Kx4ieihQHO5ggKis6FAMqAn5hEVokBn2oMIyyGiQKeFURNfWKJAJD+gHsX7okBWrTwHbfmiQPELZX6xoaJAelsz3yMookBjJJeH56qhQNXNDxLiOKJAxOx8m+r2oUBewac0co+hQBaZhmAaRKFAZruGDzEOoUCxbbH5odygQLbDutrmF6FApvZisYOeoUCUHCUW8ESiQAPMIv9aV6JAcFrz8KRNokC80cjK3euhQLw65Xrw+6FAdB+qGMmQoUDBndTNZReiQHRUulur5aJAZJtd7sGLo0A3W6AVrVSiQCHcvAOsU6JAxJBGXQjHoUDvh6xtSm2hQJZkeAgRPKFAy6v6LRXSoUD1gX8QrXihQIIasXFOA6JAoHnnC8hrokAeoU+DuzyjQHU6OkHBQaNAANmwb7inokDG5F6OvPqeQH3eM+NP36BA8TgiLCwuoEDkunjs+02gQDh63Fw9aZ9Ado2OLd6EnkCurbb+IwqfQERig+4CVKBA7K7GMO7UoED3C4kmxvugQPWBfxCteKFABFyxc+ReoUCejBJLTiehQIhP5VxFsqFAMm6z5HopokD+aDOs5TuiQKoRC0o0NqJAIdy8A6xTokBtjvMleZWhQIPLIBSCCqFAo6BrJEmQoEA5sNl5\\u002fiuhQC6nYw6Zbp9Ay0gpZwZXoEDCqOH\\u002fvdadQLuuAiX\\u002fV55AHlDarbqvnkCsQ4pAA+2cQL+hgOz9ep1AilOp65X8m0A0cndzy3OcQII\\u002fo5P3R55Ak+WUMEA9nkCLsXGqJNWfQPCctLPPRZ9AXuDILjQznkDSekO5L7+eQI4Q3HfVAp9Ad+fRIT7LnkCRzNmxusOfQOE3GXSBk59AdTlyIVrDnUB6Y+RgSyedQJ3RyP1psZxA0viVYgNbnEBn3\\u002fMmkNGcQL7NS6Kl45xAsxXOPE2imkCG3HQPpKyYQD+KXeqsi5lAjqDjJe0xmUDwyGZdh+mdQM4tjvDCJJxA+kI5Ms4FnUAqGqYBEvecQLC9aendWp1AtVt9i3hWm0CQtvPXiY2aQNegWkvIWplA4qaLvWXfmUDCa19EQN+aQJWlqTVo2JtAkyQ+BSoLnUAfFHWPdHKcQIlgz+7ghZxAfdVFWS5\\u002fnEB\\u002fG\\u002fWnWTOdQDosNUPq9J1AtlN5zV7HnUCmEN\\u002fwnbSdQL5\\u002fmJVgoJ5A4N5y+iO1nkCQlTSb6oSeQJJ9k5ccF6BAdyIoMDD\\u002foEAwnDiyXLShQJPhQWpIo6FAoQP7GF+2oUCXD6GcELyhQGaODYk2lKFAmrXa7c89oUDTCedPTmChQPz646W7LKFAJ8m\\u002fY7i5oUDajP8InaKhQPtmgUpLNaJAx+YNbFStoUA=\"},\"yaxis\":\"y\",\"type\":\"scattergl\"},{\"hovertemplate\":\"Asset=Bitcoin\\u003cbr\\u003eDate=%{x}\\u003cbr\\u003eNormalized index=%{y}\\u003cextra\\u003e\\u003c\\u002fextra\\u003e\",\"legendgroup\":\"Bitcoin\",\"line\":{\"color\":\"#96aae3\",\"dash\":\"solid\"},\"marker\":{\"symbol\":\"circle\"},\"mode\":\"lines\",\"name\":\"Bitcoin\",\"showlegend\":true,\"x\":[\"2020-01-02T00:00:00\",\"2020-01-03T00:00:00\",\"2020-01-06T00:00:00\",\"2020-01-07T00:00:00\",\"2020-01-08T00:00:00\",\"2020-01-09T00:00:00\",\"2020-01-10T00:00:00\",\"2020-01-13T00:00:00\",\"2020-01-14T00:00:00\",\"2020-01-15T00:00:00\",\"2020-01-16T00:00:00\",\"2020-01-17T00:00:00\",\"2020-01-21T00:00:00\",\"2020-01-22T00:00:00\",\"2020-01-23T00:00:00\",\"2020-01-24T00:00:00\",\"2020-01-27T00:00:00\",\"2020-01-28T00:00:00\",\"2020-01-29T00:00:00\",\"2020-01-30T00:00:00\",\"2020-01-31T00:00:00\",\"2020-02-03T00:00:00\",\"2020-02-04T00:00:00\",\"2020-02-05T00:00:00\",\"2020-02-06T00:00:00\",\"2020-02-07T00:00:00\",\"2020-02-10T00:00:00\",\"2020-02-11T00:00:00\",\"2020-02-12T00:00:00\",\"2020-02-13T00:00:00\",\"2020-02-14T00:00:00\",\"2020-02-18T00:00:00\",\"2020-02-19T00:00:00\",\"2020-02-20T00:00:00\",\"2020-02-21T00:00:00\",\"2020-02-24T00:00:00\",\"2020-02-25T00:00:00\",\"2020-02-26T00:00:00\",\"2020-02-27T00:00:00\",\"2020-02-28T00:00:00\",\"2020-03-02T00:00:00\",\"2020-03-03T00:00:00\",\"2020-03-04T00:00:00\",\"2020-03-05T00:00:00\",\"2020-03-06T00:00:00\",\"2020-03-09T00:00:00\",\"2020-03-10T00:00:00\",\"2020-03-11T00:00:00\",\"2020-03-12T00:00:00\",\"2020-03-13T00:00:00\",\"2020-03-16T00:00:00\",\"2020-03-17T00:00:00\",\"2020-03-18T00:00:00\",\"2020-03-19T00:00:00\",\"2020-03-20T00:00:00\",\"2020-03-23T00:00:00\",\"2020-03-24T00:00:00\",\"2020-03-25T00:00:00\",\"2020-03-26T00:00:00\",\"2020-03-27T00:00:00\",\"2020-03-30T00:00:00\",\"2020-03-31T00:00:00\",\"2020-04-01T00:00:00\",\"2020-04-02T00:00:00\",\"2020-04-03T00:00:00\",\"2020-04-06T00:00:00\",\"2020-04-07T00:00:00\",\"2020-04-08T00:00:00\",\"2020-04-09T00:00:00\",\"2020-04-13T00:00:00\",\"2020-04-14T00:00:00\",\"2020-04-15T00:00:00\",\"2020-04-16T00:00:00\",\"2020-04-17T00:00:00\",\"2020-04-20T00:00:00\",\"2020-04-21T00:00:00\",\"2020-04-22T00:00:00\",\"2020-04-23T00:00:00\",\"2020-04-24T00:00:00\",\"2020-04-27T00:00:00\",\"2020-04-28T00:00:00\",\"2020-04-29T00:00:00\",\"2020-04-30T00:00:00\",\"2020-05-01T00:00:00\",\"2020-05-04T00:00:00\",\"2020-05-05T00:00:00\",\"2020-05-06T00:00:00\",\"2020-05-07T00:00:00\",\"2020-05-08T00:00:00\",\"2020-05-11T00:00:00\",\"2020-05-12T00:00:00\",\"2020-05-13T00:00:00\",\"2020-05-14T00:00:00\",\"2020-05-15T00:00:00\",\"2020-05-18T00:00:00\",\"2020-05-19T00:00:00\",\"2020-05-20T00:00:00\",\"2020-05-21T00:00:00\",\"2020-05-22T00:00:00\",\"2020-05-26T00:00:00\",\"2020-05-27T00:00:00\",\"2020-05-28T00:00:00\",\"2020-05-29T00:00:00\",\"2020-06-01T00:00:00\",\"2020-06-02T00:00:00\",\"2020-06-03T00:00:00\",\"2020-06-04T00:00:00\",\"2020-06-05T00:00:00\",\"2020-06-08T00:00:00\",\"2020-06-09T00:00:00\",\"2020-06-10T00:00:00\",\"2020-06-11T00:00:00\",\"2020-06-12T00:00:00\",\"2020-06-15T00:00:00\",\"2020-06-16T00:00:00\",\"2020-06-17T00:00:00\",\"2020-06-18T00:00:00\",\"2020-06-19T00:00:00\",\"2020-06-22T00:00:00\",\"2020-06-23T00:00:00\",\"2020-06-24T00:00:00\",\"2020-06-25T00:00:00\",\"2020-06-26T00:00:00\",\"2020-06-29T00:00:00\",\"2020-06-30T00:00:00\",\"2020-07-01T00:00:00\",\"2020-07-02T00:00:00\",\"2020-07-06T00:00:00\",\"2020-07-07T00:00:00\",\"2020-07-08T00:00:00\",\"2020-07-09T00:00:00\",\"2020-07-10T00:00:00\",\"2020-07-13T00:00:00\",\"2020-07-14T00:00:00\",\"2020-07-15T00:00:00\",\"2020-07-16T00:00:00\",\"2020-07-17T00:00:00\",\"2020-07-20T00:00:00\",\"2020-07-21T00:00:00\",\"2020-07-22T00:00:00\",\"2020-07-23T00:00:00\",\"2020-07-24T00:00:00\",\"2020-07-27T00:00:00\",\"2020-07-28T00:00:00\",\"2020-07-29T00:00:00\",\"2020-07-30T00:00:00\",\"2020-07-31T00:00:00\",\"2020-08-03T00:00:00\",\"2020-08-04T00:00:00\",\"2020-08-05T00:00:00\",\"2020-08-06T00:00:00\",\"2020-08-07T00:00:00\",\"2020-08-10T00:00:00\",\"2020-08-11T00:00:00\",\"2020-08-12T00:00:00\",\"2020-08-13T00:00:00\",\"2020-08-14T00:00:00\",\"2020-08-17T00:00:00\",\"2020-08-18T00:00:00\",\"2020-08-19T00:00:00\",\"2020-08-20T00:00:00\",\"2020-08-21T00:00:00\",\"2020-08-24T00:00:00\",\"2020-08-25T00:00:00\",\"2020-08-26T00:00:00\",\"2020-08-27T00:00:00\",\"2020-08-28T00:00:00\",\"2020-08-31T00:00:00\",\"2020-09-01T00:00:00\",\"2020-09-02T00:00:00\",\"2020-09-03T00:00:00\",\"2020-09-04T00:00:00\",\"2020-09-08T00:00:00\",\"2020-09-09T00:00:00\",\"2020-09-10T00:00:00\",\"2020-09-11T00:00:00\",\"2020-09-14T00:00:00\",\"2020-09-15T00:00:00\",\"2020-09-16T00:00:00\",\"2020-09-17T00:00:00\",\"2020-09-18T00:00:00\",\"2020-09-21T00:00:00\",\"2020-09-22T00:00:00\",\"2020-09-23T00:00:00\",\"2020-09-24T00:00:00\",\"2020-09-25T00:00:00\",\"2020-09-28T00:00:00\",\"2020-09-29T00:00:00\",\"2020-09-30T00:00:00\",\"2020-10-01T00:00:00\",\"2020-10-02T00:00:00\",\"2020-10-05T00:00:00\",\"2020-10-06T00:00:00\",\"2020-10-07T00:00:00\",\"2020-10-08T00:00:00\",\"2020-10-09T00:00:00\",\"2020-10-12T00:00:00\",\"2020-10-13T00:00:00\",\"2020-10-14T00:00:00\",\"2020-10-15T00:00:00\",\"2020-10-16T00:00:00\",\"2020-10-19T00:00:00\",\"2020-10-20T00:00:00\",\"2020-10-21T00:00:00\",\"2020-10-22T00:00:00\",\"2020-10-23T00:00:00\",\"2020-10-26T00:00:00\",\"2020-10-27T00:00:00\",\"2020-10-28T00:00:00\",\"2020-10-29T00:00:00\",\"2020-10-30T00:00:00\",\"2020-11-02T00:00:00\",\"2020-11-03T00:00:00\",\"2020-11-04T00:00:00\",\"2020-11-05T00:00:00\",\"2020-11-06T00:00:00\",\"2020-11-09T00:00:00\",\"2020-11-10T00:00:00\",\"2020-11-11T00:00:00\",\"2020-11-12T00:00:00\",\"2020-11-13T00:00:00\",\"2020-11-16T00:00:00\",\"2020-11-17T00:00:00\",\"2020-11-18T00:00:00\",\"2020-11-19T00:00:00\",\"2020-11-20T00:00:00\",\"2020-11-23T00:00:00\",\"2020-11-24T00:00:00\",\"2020-11-25T00:00:00\",\"2020-11-27T00:00:00\",\"2020-11-30T00:00:00\",\"2020-12-01T00:00:00\",\"2020-12-02T00:00:00\",\"2020-12-03T00:00:00\",\"2020-12-04T00:00:00\",\"2020-12-07T00:00:00\",\"2020-12-08T00:00:00\",\"2020-12-09T00:00:00\",\"2020-12-10T00:00:00\",\"2020-12-11T00:00:00\",\"2020-12-14T00:00:00\",\"2020-12-15T00:00:00\",\"2020-12-16T00:00:00\",\"2020-12-17T00:00:00\",\"2020-12-18T00:00:00\",\"2020-12-21T00:00:00\",\"2020-12-22T00:00:00\",\"2020-12-23T00:00:00\",\"2020-12-24T00:00:00\",\"2020-12-28T00:00:00\",\"2020-12-29T00:00:00\",\"2020-12-30T00:00:00\",\"2020-12-31T00:00:00\",\"2021-01-04T00:00:00\",\"2021-01-05T00:00:00\",\"2021-01-06T00:00:00\",\"2021-01-07T00:00:00\",\"2021-01-08T00:00:00\",\"2021-01-11T00:00:00\",\"2021-01-12T00:00:00\",\"2021-01-13T00:00:00\",\"2021-01-14T00:00:00\",\"2021-01-15T00:00:00\",\"2021-01-19T00:00:00\",\"2021-01-20T00:00:00\",\"2021-01-21T00:00:00\",\"2021-01-22T00:00:00\",\"2021-01-25T00:00:00\",\"2021-01-26T00:00:00\",\"2021-01-27T00:00:00\",\"2021-01-28T00:00:00\",\"2021-01-29T00:00:00\",\"2021-02-01T00:00:00\",\"2021-02-02T00:00:00\",\"2021-02-03T00:00:00\",\"2021-02-04T00:00:00\",\"2021-02-05T00:00:00\",\"2021-02-08T00:00:00\",\"2021-02-09T00:00:00\",\"2021-02-10T00:00:00\",\"2021-02-11T00:00:00\",\"2021-02-12T00:00:00\",\"2021-02-16T00:00:00\",\"2021-02-17T00:00:00\",\"2021-02-18T00:00:00\",\"2021-02-19T00:00:00\",\"2021-02-22T00:00:00\",\"2021-02-23T00:00:00\",\"2021-02-24T00:00:00\",\"2021-02-25T00:00:00\",\"2021-02-26T00:00:00\",\"2021-03-01T00:00:00\",\"2021-03-02T00:00:00\",\"2021-03-03T00:00:00\",\"2021-03-04T00:00:00\",\"2021-03-05T00:00:00\",\"2021-03-08T00:00:00\",\"2021-03-09T00:00:00\",\"2021-03-10T00:00:00\",\"2021-03-11T00:00:00\",\"2021-03-12T00:00:00\",\"2021-03-15T00:00:00\",\"2021-03-16T00:00:00\",\"2021-03-17T00:00:00\",\"2021-03-18T00:00:00\",\"2021-03-19T00:00:00\",\"2021-03-22T00:00:00\",\"2021-03-23T00:00:00\",\"2021-03-24T00:00:00\",\"2021-03-25T00:00:00\",\"2021-03-26T00:00:00\",\"2021-03-29T00:00:00\",\"2021-03-30T00:00:00\",\"2021-03-31T00:00:00\",\"2021-04-01T00:00:00\",\"2021-04-05T00:00:00\",\"2021-04-06T00:00:00\",\"2021-04-07T00:00:00\",\"2021-04-08T00:00:00\",\"2021-04-09T00:00:00\",\"2021-04-12T00:00:00\",\"2021-04-13T00:00:00\",\"2021-04-14T00:00:00\",\"2021-04-15T00:00:00\",\"2021-04-16T00:00:00\",\"2021-04-19T00:00:00\",\"2021-04-20T00:00:00\",\"2021-04-21T00:00:00\",\"2021-04-22T00:00:00\",\"2021-04-23T00:00:00\",\"2021-04-26T00:00:00\",\"2021-04-27T00:00:00\",\"2021-04-28T00:00:00\",\"2021-04-29T00:00:00\",\"2021-04-30T00:00:00\",\"2021-05-03T00:00:00\",\"2021-05-04T00:00:00\",\"2021-05-05T00:00:00\",\"2021-05-06T00:00:00\",\"2021-05-07T00:00:00\",\"2021-05-10T00:00:00\",\"2021-05-11T00:00:00\",\"2021-05-12T00:00:00\",\"2021-05-13T00:00:00\",\"2021-05-14T00:00:00\",\"2021-05-17T00:00:00\",\"2021-05-18T00:00:00\",\"2021-05-19T00:00:00\",\"2021-05-20T00:00:00\",\"2021-05-21T00:00:00\",\"2021-05-24T00:00:00\",\"2021-05-25T00:00:00\",\"2021-05-26T00:00:00\",\"2021-05-27T00:00:00\",\"2021-05-28T00:00:00\",\"2021-06-01T00:00:00\",\"2021-06-02T00:00:00\",\"2021-06-03T00:00:00\",\"2021-06-04T00:00:00\",\"2021-06-07T00:00:00\",\"2021-06-08T00:00:00\",\"2021-06-09T00:00:00\",\"2021-06-10T00:00:00\",\"2021-06-11T00:00:00\",\"2021-06-14T00:00:00\",\"2021-06-15T00:00:00\",\"2021-06-16T00:00:00\",\"2021-06-17T00:00:00\",\"2021-06-18T00:00:00\",\"2021-06-21T00:00:00\",\"2021-06-22T00:00:00\",\"2021-06-23T00:00:00\",\"2021-06-24T00:00:00\",\"2021-06-25T00:00:00\",\"2021-06-28T00:00:00\",\"2021-06-29T00:00:00\",\"2021-06-30T00:00:00\",\"2021-07-01T00:00:00\",\"2021-07-02T00:00:00\",\"2021-07-06T00:00:00\",\"2021-07-07T00:00:00\",\"2021-07-08T00:00:00\",\"2021-07-09T00:00:00\",\"2021-07-12T00:00:00\",\"2021-07-13T00:00:00\",\"2021-07-14T00:00:00\",\"2021-07-15T00:00:00\",\"2021-07-16T00:00:00\",\"2021-07-19T00:00:00\",\"2021-07-20T00:00:00\",\"2021-07-21T00:00:00\",\"2021-07-22T00:00:00\",\"2021-07-23T00:00:00\",\"2021-07-26T00:00:00\",\"2021-07-27T00:00:00\",\"2021-07-28T00:00:00\",\"2021-07-29T00:00:00\",\"2021-07-30T00:00:00\",\"2021-08-02T00:00:00\",\"2021-08-03T00:00:00\",\"2021-08-04T00:00:00\",\"2021-08-05T00:00:00\",\"2021-08-06T00:00:00\",\"2021-08-09T00:00:00\",\"2021-08-10T00:00:00\",\"2021-08-11T00:00:00\",\"2021-08-12T00:00:00\",\"2021-08-13T00:00:00\",\"2021-08-16T00:00:00\",\"2021-08-17T00:00:00\",\"2021-08-18T00:00:00\",\"2021-08-19T00:00:00\",\"2021-08-20T00:00:00\",\"2021-08-23T00:00:00\",\"2021-08-24T00:00:00\",\"2021-08-25T00:00:00\",\"2021-08-26T00:00:00\",\"2021-08-27T00:00:00\",\"2021-08-30T00:00:00\",\"2021-08-31T00:00:00\",\"2021-09-01T00:00:00\",\"2021-09-02T00:00:00\",\"2021-09-03T00:00:00\",\"2021-09-07T00:00:00\",\"2021-09-08T00:00:00\",\"2021-09-09T00:00:00\",\"2021-09-10T00:00:00\",\"2021-09-13T00:00:00\",\"2021-09-14T00:00:00\",\"2021-09-15T00:00:00\",\"2021-09-16T00:00:00\",\"2021-09-17T00:00:00\",\"2021-09-20T00:00:00\",\"2021-09-21T00:00:00\",\"2021-09-22T00:00:00\",\"2021-09-23T00:00:00\",\"2021-09-24T00:00:00\",\"2021-09-27T00:00:00\",\"2021-09-28T00:00:00\",\"2021-09-29T00:00:00\",\"2021-09-30T00:00:00\",\"2021-10-01T00:00:00\",\"2021-10-04T00:00:00\",\"2021-10-05T00:00:00\",\"2021-10-06T00:00:00\",\"2021-10-07T00:00:00\",\"2021-10-08T00:00:00\",\"2021-10-11T00:00:00\",\"2021-10-12T00:00:00\",\"2021-10-13T00:00:00\",\"2021-10-14T00:00:00\",\"2021-10-15T00:00:00\",\"2021-10-18T00:00:00\",\"2021-10-19T00:00:00\",\"2021-10-20T00:00:00\",\"2021-10-21T00:00:00\",\"2021-10-22T00:00:00\",\"2021-10-25T00:00:00\",\"2021-10-26T00:00:00\",\"2021-10-27T00:00:00\",\"2021-10-28T00:00:00\",\"2021-10-29T00:00:00\",\"2021-11-01T00:00:00\",\"2021-11-02T00:00:00\",\"2021-11-03T00:00:00\",\"2021-11-04T00:00:00\",\"2021-11-05T00:00:00\",\"2021-11-08T00:00:00\",\"2021-11-09T00:00:00\",\"2021-11-10T00:00:00\",\"2021-11-11T00:00:00\",\"2021-11-12T00:00:00\",\"2021-11-15T00:00:00\",\"2021-11-16T00:00:00\",\"2021-11-17T00:00:00\",\"2021-11-18T00:00:00\",\"2021-11-19T00:00:00\",\"2021-11-22T00:00:00\",\"2021-11-23T00:00:00\",\"2021-11-24T00:00:00\",\"2021-11-26T00:00:00\",\"2021-11-29T00:00:00\",\"2021-11-30T00:00:00\",\"2021-12-01T00:00:00\",\"2021-12-02T00:00:00\",\"2021-12-03T00:00:00\",\"2021-12-06T00:00:00\",\"2021-12-07T00:00:00\",\"2021-12-08T00:00:00\",\"2021-12-09T00:00:00\",\"2021-12-10T00:00:00\",\"2021-12-13T00:00:00\",\"2021-12-14T00:00:00\",\"2021-12-15T00:00:00\",\"2021-12-16T00:00:00\",\"2021-12-17T00:00:00\",\"2021-12-20T00:00:00\",\"2021-12-21T00:00:00\",\"2021-12-22T00:00:00\",\"2021-12-23T00:00:00\",\"2021-12-27T00:00:00\",\"2021-12-28T00:00:00\",\"2021-12-29T00:00:00\",\"2021-12-30T00:00:00\",\"2021-12-31T00:00:00\",\"2022-01-03T00:00:00\",\"2022-01-04T00:00:00\",\"2022-01-05T00:00:00\",\"2022-01-06T00:00:00\",\"2022-01-07T00:00:00\",\"2022-01-10T00:00:00\",\"2022-01-11T00:00:00\",\"2022-01-12T00:00:00\",\"2022-01-13T00:00:00\",\"2022-01-14T00:00:00\",\"2022-01-18T00:00:00\",\"2022-01-19T00:00:00\",\"2022-01-20T00:00:00\",\"2022-01-21T00:00:00\",\"2022-01-24T00:00:00\",\"2022-01-25T00:00:00\",\"2022-01-26T00:00:00\",\"2022-01-27T00:00:00\",\"2022-01-28T00:00:00\",\"2022-01-31T00:00:00\",\"2022-02-01T00:00:00\",\"2022-02-02T00:00:00\",\"2022-02-03T00:00:00\",\"2022-02-04T00:00:00\",\"2022-02-07T00:00:00\",\"2022-02-08T00:00:00\",\"2022-02-09T00:00:00\",\"2022-02-10T00:00:00\",\"2022-02-11T00:00:00\",\"2022-02-14T00:00:00\",\"2022-02-15T00:00:00\",\"2022-02-16T00:00:00\",\"2022-02-17T00:00:00\",\"2022-02-18T00:00:00\",\"2022-02-22T00:00:00\",\"2022-02-23T00:00:00\",\"2022-02-24T00:00:00\",\"2022-02-25T00:00:00\",\"2022-02-28T00:00:00\",\"2022-03-01T00:00:00\",\"2022-03-02T00:00:00\",\"2022-03-03T00:00:00\",\"2022-03-04T00:00:00\",\"2022-03-07T00:00:00\",\"2022-03-08T00:00:00\",\"2022-03-09T00:00:00\",\"2022-03-10T00:00:00\",\"2022-03-11T00:00:00\",\"2022-03-14T00:00:00\",\"2022-03-15T00:00:00\",\"2022-03-16T00:00:00\",\"2022-03-17T00:00:00\",\"2022-03-18T00:00:00\",\"2022-03-21T00:00:00\",\"2022-03-22T00:00:00\",\"2022-03-23T00:00:00\",\"2022-03-24T00:00:00\",\"2022-03-25T00:00:00\",\"2022-03-28T00:00:00\",\"2022-03-29T00:00:00\",\"2022-03-30T00:00:00\",\"2022-03-31T00:00:00\",\"2022-04-01T00:00:00\",\"2022-04-04T00:00:00\",\"2022-04-05T00:00:00\",\"2022-04-06T00:00:00\",\"2022-04-07T00:00:00\",\"2022-04-08T00:00:00\",\"2022-04-11T00:00:00\",\"2022-04-12T00:00:00\",\"2022-04-13T00:00:00\",\"2022-04-14T00:00:00\",\"2022-04-18T00:00:00\",\"2022-04-19T00:00:00\",\"2022-04-20T00:00:00\",\"2022-04-21T00:00:00\",\"2022-04-22T00:00:00\",\"2022-04-25T00:00:00\",\"2022-04-26T00:00:00\",\"2022-04-27T00:00:00\",\"2022-04-28T00:00:00\",\"2022-04-29T00:00:00\",\"2022-05-02T00:00:00\",\"2022-05-03T00:00:00\",\"2022-05-04T00:00:00\",\"2022-05-05T00:00:00\",\"2022-05-06T00:00:00\",\"2022-05-09T00:00:00\",\"2022-05-10T00:00:00\",\"2022-05-11T00:00:00\",\"2022-05-12T00:00:00\",\"2022-05-13T00:00:00\",\"2022-05-16T00:00:00\",\"2022-05-17T00:00:00\",\"2022-05-18T00:00:00\",\"2022-05-19T00:00:00\",\"2022-05-20T00:00:00\",\"2022-05-23T00:00:00\",\"2022-05-24T00:00:00\",\"2022-05-25T00:00:00\",\"2022-05-26T00:00:00\",\"2022-05-27T00:00:00\",\"2022-05-31T00:00:00\",\"2022-06-01T00:00:00\",\"2022-06-02T00:00:00\",\"2022-06-03T00:00:00\",\"2022-06-06T00:00:00\",\"2022-06-07T00:00:00\",\"2022-06-08T00:00:00\",\"2022-06-09T00:00:00\",\"2022-06-10T00:00:00\",\"2022-06-13T00:00:00\",\"2022-06-14T00:00:00\",\"2022-06-15T00:00:00\",\"2022-06-16T00:00:00\",\"2022-06-17T00:00:00\",\"2022-06-21T00:00:00\",\"2022-06-22T00:00:00\",\"2022-06-23T00:00:00\",\"2022-06-24T00:00:00\",\"2022-06-27T00:00:00\",\"2022-06-28T00:00:00\",\"2022-06-29T00:00:00\",\"2022-06-30T00:00:00\",\"2022-07-01T00:00:00\",\"2022-07-05T00:00:00\",\"2022-07-06T00:00:00\",\"2022-07-07T00:00:00\",\"2022-07-08T00:00:00\",\"2022-07-11T00:00:00\",\"2022-07-12T00:00:00\",\"2022-07-13T00:00:00\",\"2022-07-14T00:00:00\",\"2022-07-15T00:00:00\",\"2022-07-18T00:00:00\",\"2022-07-19T00:00:00\",\"2022-07-20T00:00:00\",\"2022-07-21T00:00:00\",\"2022-07-22T00:00:00\",\"2022-07-25T00:00:00\",\"2022-07-26T00:00:00\",\"2022-07-27T00:00:00\",\"2022-07-28T00:00:00\",\"2022-07-29T00:00:00\",\"2022-08-01T00:00:00\",\"2022-08-02T00:00:00\",\"2022-08-03T00:00:00\",\"2022-08-04T00:00:00\",\"2022-08-05T00:00:00\",\"2022-08-08T00:00:00\",\"2022-08-09T00:00:00\",\"2022-08-10T00:00:00\",\"2022-08-11T00:00:00\",\"2022-08-12T00:00:00\",\"2022-08-15T00:00:00\",\"2022-08-16T00:00:00\",\"2022-08-17T00:00:00\",\"2022-08-18T00:00:00\",\"2022-08-19T00:00:00\",\"2022-08-22T00:00:00\",\"2022-08-23T00:00:00\",\"2022-08-24T00:00:00\",\"2022-08-25T00:00:00\",\"2022-08-26T00:00:00\",\"2022-08-29T00:00:00\",\"2022-08-30T00:00:00\",\"2022-08-31T00:00:00\",\"2022-09-01T00:00:00\",\"2022-09-02T00:00:00\",\"2022-09-06T00:00:00\",\"2022-09-07T00:00:00\",\"2022-09-08T00:00:00\",\"2022-09-09T00:00:00\",\"2022-09-12T00:00:00\",\"2022-09-13T00:00:00\",\"2022-09-14T00:00:00\",\"2022-09-15T00:00:00\",\"2022-09-16T00:00:00\",\"2022-09-19T00:00:00\",\"2022-09-20T00:00:00\",\"2022-09-21T00:00:00\",\"2022-09-22T00:00:00\",\"2022-09-23T00:00:00\",\"2022-09-26T00:00:00\",\"2022-09-27T00:00:00\",\"2022-09-28T00:00:00\",\"2022-09-29T00:00:00\",\"2022-09-30T00:00:00\",\"2022-10-03T00:00:00\",\"2022-10-04T00:00:00\",\"2022-10-05T00:00:00\",\"2022-10-06T00:00:00\",\"2022-10-07T00:00:00\",\"2022-10-10T00:00:00\",\"2022-10-11T00:00:00\",\"2022-10-12T00:00:00\",\"2022-10-13T00:00:00\",\"2022-10-14T00:00:00\",\"2022-10-17T00:00:00\",\"2022-10-18T00:00:00\",\"2022-10-19T00:00:00\",\"2022-10-20T00:00:00\",\"2022-10-21T00:00:00\",\"2022-10-24T00:00:00\",\"2022-10-25T00:00:00\",\"2022-10-26T00:00:00\",\"2022-10-27T00:00:00\",\"2022-10-28T00:00:00\",\"2022-10-31T00:00:00\",\"2022-11-01T00:00:00\",\"2022-11-02T00:00:00\",\"2022-11-03T00:00:00\",\"2022-11-04T00:00:00\",\"2022-11-07T00:00:00\",\"2022-11-08T00:00:00\",\"2022-11-09T00:00:00\",\"2022-11-10T00:00:00\",\"2022-11-11T00:00:00\",\"2022-11-14T00:00:00\",\"2022-11-15T00:00:00\",\"2022-11-16T00:00:00\",\"2022-11-17T00:00:00\",\"2022-11-18T00:00:00\",\"2022-11-21T00:00:00\",\"2022-11-22T00:00:00\",\"2022-11-23T00:00:00\",\"2022-11-25T00:00:00\",\"2022-11-28T00:00:00\",\"2022-11-29T00:00:00\",\"2022-11-30T00:00:00\",\"2022-12-01T00:00:00\",\"2022-12-02T00:00:00\",\"2022-12-05T00:00:00\",\"2022-12-06T00:00:00\",\"2022-12-07T00:00:00\",\"2022-12-08T00:00:00\",\"2022-12-09T00:00:00\",\"2022-12-12T00:00:00\",\"2022-12-13T00:00:00\",\"2022-12-14T00:00:00\",\"2022-12-15T00:00:00\",\"2022-12-16T00:00:00\",\"2022-12-19T00:00:00\",\"2022-12-20T00:00:00\",\"2022-12-21T00:00:00\",\"2022-12-22T00:00:00\",\"2022-12-23T00:00:00\",\"2022-12-27T00:00:00\",\"2022-12-28T00:00:00\",\"2022-12-29T00:00:00\",\"2022-12-30T00:00:00\",\"2023-01-03T00:00:00\",\"2023-01-04T00:00:00\",\"2023-01-05T00:00:00\",\"2023-01-06T00:00:00\",\"2023-01-09T00:00:00\",\"2023-01-10T00:00:00\",\"2023-01-11T00:00:00\",\"2023-01-12T00:00:00\",\"2023-01-13T00:00:00\",\"2023-01-17T00:00:00\",\"2023-01-18T00:00:00\",\"2023-01-19T00:00:00\",\"2023-01-20T00:00:00\",\"2023-01-23T00:00:00\",\"2023-01-24T00:00:00\",\"2023-01-25T00:00:00\",\"2023-01-26T00:00:00\",\"2023-01-27T00:00:00\",\"2023-01-30T00:00:00\",\"2023-01-31T00:00:00\",\"2023-02-01T00:00:00\",\"2023-02-02T00:00:00\",\"2023-02-03T00:00:00\",\"2023-02-06T00:00:00\",\"2023-02-07T00:00:00\",\"2023-02-08T00:00:00\",\"2023-02-09T00:00:00\",\"2023-02-10T00:00:00\",\"2023-02-13T00:00:00\",\"2023-02-14T00:00:00\",\"2023-02-15T00:00:00\",\"2023-02-16T00:00:00\",\"2023-02-17T00:00:00\",\"2023-02-21T00:00:00\",\"2023-02-22T00:00:00\",\"2023-02-23T00:00:00\",\"2023-02-24T00:00:00\",\"2023-02-27T00:00:00\",\"2023-02-28T00:00:00\",\"2023-03-01T00:00:00\",\"2023-03-02T00:00:00\",\"2023-03-03T00:00:00\",\"2023-03-06T00:00:00\",\"2023-03-07T00:00:00\",\"2023-03-08T00:00:00\",\"2023-03-09T00:00:00\",\"2023-03-10T00:00:00\",\"2023-03-13T00:00:00\",\"2023-03-14T00:00:00\",\"2023-03-15T00:00:00\",\"2023-03-16T00:00:00\",\"2023-03-17T00:00:00\",\"2023-03-20T00:00:00\",\"2023-03-21T00:00:00\",\"2023-03-22T00:00:00\",\"2023-03-23T00:00:00\",\"2023-03-24T00:00:00\",\"2023-03-27T00:00:00\",\"2023-03-28T00:00:00\",\"2023-03-29T00:00:00\",\"2023-03-30T00:00:00\",\"2023-03-31T00:00:00\",\"2023-04-03T00:00:00\",\"2023-04-04T00:00:00\",\"2023-04-05T00:00:00\",\"2023-04-06T00:00:00\",\"2023-04-10T00:00:00\",\"2023-04-11T00:00:00\",\"2023-04-12T00:00:00\",\"2023-04-13T00:00:00\",\"2023-04-14T00:00:00\",\"2023-04-17T00:00:00\",\"2023-04-18T00:00:00\",\"2023-04-19T00:00:00\",\"2023-04-20T00:00:00\",\"2023-04-21T00:00:00\",\"2023-04-24T00:00:00\",\"2023-04-25T00:00:00\",\"2023-04-26T00:00:00\",\"2023-04-27T00:00:00\",\"2023-04-28T00:00:00\",\"2023-05-01T00:00:00\",\"2023-05-02T00:00:00\",\"2023-05-03T00:00:00\",\"2023-05-04T00:00:00\",\"2023-05-05T00:00:00\",\"2023-05-08T00:00:00\",\"2023-05-09T00:00:00\",\"2023-05-10T00:00:00\",\"2023-05-11T00:00:00\",\"2023-05-12T00:00:00\",\"2023-05-15T00:00:00\",\"2023-05-16T00:00:00\",\"2023-05-17T00:00:00\",\"2023-05-18T00:00:00\",\"2023-05-19T00:00:00\",\"2023-05-22T00:00:00\",\"2023-05-23T00:00:00\",\"2023-05-24T00:00:00\",\"2023-05-25T00:00:00\",\"2023-05-26T00:00:00\",\"2023-05-30T00:00:00\",\"2023-05-31T00:00:00\",\"2023-06-01T00:00:00\",\"2023-06-02T00:00:00\",\"2023-06-05T00:00:00\",\"2023-06-06T00:00:00\",\"2023-06-07T00:00:00\",\"2023-06-08T00:00:00\",\"2023-06-09T00:00:00\",\"2023-06-12T00:00:00\",\"2023-06-13T00:00:00\",\"2023-06-14T00:00:00\",\"2023-06-15T00:00:00\",\"2023-06-16T00:00:00\",\"2023-06-20T00:00:00\",\"2023-06-21T00:00:00\",\"2023-06-22T00:00:00\",\"2023-06-23T00:00:00\",\"2023-06-26T00:00:00\",\"2023-06-27T00:00:00\",\"2023-06-28T00:00:00\",\"2023-06-29T00:00:00\",\"2023-06-30T00:00:00\",\"2023-07-03T00:00:00\",\"2023-07-05T00:00:00\",\"2023-07-06T00:00:00\",\"2023-07-07T00:00:00\",\"2023-07-10T00:00:00\",\"2023-07-11T00:00:00\",\"2023-07-12T00:00:00\",\"2023-07-13T00:00:00\",\"2023-07-14T00:00:00\",\"2023-07-17T00:00:00\",\"2023-07-18T00:00:00\",\"2023-07-19T00:00:00\",\"2023-07-20T00:00:00\",\"2023-07-21T00:00:00\",\"2023-07-24T00:00:00\",\"2023-07-25T00:00:00\",\"2023-07-26T00:00:00\",\"2023-07-27T00:00:00\",\"2023-07-28T00:00:00\",\"2023-07-31T00:00:00\",\"2023-08-01T00:00:00\",\"2023-08-02T00:00:00\",\"2023-08-03T00:00:00\",\"2023-08-04T00:00:00\",\"2023-08-07T00:00:00\",\"2023-08-08T00:00:00\",\"2023-08-09T00:00:00\",\"2023-08-10T00:00:00\",\"2023-08-11T00:00:00\",\"2023-08-14T00:00:00\",\"2023-08-15T00:00:00\",\"2023-08-16T00:00:00\",\"2023-08-17T00:00:00\",\"2023-08-18T00:00:00\",\"2023-08-21T00:00:00\",\"2023-08-22T00:00:00\",\"2023-08-23T00:00:00\",\"2023-08-24T00:00:00\",\"2023-08-25T00:00:00\",\"2023-08-28T00:00:00\",\"2023-08-29T00:00:00\",\"2023-08-30T00:00:00\",\"2023-08-31T00:00:00\",\"2023-09-01T00:00:00\",\"2023-09-05T00:00:00\",\"2023-09-06T00:00:00\",\"2023-09-07T00:00:00\",\"2023-09-08T00:00:00\",\"2023-09-11T00:00:00\",\"2023-09-12T00:00:00\",\"2023-09-13T00:00:00\",\"2023-09-14T00:00:00\",\"2023-09-15T00:00:00\",\"2023-09-18T00:00:00\",\"2023-09-19T00:00:00\",\"2023-09-20T00:00:00\",\"2023-09-21T00:00:00\",\"2023-09-22T00:00:00\",\"2023-09-25T00:00:00\",\"2023-09-26T00:00:00\",\"2023-09-27T00:00:00\",\"2023-09-28T00:00:00\",\"2023-09-29T00:00:00\",\"2023-10-02T00:00:00\",\"2023-10-03T00:00:00\",\"2023-10-04T00:00:00\",\"2023-10-05T00:00:00\",\"2023-10-06T00:00:00\",\"2023-10-09T00:00:00\",\"2023-10-10T00:00:00\",\"2023-10-11T00:00:00\",\"2023-10-12T00:00:00\",\"2023-10-13T00:00:00\",\"2023-10-16T00:00:00\",\"2023-10-17T00:00:00\",\"2023-10-18T00:00:00\",\"2023-10-19T00:00:00\",\"2023-10-20T00:00:00\",\"2023-10-23T00:00:00\",\"2023-10-24T00:00:00\",\"2023-10-25T00:00:00\",\"2023-10-26T00:00:00\",\"2023-10-27T00:00:00\",\"2023-10-30T00:00:00\",\"2023-10-31T00:00:00\",\"2023-11-01T00:00:00\",\"2023-11-02T00:00:00\",\"2023-11-03T00:00:00\",\"2023-11-06T00:00:00\",\"2023-11-07T00:00:00\",\"2023-11-08T00:00:00\",\"2023-11-09T00:00:00\",\"2023-11-10T00:00:00\",\"2023-11-13T00:00:00\",\"2023-11-14T00:00:00\",\"2023-11-15T00:00:00\",\"2023-11-16T00:00:00\",\"2023-11-17T00:00:00\",\"2023-11-20T00:00:00\",\"2023-11-21T00:00:00\",\"2023-11-22T00:00:00\",\"2023-11-24T00:00:00\",\"2023-11-27T00:00:00\",\"2023-11-28T00:00:00\",\"2023-11-29T00:00:00\",\"2023-11-30T00:00:00\",\"2023-12-01T00:00:00\",\"2023-12-04T00:00:00\",\"2023-12-05T00:00:00\",\"2023-12-06T00:00:00\",\"2023-12-07T00:00:00\",\"2023-12-08T00:00:00\",\"2023-12-11T00:00:00\",\"2023-12-12T00:00:00\",\"2023-12-13T00:00:00\",\"2023-12-14T00:00:00\",\"2023-12-15T00:00:00\",\"2023-12-18T00:00:00\",\"2023-12-19T00:00:00\",\"2023-12-20T00:00:00\",\"2023-12-21T00:00:00\",\"2023-12-22T00:00:00\",\"2023-12-26T00:00:00\",\"2023-12-27T00:00:00\",\"2023-12-28T00:00:00\",\"2023-12-29T00:00:00\",\"2024-01-02T00:00:00\",\"2024-01-03T00:00:00\",\"2024-01-04T00:00:00\",\"2024-01-05T00:00:00\",\"2024-01-08T00:00:00\",\"2024-01-09T00:00:00\",\"2024-01-10T00:00:00\",\"2024-01-11T00:00:00\",\"2024-01-12T00:00:00\",\"2024-01-16T00:00:00\",\"2024-01-17T00:00:00\",\"2024-01-18T00:00:00\",\"2024-01-19T00:00:00\",\"2024-01-22T00:00:00\",\"2024-01-23T00:00:00\",\"2024-01-24T00:00:00\",\"2024-01-25T00:00:00\",\"2024-01-26T00:00:00\",\"2024-01-29T00:00:00\",\"2024-01-30T00:00:00\",\"2024-01-31T00:00:00\",\"2024-02-01T00:00:00\",\"2024-02-02T00:00:00\",\"2024-02-05T00:00:00\",\"2024-02-06T00:00:00\",\"2024-02-07T00:00:00\",\"2024-02-08T00:00:00\",\"2024-02-09T00:00:00\",\"2024-02-12T00:00:00\",\"2024-02-13T00:00:00\",\"2024-02-14T00:00:00\",\"2024-02-15T00:00:00\",\"2024-02-16T00:00:00\",\"2024-02-20T00:00:00\",\"2024-02-21T00:00:00\",\"2024-02-22T00:00:00\",\"2024-02-23T00:00:00\",\"2024-02-26T00:00:00\",\"2024-02-27T00:00:00\",\"2024-02-28T00:00:00\",\"2024-02-29T00:00:00\",\"2024-03-01T00:00:00\",\"2024-03-04T00:00:00\",\"2024-03-05T00:00:00\",\"2024-03-06T00:00:00\",\"2024-03-07T00:00:00\",\"2024-03-08T00:00:00\",\"2024-03-11T00:00:00\",\"2024-03-12T00:00:00\",\"2024-03-13T00:00:00\",\"2024-03-14T00:00:00\",\"2024-03-15T00:00:00\",\"2024-03-18T00:00:00\",\"2024-03-19T00:00:00\",\"2024-03-20T00:00:00\",\"2024-03-21T00:00:00\",\"2024-03-22T00:00:00\",\"2024-03-25T00:00:00\",\"2024-03-26T00:00:00\",\"2024-03-27T00:00:00\",\"2024-03-28T00:00:00\",\"2024-04-01T00:00:00\",\"2024-04-02T00:00:00\",\"2024-04-03T00:00:00\",\"2024-04-04T00:00:00\",\"2024-04-05T00:00:00\",\"2024-04-08T00:00:00\",\"2024-04-09T00:00:00\",\"2024-04-10T00:00:00\",\"2024-04-11T00:00:00\",\"2024-04-12T00:00:00\",\"2024-04-15T00:00:00\",\"2024-04-16T00:00:00\",\"2024-04-17T00:00:00\",\"2024-04-18T00:00:00\",\"2024-04-19T00:00:00\",\"2024-04-22T00:00:00\",\"2024-04-23T00:00:00\",\"2024-04-24T00:00:00\",\"2024-04-25T00:00:00\",\"2024-04-26T00:00:00\",\"2024-04-29T00:00:00\",\"2024-04-30T00:00:00\",\"2024-05-01T00:00:00\",\"2024-05-02T00:00:00\",\"2024-05-03T00:00:00\",\"2024-05-06T00:00:00\",\"2024-05-07T00:00:00\",\"2024-05-08T00:00:00\",\"2024-05-09T00:00:00\",\"2024-05-10T00:00:00\",\"2024-05-13T00:00:00\",\"2024-05-14T00:00:00\",\"2024-05-15T00:00:00\",\"2024-05-16T00:00:00\",\"2024-05-17T00:00:00\",\"2024-05-20T00:00:00\",\"2024-05-21T00:00:00\",\"2024-05-22T00:00:00\",\"2024-05-23T00:00:00\",\"2024-05-24T00:00:00\",\"2024-05-28T00:00:00\",\"2024-05-29T00:00:00\",\"2024-05-30T00:00:00\",\"2024-05-31T00:00:00\",\"2024-06-03T00:00:00\",\"2024-06-04T00:00:00\",\"2024-06-05T00:00:00\",\"2024-06-06T00:00:00\",\"2024-06-07T00:00:00\",\"2024-06-10T00:00:00\",\"2024-06-11T00:00:00\",\"2024-06-12T00:00:00\",\"2024-06-13T00:00:00\",\"2024-06-14T00:00:00\",\"2024-06-17T00:00:00\",\"2024-06-18T00:00:00\",\"2024-06-20T00:00:00\",\"2024-06-21T00:00:00\",\"2024-06-24T00:00:00\",\"2024-06-25T00:00:00\",\"2024-06-26T00:00:00\",\"2024-06-27T00:00:00\",\"2024-06-28T00:00:00\",\"2024-07-01T00:00:00\",\"2024-07-02T00:00:00\",\"2024-07-03T00:00:00\",\"2024-07-05T00:00:00\",\"2024-07-08T00:00:00\",\"2024-07-09T00:00:00\",\"2024-07-10T00:00:00\",\"2024-07-11T00:00:00\",\"2024-07-12T00:00:00\",\"2024-07-15T00:00:00\",\"2024-07-16T00:00:00\",\"2024-07-17T00:00:00\",\"2024-07-18T00:00:00\",\"2024-07-19T00:00:00\",\"2024-07-22T00:00:00\",\"2024-07-23T00:00:00\",\"2024-07-24T00:00:00\",\"2024-07-25T00:00:00\",\"2024-07-26T00:00:00\",\"2024-07-29T00:00:00\",\"2024-07-30T00:00:00\",\"2024-07-31T00:00:00\",\"2024-08-01T00:00:00\",\"2024-08-02T00:00:00\",\"2024-08-05T00:00:00\",\"2024-08-06T00:00:00\",\"2024-08-07T00:00:00\",\"2024-08-08T00:00:00\",\"2024-08-09T00:00:00\",\"2024-08-12T00:00:00\",\"2024-08-13T00:00:00\",\"2024-08-14T00:00:00\",\"2024-08-15T00:00:00\",\"2024-08-16T00:00:00\",\"2024-08-19T00:00:00\",\"2024-08-20T00:00:00\",\"2024-08-21T00:00:00\",\"2024-08-22T00:00:00\",\"2024-08-23T00:00:00\",\"2024-08-26T00:00:00\",\"2024-08-27T00:00:00\",\"2024-08-28T00:00:00\",\"2024-08-29T00:00:00\",\"2024-08-30T00:00:00\",\"2024-09-03T00:00:00\",\"2024-09-04T00:00:00\",\"2024-09-05T00:00:00\",\"2024-09-06T00:00:00\",\"2024-09-09T00:00:00\",\"2024-09-10T00:00:00\",\"2024-09-11T00:00:00\",\"2024-09-12T00:00:00\",\"2024-09-13T00:00:00\",\"2024-09-16T00:00:00\",\"2024-09-17T00:00:00\",\"2024-09-18T00:00:00\",\"2024-09-19T00:00:00\",\"2024-09-20T00:00:00\",\"2024-09-23T00:00:00\",\"2024-09-24T00:00:00\",\"2024-09-25T00:00:00\",\"2024-09-26T00:00:00\",\"2024-09-27T00:00:00\",\"2024-09-30T00:00:00\",\"2024-10-01T00:00:00\",\"2024-10-02T00:00:00\",\"2024-10-03T00:00:00\",\"2024-10-04T00:00:00\",\"2024-10-07T00:00:00\",\"2024-10-08T00:00:00\",\"2024-10-09T00:00:00\",\"2024-10-10T00:00:00\",\"2024-10-11T00:00:00\",\"2024-10-14T00:00:00\",\"2024-10-15T00:00:00\",\"2024-10-16T00:00:00\",\"2024-10-17T00:00:00\",\"2024-10-18T00:00:00\",\"2024-10-21T00:00:00\",\"2024-10-22T00:00:00\",\"2024-10-23T00:00:00\",\"2024-10-24T00:00:00\",\"2024-10-25T00:00:00\",\"2024-10-28T00:00:00\",\"2024-10-29T00:00:00\",\"2024-10-30T00:00:00\",\"2024-10-31T00:00:00\",\"2024-11-01T00:00:00\",\"2024-11-04T00:00:00\",\"2024-11-05T00:00:00\",\"2024-11-06T00:00:00\",\"2024-11-07T00:00:00\",\"2024-11-08T00:00:00\",\"2024-11-11T00:00:00\",\"2024-11-12T00:00:00\",\"2024-11-13T00:00:00\",\"2024-11-14T00:00:00\",\"2024-11-15T00:00:00\",\"2024-11-18T00:00:00\",\"2024-11-19T00:00:00\",\"2024-11-20T00:00:00\",\"2024-11-21T00:00:00\",\"2024-11-22T00:00:00\",\"2024-11-25T00:00:00\",\"2024-11-26T00:00:00\",\"2024-11-27T00:00:00\",\"2024-11-29T00:00:00\",\"2024-12-02T00:00:00\",\"2024-12-03T00:00:00\",\"2024-12-04T00:00:00\",\"2024-12-05T00:00:00\",\"2024-12-06T00:00:00\",\"2024-12-09T00:00:00\",\"2024-12-10T00:00:00\",\"2024-12-11T00:00:00\",\"2024-12-12T00:00:00\",\"2024-12-13T00:00:00\",\"2024-12-16T00:00:00\",\"2024-12-17T00:00:00\",\"2024-12-18T00:00:00\",\"2024-12-19T00:00:00\",\"2024-12-20T00:00:00\",\"2024-12-23T00:00:00\",\"2024-12-24T00:00:00\",\"2024-12-26T00:00:00\",\"2024-12-27T00:00:00\",\"2024-12-30T00:00:00\",\"2024-12-31T00:00:00\",\"2025-01-02T00:00:00\",\"2025-01-03T00:00:00\",\"2025-01-06T00:00:00\",\"2025-01-07T00:00:00\",\"2025-01-08T00:00:00\",\"2025-01-10T00:00:00\",\"2025-01-13T00:00:00\",\"2025-01-14T00:00:00\",\"2025-01-15T00:00:00\",\"2025-01-16T00:00:00\",\"2025-01-17T00:00:00\",\"2025-01-21T00:00:00\",\"2025-01-22T00:00:00\",\"2025-01-23T00:00:00\",\"2025-01-24T00:00:00\",\"2025-01-27T00:00:00\",\"2025-01-28T00:00:00\",\"2025-01-29T00:00:00\",\"2025-01-30T00:00:00\",\"2025-01-31T00:00:00\",\"2025-02-03T00:00:00\",\"2025-02-04T00:00:00\",\"2025-02-05T00:00:00\",\"2025-02-06T00:00:00\",\"2025-02-07T00:00:00\",\"2025-02-10T00:00:00\",\"2025-02-11T00:00:00\",\"2025-02-12T00:00:00\",\"2025-02-13T00:00:00\",\"2025-02-14T00:00:00\",\"2025-02-18T00:00:00\",\"2025-02-19T00:00:00\",\"2025-02-20T00:00:00\",\"2025-02-21T00:00:00\",\"2025-02-24T00:00:00\",\"2025-02-25T00:00:00\",\"2025-02-26T00:00:00\",\"2025-02-27T00:00:00\",\"2025-02-28T00:00:00\",\"2025-03-03T00:00:00\",\"2025-03-04T00:00:00\",\"2025-03-05T00:00:00\",\"2025-03-06T00:00:00\",\"2025-03-07T00:00:00\",\"2025-03-10T00:00:00\",\"2025-03-11T00:00:00\",\"2025-03-12T00:00:00\",\"2025-03-13T00:00:00\",\"2025-03-14T00:00:00\",\"2025-03-17T00:00:00\",\"2025-03-18T00:00:00\",\"2025-03-19T00:00:00\",\"2025-03-20T00:00:00\",\"2025-03-21T00:00:00\",\"2025-03-24T00:00:00\",\"2025-03-25T00:00:00\",\"2025-03-26T00:00:00\",\"2025-03-27T00:00:00\",\"2025-03-28T00:00:00\",\"2025-03-31T00:00:00\",\"2025-04-01T00:00:00\",\"2025-04-02T00:00:00\",\"2025-04-03T00:00:00\",\"2025-04-04T00:00:00\",\"2025-04-07T00:00:00\",\"2025-04-08T00:00:00\",\"2025-04-09T00:00:00\",\"2025-04-10T00:00:00\",\"2025-04-11T00:00:00\",\"2025-04-14T00:00:00\",\"2025-04-15T00:00:00\",\"2025-04-16T00:00:00\",\"2025-04-17T00:00:00\",\"2025-04-21T00:00:00\",\"2025-04-22T00:00:00\",\"2025-04-23T00:00:00\",\"2025-04-24T00:00:00\",\"2025-04-25T00:00:00\",\"2025-04-28T00:00:00\",\"2025-04-29T00:00:00\",\"2025-04-30T00:00:00\",\"2025-05-01T00:00:00\",\"2025-05-02T00:00:00\",\"2025-05-05T00:00:00\",\"2025-05-06T00:00:00\",\"2025-05-07T00:00:00\",\"2025-05-08T00:00:00\",\"2025-05-09T00:00:00\",\"2025-05-12T00:00:00\",\"2025-05-13T00:00:00\",\"2025-05-14T00:00:00\",\"2025-05-15T00:00:00\",\"2025-05-16T00:00:00\",\"2025-05-19T00:00:00\",\"2025-05-20T00:00:00\",\"2025-05-21T00:00:00\",\"2025-05-22T00:00:00\",\"2025-05-23T00:00:00\",\"2025-05-27T00:00:00\",\"2025-05-28T00:00:00\",\"2025-05-29T00:00:00\",\"2025-05-30T00:00:00\"],\"xaxis\":\"x\",\"y\":{\"dtype\":\"f8\",\"bdata\":\"AAAAAAAAWUD5icdnSklaQO4n550PzltAUAk963g3XUDVhW4xq+pcQN3XFMG0MlxAhvAFJBg6XUCJ1\\u002fPEmyVdQOXBhxLjl19AHaxaXt+EX0CG9IuJnzhfQGlwziWs9F9A7jrZ7eBMX0Dqquc3TxFfQOoMJ6bxFV5ADxF72pk5XkBQSmqBEONfQJx6tXYcv2BA28FMvOOrYEBb1n6PAgRhQCGd9C9ru2BAS+uExE2hYEByZxnMvW1gQANgOFrZM2FAxFFUOSlpYUDzov\\u002fHdYdhQMVZSm9Ao2FAuITUMlREYkAzafz9THpiQP+cWqokR2JAF0U0ZupzYkA4DQsT\\u002fCViQMjnunD+PGFAIffsD5UxYUCXWulETFVhQL7nbTavRGFA7ySHWmC3YED\\u002f3fx1QJFfQMbKNDw+cF9AckK3JZgJX0DIkbuzR75fQGqiJVpCc19Afy8kSHJVX0BXa66T7D5gQHzMyh77UmBAzM\\u002fSI4tbXED9FYZzy05cQG0jHFZaUFxAcbxdbizKUUDcCWQAZulTQJlOHxo08lFAwaMo7aezUkC2jTE4ZL9SQCIAbgdLKFZACk+GJj4vVkCFIkoOjPZWQAOPFq5XGlhArDvwHRvpV0DKNtSuhAlYQK6\\u002f2kOMJ1dAtvXHsvACV0Dm+KRTAQtXQGpiFKMLpVdAKrWvvjtQWEBEoJNyCxlYQEpIv4dQBlpAwDBK2PCuWUDZ+4ayaD9aQDNnLx0VIlpAq9nwX1Z\\u002fWEBYLT4\\u002f8nxYQIWyWeVqxVdAPj19mFN4WUACMsNib2VZQJSxBfMpoVhAXDwMaaqfWEAsxScxsnhZQMZq1zEFl1pA5gsGXAoGW0BLMVJRO+ZbQG1cI5y68FtAnhSbhGZ\\u002fX0AJ8VGq2\\u002fxeQKE7ZqjJuV9AA8m1banlX0Ckgv76PxxgQCshAST2lWBAUbTmZLrOYUCQW0gK3ZxhQAonQ3bbyF5A6PaUOI2CX0DccRfehZZgQJe2xev0amFAMa37QzCxYEANMqrWrmdhQAy3p6rPaGFAxsF+\\u002fmoKYUAenUBHTEBgQJrfvxp7bmBAAvL2cpCeX0BCOOg1xG1gQAM1VsivC2FAe2MH3gDkYEDtvIHTjzFiQKgCBw6LDWFAx6IDha5HYUB\\u002ftUsunIlhQEZwlFK4S2FAxl4EAEJ8YUA3MNFDWYdhQAOi4qhtqWFALOm82D+uYEBl4jVsHfdgQB3KNahO6WBAXLHuHE8RYUBmNXVd2PZgQMHRzk+B12BA7BeabcieYEDpB\\u002fpXBERhQMldnTBJO2FAxwENoYGqYECk61YfJ5RgQDANI6J5ZWBAty8ZzkVyYEBVaOGmDlpgQKj8qxFwg2BAH144eWBTYEBJ0OOS2MZgQI7WM\\u002fxojmBAxF4nYg\\u002ffYEC65sTALZpgQNxIPz6QmmBA4pc+DHGKYEDRjN0XQopgQAdBokkuc2BAOPxrgWpXYEDCpiAHMmBgQOUI2KoTZmBA5fPFvpPGYEDadRdRggthQHxIl2sHJWFAe31fYcoQYUDPCpWQ2apjQImdP4IYh2NAsAfh9A3dY0CXTiAs+uFjQFdc+341Q2RAap0EsuEfZEDnUlNVWQ1kQMwLSLY8BWVAF8b4ez0UZUDSk\\u002fHLj8JkQBRntcNJQWVAjELYBxdrZECy4KZX\\u002fLpkQHuLGko9FmVAKU\\u002fY8T4PZUBYPzwpqu1lQB4AndAbdWVA4ggdSGUKZUA5L51XaEFlQLKyrktyvmRAq57yR94RZUC1dvBAwVZkQLBGLDy\\u002fjmRACG9nXS1DZEASJrL0i6dkQAB45Q3p5mRA7Qw12ZlrZUABIWmDsmxkQJkz2FxOVWJAwReQS2XPYkBCAJwfLyFiQCHJfYD0U2JASN+h50mLYkAsMr0DmJxiQNou7h\\u002fTHGNAQ7fc9QNSY0D6RgD+iKNjQMWBS+Kpl2NAEgggYqWVY0D\\u002fQGcIsrhiQMcFcy6a22JACl2KsbZVYkBqXhZpHkFjQPARDjBEImNAOZfFQAYqY0AGyfaY3GdjQJZph8FOTGNAbAPpS7QAY0A6KFWZyexiQEsR6HNcUGNA79qE1c\\u002f5YkDFXvw0YxdjQEnFTC1oiGNAxrsHBY\\u002fMY0C2t1x1cK1kQOJPFfkhcmRAp1TEBclzZED++SCJ8pFkQFS\\u002faumXQmRAgifnEfQCZUBxU3VTzFJlQJouBZhz8mZApgFD7JczZ0AaGw5V2yNnQEmV916wZWdA4oQEa+luaED4YngIfr9nQC8InUXPC2hAgo\\u002foqJM9aEC9gp3aZD9oQDogHoyL9mhAtFOj9o9KaUCxf0feB+FrQJUi9dah2mtAQH4eKKNva0CV7cmPqlxrQA61bGKvGGxAbLHEPBcgbUAA2vPmFTNtQL\\u002f\\u002fJaiL6W1AfWoq7D+Tb0BvReg259tvQOjqcJnl4W9AHPZsTyepcEDSWIeFPm5wQFkV7TiBGHFAy0JkkYjCcEC+DcBnQJ1uQD50b208j3FAHTc2gsTScEDfscgh8y1xQL0iiEvoZXFAbuZwXx+7cEDsI2dhyCtxQDdsToxmZHBAXqD1VbeZcEDDBt\\u002f\\u002fiVdwQFMHtNRVKHBAYgJyKWI4cUAyGj+Xa19xQDRFpxsgEXNAyeDuYXNndEAS0YVfrbN0QB\\u002f5Q2r5ZnRAtUY6mW1HdUAq6RhxW8t0QHpb5AKlPHVAwnXptrA7eECR7wTDR3t4QMbAT\\u002f\\u002ftzXlAa+uow8DyeUCULDsCEZt8QPZbK\\u002fTbaX5Au8p\\u002fmUB5gECt4CAm6JyBQIX5ODhIQIJA9IGfS27Sf0ANKKCV8ll+QIgPovCYsYBAGGRg\\u002f92HgUDefzkIXnmAQLk21HPWIoBAdKhntRnOf0AeZ3CPh5R7QIod+rHdh31AwYMwpmv1fEDitgOOBSR9QL+zZq56OntAolWA803xfUBx5S5\\u002fD7R+QN5AE7CVAX5AfUs1JoXFf0DOxT+lbsOAQJBx41TmhIBA2krYwGoQgUCebyHak6qEQE1\\u002f\\u002ffEsy4RA84CMNC8YhEC2vzuwvW6FQJRfhSFrQIVARCyxtYkChkDdlk9+SFSHQN7QDiuMHodA3+fWJoAAiUDa5jkYAkCIQDArqGeK14VAs9P2z2w8hkB9AhJvWRGFQH9Sjwf9uoRAqj6ApfAzhkDt97wRh6SFQDd8CBLQm4ZAjVaENmS5hUBddMObUuOFQO17znRzX4dATOkRWKWGiEC\\u002fhMGQSg6JQI8U6mgK3IlAAdmoFN6liUDuiPwjrwKJQBwcr\\u002f99aYlANGrIwBhWikCYgrK9M+KJQKDfkwUPGopAtTcbVt1kiEC5eHJG5HyIQHIT8Mzjm4dA7uhoc1Yhh0AdO36ag6qIQGG43TXA1YlADlZlvnRbikC0TUAvlluKQIX8dMjab4pABOqywoJrikDOF\\u002fx1YwiKQA3ciJ\\u002fqEolAbVexhnUXikD\\u002f7KPkag6KQDxvpB80y4pAoGbBNaJojEAe\\u002fqDniTuMQLc5gA3wUoxAzG4N5IaLi0BhiNXku+2IQELn6TN8Q4lAaYTUnoIdiEBVIkM3\\u002fieHQLvZipVr24ZA\\u002f0u+qMEqiEDIpDjOlJ6IQFIGxYW2hohAMjNqk1D1h0CVRvWFv9WJQMlpag\\u002fGlolA0WHyk\\u002fDbh0Dz53buZLCJQNRP+eq4OolALKXg36aoiUCMdhVmQf2IQPDeOpQAXolAT21hR+P8hUAidv8vqz2GQD+KzGp9UIZAoDacqxB6g0DtTtjCITKDQDFeYX6ljYBA1OqaOpQ+gkD4FsbbQrCAQIPBGtm9UIFA4MT2RvQtgUAIEHo+G5SBQMDKjfbuMYFAI44Zomzwf0BncECSSGmAQDEPhwg9z4BAWFOMgFKKgUDPSIQeRoGAQCLhT3f5Bn5A85GFJc3yfUCS6Qwt5LSAQE6e36xOa4BApYklz6mzgEAqVYM09f2BQBwrQet2E4JAY46EF6MngUBzWauKBAaBQAZPdmZ6AoBARwvrcnJXfEBMxgS+URV9QGbyd0cnLH5ARjJjh1IDf0D\\u002fjiGviE58QMsjEZETz35AA7tNarMLgEBGOkVM\\u002fll\\u002fQKQKDoOWCX5AmHluFgNUfkAAWATCdqF+QEru\\u002f910Sn5AkMoTYnVqfUDytQkQVD1+QKQWMiI+qn1AkJ8x0EtCfUCa4nEH2119QKA3tMRGb3xAWscCOQEdfEAYTotCupJ7QJXzr4BHq3pAFZSPeNq6fEChzkEbN+l8QGLk+6i\\u002fC35ArLJ\\u002fxQW0gEAZF4eeBKGBQPI2o+N35IFApJiA0ublgUAeFAKr9eSCQEb3UouKiYFAMsXM\\u002fmgRgUDMz9c6BciBQMXhGoOFSIJAWZTnDH4ng0C3pOXC7L2EQEjR5deNZIRAhl5yI4plhECibX96FOCDQGq1BHV0YYVA6dd+XpeUhEA45wByqv6DQAPLMh3JCoRAxqGe2UHmhEBjrCDYfRKGQBf0PN4xKoZAwmgJ1ndXhUBK4aNNKOeFQBSvCN37\\u002f4RARaq16l3yhUDzJ\\u002f7s5QyFQC3PdNawGYVA4YOXCSHahUBVHMIPLhGGQLBb1tQTYYZAL\\u002f5YkvjwhEDBLU9Ji56EQAx8FJrnwIRAZMdvYEIUhEBUmvpOUx2EQAk6aJQxEYVAGYVJDVKNhUAFyB9sUGCFQBOb7gc9JYVAIA5kdJ4qg0BNr0EYYTSCQGTpXVJNfoNACaMuX4oVhEDejqCxJyqDQDk69Az75IJAai9go2pbgkCdhq7oF5iCQHgU2lgVl4NAV3AtYYSGhUCfUcr1k\\u002fiFQIfrGiinC4dAsrni1y7EiEBYgIC6CxKIQNvdXzyVJIhAXWaC6lq3iUCiFiKhAxKJQIxfaEDFrYlAF8V5S6ikiUC+cKVD842LQF6NJWtwv4tAMrwl8YC\\u002fjECaAa3QuYWNQBGPvq2F1ItAsrPotK8mi0BAbZpsiTOMQPvzy4sRAYtAaP1ce5opikAEP+Wqpx6LQEReOVWP1otAeQR5C29Ki0DZjXKF50iMQJWjNbGLK4xAHyewWrh9i0DGcrZsUliLQJaiUh38OY5AAAvo59f1jUD2mS8FehONQHb76M5KDo1ASp\\u002fTvluzjEDJy3aF3W6MQFpI+kbf6YpAJfg7O40Bi0AmrZRvNXmJQFP\\u002fDKkNAIpAk5DvP3EuiUDNWvL8AcGJQIYfZmVtLYlAYdmKRP72h0Ce05LINNyJQEK8x\\u002fF0gIlAQe\\u002fL+CeaiUDy\\u002fnV+CESJQM9dEEJB+odAk54fSeWghkA70FABWa6GQEoiVoX7l4ZAgpyAI5NThUBq\\u002fqkZdyKFQBBz0ViJ6IRA0dFKED3ahEBzvigB0t+FQAtKdNjOUoVAC9R\\u002fXjqrhECGL4vd4\\u002fiEQKJXjYRj5IVAOE3MmBrBhUCUSW0ABbiGQF5v5qiDp4ZAaf4P9QlKhUDCijTuAceEQAi+jSkAG4VAempbQiy3hEDk0JL5isiEQPkYN\\u002fpYiIRAedpO9at9g0AypgkK8E6DQCimtnxal4JAmRIfqIO1gkCmV9e2QR6DQAoZFKkzqYNA1GD1j7sNg0BFTWzi7EeDQEUQC7UA9YJADOMnHrSsgkCT5Phm3DKCQPu+KIU3T4BASxlggsdlgEBFVDVnGYiAQKLvMGdufIBAeZjvqzKdgEBirhT2MOeAQGHlAyw4N4FAF2sHNANVgUDu\\u002fTWD+4eAQB+yWIYSn4BAMrBDj9KQgkCgh51hvZyDQFqt6nqYvINAFmErv9TVg0CED5XkOX2DQI1y4tCz+IJAWCM5KjMNg0B1lmS05\\u002fCDQFi9qLGpqoNAIeYLVo0igkC8DZ8UfOiBQHiUzamlIIFA8w6ow1SvgEDQF+1a+yWBQFwWeWDyioFAegjhJaNSg0A2eqYjpdeDQEA5KitXpoNAFiy6dLn9gkBsT5U6LIKBQEqRfsb+BoFAwTVELlNUgUDOqMZSB8iCQDVIC2SDpIFApKe66+5agUD\\u002fkjHNxb6BQP9hGmo2mYFApjxEo\\u002fFngkAeKTRv5FGCQLMRYzQ2s4JAVlrImGRggkCBS210E\\u002fOCQEcPE54\\u002fMINANS5LjY6qg0BhdNb699aDQL4aU7ZCFYVAiAnGLfA7hUANJi0Uxw2FQFjvN8s+X4RAy7BjJlW0hECDTd2AY9uEQO8J53k6YYRAHX4yDi9Ug0DkCxu1NXaDQMnou6Pt6oJAqIgzCy+ugUA\\u002fdpatgPOBQKdcaxyOaoJAjHZkW43dgUCOh+vfjkOCQEVA54cJkYJASCCL8lWCgkDpQy8lVSGCQNCPC58yx4FAxtmemWwZgkDjEz+iVw2BQIYBhhkHjoFAim7UAAnLgUDnpEW9ukWBQJzjSsGCPIFAIxsWs0\\u002fjgEBzQBHBZMKBQI3U7OO1XIBAYbuNqocfgEDMzbkBbBt7QMDZq\\u002f2ywXtAIrY6AsjjeUB4DTvaS\\u002f15QCB29ewzM3pAl+9b7AG4ekC4R0Jw8jh7QIKGjLVJsnlA4HSWJmcfe0CYdP54ViB6QGyri5ADCXpA9GigzYSIekBEukZ8KnN6QN4do9mQL3pA3dgOUA6deUA+0xzH7XF8QAhVmrliqXpAhX1hgXtCe0A6FcGDspN6QB7eE5NaEXxAW3dnfxDge0BA6JnPgAh7QAoeS\\u002fsO8XpABqom140FekCYPbNrqh50QNnjjWll3nNAq2Fr7zwydEBDlT9cWjxyQJWSPMDtUHJApBW\\u002fgrKHckAugBNc9+FxQEp2yWKn3XJAjBHSTAv\\u002fckBPPbhsZY1yQEGxZzU3JXJAwYN1bcP8cUBxFjAjobNxQGL2B4eWPXFAR0p7gXsQckCSf4DdgmJyQNSIhIEFXHNAV8Z5sHFxc0CsTBV4Md5xQBx1EvAUSnFA6\\u002fC6F4MVckBjqlK7eWdyQM5\\u002fiNd+pHJAdcgKyUYedEA0FwG5Ru10QM2T6cEnyXRAYsN2E8m5dEBvjbRgy1J0QMF6EJ3UHHNA\\u002fT09HeYAc0AglsCOK4R0QDsnuAheVXVAuMaZV2BMdUA9LbtHC9x0QGVclsYQj3RAxJqguutwdEATpcKxjD90QPc0HyNY1nRAmzjT7nxNdUCo++bdtrl0QFuottwhbXVAvQdrlGVvdUBxdxaMY9V1QHf4dWt\\u002fmHVA2+ZSi2RedUBEa+d5CeF0QMxkYgTOxHRALfeCFvCtckC04OtIWiVzQPLMSt3wQnNAGbPJRHYkc0BRU+KGnlNzQB5Z8Gl+IHJAB93EFzEpckAzZ1KUZbZxQCbpKdpV8HFAY8RH7Q4CckAChD9uA95xQClf\\u002fWm12nBADJslXWNCcUDhWuwOcEtxQP\\u002f\\u002fACdJIXNAbKI4j+EDdEA6XzWf5ShyQAWc53MoHHJA0bOaHYCgcUBhJDIl2bBxQJFXUXSFfHFAxnLkOODmcEANdx5JOZhwQGq0QuCcXnFAIGcMQRBEcUBITleA5DJxQP\\u002f+ufA1GXFAXPSEG6FhcUBCdDpRJYNxQEI3uUvKYnFAkeElJ7iOcUBo5w8UFzJyQFnE+rK\\u002fCXJAE6pqSbvacUCu4Un8JH1xQHKRz\\u002f1LIHFAG7Cp26oLcUBQBn3g8yNxQK\\u002fWjuOXV3FAwNWlDWoqcUBKIpolCn5xQAor8rp8THFA5fVystkfcUD+HMMGMwxxQBvrhspkJ3FAh11Z4wpPcUDOFOma5PpxQGKCMoJnlXJAkag7L2gmckCztvjwTG1yQJyvLBR+VnJA+WGeZhZUckDzwYCUeAlyQFrQG8gIFXJADtMM6bTrckDl4VumAm9yQCr5PenRlnBAm12OuOJqbECX9PG0Y3hvQJmTiXNNe25AnwEPT7G8bUBDHmM3vDZuQMB2Zloq1G1AN6ssaXLcbUCkDA+YJeFtQMi8cz8OQGxAGeChgW74bEDWQmGvQrltQFmhOEiNkG1AquSeqw0FbUD12YbUV21tQK+J9PbPuG5AWVEycolcbkDRmRszNZRuQPj9YakPYG5AJ53bJZiUbkDi\\u002f1pkBSZuQMdH\\u002fuCL1m5A3sQV45aobkCwYeguKcpuQD0IL5uC0W9AfGC2yjzhb0DQh65RvBJvQKrKLKMbym1AHozM9+lqbUBOycACrEBuQDsVwtQBGG5AdgX7sN8dbkAqP6MilA5uQFBGIUII6m1An2b5GqGebUANTpmOwMdtQL8i6U6KtW1AzdjMFvDYbUB6dA2H8SxuQODSOpfNIG5Ai9xTIJdVbkAfRMU0osVuQFI7+IIJOG9A5fVjgu4LcECY4AYSBeJwQPBYPbQ50HFA\\u002fIaFw\\u002fruckDpLLZIs4JyQBCL7Rjd3XJAMOxqPv5JdEDViu46D4V0QBxkJuHPQHRA4J+wshKvdECHfBLUlZt0QEbqmjgcpnRA9f+iRHZvdEBGpM7n+rN0QLWr29faOXVAI5QNhygAdUDa4sRa\\u002fvp0QB3drashXXRAYk\\u002fv3JzQdEAgnpl2MoZ0QBxOdhOVhXNANJoZtCJfc0A+vay+E4NzQCm93gCb4XNAg1N+gKK\\u002fdUB1Hlvz4SJ1QNgXnICs+nVAGekb6hHddUD6S9juYKR1QD5JOgsZbXVAV3dxRHXBdEDIMZz21gt1QIQcxh3UtXRAydB\\u002fCysodUC5pHxd+wB1QGjoOfwZAnRA7WyKLXcRdEAUzlROXuFzQM461z51bnNAYpYvCRY4ckANYQYo0w9yQF3rnXJepnVAwb48sgIkdkADAE28PM91QHeO9zlDanZAozncal2JeEDBGEeL\\u002f9d4QAsHLguVNXlANOszyK5ueEBieF2xzll5QCPM9SRAmXhAbC7EY05IeECXin\\u002f\\u002frWV4QO6nFxUfXXlAktEh2P8UeUDWqARI6Hp5QPqkeUFD3XhAokMu\\u002fc8zeUA4RCgqFDZ5QDRraBpsF3lAjehqB+yHekDklWDCPg17QMi7MlxB93pAfqpIhc8ye0ApTGRSp0Z7QCp9bIVLWHpA4OnVw3Yye0CG6B+Evsl5QAHnM6SnRXlAyeflx7BneEBHavCzl6B4QBijHyvEU3lAHkSvYCFueUA+HhTZ4F56QCiuKXRLQHpA3ttYE0kieUAp7DPYL6l5QHz0osfN83lAT2+VP3rPeUDZzkYNwmx6QN8D1kpJx3hAjxw61Ce\\u002feEBs0+UmrbZ4QLL1SCVyKHhAeUNUSZn7d0BpQSelZlR4QNakCumoMHhAJrzREpyDeEBuGvJI1QF4QIY3K3oZD3hA2MSOYDMGeEDt\\u002fXKU91t4QMxDXkroj3dAT\\u002fyKwUqwd0BHYTk6+Od3QAO1wdgiyXhAWCFuwZNaeED2mbDLB\\u002f93QDjhvtNuYXhAI1lO+EQMd0B2nEMr9V54QONZltJ3kndAjDs1rp+3d0DXbCYmP7F3QG2Fhd\\u002fiLHdAasvDcpowd0D3JTFgunp2QMbRtVox4nZAa+nJ\\u002fjiOd0De05x5Ulh5QDhtr3Go3XpAtCFvY1DDekBkSfxds3Z7QHNFeuSBFXtA0IasDAd1e0B+QH79KOt6QJDDMX9pPXtA\\u002fjENArhEe0AJ69vXSOB7QOt6NYAsTXtAXyU2zaPCekBkAUbzzCV7QNEBVcRWNntAluVq9KFle0A13jVyHDF7QF+IAnV9KXxApA2jS+wje0BStjAx0vh6QOIumEONtnpAIsbes7DDekBfr2d+xKd6QCBKivyAwnpAT7cOhOEaekA2vBIlcSZ6QOxiUguqQ3pAld3f2p0iekB+0IEuezt6QFNGC60QJ3pADfnFHCKNekDuq64iKhV6QFmeNe5IG3pAW42\\u002fUFQDekAYok0\\u002fuBt6QETj\\u002fkOxoXpA\\u002f9QVo\\u002fdyekBW9mxpwVR6QIRrYkZ0TXpAQ2QlWulPekDjjaFfYBl6QKQMv2YNrnlA14yzem7bd0D8lIavkU53QP\\u002fS5\\u002f2mX3dAEY4TFHhKd0Bga3iPFaZ3QIcetsloaHdAvJoF8SJOd0BFDtQdiFt3QJitH0TfznhAABASWFpseEDsObO2hTN3QKkk+iuTFXdABFHX7tIQd0CyEi6msgp3QDPeVPk7endALoIW1Jstd0B6eqhIbYN2QIyB29MLHXdA242K5oN3d0DXLeEx1L53QLasSDmjzndAjVon6vvvd0DFeNPxnlh4QEw7pUmARnhAj24EmTvFd0DOME1z98d3QGsrBZWVh3dA+3d+jfp0d0Br4n\\u002fIAZR3QL0L90wzLXhAvEWiiAsUeEAcT4T+1qF4QDgDsxjAinhAzk4cLF3feECBwXpMh4d4QODs9pIUAXlAmrc2Z\\u002fSteEAIKJmy04F4QGPweuM\\u002fC3hAdIUNiY\\u002fwd0BSvmsZvgh4QPyakFNLhHlAkNecrIlseUAK35OFhFh5QBKP3XMusnlAIGbGRsmOekCEvB5KTJp9QCca680JVX5AbABXN8PefkD5cGsVeY9+QJvx9OzuVn5AL6rtaqjefkCA523diwR\\u002fQIAjAKnKtH9AvCN8nH5Cf0BqlvtnVBN\\u002fQMx1JCIzWX9A\\u002fxwikjy2f0Av5XOuuuZ\\u002fQG6euvQ4aoBA1rcE2lKxgEDEU6z5X1SAQNvWcu\\u002fIy39AMpKL0TbygEBkD5lzkSyAQOjDrnwtX4BAzGt5V\\u002f3DgEBgMCpGhQWAQG7XTUHhvoBAvizfHtvfgEDFfMqceaqAQO8eMrGL7IBA0phEMK\\u002fvgEC\\u002fQXQ0\\u002ft6AQIidaq\\u002fEToFAfq+LaLTHgkAOdfhZRLiDQAEFWy\\u002f+kYNAnpAxOgZeg0CpYTFTHMKDQBsRD5Nic4JAF6TJiAWLgkAWDcWu\\u002fi+DQHgCuLtAP4NAZjuCi\\u002fDBgkBMuXPSZBGDQAGMrTn36IJAEm8okTSHg0DFYZ61C6CDQN8G02bKroNAT4xbD5UFg0BGjeOJOW+DQPjs1l7jEYNA0i7VLl7VgkAHGlugvRyEQE1ejLgeK4NAMLGQ2aLDg0A0jeCvqcGDQIDUpyA5A4VALAiIgxSkhECDZSsS+duEQFexEBlKvoRA5g3zFLErg0Bcet2WQE6DQOtBKPwIH4NAoRnW8Hh1gkBBNy5XSJ6CQMeD7uaErIFArx2WxD\\u002fTgUDcC1CSw+2BQGJrbU9b3YFAOSGx7gK1gkAlxYmzhF2DQPDON4EUN4NA+Vcnu7QMg0DT1q9tL0WDQMnRf+3KUYNAl6w0u2oVg0CT8hVQNEaDQCx8Ro1504NA82PBOBdEhEC0Lfd6dReFQLpbIw9jWYZALFfxyKxAhkB9WK7vXi+HQLhL3W0uPIdAHEOxt5BVh0DZjujY12OHQMh3APTMMIdAgpeVEp\\u002fzhkCYKDks\\u002f7GGQKQBPqsXZIhAOgvsx5yJiUBXLcVDQ\\u002faLQI\\u002fNmgymYItAmqv5VOrui0BCxOLsbpGOQAj1LWq7ioxA6vaTJseSjUD3YS4zifCNQHRalv71jY5AaUunQvAhkEBZhH9FSPqPQNQurvHiWJBAZcirLJXwj0DOUE6sWwyPQHfJ6ITlN45AFNtNjXayi0DwffrgtGGOQLkuTnFMTI1A8LiZlymIjEDN+ZpO7EuPQPQfVDc\\u002fT49AcRuDnEMSj0CQkElg9KWPQNTfPm6HLo9AqWFaMjZHjUC59eBPWYSNQLoCYyDepY5Aumt4y\\u002f9YjkDa7yoEvAWQQOgIDoEJ7o5AVRuZY\\u002feTj0DWZ6DJlFePQBVaWUiAD45AEZ9ZgslfjEB0OFAQ9IuMQMNmgeadaYtA\\u002fxCXxrJpjEDPRICmlY+MQBdXOvF65o1A1Ob2SjC1jUCWdaD2NcGMQAEHkYqq2IxAtcdLVnqFjECd0B3YTY+MQAFqHDFXIItAJnHx+3IPikA3R1axBHOKQDSgcRFcIoxAShV84oVBjEC0ALwBzOKLQD\\u002fDmO1zX4tAJrDOnLI0jED7Fk+CMjKLQJDk2YuwI4xAAm7nhzyJi0AXsrsvLqWNQCAb9V+LLo1AyPFQuAL\\u002fjUBv1WsHfvaPQKYRO6pGYI9AP1c0fSDsjkD34pfChmOOQNAATRfYp45AtDAiY4SNjkA8pG1mRjuOQDpFza9klY5Aze8OIFkxjkB1VuVrwseOQIrh6JepkY9AKCov96XMj0DZKllgWqePQC5zMMdZBY9AgLKl58gYj0DiSB1XGB+OQB9sLvs2h45AeLFU8CvdjUCGTP8Y0YeNQFJCsF+yvo1AU+c8PyQkjUB04s5lZgCNQLmAXjmErIxAp57pFi33ikAxln1QFKaLQIWkWORQNItAkkILaTGPi0BzmdqhEfyKQGdLujgGHoxAFe9Hisa\\u002fi0BaXuHnUuuKQF185mErWYlAJ3fX7A9eiUDzT51favOJQHlIxl7e1IlAamqlD1aniUDmJTJh2OaJQADv5fomBY1ATKkQDSYfjUDSCKugGq+MQBQI2oiHnoxAPKDfNeDXjUAfCgA1GDyOQGti1lVDfo1A\\u002f5LVCqQ+jUBB6niUCG2NQEai9rGFYY5A+2H5FnLkjUANLgw6kZ2NQMHHlQZr6IxAnl6dCfc8jUBz70HHdnmLQP9TWmpJJ4hAkuBE9j0RiUApssL57p2IQIvQK6ZBm4tA1z0aBjM8i0B5KyGOe42KQB4plCE3HYtAgk63IstGikAMGTDQ+r+JQLlRU0DBWIpAYV+s7GSdikCgcV7uWGaKQIrvph\\u002f+XYtAZfz80SQDi0ANM0YrTqyMQCSXdw1PIYxAAUQUCJ6eikBQbc7GC2iKQDVWooRWkYpAKI80rpByikAIo5adMrGJQA6AknMZ74lAkp+YEbEfiUC0YgByZSKIQGxYY5oSgolAD3r3xiDKiUCMtNH7IqeJQIVSM5nnAIpAzQx5QtUYi0A2kxHQZwiKQEr2t5y9+opADSOFK1WUi0DqaWAtKCiMQGw9V4sTRYxA8gbZ9L5UjED6S4n5FMSMQFjApJFeP4xA623L+8AojUDKcmKKkm6NQNWnXCO2VIxAo1X\\u002fQUM3i0A94cHb3x+LQHUSVgVgLotAaWpJIy7Ei0BqShZDjteLQPb1beuQy4tAu5K86hEai0C9rq+n1\\u002faKQBOKzwBt74tAUBDNJNSLjUCMFuoXx\\u002f2NQM8IKYk9P45A+FLrPNwmjkD2SkTnjZuOQE1ZJ4UyI45ADBp1jnUijkDRQcrzCriNQL6OxqUJfo5A8hooJR7QjUDH9l98E0aPQCJM6pwZRJBA\\u002fI+1OEkukECQ7W61SGmPQLk\\u002fsNxeFY9AscMQogFWjkCmGzV\\u002fSwePQK7HMSk565BA8kp6P3H6kEBXh\\u002fkNIB+RQPZGm\\u002fUy15NAYW7+J4Csk0AsK6goAUOUQLSpS\\u002fMbhJNAhVt8gZhelEDZt393oECUQKW\\u002f7H\\u002fDp5RAMtJyggoalUC\\u002fHfKsjAiWQFHYVKXGJJZAYf0BdzLTlEBXk+q0PJOUQBBvKaP6dpVAEv60XNDMlUCjD65kaXGVQMBJXZ0\\u002feZVAE43GyacXlkB4K8sJHZuVQJzPw5ahWZZAZ9M\\u002fHSrLlUB+JMYDzZ+VQIhp2VlXoZZA7zFiOaJglkBOJlUlu7GWQJUKDodxt5dArpZl9cq9l0DOAevOjGCWQMLAmsV\\u002fzpVAG00iEKzdlUBF3HWE5S2VQKXtOb9cEpZAWo4BW2ptlUDWtD6RChCVQGGfgbnouJRADi1OlerllEAvCGKX6KuVQK0NfbPM8ZVAkRXviyrVlkCxeLjL9a2VQPQaIudaQpVArByafsQulUC1A0ecLSSVQJcE+Hu0l5VAYQzUPA97lkBDYk5gQFCWQJ1srOmsXZdAS\\u002fjx\\u002fB2+l0AupKQ9Wi+XQPgC0QrwQJdAmTkGtCRyl0B1zsBLt9WWQGR\\u002f3ah4qpZAk3qNQDkyl0BuP5m2Um2XQHLmgB\\u002fj55ZA75kC96WulkCbAVDnTuSVQOfzL7RdnJVA9+ipBxmblUD+TQrDa5eVQDMFFwFxy5VA5t66dqlqlUD8JMGzHOWVQHgn\\u002fSjZnJVA6UTo3IfPlUAVxCAcwl6VQJuC8EmFnZVAEHQyFMX+lUAYtoBIUICVQJq93uDCcpRApjuEcS\\u002fZk0BczeLr2t2SQAn5YClP8pJAreOL01ffkkCFc0GWRECTQPE8DRB+gpNA2sxRs0JFlEA8ASTZXB+UQL0Nq7oIZ5NANuHZf+CQkUAht4EO1YiSQOGFvfgVupJADNistQQikkCrJRD3NsiSQK+cgWhRzpJAyC3wZZqAkkCmo1sCbG2TQGXANtKO05JAI5bcynXMkkBtJIh7VpKTQP0W8pjHkJNALMRw8Rdwk0BzmJEI6X+TQK44MrU03pJAUkIpcOR2kkAn6GDL7gyTQBI2j\\u002fFFc5JAmuuEQ5yWkkDJ5wM9CsGSQEDnO7MmuZFAn0KOeXYPkUBSDFh8U3iSQOVlb4GHz5FAr6ZbZeenkkBUNw7PCumSQIVrf6kHt5JA861DXezLkkBW7xe0Rv2SQIW8SYx7k5NAgtS7kaTmlEDOzn0jX\\u002fWUQKdHLgNiA5VAc2jhs9svlUBeKp1jpT6VQIMM1J3oFpVA4KM+43gSlUAQyi0LUZWVQFirhJw8rZVAGGN1oG8xlUCdpQ1lE6eVQCoEjKw8tJVAOS6ddcgXl0B24c6YSQiXQAh3wfY+\\u002f5ZAU8n3KfFMl0CHdWkn2CiXQEwK5ZGYNJdAvG8jX\\u002fkll0BKcnHeMJ+XQC1mhmgK45dA5EPS0lqImEA7Q\\u002f6AmvqYQLjpgLF7\\u002f5dAWPJgUDhhmEDqwdU08hyYQDLZmmg6oZdAOn7G7CJDl0A=\"},\"yaxis\":\"y\",\"type\":\"scattergl\"}],                        {\"template\":{\"layout\":{\"colorway\":[\"#2B3A64\",\"#96aae3\",\"#C3681D\",\"#EFBD95\",\"#E73F74\",\"#80BA5A\",\"#E68310\",\"#008695\",\"#CF1C90\",\"#f97b72\",\"#4b4b8f\",\"#A5AA99\"],\"font\":{\"color\":\"#505050\",\"family\":\"Poppins, Sans-serif\"},\"hoverlabel\":{\"bgcolor\":\"white\"},\"margin\":{\"b\":70,\"l\":100,\"r\":50,\"t\":75},\"paper_bgcolor\":\"white\",\"plot_bgcolor\":\"white\",\"title\":{\"font\":{\"color\":\"black\",\"family\":\"Poppins, Sans-serif\"},\"x\":0.025,\"xanchor\":\"left\",\"y\":0.92,\"yanchor\":\"top\"},\"xaxis\":{\"showgrid\":false},\"yaxis\":{\"gridcolor\":\"lightgrey\",\"gridwidth\":0.1,\"linecolor\":\"black\",\"linewidth\":1,\"nticks\":10,\"rangemode\":\"tozero\",\"showgrid\":true,\"showline\":true}}},\"xaxis\":{\"anchor\":\"y\",\"domain\":[0.0,1.0],\"title\":{\"text\":\"Date\"}},\"yaxis\":{\"anchor\":\"x\",\"domain\":[0.0,1.0],\"title\":{\"text\":\"Normalized index\"}},\"legend\":{\"title\":{\"text\":\"Asset\"},\"tracegroupgap\":0},\"title\":{\"text\":\"Performance Comparison : NVIDIA stock price and Bitcoin (base 100)\"}},                        {\"responsive\": true}                    ).then(function(){\n",
       "                            \n",
       "var gd = document.getElementById('5dd603c9-4063-41a8-b649-67b48b4a5ee5');\n",
       "var x = new MutationObserver(function (mutations, observer) {{\n",
       "        var display = window.getComputedStyle(gd).display;\n",
       "        if (!display || display === 'none') {{\n",
       "            console.log([gd, 'removed!']);\n",
       "            Plotly.purge(gd);\n",
       "            observer.disconnect();\n",
       "        }}\n",
       "}});\n",
       "\n",
       "// Listen for the removal of the full notebook cells\n",
       "var notebookContainer = gd.closest('#notebook-container');\n",
       "if (notebookContainer) {{\n",
       "    x.observe(notebookContainer, {childList: true});\n",
       "}}\n",
       "\n",
       "// Listen for the clearing of the current output cell\n",
       "var outputEl = gd.closest('.output');\n",
       "if (outputEl) {{\n",
       "    x.observe(outputEl, {childList: true});\n",
       "}}\n",
       "\n",
       "                        })                };            </script>        </div>"
      ]
     },
     "metadata": {},
     "output_type": "display_data"
    }
   ],
   "source": [
    "fig = px.line(normalized,\n",
    "              x = normalized.index,\n",
    "              y=['NVIDIA', 'Bitcoin'],\n",
    "              title=\"Performance Comparison : NVIDIA stock price and Bitcoin (base 100)\",\n",
    "              labels={\"value\": \"Normalized index\", \"variable\":\"Asset\"},\n",
    "              template=\"dc\"\n",
    "              )\n",
    "\n",
    "fig.show()"
   ]
  },
  {
   "cell_type": "code",
   "execution_count": 14,
   "id": "7fad0c09",
   "metadata": {},
   "outputs": [
    {
     "data": {
      "image/png": "[encoded data removed]",
      "text/html": [
       "<div>            <script src=\"https://cdnjs.cloudflare.com/ajax/libs/mathjax/2.7.5/MathJax.js?config=TeX-AMS-MML_SVG\"></script><script type=\"text/javascript\">if (window.MathJax && window.MathJax.Hub && window.MathJax.Hub.Config) {window.MathJax.Hub.Config({SVG: {font: \"STIX-Web\"}});}</script>                <script type=\"text/javascript\">window.PlotlyConfig = {MathJaxConfig: 'local'};</script>\n",
       "        <script charset=\"utf-8\" src=\"https://cdn.plot.ly/plotly-3.0.1.min.js\"></script>                <div id=\"133ba0b5-aeb9-47e2-9bc6-3f02869191d0\" class=\"plotly-graph-div\" style=\"height:525px; width:100%;\"></div>            <script type=\"text/javascript\">                window.PLOTLYENV=window.PLOTLYENV || {};                                if (document.getElementById(\"133ba0b5-aeb9-47e2-9bc6-3f02869191d0\")) {                    Plotly.newPlot(                        \"133ba0b5-aeb9-47e2-9bc6-3f02869191d0\",                        [{\"hovertemplate\":\"Asset=NVIDIA\\u003cbr\\u003eDate=%{x}\\u003cbr\\u003eNormalized Index (log)=%{y}\\u003cextra\\u003e\\u003c\\u002fextra\\u003e\",\"legendgroup\":\"NVIDIA\",\"line\":{\"color\":\"#2B3A64\",\"dash\":\"solid\"},\"marker\":{\"symbol\":\"circle\"},\"mode\":\"lines\",\"name\":\"NVIDIA\",\"showlegend\":true,\"x\":[\"2020-01-02T00:00:00\",\"2020-01-03T00:00:00\",\"2020-01-06T00:00:00\",\"2020-01-07T00:00:00\",\"2020-01-08T00:00:00\",\"2020-01-09T00:00:00\",\"2020-01-10T00:00:00\",\"2020-01-13T00:00:00\",\"2020-01-14T00:00:00\",\"2020-01-15T00:00:00\",\"2020-01-16T00:00:00\",\"2020-01-17T00:00:00\",\"2020-01-21T00:00:00\",\"2020-01-22T00:00:00\",\"2020-01-23T00:00:00\",\"2020-01-24T00:00:00\",\"2020-01-27T00:00:00\",\"2020-01-28T00:00:00\",\"2020-01-29T00:00:00\",\"2020-01-30T00:00:00\",\"2020-01-31T00:00:00\",\"2020-02-03T00:00:00\",\"2020-02-04T00:00:00\",\"2020-02-05T00:00:00\",\"2020-02-06T00:00:00\",\"2020-02-07T00:00:00\",\"2020-02-10T00:00:00\",\"2020-02-11T00:00:00\",\"2020-02-12T00:00:00\",\"2020-02-13T00:00:00\",\"2020-02-14T00:00:00\",\"2020-02-18T00:00:00\",\"2020-02-19T00:00:00\",\"2020-02-20T00:00:00\",\"2020-02-21T00:00:00\",\"2020-02-24T00:00:00\",\"2020-02-25T00:00:00\",\"2020-02-26T00:00:00\",\"2020-02-27T00:00:00\",\"2020-02-28T00:00:00\",\"2020-03-02T00:00:00\",\"2020-03-03T00:00:00\",\"2020-03-04T00:00:00\",\"2020-03-05T00:00:00\",\"2020-03-06T00:00:00\",\"2020-03-09T00:00:00\",\"2020-03-10T00:00:00\",\"2020-03-11T00:00:00\",\"2020-03-12T00:00:00\",\"2020-03-13T00:00:00\",\"2020-03-16T00:00:00\",\"2020-03-17T00:00:00\",\"2020-03-18T00:00:00\",\"2020-03-19T00:00:00\",\"2020-03-20T00:00:00\",\"2020-03-23T00:00:00\",\"2020-03-24T00:00:00\",\"2020-03-25T00:00:00\",\"2020-03-26T00:00:00\",\"2020-03-27T00:00:00\",\"2020-03-30T00:00:00\",\"2020-03-31T00:00:00\",\"2020-04-01T00:00:00\",\"2020-04-02T00:00:00\",\"2020-04-03T00:00:00\",\"2020-04-06T00:00:00\",\"2020-04-07T00:00:00\",\"2020-04-08T00:00:00\",\"2020-04-09T00:00:00\",\"2020-04-13T00:00:00\",\"2020-04-14T00:00:00\",\"2020-04-15T00:00:00\",\"2020-04-16T00:00:00\",\"2020-04-17T00:00:00\",\"2020-04-20T00:00:00\",\"2020-04-21T00:00:00\",\"2020-04-22T00:00:00\",\"2020-04-23T00:00:00\",\"2020-04-24T00:00:00\",\"2020-04-27T00:00:00\",\"2020-04-28T00:00:00\",\"2020-04-29T00:00:00\",\"2020-04-30T00:00:00\",\"2020-05-01T00:00:00\",\"2020-05-04T00:00:00\",\"2020-05-05T00:00:00\",\"2020-05-06T00:00:00\",\"2020-05-07T00:00:00\",\"2020-05-08T00:00:00\",\"2020-05-11T00:00:00\",\"2020-05-12T00:00:00\",\"2020-05-13T00:00:00\",\"2020-05-14T00:00:00\",\"2020-05-15T00:00:00\",\"2020-05-18T00:00:00\",\"2020-05-19T00:00:00\",\"2020-05-20T00:00:00\",\"2020-05-21T00:00:00\",\"2020-05-22T00:00:00\",\"2020-05-26T00:00:00\",\"2020-05-27T00:00:00\",\"2020-05-28T00:00:00\",\"2020-05-29T00:00:00\",\"2020-06-01T00:00:00\",\"2020-06-02T00:00:00\",\"2020-06-03T00:00:00\",\"2020-06-04T00:00:00\",\"2020-06-05T00:00:00\",\"2020-06-08T00:00:00\",\"2020-06-09T00:00:00\",\"2020-06-10T00:00:00\",\"2020-06-11T00:00:00\",\"2020-06-12T00:00:00\",\"2020-06-15T00:00:00\",\"2020-06-16T00:00:00\",\"2020-06-17T00:00:00\",\"2020-06-18T00:00:00\",\"2020-06-19T00:00:00\",\"2020-06-22T00:00:00\",\"2020-06-23T00:00:00\",\"2020-06-24T00:00:00\",\"2020-06-25T00:00:00\",\"2020-06-26T00:00:00\",\"2020-06-29T00:00:00\",\"2020-06-30T00:00:00\",\"2020-07-01T00:00:00\",\"2020-07-02T00:00:00\",\"2020-07-06T00:00:00\",\"2020-07-07T00:00:00\",\"2020-07-08T00:00:00\",\"2020-07-09T00:00:00\",\"2020-07-10T00:00:00\",\"2020-07-13T00:00:00\",\"2020-07-14T00:00:00\",\"2020-07-15T00:00:00\",\"2020-07-16T00:00:00\",\"2020-07-17T00:00:00\",\"2020-07-20T00:00:00\",\"2020-07-21T00:00:00\",\"2020-07-22T00:00:00\",\"2020-07-23T00:00:00\",\"2020-07-24T00:00:00\",\"2020-07-27T00:00:00\",\"2020-07-28T00:00:00\",\"2020-07-29T00:00:00\",\"2020-07-30T00:00:00\",\"2020-07-31T00:00:00\",\"2020-08-03T00:00:00\",\"2020-08-04T00:00:00\",\"2020-08-05T00:00:00\",\"2020-08-06T00:00:00\",\"2020-08-07T00:00:00\",\"2020-08-10T00:00:00\",\"2020-08-11T00:00:00\",\"2020-08-12T00:00:00\",\"2020-08-13T00:00:00\",\"2020-08-14T00:00:00\",\"2020-08-17T00:00:00\",\"2020-08-18T00:00:00\",\"2020-08-19T00:00:00\",\"2020-08-20T00:00:00\",\"2020-08-21T00:00:00\",\"2020-08-24T00:00:00\",\"2020-08-25T00:00:00\",\"2020-08-26T00:00:00\",\"2020-08-27T00:00:00\",\"2020-08-28T00:00:00\",\"2020-08-31T00:00:00\",\"2020-09-01T00:00:00\",\"2020-09-02T00:00:00\",\"2020-09-03T00:00:00\",\"2020-09-04T00:00:00\",\"2020-09-08T00:00:00\",\"2020-09-09T00:00:00\",\"2020-09-10T00:00:00\",\"2020-09-11T00:00:00\",\"2020-09-14T00:00:00\",\"2020-09-15T00:00:00\",\"2020-09-16T00:00:00\",\"2020-09-17T00:00:00\",\"2020-09-18T00:00:00\",\"2020-09-21T00:00:00\",\"2020-09-22T00:00:00\",\"2020-09-23T00:00:00\",\"2020-09-24T00:00:00\",\"2020-09-25T00:00:00\",\"2020-09-28T00:00:00\",\"2020-09-29T00:00:00\",\"2020-09-30T00:00:00\",\"2020-10-01T00:00:00\",\"2020-10-02T00:00:00\",\"2020-10-05T00:00:00\",\"2020-10-06T00:00:00\",\"2020-10-07T00:00:00\",\"2020-10-08T00:00:00\",\"2020-10-09T00:00:00\",\"2020-10-12T00:00:00\",\"2020-10-13T00:00:00\",\"2020-10-14T00:00:00\",\"2020-10-15T00:00:00\",\"2020-10-16T00:00:00\",\"2020-10-19T00:00:00\",\"2020-10-20T00:00:00\",\"2020-10-21T00:00:00\",\"2020-10-22T00:00:00\",\"2020-10-23T00:00:00\",\"2020-10-26T00:00:00\",\"2020-10-27T00:00:00\",\"2020-10-28T00:00:00\",\"2020-10-29T00:00:00\",\"2020-10-30T00:00:00\",\"2020-11-02T00:00:00\",\"2020-11-03T00:00:00\",\"2020-11-04T00:00:00\",\"2020-11-05T00:00:00\",\"2020-11-06T00:00:00\",\"2020-11-09T00:00:00\",\"2020-11-10T00:00:00\",\"2020-11-11T00:00:00\",\"2020-11-12T00:00:00\",\"2020-11-13T00:00:00\",\"2020-11-16T00:00:00\",\"2020-11-17T00:00:00\",\"2020-11-18T00:00:00\",\"2020-11-19T00:00:00\",\"2020-11-20T00:00:00\",\"2020-11-23T00:00:00\",\"2020-11-24T00:00:00\",\"2020-11-25T00:00:00\",\"2020-11-27T00:00:00\",\"2020-11-30T00:00:00\",\"2020-12-01T00:00:00\",\"2020-12-02T00:00:00\",\"2020-12-03T00:00:00\",\"2020-12-04T00:00:00\",\"2020-12-07T00:00:00\",\"2020-12-08T00:00:00\",\"2020-12-09T00:00:00\",\"2020-12-10T00:00:00\",\"2020-12-11T00:00:00\",\"2020-12-14T00:00:00\",\"2020-12-15T00:00:00\",\"2020-12-16T00:00:00\",\"2020-12-17T00:00:00\",\"2020-12-18T00:00:00\",\"2020-12-21T00:00:00\",\"2020-12-22T00:00:00\",\"2020-12-23T00:00:00\",\"2020-12-24T00:00:00\",\"2020-12-28T00:00:00\",\"2020-12-29T00:00:00\",\"2020-12-30T00:00:00\",\"2020-12-31T00:00:00\",\"2021-01-04T00:00:00\",\"2021-01-05T00:00:00\",\"2021-01-06T00:00:00\",\"2021-01-07T00:00:00\",\"2021-01-08T00:00:00\",\"2021-01-11T00:00:00\",\"2021-01-12T00:00:00\",\"2021-01-13T00:00:00\",\"2021-01-14T00:00:00\",\"2021-01-15T00:00:00\",\"2021-01-19T00:00:00\",\"2021-01-20T00:00:00\",\"2021-01-21T00:00:00\",\"2021-01-22T00:00:00\",\"2021-01-25T00:00:00\",\"2021-01-26T00:00:00\",\"2021-01-27T00:00:00\",\"2021-01-28T00:00:00\",\"2021-01-29T00:00:00\",\"2021-02-01T00:00:00\",\"2021-02-02T00:00:00\",\"2021-02-03T00:00:00\",\"2021-02-04T00:00:00\",\"2021-02-05T00:00:00\",\"2021-02-08T00:00:00\",\"2021-02-09T00:00:00\",\"2021-02-10T00:00:00\",\"2021-02-11T00:00:00\",\"2021-02-12T00:00:00\",\"2021-02-16T00:00:00\",\"2021-02-17T00:00:00\",\"2021-02-18T00:00:00\",\"2021-02-19T00:00:00\",\"2021-02-22T00:00:00\",\"2021-02-23T00:00:00\",\"2021-02-24T00:00:00\",\"2021-02-25T00:00:00\",\"2021-02-26T00:00:00\",\"2021-03-01T00:00:00\",\"2021-03-02T00:00:00\",\"2021-03-03T00:00:00\",\"2021-03-04T00:00:00\",\"2021-03-05T00:00:00\",\"2021-03-08T00:00:00\",\"2021-03-09T00:00:00\",\"2021-03-10T00:00:00\",\"2021-03-11T00:00:00\",\"2021-03-12T00:00:00\",\"2021-03-15T00:00:00\",\"2021-03-16T00:00:00\",\"2021-03-17T00:00:00\",\"2021-03-18T00:00:00\",\"2021-03-19T00:00:00\",\"2021-03-22T00:00:00\",\"2021-03-23T00:00:00\",\"2021-03-24T00:00:00\",\"2021-03-25T00:00:00\",\"2021-03-26T00:00:00\",\"2021-03-29T00:00:00\",\"2021-03-30T00:00:00\",\"2021-03-31T00:00:00\",\"2021-04-01T00:00:00\",\"2021-04-05T00:00:00\",\"2021-04-06T00:00:00\",\"2021-04-07T00:00:00\",\"2021-04-08T00:00:00\",\"2021-04-09T00:00:00\",\"2021-04-12T00:00:00\",\"2021-04-13T00:00:00\",\"2021-04-14T00:00:00\",\"2021-04-15T00:00:00\",\"2021-04-16T00:00:00\",\"2021-04-19T00:00:00\",\"2021-04-20T00:00:00\",\"2021-04-21T00:00:00\",\"2021-04-22T00:00:00\",\"2021-04-23T00:00:00\",\"2021-04-26T00:00:00\",\"2021-04-27T00:00:00\",\"2021-04-28T00:00:00\",\"2021-04-29T00:00:00\",\"2021-04-30T00:00:00\",\"2021-05-03T00:00:00\",\"2021-05-04T00:00:00\",\"2021-05-05T00:00:00\",\"2021-05-06T00:00:00\",\"2021-05-07T00:00:00\",\"2021-05-10T00:00:00\",\"2021-05-11T00:00:00\",\"2021-05-12T00:00:00\",\"2021-05-13T00:00:00\",\"2021-05-14T00:00:00\",\"2021-05-17T00:00:00\",\"2021-05-18T00:00:00\",\"2021-05-19T00:00:00\",\"2021-05-20T00:00:00\",\"2021-05-21T00:00:00\",\"2021-05-24T00:00:00\",\"2021-05-25T00:00:00\",\"2021-05-26T00:00:00\",\"2021-05-27T00:00:00\",\"2021-05-28T00:00:00\",\"2021-06-01T00:00:00\",\"2021-06-02T00:00:00\",\"2021-06-03T00:00:00\",\"2021-06-04T00:00:00\",\"2021-06-07T00:00:00\",\"2021-06-08T00:00:00\",\"2021-06-09T00:00:00\",\"2021-06-10T00:00:00\",\"2021-06-11T00:00:00\",\"2021-06-14T00:00:00\",\"2021-06-15T00:00:00\",\"2021-06-16T00:00:00\",\"2021-06-17T00:00:00\",\"2021-06-18T00:00:00\",\"2021-06-21T00:00:00\",\"2021-06-22T00:00:00\",\"2021-06-23T00:00:00\",\"2021-06-24T00:00:00\",\"2021-06-25T00:00:00\",\"2021-06-28T00:00:00\",\"2021-06-29T00:00:00\",\"2021-06-30T00:00:00\",\"2021-07-01T00:00:00\",\"2021-07-02T00:00:00\",\"2021-07-06T00:00:00\",\"2021-07-07T00:00:00\",\"2021-07-08T00:00:00\",\"2021-07-09T00:00:00\",\"2021-07-12T00:00:00\",\"2021-07-13T00:00:00\",\"2021-07-14T00:00:00\",\"2021-07-15T00:00:00\",\"2021-07-16T00:00:00\",\"2021-07-19T00:00:00\",\"2021-07-20T00:00:00\",\"2021-07-21T00:00:00\",\"2021-07-22T00:00:00\",\"2021-07-23T00:00:00\",\"2021-07-26T00:00:00\",\"2021-07-27T00:00:00\",\"2021-07-28T00:00:00\",\"2021-07-29T00:00:00\",\"2021-07-30T00:00:00\",\"2021-08-02T00:00:00\",\"2021-08-03T00:00:00\",\"2021-08-04T00:00:00\",\"2021-08-05T00:00:00\",\"2021-08-06T00:00:00\",\"2021-08-09T00:00:00\",\"2021-08-10T00:00:00\",\"2021-08-11T00:00:00\",\"2021-08-12T00:00:00\",\"2021-08-13T00:00:00\",\"2021-08-16T00:00:00\",\"2021-08-17T00:00:00\",\"2021-08-18T00:00:00\",\"2021-08-19T00:00:00\",\"2021-08-20T00:00:00\",\"2021-08-23T00:00:00\",\"2021-08-24T00:00:00\",\"2021-08-25T00:00:00\",\"2021-08-26T00:00:00\",\"2021-08-27T00:00:00\",\"2021-08-30T00:00:00\",\"2021-08-31T00:00:00\",\"2021-09-01T00:00:00\",\"2021-09-02T00:00:00\",\"2021-09-03T00:00:00\",\"2021-09-07T00:00:00\",\"2021-09-08T00:00:00\",\"2021-09-09T00:00:00\",\"2021-09-10T00:00:00\",\"2021-09-13T00:00:00\",\"2021-09-14T00:00:00\",\"2021-09-15T00:00:00\",\"2021-09-16T00:00:00\",\"2021-09-17T00:00:00\",\"2021-09-20T00:00:00\",\"2021-09-21T00:00:00\",\"2021-09-22T00:00:00\",\"2021-09-23T00:00:00\",\"2021-09-24T00:00:00\",\"2021-09-27T00:00:00\",\"2021-09-28T00:00:00\",\"2021-09-29T00:00:00\",\"2021-09-30T00:00:00\",\"2021-10-01T00:00:00\",\"2021-10-04T00:00:00\",\"2021-10-05T00:00:00\",\"2021-10-06T00:00:00\",\"2021-10-07T00:00:00\",\"2021-10-08T00:00:00\",\"2021-10-11T00:00:00\",\"2021-10-12T00:00:00\",\"2021-10-13T00:00:00\",\"2021-10-14T00:00:00\",\"2021-10-15T00:00:00\",\"2021-10-18T00:00:00\",\"2021-10-19T00:00:00\",\"2021-10-20T00:00:00\",\"2021-10-21T00:00:00\",\"2021-10-22T00:00:00\",\"2021-10-25T00:00:00\",\"2021-10-26T00:00:00\",\"2021-10-27T00:00:00\",\"2021-10-28T00:00:00\",\"2021-10-29T00:00:00\",\"2021-11-01T00:00:00\",\"2021-11-02T00:00:00\",\"2021-11-03T00:00:00\",\"2021-11-04T00:00:00\",\"2021-11-05T00:00:00\",\"2021-11-08T00:00:00\",\"2021-11-09T00:00:00\",\"2021-11-10T00:00:00\",\"2021-11-11T00:00:00\",\"2021-11-12T00:00:00\",\"2021-11-15T00:00:00\",\"2021-11-16T00:00:00\",\"2021-11-17T00:00:00\",\"2021-11-18T00:00:00\",\"2021-11-19T00:00:00\",\"2021-11-22T00:00:00\",\"2021-11-23T00:00:00\",\"2021-11-24T00:00:00\",\"2021-11-26T00:00:00\",\"2021-11-29T00:00:00\",\"2021-11-30T00:00:00\",\"2021-12-01T00:00:00\",\"2021-12-02T00:00:00\",\"2021-12-03T00:00:00\",\"2021-12-06T00:00:00\",\"2021-12-07T00:00:00\",\"2021-12-08T00:00:00\",\"2021-12-09T00:00:00\",\"2021-12-10T00:00:00\",\"2021-12-13T00:00:00\",\"2021-12-14T00:00:00\",\"2021-12-15T00:00:00\",\"2021-12-16T00:00:00\",\"2021-12-17T00:00:00\",\"2021-12-20T00:00:00\",\"2021-12-21T00:00:00\",\"2021-12-22T00:00:00\",\"2021-12-23T00:00:00\",\"2021-12-27T00:00:00\",\"2021-12-28T00:00:00\",\"2021-12-29T00:00:00\",\"2021-12-30T00:00:00\",\"2021-12-31T00:00:00\",\"2022-01-03T00:00:00\",\"2022-01-04T00:00:00\",\"2022-01-05T00:00:00\",\"2022-01-06T00:00:00\",\"2022-01-07T00:00:00\",\"2022-01-10T00:00:00\",\"2022-01-11T00:00:00\",\"2022-01-12T00:00:00\",\"2022-01-13T00:00:00\",\"2022-01-14T00:00:00\",\"2022-01-18T00:00:00\",\"2022-01-19T00:00:00\",\"2022-01-20T00:00:00\",\"2022-01-21T00:00:00\",\"2022-01-24T00:00:00\",\"2022-01-25T00:00:00\",\"2022-01-26T00:00:00\",\"2022-01-27T00:00:00\",\"2022-01-28T00:00:00\",\"2022-01-31T00:00:00\",\"2022-02-01T00:00:00\",\"2022-02-02T00:00:00\",\"2022-02-03T00:00:00\",\"2022-02-04T00:00:00\",\"2022-02-07T00:00:00\",\"2022-02-08T00:00:00\",\"2022-02-09T00:00:00\",\"2022-02-10T00:00:00\",\"2022-02-11T00:00:00\",\"2022-02-14T00:00:00\",\"2022-02-15T00:00:00\",\"2022-02-16T00:00:00\",\"2022-02-17T00:00:00\",\"2022-02-18T00:00:00\",\"2022-02-22T00:00:00\",\"2022-02-23T00:00:00\",\"2022-02-24T00:00:00\",\"2022-02-25T00:00:00\",\"2022-02-28T00:00:00\",\"2022-03-01T00:00:00\",\"2022-03-02T00:00:00\",\"2022-03-03T00:00:00\",\"2022-03-04T00:00:00\",\"2022-03-07T00:00:00\",\"2022-03-08T00:00:00\",\"2022-03-09T00:00:00\",\"2022-03-10T00:00:00\",\"2022-03-11T00:00:00\",\"2022-03-14T00:00:00\",\"2022-03-15T00:00:00\",\"2022-03-16T00:00:00\",\"2022-03-17T00:00:00\",\"2022-03-18T00:00:00\",\"2022-03-21T00:00:00\",\"2022-03-22T00:00:00\",\"2022-03-23T00:00:00\",\"2022-03-24T00:00:00\",\"2022-03-25T00:00:00\",\"2022-03-28T00:00:00\",\"2022-03-29T00:00:00\",\"2022-03-30T00:00:00\",\"2022-03-31T00:00:00\",\"2022-04-01T00:00:00\",\"2022-04-04T00:00:00\",\"2022-04-05T00:00:00\",\"2022-04-06T00:00:00\",\"2022-04-07T00:00:00\",\"2022-04-08T00:00:00\",\"2022-04-11T00:00:00\",\"2022-04-12T00:00:00\",\"2022-04-13T00:00:00\",\"2022-04-14T00:00:00\",\"2022-04-18T00:00:00\",\"2022-04-19T00:00:00\",\"2022-04-20T00:00:00\",\"2022-04-21T00:00:00\",\"2022-04-22T00:00:00\",\"2022-04-25T00:00:00\",\"2022-04-26T00:00:00\",\"2022-04-27T00:00:00\",\"2022-04-28T00:00:00\",\"2022-04-29T00:00:00\",\"2022-05-02T00:00:00\",\"2022-05-03T00:00:00\",\"2022-05-04T00:00:00\",\"2022-05-05T00:00:00\",\"2022-05-06T00:00:00\",\"2022-05-09T00:00:00\",\"2022-05-10T00:00:00\",\"2022-05-11T00:00:00\",\"2022-05-12T00:00:00\",\"2022-05-13T00:00:00\",\"2022-05-16T00:00:00\",\"2022-05-17T00:00:00\",\"2022-05-18T00:00:00\",\"2022-05-19T00:00:00\",\"2022-05-20T00:00:00\",\"2022-05-23T00:00:00\",\"2022-05-24T00:00:00\",\"2022-05-25T00:00:00\",\"2022-05-26T00:00:00\",\"2022-05-27T00:00:00\",\"2022-05-31T00:00:00\",\"2022-06-01T00:00:00\",\"2022-06-02T00:00:00\",\"2022-06-03T00:00:00\",\"2022-06-06T00:00:00\",\"2022-06-07T00:00:00\",\"2022-06-08T00:00:00\",\"2022-06-09T00:00:00\",\"2022-06-10T00:00:00\",\"2022-06-13T00:00:00\",\"2022-06-14T00:00:00\",\"2022-06-15T00:00:00\",\"2022-06-16T00:00:00\",\"2022-06-17T00:00:00\",\"2022-06-21T00:00:00\",\"2022-06-22T00:00:00\",\"2022-06-23T00:00:00\",\"2022-06-24T00:00:00\",\"2022-06-27T00:00:00\",\"2022-06-28T00:00:00\",\"2022-06-29T00:00:00\",\"2022-06-30T00:00:00\",\"2022-07-01T00:00:00\",\"2022-07-05T00:00:00\",\"2022-07-06T00:00:00\",\"2022-07-07T00:00:00\",\"2022-07-08T00:00:00\",\"2022-07-11T00:00:00\",\"2022-07-12T00:00:00\",\"2022-07-13T00:00:00\",\"2022-07-14T00:00:00\",\"2022-07-15T00:00:00\",\"2022-07-18T00:00:00\",\"2022-07-19T00:00:00\",\"2022-07-20T00:00:00\",\"2022-07-21T00:00:00\",\"2022-07-22T00:00:00\",\"2022-07-25T00:00:00\",\"2022-07-26T00:00:00\",\"2022-07-27T00:00:00\",\"2022-07-28T00:00:00\",\"2022-07-29T00:00:00\",\"2022-08-01T00:00:00\",\"2022-08-02T00:00:00\",\"2022-08-03T00:00:00\",\"2022-08-04T00:00:00\",\"2022-08-05T00:00:00\",\"2022-08-08T00:00:00\",\"2022-08-09T00:00:00\",\"2022-08-10T00:00:00\",\"2022-08-11T00:00:00\",\"2022-08-12T00:00:00\",\"2022-08-15T00:00:00\",\"2022-08-16T00:00:00\",\"2022-08-17T00:00:00\",\"2022-08-18T00:00:00\",\"2022-08-19T00:00:00\",\"2022-08-22T00:00:00\",\"2022-08-23T00:00:00\",\"2022-08-24T00:00:00\",\"2022-08-25T00:00:00\",\"2022-08-26T00:00:00\",\"2022-08-29T00:00:00\",\"2022-08-30T00:00:00\",\"2022-08-31T00:00:00\",\"2022-09-01T00:00:00\",\"2022-09-02T00:00:00\",\"2022-09-06T00:00:00\",\"2022-09-07T00:00:00\",\"2022-09-08T00:00:00\",\"2022-09-09T00:00:00\",\"2022-09-12T00:00:00\",\"2022-09-13T00:00:00\",\"2022-09-14T00:00:00\",\"2022-09-15T00:00:00\",\"2022-09-16T00:00:00\",\"2022-09-19T00:00:00\",\"2022-09-20T00:00:00\",\"2022-09-21T00:00:00\",\"2022-09-22T00:00:00\",\"2022-09-23T00:00:00\",\"2022-09-26T00:00:00\",\"2022-09-27T00:00:00\",\"2022-09-28T00:00:00\",\"2022-09-29T00:00:00\",\"2022-09-30T00:00:00\",\"2022-10-03T00:00:00\",\"2022-10-04T00:00:00\",\"2022-10-05T00:00:00\",\"2022-10-06T00:00:00\",\"2022-10-07T00:00:00\",\"2022-10-10T00:00:00\",\"2022-10-11T00:00:00\",\"2022-10-12T00:00:00\",\"2022-10-13T00:00:00\",\"2022-10-14T00:00:00\",\"2022-10-17T00:00:00\",\"2022-10-18T00:00:00\",\"2022-10-19T00:00:00\",\"2022-10-20T00:00:00\",\"2022-10-21T00:00:00\",\"2022-10-24T00:00:00\",\"2022-10-25T00:00:00\",\"2022-10-26T00:00:00\",\"2022-10-27T00:00:00\",\"2022-10-28T00:00:00\",\"2022-10-31T00:00:00\",\"2022-11-01T00:00:00\",\"2022-11-02T00:00:00\",\"2022-11-03T00:00:00\",\"2022-11-04T00:00:00\",\"2022-11-07T00:00:00\",\"2022-11-08T00:00:00\",\"2022-11-09T00:00:00\",\"2022-11-10T00:00:00\",\"2022-11-11T00:00:00\",\"2022-11-14T00:00:00\",\"2022-11-15T00:00:00\",\"2022-11-16T00:00:00\",\"2022-11-17T00:00:00\",\"2022-11-18T00:00:00\",\"2022-11-21T00:00:00\",\"2022-11-22T00:00:00\",\"2022-11-23T00:00:00\",\"2022-11-25T00:00:00\",\"2022-11-28T00:00:00\",\"2022-11-29T00:00:00\",\"2022-11-30T00:00:00\",\"2022-12-01T00:00:00\",\"2022-12-02T00:00:00\",\"2022-12-05T00:00:00\",\"2022-12-06T00:00:00\",\"2022-12-07T00:00:00\",\"2022-12-08T00:00:00\",\"2022-12-09T00:00:00\",\"2022-12-12T00:00:00\",\"2022-12-13T00:00:00\",\"2022-12-14T00:00:00\",\"2022-12-15T00:00:00\",\"2022-12-16T00:00:00\",\"2022-12-19T00:00:00\",\"2022-12-20T00:00:00\",\"2022-12-21T00:00:00\",\"2022-12-22T00:00:00\",\"2022-12-23T00:00:00\",\"2022-12-27T00:00:00\",\"2022-12-28T00:00:00\",\"2022-12-29T00:00:00\",\"2022-12-30T00:00:00\",\"2023-01-03T00:00:00\",\"2023-01-04T00:00:00\",\"2023-01-05T00:00:00\",\"2023-01-06T00:00:00\",\"2023-01-09T00:00:00\",\"2023-01-10T00:00:00\",\"2023-01-11T00:00:00\",\"2023-01-12T00:00:00\",\"2023-01-13T00:00:00\",\"2023-01-17T00:00:00\",\"2023-01-18T00:00:00\",\"2023-01-19T00:00:00\",\"2023-01-20T00:00:00\",\"2023-01-23T00:00:00\",\"2023-01-24T00:00:00\",\"2023-01-25T00:00:00\",\"2023-01-26T00:00:00\",\"2023-01-27T00:00:00\",\"2023-01-30T00:00:00\",\"2023-01-31T00:00:00\",\"2023-02-01T00:00:00\",\"2023-02-02T00:00:00\",\"2023-02-03T00:00:00\",\"2023-02-06T00:00:00\",\"2023-02-07T00:00:00\",\"2023-02-08T00:00:00\",\"2023-02-09T00:00:00\",\"2023-02-10T00:00:00\",\"2023-02-13T00:00:00\",\"2023-02-14T00:00:00\",\"2023-02-15T00:00:00\",\"2023-02-16T00:00:00\",\"2023-02-17T00:00:00\",\"2023-02-21T00:00:00\",\"2023-02-22T00:00:00\",\"2023-02-23T00:00:00\",\"2023-02-24T00:00:00\",\"2023-02-27T00:00:00\",\"2023-02-28T00:00:00\",\"2023-03-01T00:00:00\",\"2023-03-02T00:00:00\",\"2023-03-03T00:00:00\",\"2023-03-06T00:00:00\",\"2023-03-07T00:00:00\",\"2023-03-08T00:00:00\",\"2023-03-09T00:00:00\",\"2023-03-10T00:00:00\",\"2023-03-13T00:00:00\",\"2023-03-14T00:00:00\",\"2023-03-15T00:00:00\",\"2023-03-16T00:00:00\",\"2023-03-17T00:00:00\",\"2023-03-20T00:00:00\",\"2023-03-21T00:00:00\",\"2023-03-22T00:00:00\",\"2023-03-23T00:00:00\",\"2023-03-24T00:00:00\",\"2023-03-27T00:00:00\",\"2023-03-28T00:00:00\",\"2023-03-29T00:00:00\",\"2023-03-30T00:00:00\",\"2023-03-31T00:00:00\",\"2023-04-03T00:00:00\",\"2023-04-04T00:00:00\",\"2023-04-05T00:00:00\",\"2023-04-06T00:00:00\",\"2023-04-10T00:00:00\",\"2023-04-11T00:00:00\",\"2023-04-12T00:00:00\",\"2023-04-13T00:00:00\",\"2023-04-14T00:00:00\",\"2023-04-17T00:00:00\",\"2023-04-18T00:00:00\",\"2023-04-19T00:00:00\",\"2023-04-20T00:00:00\",\"2023-04-21T00:00:00\",\"2023-04-24T00:00:00\",\"2023-04-25T00:00:00\",\"2023-04-26T00:00:00\",\"2023-04-27T00:00:00\",\"2023-04-28T00:00:00\",\"2023-05-01T00:00:00\",\"2023-05-02T00:00:00\",\"2023-05-03T00:00:00\",\"2023-05-04T00:00:00\",\"2023-05-05T00:00:00\",\"2023-05-08T00:00:00\",\"2023-05-09T00:00:00\",\"2023-05-10T00:00:00\",\"2023-05-11T00:00:00\",\"2023-05-12T00:00:00\",\"2023-05-15T00:00:00\",\"2023-05-16T00:00:00\",\"2023-05-17T00:00:00\",\"2023-05-18T00:00:00\",\"2023-05-19T00:00:00\",\"2023-05-22T00:00:00\",\"2023-05-23T00:00:00\",\"2023-05-24T00:00:00\",\"2023-05-25T00:00:00\",\"2023-05-26T00:00:00\",\"2023-05-30T00:00:00\",\"2023-05-31T00:00:00\",\"2023-06-01T00:00:00\",\"2023-06-02T00:00:00\",\"2023-06-05T00:00:00\",\"2023-06-06T00:00:00\",\"2023-06-07T00:00:00\",\"2023-06-08T00:00:00\",\"2023-06-09T00:00:00\",\"2023-06-12T00:00:00\",\"2023-06-13T00:00:00\",\"2023-06-14T00:00:00\",\"2023-06-15T00:00:00\",\"2023-06-16T00:00:00\",\"2023-06-20T00:00:00\",\"2023-06-21T00:00:00\",\"2023-06-22T00:00:00\",\"2023-06-23T00:00:00\",\"2023-06-26T00:00:00\",\"2023-06-27T00:00:00\",\"2023-06-28T00:00:00\",\"2023-06-29T00:00:00\",\"2023-06-30T00:00:00\",\"2023-07-03T00:00:00\",\"2023-07-05T00:00:00\",\"2023-07-06T00:00:00\",\"2023-07-07T00:00:00\",\"2023-07-10T00:00:00\",\"2023-07-11T00:00:00\",\"2023-07-12T00:00:00\",\"2023-07-13T00:00:00\",\"2023-07-14T00:00:00\",\"2023-07-17T00:00:00\",\"2023-07-18T00:00:00\",\"2023-07-19T00:00:00\",\"2023-07-20T00:00:00\",\"2023-07-21T00:00:00\",\"2023-07-24T00:00:00\",\"2023-07-25T00:00:00\",\"2023-07-26T00:00:00\",\"2023-07-27T00:00:00\",\"2023-07-28T00:00:00\",\"2023-07-31T00:00:00\",\"2023-08-01T00:00:00\",\"2023-08-02T00:00:00\",\"2023-08-03T00:00:00\",\"2023-08-04T00:00:00\",\"2023-08-07T00:00:00\",\"2023-08-08T00:00:00\",\"2023-08-09T00:00:00\",\"2023-08-10T00:00:00\",\"2023-08-11T00:00:00\",\"2023-08-14T00:00:00\",\"2023-08-15T00:00:00\",\"2023-08-16T00:00:00\",\"2023-08-17T00:00:00\",\"2023-08-18T00:00:00\",\"2023-08-21T00:00:00\",\"2023-08-22T00:00:00\",\"2023-08-23T00:00:00\",\"2023-08-24T00:00:00\",\"2023-08-25T00:00:00\",\"2023-08-28T00:00:00\",\"2023-08-29T00:00:00\",\"2023-08-30T00:00:00\",\"2023-08-31T00:00:00\",\"2023-09-01T00:00:00\",\"2023-09-05T00:00:00\",\"2023-09-06T00:00:00\",\"2023-09-07T00:00:00\",\"2023-09-08T00:00:00\",\"2023-09-11T00:00:00\",\"2023-09-12T00:00:00\",\"2023-09-13T00:00:00\",\"2023-09-14T00:00:00\",\"2023-09-15T00:00:00\",\"2023-09-18T00:00:00\",\"2023-09-19T00:00:00\",\"2023-09-20T00:00:00\",\"2023-09-21T00:00:00\",\"2023-09-22T00:00:00\",\"2023-09-25T00:00:00\",\"2023-09-26T00:00:00\",\"2023-09-27T00:00:00\",\"2023-09-28T00:00:00\",\"2023-09-29T00:00:00\",\"2023-10-02T00:00:00\",\"2023-10-03T00:00:00\",\"2023-10-04T00:00:00\",\"2023-10-05T00:00:00\",\"2023-10-06T00:00:00\",\"2023-10-09T00:00:00\",\"2023-10-10T00:00:00\",\"2023-10-11T00:00:00\",\"2023-10-12T00:00:00\",\"2023-10-13T00:00:00\",\"2023-10-16T00:00:00\",\"2023-10-17T00:00:00\",\"2023-10-18T00:00:00\",\"2023-10-19T00:00:00\",\"2023-10-20T00:00:00\",\"2023-10-23T00:00:00\",\"2023-10-24T00:00:00\",\"2023-10-25T00:00:00\",\"2023-10-26T00:00:00\",\"2023-10-27T00:00:00\",\"2023-10-30T00:00:00\",\"2023-10-31T00:00:00\",\"2023-11-01T00:00:00\",\"2023-11-02T00:00:00\",\"2023-11-03T00:00:00\",\"2023-11-06T00:00:00\",\"2023-11-07T00:00:00\",\"2023-11-08T00:00:00\",\"2023-11-09T00:00:00\",\"2023-11-10T00:00:00\",\"2023-11-13T00:00:00\",\"2023-11-14T00:00:00\",\"2023-11-15T00:00:00\",\"2023-11-16T00:00:00\",\"2023-11-17T00:00:00\",\"2023-11-20T00:00:00\",\"2023-11-21T00:00:00\",\"2023-11-22T00:00:00\",\"2023-11-24T00:00:00\",\"2023-11-27T00:00:00\",\"2023-11-28T00:00:00\",\"2023-11-29T00:00:00\",\"2023-11-30T00:00:00\",\"2023-12-01T00:00:00\",\"2023-12-04T00:00:00\",\"2023-12-05T00:00:00\",\"2023-12-06T00:00:00\",\"2023-12-07T00:00:00\",\"2023-12-08T00:00:00\",\"2023-12-11T00:00:00\",\"2023-12-12T00:00:00\",\"2023-12-13T00:00:00\",\"2023-12-14T00:00:00\",\"2023-12-15T00:00:00\",\"2023-12-18T00:00:00\",\"2023-12-19T00:00:00\",\"2023-12-20T00:00:00\",\"2023-12-21T00:00:00\",\"2023-12-22T00:00:00\",\"2023-12-26T00:00:00\",\"2023-12-27T00:00:00\",\"2023-12-28T00:00:00\",\"2023-12-29T00:00:00\",\"2024-01-02T00:00:00\",\"2024-01-03T00:00:00\",\"2024-01-04T00:00:00\",\"2024-01-05T00:00:00\",\"2024-01-08T00:00:00\",\"2024-01-09T00:00:00\",\"2024-01-10T00:00:00\",\"2024-01-11T00:00:00\",\"2024-01-12T00:00:00\",\"2024-01-16T00:00:00\",\"2024-01-17T00:00:00\",\"2024-01-18T00:00:00\",\"2024-01-19T00:00:00\",\"2024-01-22T00:00:00\",\"2024-01-23T00:00:00\",\"2024-01-24T00:00:00\",\"2024-01-25T00:00:00\",\"2024-01-26T00:00:00\",\"2024-01-29T00:00:00\",\"2024-01-30T00:00:00\",\"2024-01-31T00:00:00\",\"2024-02-01T00:00:00\",\"2024-02-02T00:00:00\",\"2024-02-05T00:00:00\",\"2024-02-06T00:00:00\",\"2024-02-07T00:00:00\",\"2024-02-08T00:00:00\",\"2024-02-09T00:00:00\",\"2024-02-12T00:00:00\",\"2024-02-13T00:00:00\",\"2024-02-14T00:00:00\",\"2024-02-15T00:00:00\",\"2024-02-16T00:00:00\",\"2024-02-20T00:00:00\",\"2024-02-21T00:00:00\",\"2024-02-22T00:00:00\",\"2024-02-23T00:00:00\",\"2024-02-26T00:00:00\",\"2024-02-27T00:00:00\",\"2024-02-28T00:00:00\",\"2024-02-29T00:00:00\",\"2024-03-01T00:00:00\",\"2024-03-04T00:00:00\",\"2024-03-05T00:00:00\",\"2024-03-06T00:00:00\",\"2024-03-07T00:00:00\",\"2024-03-08T00:00:00\",\"2024-03-11T00:00:00\",\"2024-03-12T00:00:00\",\"2024-03-13T00:00:00\",\"2024-03-14T00:00:00\",\"2024-03-15T00:00:00\",\"2024-03-18T00:00:00\",\"2024-03-19T00:00:00\",\"2024-03-20T00:00:00\",\"2024-03-21T00:00:00\",\"2024-03-22T00:00:00\",\"2024-03-25T00:00:00\",\"2024-03-26T00:00:00\",\"2024-03-27T00:00:00\",\"2024-03-28T00:00:00\",\"2024-04-01T00:00:00\",\"2024-04-02T00:00:00\",\"2024-04-03T00:00:00\",\"2024-04-04T00:00:00\",\"2024-04-05T00:00:00\",\"2024-04-08T00:00:00\",\"2024-04-09T00:00:00\",\"2024-04-10T00:00:00\",\"2024-04-11T00:00:00\",\"2024-04-12T00:00:00\",\"2024-04-15T00:00:00\",\"2024-04-16T00:00:00\",\"2024-04-17T00:00:00\",\"2024-04-18T00:00:00\",\"2024-04-19T00:00:00\",\"2024-04-22T00:00:00\",\"2024-04-23T00:00:00\",\"2024-04-24T00:00:00\",\"2024-04-25T00:00:00\",\"2024-04-26T00:00:00\",\"2024-04-29T00:00:00\",\"2024-04-30T00:00:00\",\"2024-05-01T00:00:00\",\"2024-05-02T00:00:00\",\"2024-05-03T00:00:00\",\"2024-05-06T00:00:00\",\"2024-05-07T00:00:00\",\"2024-05-08T00:00:00\",\"2024-05-09T00:00:00\",\"2024-05-10T00:00:00\",\"2024-05-13T00:00:00\",\"2024-05-14T00:00:00\",\"2024-05-15T00:00:00\",\"2024-05-16T00:00:00\",\"2024-05-17T00:00:00\",\"2024-05-20T00:00:00\",\"2024-05-21T00:00:00\",\"2024-05-22T00:00:00\",\"2024-05-23T00:00:00\",\"2024-05-24T00:00:00\",\"2024-05-28T00:00:00\",\"2024-05-29T00:00:00\",\"2024-05-30T00:00:00\",\"2024-05-31T00:00:00\",\"2024-06-03T00:00:00\",\"2024-06-04T00:00:00\",\"2024-06-05T00:00:00\",\"2024-06-06T00:00:00\",\"2024-06-07T00:00:00\",\"2024-06-10T00:00:00\",\"2024-06-11T00:00:00\",\"2024-06-12T00:00:00\",\"2024-06-13T00:00:00\",\"2024-06-14T00:00:00\",\"2024-06-17T00:00:00\",\"2024-06-18T00:00:00\",\"2024-06-20T00:00:00\",\"2024-06-21T00:00:00\",\"2024-06-24T00:00:00\",\"2024-06-25T00:00:00\",\"2024-06-26T00:00:00\",\"2024-06-27T00:00:00\",\"2024-06-28T00:00:00\",\"2024-07-01T00:00:00\",\"2024-07-02T00:00:00\",\"2024-07-03T00:00:00\",\"2024-07-05T00:00:00\",\"2024-07-08T00:00:00\",\"2024-07-09T00:00:00\",\"2024-07-10T00:00:00\",\"2024-07-11T00:00:00\",\"2024-07-12T00:00:00\",\"2024-07-15T00:00:00\",\"2024-07-16T00:00:00\",\"2024-07-17T00:00:00\",\"2024-07-18T00:00:00\",\"2024-07-19T00:00:00\",\"2024-07-22T00:00:00\",\"2024-07-23T00:00:00\",\"2024-07-24T00:00:00\",\"2024-07-25T00:00:00\",\"2024-07-26T00:00:00\",\"2024-07-29T00:00:00\",\"2024-07-30T00:00:00\",\"2024-07-31T00:00:00\",\"2024-08-01T00:00:00\",\"2024-08-02T00:00:00\",\"2024-08-05T00:00:00\",\"2024-08-06T00:00:00\",\"2024-08-07T00:00:00\",\"2024-08-08T00:00:00\",\"2024-08-09T00:00:00\",\"2024-08-12T00:00:00\",\"2024-08-13T00:00:00\",\"2024-08-14T00:00:00\",\"2024-08-15T00:00:00\",\"2024-08-16T00:00:00\",\"2024-08-19T00:00:00\",\"2024-08-20T00:00:00\",\"2024-08-21T00:00:00\",\"2024-08-22T00:00:00\",\"2024-08-23T00:00:00\",\"2024-08-26T00:00:00\",\"2024-08-27T00:00:00\",\"2024-08-28T00:00:00\",\"2024-08-29T00:00:00\",\"2024-08-30T00:00:00\",\"2024-09-03T00:00:00\",\"2024-09-04T00:00:00\",\"2024-09-05T00:00:00\",\"2024-09-06T00:00:00\",\"2024-09-09T00:00:00\",\"2024-09-10T00:00:00\",\"2024-09-11T00:00:00\",\"2024-09-12T00:00:00\",\"2024-09-13T00:00:00\",\"2024-09-16T00:00:00\",\"2024-09-17T00:00:00\",\"2024-09-18T00:00:00\",\"2024-09-19T00:00:00\",\"2024-09-20T00:00:00\",\"2024-09-23T00:00:00\",\"2024-09-24T00:00:00\",\"2024-09-25T00:00:00\",\"2024-09-26T00:00:00\",\"2024-09-27T00:00:00\",\"2024-09-30T00:00:00\",\"2024-10-01T00:00:00\",\"2024-10-02T00:00:00\",\"2024-10-03T00:00:00\",\"2024-10-04T00:00:00\",\"2024-10-07T00:00:00\",\"2024-10-08T00:00:00\",\"2024-10-09T00:00:00\",\"2024-10-10T00:00:00\",\"2024-10-11T00:00:00\",\"2024-10-14T00:00:00\",\"2024-10-15T00:00:00\",\"2024-10-16T00:00:00\",\"2024-10-17T00:00:00\",\"2024-10-18T00:00:00\",\"2024-10-21T00:00:00\",\"2024-10-22T00:00:00\",\"2024-10-23T00:00:00\",\"2024-10-24T00:00:00\",\"2024-10-25T00:00:00\",\"2024-10-28T00:00:00\",\"2024-10-29T00:00:00\",\"2024-10-30T00:00:00\",\"2024-10-31T00:00:00\",\"2024-11-01T00:00:00\",\"2024-11-04T00:00:00\",\"2024-11-05T00:00:00\",\"2024-11-06T00:00:00\",\"2024-11-07T00:00:00\",\"2024-11-08T00:00:00\",\"2024-11-11T00:00:00\",\"2024-11-12T00:00:00\",\"2024-11-13T00:00:00\",\"2024-11-14T00:00:00\",\"2024-11-15T00:00:00\",\"2024-11-18T00:00:00\",\"2024-11-19T00:00:00\",\"2024-11-20T00:00:00\",\"2024-11-21T00:00:00\",\"2024-11-22T00:00:00\",\"2024-11-25T00:00:00\",\"2024-11-26T00:00:00\",\"2024-11-27T00:00:00\",\"2024-11-29T00:00:00\",\"2024-12-02T00:00:00\",\"2024-12-03T00:00:00\",\"2024-12-04T00:00:00\",\"2024-12-05T00:00:00\",\"2024-12-06T00:00:00\",\"2024-12-09T00:00:00\",\"2024-12-10T00:00:00\",\"2024-12-11T00:00:00\",\"2024-12-12T00:00:00\",\"2024-12-13T00:00:00\",\"2024-12-16T00:00:00\",\"2024-12-17T00:00:00\",\"2024-12-18T00:00:00\",\"2024-12-19T00:00:00\",\"2024-12-20T00:00:00\",\"2024-12-23T00:00:00\",\"2024-12-24T00:00:00\",\"2024-12-26T00:00:00\",\"2024-12-27T00:00:00\",\"2024-12-30T00:00:00\",\"2024-12-31T00:00:00\",\"2025-01-02T00:00:00\",\"2025-01-03T00:00:00\",\"2025-01-06T00:00:00\",\"2025-01-07T00:00:00\",\"2025-01-08T00:00:00\",\"2025-01-10T00:00:00\",\"2025-01-13T00:00:00\",\"2025-01-14T00:00:00\",\"2025-01-15T00:00:00\",\"2025-01-16T00:00:00\",\"2025-01-17T00:00:00\",\"2025-01-21T00:00:00\",\"2025-01-22T00:00:00\",\"2025-01-23T00:00:00\",\"2025-01-24T00:00:00\",\"2025-01-27T00:00:00\",\"2025-01-28T00:00:00\",\"2025-01-29T00:00:00\",\"2025-01-30T00:00:00\",\"2025-01-31T00:00:00\",\"2025-02-03T00:00:00\",\"2025-02-04T00:00:00\",\"2025-02-05T00:00:00\",\"2025-02-06T00:00:00\",\"2025-02-07T00:00:00\",\"2025-02-10T00:00:00\",\"2025-02-11T00:00:00\",\"2025-02-12T00:00:00\",\"2025-02-13T00:00:00\",\"2025-02-14T00:00:00\",\"2025-02-18T00:00:00\",\"2025-02-19T00:00:00\",\"2025-02-20T00:00:00\",\"2025-02-21T00:00:00\",\"2025-02-24T00:00:00\",\"2025-02-25T00:00:00\",\"2025-02-26T00:00:00\",\"2025-02-27T00:00:00\",\"2025-02-28T00:00:00\",\"2025-03-03T00:00:00\",\"2025-03-04T00:00:00\",\"2025-03-05T00:00:00\",\"2025-03-06T00:00:00\",\"2025-03-07T00:00:00\",\"2025-03-10T00:00:00\",\"2025-03-11T00:00:00\",\"2025-03-12T00:00:00\",\"2025-03-13T00:00:00\",\"2025-03-14T00:00:00\",\"2025-03-17T00:00:00\",\"2025-03-18T00:00:00\",\"2025-03-19T00:00:00\",\"2025-03-20T00:00:00\",\"2025-03-21T00:00:00\",\"2025-03-24T00:00:00\",\"2025-03-25T00:00:00\",\"2025-03-26T00:00:00\",\"2025-03-27T00:00:00\",\"2025-03-28T00:00:00\",\"2025-03-31T00:00:00\",\"2025-04-01T00:00:00\",\"2025-04-02T00:00:00\",\"2025-04-03T00:00:00\",\"2025-04-04T00:00:00\",\"2025-04-07T00:00:00\",\"2025-04-08T00:00:00\",\"2025-04-09T00:00:00\",\"2025-04-10T00:00:00\",\"2025-04-11T00:00:00\",\"2025-04-14T00:00:00\",\"2025-04-15T00:00:00\",\"2025-04-16T00:00:00\",\"2025-04-17T00:00:00\",\"2025-04-21T00:00:00\",\"2025-04-22T00:00:00\",\"2025-04-23T00:00:00\",\"2025-04-24T00:00:00\",\"2025-04-25T00:00:00\",\"2025-04-28T00:00:00\",\"2025-04-29T00:00:00\",\"2025-04-30T00:00:00\",\"2025-05-01T00:00:00\",\"2025-05-02T00:00:00\",\"2025-05-05T00:00:00\",\"2025-05-06T00:00:00\",\"2025-05-07T00:00:00\",\"2025-05-08T00:00:00\",\"2025-05-09T00:00:00\",\"2025-05-12T00:00:00\",\"2025-05-13T00:00:00\",\"2025-05-14T00:00:00\",\"2025-05-15T00:00:00\",\"2025-05-16T00:00:00\",\"2025-05-19T00:00:00\",\"2025-05-20T00:00:00\",\"2025-05-21T00:00:00\",\"2025-05-22T00:00:00\",\"2025-05-23T00:00:00\",\"2025-05-27T00:00:00\",\"2025-05-28T00:00:00\",\"2025-05-29T00:00:00\",\"2025-05-30T00:00:00\"],\"xaxis\":\"x\",\"y\":{\"dtype\":\"f8\",\"bdata\":\"AAAAAAAAWUDabZK7j5lYQHyF6lf4s1hA0u8mc4gAWUCSGB2liQxZQNYBe672UllAsnfGjaR1WUAsrHqj\\u002fEFaQA7G50WbxFlAtbtxPP2WWUCxl+2yn\\u002fBZQExsM5n1+VlAKmIcsjbWWUDcMl0WGhBaQDpZwnJ2WVpAz8nA9fgZWkCGUFNrvAdZQJLvF04D11lA7uLzwTCWWUC8JadVZJ1ZQJWyo1Aqo1hAEzL\\u002fUjQLWUANQJfJmsBZQGAxvVlxIVpABNFrU4t+WkAJ2m1ylTdaQBCoOuwpZ1tAIJ\\u002fgrGnqW0B+NVp1dWZcQGHbytaBN1xAGwXO66EyXkDl17wQgOdeQFab\\u002f\\u002fiSZWBABpPRSYsVYEAluWH2zqReQMOuoxIzelxAvWYnFZ9OW0B2gC1yAuRbQNAINraOVlpAQVjhd+AoXEB+FwZ0pNJcQNvULHRNuVtA1Jj5slGqXUBaRPfy035cQGQtdHZOvVtACl0MfnCXWUC92uoj6ThbQHIG4pTusllA1+Nh2+GNVkDQqP\\u002ftphxZQKhZ\\u002fIhuelRArE336YGnVkA+Bg9DzCVVQCX\\u002f9n+6NFZAIEhmJQJ0VUCG8gwQQS1WQGx0v6NE+1lA\\u002fEJPHD6cWUDyBYxvadJaQIlxVkUHWlpAySOeb0uxW0BIpzcHLXxbQD2tFNQsWFlA0YqoVCqjWkB5HlUCmW5ZQEcxrqhM\\u002fFtAoAebujACW0CRKXeLmNVbQKVe\\u002fKvTaltAailVsAEjXEC\\u002fBpp6X5tdQMBXi1JbSF1AiPijfVG6XkCA9lmJyXpeQBZz5m0e7l1AR6gI2+0ZXECb9j4dGNZdQNWKjPX4nF1AE+TX5eoxXkAiCn6H2PleQDRfuwAqYV5AQ9J0nK4eX0DeFgyjuHleQDwb3eIjfF1AuwEClEtfXkDNcJUKsaBeQKYSnibMDF9AQeGyLcjJX0A6w+zvuEpgQLWPZ33J0WBA7xqMWGJFYED2xTNzXzlgQA2OF0oav2BAXLZeTM+0YUAVisawVz9iQJqMdd\\u002fWXGJAiiHHpai0YkD7tazSsExiQLeMKKCv0mJAL9iPEv4tYkApsd4TOsdhQIPGgHfOsmFAL\\u002fkQiTWCYkDwB\\u002fFOPV1iQNBKEqZhZ2JA9xOKkZ5JYkBP1qeKJ0piQORk2uginGJA1OiHhbdeYkCo8Jjobt9iQEi0JWC+imNArB2FvQpaYkCitr9C0KJiQHkFcy+qI2NA23FTgXPrYkAE0Na\\u002f6URjQAG6dWtMO2NAdBVW8WVSY0ADnOg3M+BjQNM2ViQ1t2NAhxSJMqVEY0DqXaZiksxjQDpWHQemGWNAXO+W9a4xY0BcGwlTttBjQEXu8ePv4WNA1PmGjd0NZECBIrf6GodkQIYeybB2mGRAzge1VVNQZUA9NqkG0exlQJ2F0JDt3GVAIE6NDd74ZECdSJrjUKZlQP2LzPVVVmVAEOxGH+4kZUCHuAixlEhlQOxzQm\\u002fA7WVAYJ3pZmmMZUAJozLFS8dlQKcum5BCImVA2WaRGthEZUBCJsZEFb5lQDZq4CwPUGVAx5Mm95TVZUAd7CFu5SRmQLfQmCBMJWZAorBugoj4ZkC1sJkcs2xnQBgLe5w1jGdAtkhQgT+mZ0A6JMH\\u002fm11nQAl2at0uS2dA5IEJIfGiZkDXICKiMd5nQBPl5jqp32dAEGh3zUkgaEAX1s9zJL1pQOr+gXNrlGlAX64jJyBTaUBlZzj\\u002fdVRpQM4hnlE1dmpAiRReSNaJakBDp71ZuZlqQPTjxX8CpmpAGjAm\\u002f7JYakC4y\\u002fyPKW5rQKYWhrZE52tAF9PrdPPXbED0PBi\\u002fs\\u002fBtQP7kRf+bKWtASPQeXqVXakAhPgMul9xoQMLO7zYQiWpAOBzP7p+xaUCCo3\\u002fU9GJpQLeyBlkT3WpA7lfbzIQca0DBFxT98R1qQKTSbtOyAmpAavAX6S1waUDLF8teah9qQMvcv9bKX2pA3NRRcy9NaUCvf6ML\\u002fsRpQEnHdpzg3WpAlA8XlwY0a0BVos1S75lrQKX6UzrAPGxAETNLcKBpbEAjykGllUJrQJodbw+WeGxALd+msc6qbEAXVY1OWSRtQIaSGipv4WxAIG64g9S4bEDydyNHU7BtQNULp4M2vG1AlR4+onhqbUADXMt9jidtQNz1aIDg0mxAjBKy7kArbEB63VNTMHpsQBiGOnOtOWxAyYSFoDHia0BIVn4KrFxsQGuuiI\\u002fKbGtAIHiODkv1a0C9yHPlDFpqQGjSoYAmLmtAgclZPF0oakDqF1ElV0FqQLCUUba+K2tAwWoTsajJbEDnoA9EEI1tQIM64PPVY25AMEcFJU9ybEC7ShW\\u002fcqZqQI9nbbalAGxAJmbdRlkVbECKFDQrAMBrQDv0OV2aNGxAAPUftOoCbECee7mnYwZsQC6S9a+IDGxAA0fTSjVQa0A4LD20H2xrQJ0d5zbBCmtAmpb5P76ea0AyISu95qxrQGwMEXjU92tAxBNO1K\\u002fxa0BSrCu2OkRsQIy+\\u002fPgB92tAjKdMNLdNbEDFfbidomdsQFuhpWds3mtAkUkejl7+akCt3aJ2jBRrQEu22dF1KmtAnp9F52DIa0AZyLr8CORrQLSgr4X5pGtAMtain7\\u002fZa0CA+a6VvbRrQGUPgCzw1GtAAlcfZBS4a0AsFl4wUihrQGF9H+sJIGtAeIxMB\\u002fDtakAA9W4VDQVrQOrv911FcWtA\\u002fKCQWcVAa0AWl0HsCGBrQPry+gOv+2tAZA6o+VxVakBUuOCcN9trQM6NMf9Gt2tAOJt7c4RvbEDjaq+mbyZsQOZ3LauNP2xAoNwxDGWOa0D4I+FaS9hqQJvxXqrfMGtAauqBedfma0CDvlSs+\\u002fJsQBiMl\\u002fUloGxAjjjkV3yAbEA48J6o+wtsQLKHbYVs92pABoiJX6I+a0DJr5rP5h1rQC1zOEgJomtA+pLc8OlMbEATQWSu4j5sQCdmyVhdhmxA+Z3XzjdfbEBOtr1yRCRuQCpbH2J6xm1ABpb9wDfSbkC0Y7YWNtZvQCP6E4l\\u002fO29AYmrNJlkAcEDtCurD+B1vQESenEPS9G5A7JzGYO0ob0DhyaZq6fdtQOMsjR2uhW1AMsyOCXdEbkAQ0ncttsdrQG3FUAk4oWxA1L4utDjlbECm6fHie\\u002fxrQPyGCeAIu2pAJnTqB9XSaUALrKgTmQNqQHOY6o+XM2hAx\\u002fiGuk0lakBvqI9GgQlqQDyT7VZNImtATuuabsvYakCai1zYBIxrQLBexqR6wWtA3\\u002fx4rDXca0A7esjkbJFqQGmEs7tQ02pAS7A35ViJa0Bbn6HHmUtrQNSSpuLsZmpAxC\\u002fjn1ItakDl36Bj189qQMh5LaMcCmtAKXBpSTfhakCCEVez899rQKniqsW812xACERdfLE1bUBaDLLJVfJsQPVSvDwXiW1Aym8FH9jlbUAxh9cTNxJuQC0UUmS0wm9AnbE\\u002f4B1fcEB8EkHYDudvQN5uGTh52XBA8\\u002fW2xGWdcEDKM9aaLgpwQNnKvUSGrm9AsHIwLdkJcEBOyGPs6gJvQGPia8DG4G9A7PleYUEpcEA0JhJKhw9wQBuAHHDs5m9AHKeI00oAcEDbdE43DVhvQCgPc42z+25AG4npSyf4bUBqx2O+fDFuQJ+zG6T4U25APKEohprubkAn5gv5ccptQGhN0N4Y4G1AVNR1rUS7bECoCjona4lsQI5q2HtIvm1A8+l4B9qUbUAQC4Gby0RtQPo\\u002fOGCGX21Aim8A8dCDbkB38rgRkE5vQDQQ7+wSTXBAeAHYNaFWcEAyPmiCmGRwQHPNu8ntK3BABo5W8SP2cEAsF5ddfPtwQAeYrJ7PhHFAJAtt5\\u002f+3cUADmdHxplpyQJCsylWLZXJADt5Bij06ckD7KwW16CByQIRLijnBMnJAq9VH+sOdckDJJ\\u002fjZf9FyQGJWGp7wk3JApOeiAcGZckBbQYjcNXxzQANhzFlDd3NA7sCEX7c+c0DFeunPkblzQF7z9jYn53NAmbFSFcoOdECr\\u002f4uaIuBzQEKBP50y33RAddf6NVzqdEB68S9x4ON0QJMa3FDjG3VAwFblaGlldUA0Qq9B9Z11QEBrylqZRnVAlUrs+jTJdEAxvE1vpPB0QLsbz\\u002f86bHVA9VqvGgwmdUDQwSKV1Lh0QB1XojDTznNAPAj2D4j3ckAANaJD9pxzQNX4tbkccHNArCHqHHdFdEBuOiqHqHZ0QGa8dLYIbXRA7DRXg3MmdECwURdVdQ90QOk02j1UXnRA3VZHQteIdEAdzhewQl10QOopruNdoHRAgchfGL+xdEBvHamadix1QNOzjfuDjXVAct5GcQ9FdUDfnSldFDJ1QM9A\\u002fg8Z0nRAwNvMfruSdEDNe10Xz8l0QNbu5o14FXVAjTdjstbVdEDlD9lfTFJ0QKem16eK4nNAqeqTrDOtdECOE7mNX711QJgy6Oyy7nZAIZwYg5XCdkD8MDN34DJ3QDT2mv8bDHdAhLxESvijd0DMevFd37F3QM0FsfrqYXdAC7KUQ+Rwd0CAupzf22R3QPnIwBVk3HdAgfOgL\\u002f2rd0Ainu3nnVV3QGM7ruxLKndAu3IMScl6d0CFn+16nCN3QOD32IWtO3dAe2AL4SZWd0Dg99iFrTt3QMgvRVM54HZAuqIfi8YNdkDp5GIiVzF2QOYL\\u002fQcw63ZAbfdHO9t7d0D8m2n2nxB3QN3kU78LoHZAPdA3aBGfdUByxj6cZm51QJ2A+lmdo3VAErqP9JCqdUDW3b1ofJx0QNSZSFTAXHVAXUADF1afdUByRNNcnQN2QNZ0ptZdwnVAz7T3uP+ddUDNHwezlJd1QGyEJD8\\u002f33VAbNZ8PAu3dkDfHHsDENZ2QO4yplBUNndAQ208cINId0ClbjwDghZ3QKixcbwCtHdAgvR9Oxq9d0C3afY7wzJ4QDXIF7iC0XlANI8TaGGKeUAlPA1MaQ16QJPWvsfOtHpAzjFlb1X6ekBtO3NR05N7QODnjjeByHtA\\u002fFaWKwMhf0DZvOlw6BN\\u002fQD222YOcFoBAnRKRv\\u002fQCgEDkjgL5jsV+QF3lTcODvn9AXeVNw4O+f0Bj+JQ56Vx\\u002fQB4y0DSCjH9A8iaZhZyQfkBthbX3EIuAQA314Pg3OoFA8RgKHKOwgEAyh\\u002fc5j5SAQHYCJA6jEIFA0SLJrBF0gECJcQNOf26BQLBUdljnEIFApR20DH5rgECog22Z5MeAQGSJFaZFCIBAXK4Nghphf0BkRIpTJPCAQLgRu\\u002fPGn4BADvNTx0Daf0CTGGZgKYx\\u002fQPYiM89ia31ATl23QXSafUBqeTWt9tF\\u002fQDMcrczTp31AuR0\\u002fXhsLfUBT3lpNLfV8QMC1Nj7TX35ABghTgb62fkDMMyTq7fZ+QLCxWST4KYBAk+9Ps1Ktf0Ci1uyDeVd\\u002fQBsObNF86H5A\\u002fCU6qa+5fkDWRhRJkXd\\u002fQO2uQnhTmX5AT668B2zWfEARavp97m99QKO9ONrxdnxAdh4a1NyffECbErTCYg99QOOxCoUPQH1A+BgkzTnDe0CUmUoPYCV8QGVWlluBD3tAaWDCpuwvekBpBNHSrjp5QCd7DiIma3hAzrjwKJ1qeEBhZfUkVlJ3QOVpsuolyndAMZvOfrXsdkCnlLj0Vdx3QMBWW9mKlHlAWGXqiDG9eUBtZm0zul56QNFUxfyoBHlAHlonMeFneUDeREo7Q9V5QFF4bCTkOnpAv81ryP3le0A24J+vYPp6QAmnF0ftBHlAJEIP8PhZeUCnMmJy1K17QM6Q0hkcsntAjSJeeiiaeUCiwAuD0rJ4QGi7BWVtb3hAr+Z2bC9jd0BN\\u002ftvcK894QCbLhYKNPHlARFkU\\u002f4d5eUD8OnP1sYZ4QCvMpqGBTnlAKqhfzCjHeEClQ6LYDfd3QM1+dF1bT3ZAoe714LB6dkBoozgD6wt4QISsQrmxrHdA1xZ4dW8Xd0DgQqYNeUl2QCBADKfzAHhAv9zakFWYeUDC074OjuB5QNxIwUfNo3tAGMeHMPfue0CdeKd\\u002fy7Z7QPWeUFy7yHpA3BDNBbppfUBo6V3CN+98QL6rnr4ufH1A3TQU2xLxfUBTkDsMr+58QDJDAgOegnxAK4u54BTpe0BspdHiaZZ8QLbGCcssGHtA3dfoloaAeUBYp+8NTEt5QC2dn2EBKHhAekTvk3zmdkCguWXAA3h2QOUCP\\u002fz8MndAh3XrrDY2dkALSAU2pcJ2QLbCtXymMXdAs32XcCFydkAoB+6uqhZ1QJbcIJn8Y3RAjT2l54DLdEBZECAihqFzQDBL7oHAPXNAIKEbb2erdEBvDC+OD2FzQHNIMRjNaHRAVOMC0UF7dEB9hpGEDj91QC806PyAsHNAuN84ZUyDc0BiSYON4rVxQEQTOYNpYnJAlXUwIEpgcUBVF69BleZwQHKfe6sagHJAZz94UuAJckA2p+8PF\\u002f5yQEy70LassnFAxHTAYW3kcUBH0HhZaHFxQIIT8uf5p3FAROKwXffgcEDHtzqFkrxxQF+MQ7fjpnJAZry5IK2nc0CEFksAf4JzQCgdHAFXJHNA9mLw0ZR4dEBUfB7VVY9zQAFOAin9oHNAYK++1m\\u002fGc0AQVGZYIX1zQGbgrw6b3HJAVhgYqEO9cUDh1ts9PFpwQCcFyB3NjHBAHOV7ZqxFcUAzO+7s7U1wQBEiUsmSmHBANQ3\\u002fcBtQcUA+VJGO\\u002fhhxQO\\u002fogkjg9HBA61FiRO7lcUDgxEUcLKFxQLD3uM7cs3BADDiH0yQ+cECGVMSMWa9vQCdGMWsJW25A42k59gFHb0ByUGVU1Z9vQEs5zuKvknBAgMflFlaNcEC5uHHemqtvQPej3tUlhm9AomvbSAayb0C1dLNTqRBwQLaqwMgAeXBAlptbKrPTcEAZoqGLFMJxQIGxA44gnHJAHe5P5iPdckBOwc\\u002fCkBlyQEt8+z6kynFA48LZDkdHcUCaLkoWlJdyQGB3foZ7y3JAVZYbNV\\u002f7ckD5Ki3Hv0VzQLJ92lR9XHNAY55SiK2+c0DwT+7F0xR0QJnh3cNc2HNAcKy1nGGYckCzuROLOttxQJkfStW26XJA0BwS1D7AckCdiq44c41zQAVDGuLd43NAOLd9++66c0BkZ4+MYylzQAA\\u002fYp+SnnNAEQxwQF2nckCq\\u002fA0+Uc1xQA\\u002f2zlql9HFAIpXtf53\\u002fcUB1wCOnfLhyQLPXTD89\\u002fnBAffiEwm+DcED5KAJdWCpwQMV0waSRjG9Ay+HrEnohbUA9utylTYZsQH75VpTqJGxAhxNmNFWsbECgSA9CD0BtQCM4W1aNFG5AQUKpLrZTbkC1P5kZSXRrQKr4Py6ucmtAsK7H2SoIa0DQwKmRJZhrQLCJ6uih+mtAHGgtHV+Ma0Dlg8UD3rlrQJLRw0wyQ2pA0F2tahwrakBhhSoI9pBpQBM+ktL682lAaqd\\u002ffd2gakC1VMParYxpQJOrnRtTYWlAa1Q2hvgoakAUdaj2jYdrQM6hZe0InmtAXX17IMBza0CYyghFmj9pQPMFsW5LZmhAJGG0olU5aEBfzoChTQtoQPeA6CeEAWlAUuAwfy55Z0CYYUxM+tpoQAmGNhlDBWlAet+wBjkyaUC11FYdw35pQGkAiUZZEGpAo4sOHIlXakDlg8UD3rlrQFzAEeiA9mpAHGgtHV+Ma0C17XHdj+xsQDp66E8vOGxAmxkYbs5QbEBwwANQY6NrQHdR1Y+BD2xAcitGTOmYbUBepSdVheZtQL9MnUihh25AiH1f8ITNbEA3+FlmC3dwQCKMKlZ2EXFAxypc++UIcUDavIq3L2xxQFG5ID3doXBATpY5LoJjcEDIuVktyRtwQArPpzAqA3BAEBkZuR7EcECKPfy52ERxQDg1MFw1AnFAFkix06aLcEBFOZTGVllwQLRk\\u002fI0fsnFA1UGu3N\\u002fqcUD\\u002fBqDriqVxQFxg7z5WXnFAQGxF5JC3cEBA5d4pK9twQBE4kbb583FAtVhJ6ADHcUBTaMg681VyQApfrlaz5XJAREY00Ch7ckDBGlbo4rlxQK3Ah6LlU3FAerDKuQn\\u002fcECgFTVezNFwQFQ\\u002frW8oQXFAGSE8MhoKcEAyUEXZ\\u002f8xvQJn97FAciG1A5VuHiZpabUCDDiksKopuQGYNXuwNkG5AvixZlfnvbUC6OEqLVNhuQNo513o01W1APh9zvjgTb0B6zfEKd1dwQJBSt5qvonBAldqOGFC7cED3KLux1UNxQHmjqdSyq3FAMYzCe6eCckA8JwzQpytyQJ0jQCPUh3FAJ\\u002fOS9lOnckAwqtYwyBF0QPzPVfgNJXRAdIeLi5Q0dEBwXUDRzbR0QBsjGX6DS3VA5RPmeHsJdECP29j03W10QNt7hC895nVAm9LVEUqzdkAXtnAuRBB2QJjFkoBSDXZAxX7zlX8vd0BkSb0zEDh3QM0kglBmW3dAWK5RM288dkDWGHW2b8h2QGgJClkdBXhAXIpa7rPNd0CSIUBBuQF3QJtbVptcXXZAV9aewiSZdUC8DdNPpbN1QDzKEMWfvnhAu4Sywm9ZeEBTlE25\\u002fZJ4QKVs09KyRnhA3xQwVQm8d0CO6LnS7mB4QLIVDEgf+3hA+lZ8qy2heEAerzkQCFt4QM71laIeSnlAbufHDaiCeEAqlmOSjQR4QAWdM\\u002f7RBHhATZiqz4YqeUDxQ2IvtFZ5QG1UnZw9tnpA2Rcj84DnekDDYWa2WxZ7QJebcBZpZntAnPrXS26ue0AZCnEgAXB8QPOyBG2yAXxAOLX9zky\\u002fe0D7uy0R5557QAkjbTmVOHxAcalk4WijfEAJO1Xo5Qx9QGvsEXQ7P31AUv01mia2fEDhwQ+uAR18QHwhjvTFRnxAYusM+eLXfEA3CzxgHWp8QJNXD\\u002fCotXtAywXRqhete0Dsup8YE\\u002fx7QDmdZgdnPXxA0QRaXnLvfEAFb7ryIDZ9QORCdgW2WHxA+dUICrpcfEDvyhK3HEh8QKWLOr+ncXtA8lVq5hUxfEBbjpgNYHl8QPJtUpVmBX1AywxG8T08fkBQbK2L04B9QGNsc1CXE31ADXjjllXTfED9Hz3eqf59QFtTKPXDfH5AoPARwHrhfUBw2yeJjDV+QG1ctHta431As5M9\\u002fqGjfUD4bNtIwUd+QDbpBKhdjX5ABWTJULuPf0Di2nrNqpCAQHSo9Ac\\u002fWYBAvBtOVXdNgEAeX8hVIwyAQDZ4YtYd8H9AEAfEa03cg0DX1kqonl2EQO5CIWCT+YRAtoAJC8LIg0BbeTk67cuEQFIozHOfkIRAJ60Kcr17hEDhYNqjhzaEQBi3yPk3mYNAeDoSZckjhEAF6RZ\\u002fmEaEQEZ3zUvrpYRANA7X6Bh0hUAqy32Hg3yGQEzDs4F1ToZAFiIkAq5ThkCMZT6FF+mGQEyqSaXwgoZAqcA7Y0OAhkDsHLviAxOGQG15kw\\u002fiP4VAWn6jgW7mhUBZo0X\\u002f0ICFQLijcDxSWYVAUI3gKHcfhkAelcFmUy6GQB9AJW55IYZAN7We5NIEhkAsims9YDqGQK9JVsAhD4ZADsUDlkEthkDzHAZVrfWGQMnDXWt7C4hAXGIrRHjHh0Cypm3RR0yIQJRuaa+U1ohAUisKhMCeiEC52us1TM6HQB8CY5wqLIdAte9ulLtUh0DsKpTUleOHQBD0mHExxYdADMaqTCwBiEDbc1ns+HKIQPHZrd0ocIhAVsrrYXBSiEA4esn2zyaHQLRTMBK\\u002fR4dAviFEN9Zdh0DiwEEtgsCHQHT6U+6xW4dAzWsncjRBhkBjC+\\u002fk+iqGQK2EdTa9XYVAksFkV7rhhkBCB8vRw\\u002fqGQHC3TXD7vYZARWw8YfiqhkBgJmUX8qSGQACY1EkGkIhAGO\\u002fqqRzih0Bh83VH+aOIQCFAHf1DqohAs5KZmvgQiEDrqsUeWn6IQIPieZBJg4lAtbfpHo3DiUA9IT\\u002f5u8+JQMk1rlJ4XolAHGcVWbFjiUCBfQPjIJ2IQKoYDDBWL4hAssoDCMPVh0DhGTcIAqGHQMab9uXEd4dA4G5OBR3Kh0AJS1+l99aHQC1JOc3k9YZAFgtDwbr+hkApBA+JA8OGQJblnlh\\u002fF4ZA+eGjcOFzhUAN8iZcR8OFQI7gB8k4FYZA8l\\u002fXj5TrhUDW9WCtKDaGQMdGJFNOiYZAxzxaADTAhkCTrRx7\\u002fGuHQEu2nJOcwoZAOmsht8UIh0CKQdeJZl+HQIXH17oz74dASxihYbqth0BY9k6qBfSHQOLnTmH8eohAck7pvZiNiED\\u002fpKll5saHQOSh4eTJG4hAH+h7a\\u002fv6hkCMppd6vRGGQMVcq0IFBYZARhROr2ulhUB6PFP+CnqGQFaWwiEp1oZAmQnNIejZhUA+OsJXXBeFQISmqn6oLoVA5VH+TymHhUDD46rmJVSFQO3MqFcDI4ZAuuPuqyPBhkD9P3NJ2ImHQLGLLpC67YdA8qgiIAsJiEBnPpg47FuIQM5XqUBEjohA3YvjJLVHiUDWHSbu3W2JQN4E5ICU+IlAxarRJ8CRiUBfRqkPBOGJQCTsibOlyIlADsoq+WZdikAUMBseJB+KQKCutK+4eolAHe+Jm9z8iEA0ssKbQTuJQKTp3gbjAolAk6PIU5ktiUAQuddxKnaIQPgYEzJ\\u002fdYhA32EcynXNh0A8a0NjZluIQKPIJ\\u002fYOzYdAOBxPzGpfiEAI\\u002fL02RdmIQPKqAXyRY4hAEJohaX3tiEBnGnMPNCeJQCTeMORISolA9DGK4peSiUDXWvLsiTGKQJLEwo0z8olARp11JUgqiUCgVy0j\\u002fJ+JQEE5blOPiolAved\\u002frq7GiUC49+drKdmJQNkI0so454lA2QjSyjjniUClGhZF6jGJQJpCTLu04YhAdAdQ1CYbiUD5umnMT66JQMIcyg3qVItAEcW4QLDLi0AW2h6ktm2MQLV0LljqrIxAXlO0CuudjEDTwqCizn2NQAJvwqjAUY1ApNwEV+PejUBUBWOoHR6PQJBxlG3xM49AKBTEyERRj0BKU\\u002f5YUwyQQFCWEA9mHZBA6EtOTFTsj0B9d5WULFaQQPP3\\u002f87capBA1gx\\u002fcV8XkEDogqwtzXuQQGrjHhGQTZFA57aDiO8hkkDI07aJr9eRQNI\\u002f6IxJVZJAaaixkJ82kkAmCghIeN2SQH3YgiYr5ZJAyd9mlyLdkkAVQbNAxlOTQGTxlmGeAJNAfr9uCpv9kkDfGJta+CmSQDGEC5lnpZFAFLO3XkyKlEALW5xk+pyUQCf8sP5jr5RA7\\u002f9U\\u002fjWVlEAHRqcOt0+UQFY8On66sJRA0zCAI8SElUBT7CrQz0qWQP9kSITBe5ZAZHJ9IPIyl0DJcFQFsTyYQN9VuIV55JZA9LFgCQlvlkDv2I7\\u002fEgqYQK1msq1xxZdARXG811MAl0AD\\u002fGOvKfmWQBeErcuKIpdA51RXaK5hl0DCkhtM5aKXQOgQX5kR6pdAJ1eC4iipmEAfBMIa5tiYQEpBJtt1NZhAyOlh8Lmal0Ar8Gb10qGXQEb4ruxKopdABLjw20tll0CIBHpXn0SXQJ+5lPvNd5ZAYJKT75wEl0CI6ZDWBsqWQOZTmoLpUpZAP8rymrvDlkDSxhWfO7OXQDh8jQWIEJdA6h\\u002fVwDt+lkBhR2uJ6NyWQDlvczqZ+pVAAsOa0i4llkDwwtTIAO6TQBijHiUpzJRAeLRemaqOlUD9BmW9ztaUQP6\\u002f8BepnJVABM8lnFXylkA2VlGlzvOWQNxwcyIVmZZASNOscgu4lUDXnObW6XGWQE9neqvnOJdA5EYDt0UZmEDTzmesFK+XQEuaovKSpZdAqjbK3xc2l0BokTLS0YGXQFFE6AW0pJdA+tmfssfkl0B6Qpe5\\u002fb+YQN1c0KzYrZhAeVRxR\\u002fgvmEDkC3HyCMqYQDv41SOc8phAHspRzGrVmECz2bQs6CWbQDzoa2qt2JtA1mXFM0rKnUDOkkLuJwieQFx19f6S5pxAfkOOAIasnECo5L+73xOeQDEC1bAWdJ5A8EaZ4AIDoEBZkf75eKWfQBqEKYkbnp9A4Sl7OoDan0BUBizGPqCfQCu40\\u002fLAX6BAG63ZHWfzoECQ7\\u002fFQZz+hQBIqaWNFIaFAKa1g7Ue7oUDrvFgykxqhQNFapCefjaBA3KxkJcHknkD7ePwejX2gQGMh9Snuh6BARkpS+j03oEDXwUwULSigQE+nyCafQaBAwVVmSQwLoECX2c6a38agQAZZp6jYdKBAbB3K0jHEoEBfBIrFqS6hQIqISWTZpKFAdR0GMGmpoECGBhrvA+egQEqdWgk7zKBAn52xVpeGoECf4VEQuNyeQI2CSkRMrJ9AAXzIhbPYnkDXwUwULSigQDhO36JeCKBAofXx7UjinUApuPIaX16dQIwsbwKakp1Ad8U\\u002fRiswnUCYS75C2yGbQKnn9ifEm55ATzM6b82QnECoqH\\u002fh5Q6cQNB5KW85RppAyxaV+qxEm0AHDazoGt+ZQI8liFfjdJtALu1kEShmm0C7rVtuFIScQGRvZVLXYJ5Arq6dAb\\u002finkDbcpTaaBGgQFxn4tz+SqBAaajbrXUAoUBvXtqCY6SgQHebIS09zqBA\\u002fi5dRd8uoEA9LUnnXeugQOH5el7wiaBA8uKOHYvHoEAml1QWe22gQGN4kirvwZ5A6OQwHiA5n0CDVzd+xz+cQIj\\u002fUWzrx5tACkP2VuEKnED5Cy9Gl+WaQHQ\\u002f\\u002fFhU2ZtAqsRHr3lGnEBs2iG3ZpSeQFdQVB1oKp9Ait\\u002fRM7onn0DspRNfXYyeQJ6wLsCsPJ5AyJj+PQKonUC04mXuW9WeQBpBJ40hWJ5AjlPI\\u002f4ppnkBcX4JCQp6fQIaINYqGJ6BAtBD6i0U5oEBYJIlnwMGfQOErEA5uxJ9AM\\u002fyvCRmbnkAVi25l\\u002fBafQLu7yCttEaBA\\u002f1M3nrxWoEDbSnaGfbSgQFcyOkyZYaFA2P0r9I9ZoUBFMb4A46GhQIq7mnGNoaFAxYdZFgsPokAdgT\\u002fkZzahQEqoXEZbwKFAnQZOKd\\u002fooUBVQXjdsgyiQE9q3ofjy6JAsARV\\u002fd7HokDHWuLQ7kCiQP0ePNFkXaJAhAyryjqDokDhDqLME2GiQDQEd\\u002f+EeaJAoy+U+5A5okBdog8RP12hQOQgRWmktaFAUcMQF2jLoUDmFVvhpkyiQOBformBC6NAveDef\\u002f94o0Czb22XJE+jQCDwq4fJ\\u002f6JA24dc1D1lo0CrLA8YmyGjQCGiUxQDMqNAK67JU\\u002faRokAi4W32r1SiQP0AAx1iOqNA1D011OEUo0DdJKne\\u002fy6jQHJ6aCD1kKJAmI+v42bKoUBB3Kx4ieihQHO5ggKis6FAMqAn5hEVokBn2oMIyyGiQKeFURNfWKJAJD+gHsX7okBWrTwHbfmiQPELZX6xoaJAelsz3yMookBjJJeH56qhQNXNDxLiOKJAxOx8m+r2oUBewac0co+hQBaZhmAaRKFAZruGDzEOoUCxbbH5odygQLbDutrmF6FApvZisYOeoUCUHCUW8ESiQAPMIv9aV6JAcFrz8KRNokC80cjK3euhQLw65Xrw+6FAdB+qGMmQoUDBndTNZReiQHRUulur5aJAZJtd7sGLo0A3W6AVrVSiQCHcvAOsU6JAxJBGXQjHoUDvh6xtSm2hQJZkeAgRPKFAy6v6LRXSoUD1gX8QrXihQIIasXFOA6JAoHnnC8hrokAeoU+DuzyjQHU6OkHBQaNAANmwb7inokDG5F6OvPqeQH3eM+NP36BA8TgiLCwuoEDkunjs+02gQDh63Fw9aZ9Ado2OLd6EnkCurbb+IwqfQERig+4CVKBA7K7GMO7UoED3C4kmxvugQPWBfxCteKFABFyxc+ReoUCejBJLTiehQIhP5VxFsqFAMm6z5HopokD+aDOs5TuiQKoRC0o0NqJAIdy8A6xTokBtjvMleZWhQIPLIBSCCqFAo6BrJEmQoEA5sNl5\\u002fiuhQC6nYw6Zbp9Ay0gpZwZXoEDCqOH\\u002fvdadQLuuAiX\\u002fV55AHlDarbqvnkCsQ4pAA+2cQL+hgOz9ep1AilOp65X8m0A0cndzy3OcQII\\u002fo5P3R55Ak+WUMEA9nkCLsXGqJNWfQPCctLPPRZ9AXuDILjQznkDSekO5L7+eQI4Q3HfVAp9Ad+fRIT7LnkCRzNmxusOfQOE3GXSBk59AdTlyIVrDnUB6Y+RgSyedQJ3RyP1psZxA0viVYgNbnEBn3\\u002fMmkNGcQL7NS6Kl45xAsxXOPE2imkCG3HQPpKyYQD+KXeqsi5lAjqDjJe0xmUDwyGZdh+mdQM4tjvDCJJxA+kI5Ms4FnUAqGqYBEvecQLC9aendWp1AtVt9i3hWm0CQtvPXiY2aQNegWkvIWplA4qaLvWXfmUDCa19EQN+aQJWlqTVo2JtAkyQ+BSoLnUAfFHWPdHKcQIlgz+7ghZxAfdVFWS5\\u002fnEB\\u002fG\\u002fWnWTOdQDosNUPq9J1AtlN5zV7HnUCmEN\\u002fwnbSdQL5\\u002fmJVgoJ5A4N5y+iO1nkCQlTSb6oSeQJJ9k5ccF6BAdyIoMDD\\u002foEAwnDiyXLShQJPhQWpIo6FAoQP7GF+2oUCXD6GcELyhQGaODYk2lKFAmrXa7c89oUDTCedPTmChQPz646W7LKFAJ8m\\u002fY7i5oUDajP8InaKhQPtmgUpLNaJAx+YNbFStoUA=\"},\"yaxis\":\"y\",\"type\":\"scattergl\"},{\"hovertemplate\":\"Asset=Bitcoin\\u003cbr\\u003eDate=%{x}\\u003cbr\\u003eNormalized Index (log)=%{y}\\u003cextra\\u003e\\u003c\\u002fextra\\u003e\",\"legendgroup\":\"Bitcoin\",\"line\":{\"color\":\"#96aae3\",\"dash\":\"solid\"},\"marker\":{\"symbol\":\"circle\"},\"mode\":\"lines\",\"name\":\"Bitcoin\",\"showlegend\":true,\"x\":[\"2020-01-02T00:00:00\",\"2020-01-03T00:00:00\",\"2020-01-06T00:00:00\",\"2020-01-07T00:00:00\",\"2020-01-08T00:00:00\",\"2020-01-09T00:00:00\",\"2020-01-10T00:00:00\",\"2020-01-13T00:00:00\",\"2020-01-14T00:00:00\",\"2020-01-15T00:00:00\",\"2020-01-16T00:00:00\",\"2020-01-17T00:00:00\",\"2020-01-21T00:00:00\",\"2020-01-22T00:00:00\",\"2020-01-23T00:00:00\",\"2020-01-24T00:00:00\",\"2020-01-27T00:00:00\",\"2020-01-28T00:00:00\",\"2020-01-29T00:00:00\",\"2020-01-30T00:00:00\",\"2020-01-31T00:00:00\",\"2020-02-03T00:00:00\",\"2020-02-04T00:00:00\",\"2020-02-05T00:00:00\",\"2020-02-06T00:00:00\",\"2020-02-07T00:00:00\",\"2020-02-10T00:00:00\",\"2020-02-11T00:00:00\",\"2020-02-12T00:00:00\",\"2020-02-13T00:00:00\",\"2020-02-14T00:00:00\",\"2020-02-18T00:00:00\",\"2020-02-19T00:00:00\",\"2020-02-20T00:00:00\",\"2020-02-21T00:00:00\",\"2020-02-24T00:00:00\",\"2020-02-25T00:00:00\",\"2020-02-26T00:00:00\",\"2020-02-27T00:00:00\",\"2020-02-28T00:00:00\",\"2020-03-02T00:00:00\",\"2020-03-03T00:00:00\",\"2020-03-04T00:00:00\",\"2020-03-05T00:00:00\",\"2020-03-06T00:00:00\",\"2020-03-09T00:00:00\",\"2020-03-10T00:00:00\",\"2020-03-11T00:00:00\",\"2020-03-12T00:00:00\",\"2020-03-13T00:00:00\",\"2020-03-16T00:00:00\",\"2020-03-17T00:00:00\",\"2020-03-18T00:00:00\",\"2020-03-19T00:00:00\",\"2020-03-20T00:00:00\",\"2020-03-23T00:00:00\",\"2020-03-24T00:00:00\",\"2020-03-25T00:00:00\",\"2020-03-26T00:00:00\",\"2020-03-27T00:00:00\",\"2020-03-30T00:00:00\",\"2020-03-31T00:00:00\",\"2020-04-01T00:00:00\",\"2020-04-02T00:00:00\",\"2020-04-03T00:00:00\",\"2020-04-06T00:00:00\",\"2020-04-07T00:00:00\",\"2020-04-08T00:00:00\",\"2020-04-09T00:00:00\",\"2020-04-13T00:00:00\",\"2020-04-14T00:00:00\",\"2020-04-15T00:00:00\",\"2020-04-16T00:00:00\",\"2020-04-17T00:00:00\",\"2020-04-20T00:00:00\",\"2020-04-21T00:00:00\",\"2020-04-22T00:00:00\",\"2020-04-23T00:00:00\",\"2020-04-24T00:00:00\",\"2020-04-27T00:00:00\",\"2020-04-28T00:00:00\",\"2020-04-29T00:00:00\",\"2020-04-30T00:00:00\",\"2020-05-01T00:00:00\",\"2020-05-04T00:00:00\",\"2020-05-05T00:00:00\",\"2020-05-06T00:00:00\",\"2020-05-07T00:00:00\",\"2020-05-08T00:00:00\",\"2020-05-11T00:00:00\",\"2020-05-12T00:00:00\",\"2020-05-13T00:00:00\",\"2020-05-14T00:00:00\",\"2020-05-15T00:00:00\",\"2020-05-18T00:00:00\",\"2020-05-19T00:00:00\",\"2020-05-20T00:00:00\",\"2020-05-21T00:00:00\",\"2020-05-22T00:00:00\",\"2020-05-26T00:00:00\",\"2020-05-27T00:00:00\",\"2020-05-28T00:00:00\",\"2020-05-29T00:00:00\",\"2020-06-01T00:00:00\",\"2020-06-02T00:00:00\",\"2020-06-03T00:00:00\",\"2020-06-04T00:00:00\",\"2020-06-05T00:00:00\",\"2020-06-08T00:00:00\",\"2020-06-09T00:00:00\",\"2020-06-10T00:00:00\",\"2020-06-11T00:00:00\",\"2020-06-12T00:00:00\",\"2020-06-15T00:00:00\",\"2020-06-16T00:00:00\",\"2020-06-17T00:00:00\",\"2020-06-18T00:00:00\",\"2020-06-19T00:00:00\",\"2020-06-22T00:00:00\",\"2020-06-23T00:00:00\",\"2020-06-24T00:00:00\",\"2020-06-25T00:00:00\",\"2020-06-26T00:00:00\",\"2020-06-29T00:00:00\",\"2020-06-30T00:00:00\",\"2020-07-01T00:00:00\",\"2020-07-02T00:00:00\",\"2020-07-06T00:00:00\",\"2020-07-07T00:00:00\",\"2020-07-08T00:00:00\",\"2020-07-09T00:00:00\",\"2020-07-10T00:00:00\",\"2020-07-13T00:00:00\",\"2020-07-14T00:00:00\",\"2020-07-15T00:00:00\",\"2020-07-16T00:00:00\",\"2020-07-17T00:00:00\",\"2020-07-20T00:00:00\",\"2020-07-21T00:00:00\",\"2020-07-22T00:00:00\",\"2020-07-23T00:00:00\",\"2020-07-24T00:00:00\",\"2020-07-27T00:00:00\",\"2020-07-28T00:00:00\",\"2020-07-29T00:00:00\",\"2020-07-30T00:00:00\",\"2020-07-31T00:00:00\",\"2020-08-03T00:00:00\",\"2020-08-04T00:00:00\",\"2020-08-05T00:00:00\",\"2020-08-06T00:00:00\",\"2020-08-07T00:00:00\",\"2020-08-10T00:00:00\",\"2020-08-11T00:00:00\",\"2020-08-12T00:00:00\",\"2020-08-13T00:00:00\",\"2020-08-14T00:00:00\",\"2020-08-17T00:00:00\",\"2020-08-18T00:00:00\",\"2020-08-19T00:00:00\",\"2020-08-20T00:00:00\",\"2020-08-21T00:00:00\",\"2020-08-24T00:00:00\",\"2020-08-25T00:00:00\",\"2020-08-26T00:00:00\",\"2020-08-27T00:00:00\",\"2020-08-28T00:00:00\",\"2020-08-31T00:00:00\",\"2020-09-01T00:00:00\",\"2020-09-02T00:00:00\",\"2020-09-03T00:00:00\",\"2020-09-04T00:00:00\",\"2020-09-08T00:00:00\",\"2020-09-09T00:00:00\",\"2020-09-10T00:00:00\",\"2020-09-11T00:00:00\",\"2020-09-14T00:00:00\",\"2020-09-15T00:00:00\",\"2020-09-16T00:00:00\",\"2020-09-17T00:00:00\",\"2020-09-18T00:00:00\",\"2020-09-21T00:00:00\",\"2020-09-22T00:00:00\",\"2020-09-23T00:00:00\",\"2020-09-24T00:00:00\",\"2020-09-25T00:00:00\",\"2020-09-28T00:00:00\",\"2020-09-29T00:00:00\",\"2020-09-30T00:00:00\",\"2020-10-01T00:00:00\",\"2020-10-02T00:00:00\",\"2020-10-05T00:00:00\",\"2020-10-06T00:00:00\",\"2020-10-07T00:00:00\",\"2020-10-08T00:00:00\",\"2020-10-09T00:00:00\",\"2020-10-12T00:00:00\",\"2020-10-13T00:00:00\",\"2020-10-14T00:00:00\",\"2020-10-15T00:00:00\",\"2020-10-16T00:00:00\",\"2020-10-19T00:00:00\",\"2020-10-20T00:00:00\",\"2020-10-21T00:00:00\",\"2020-10-22T00:00:00\",\"2020-10-23T00:00:00\",\"2020-10-26T00:00:00\",\"2020-10-27T00:00:00\",\"2020-10-28T00:00:00\",\"2020-10-29T00:00:00\",\"2020-10-30T00:00:00\",\"2020-11-02T00:00:00\",\"2020-11-03T00:00:00\",\"2020-11-04T00:00:00\",\"2020-11-05T00:00:00\",\"2020-11-06T00:00:00\",\"2020-11-09T00:00:00\",\"2020-11-10T00:00:00\",\"2020-11-11T00:00:00\",\"2020-11-12T00:00:00\",\"2020-11-13T00:00:00\",\"2020-11-16T00:00:00\",\"2020-11-17T00:00:00\",\"2020-11-18T00:00:00\",\"2020-11-19T00:00:00\",\"2020-11-20T00:00:00\",\"2020-11-23T00:00:00\",\"2020-11-24T00:00:00\",\"2020-11-25T00:00:00\",\"2020-11-27T00:00:00\",\"2020-11-30T00:00:00\",\"2020-12-01T00:00:00\",\"2020-12-02T00:00:00\",\"2020-12-03T00:00:00\",\"2020-12-04T00:00:00\",\"2020-12-07T00:00:00\",\"2020-12-08T00:00:00\",\"2020-12-09T00:00:00\",\"2020-12-10T00:00:00\",\"2020-12-11T00:00:00\",\"2020-12-14T00:00:00\",\"2020-12-15T00:00:00\",\"2020-12-16T00:00:00\",\"2020-12-17T00:00:00\",\"2020-12-18T00:00:00\",\"2020-12-21T00:00:00\",\"2020-12-22T00:00:00\",\"2020-12-23T00:00:00\",\"2020-12-24T00:00:00\",\"2020-12-28T00:00:00\",\"2020-12-29T00:00:00\",\"2020-12-30T00:00:00\",\"2020-12-31T00:00:00\",\"2021-01-04T00:00:00\",\"2021-01-05T00:00:00\",\"2021-01-06T00:00:00\",\"2021-01-07T00:00:00\",\"2021-01-08T00:00:00\",\"2021-01-11T00:00:00\",\"2021-01-12T00:00:00\",\"2021-01-13T00:00:00\",\"2021-01-14T00:00:00\",\"2021-01-15T00:00:00\",\"2021-01-19T00:00:00\",\"2021-01-20T00:00:00\",\"2021-01-21T00:00:00\",\"2021-01-22T00:00:00\",\"2021-01-25T00:00:00\",\"2021-01-26T00:00:00\",\"2021-01-27T00:00:00\",\"2021-01-28T00:00:00\",\"2021-01-29T00:00:00\",\"2021-02-01T00:00:00\",\"2021-02-02T00:00:00\",\"2021-02-03T00:00:00\",\"2021-02-04T00:00:00\",\"2021-02-05T00:00:00\",\"2021-02-08T00:00:00\",\"2021-02-09T00:00:00\",\"2021-02-10T00:00:00\",\"2021-02-11T00:00:00\",\"2021-02-12T00:00:00\",\"2021-02-16T00:00:00\",\"2021-02-17T00:00:00\",\"2021-02-18T00:00:00\",\"2021-02-19T00:00:00\",\"2021-02-22T00:00:00\",\"2021-02-23T00:00:00\",\"2021-02-24T00:00:00\",\"2021-02-25T00:00:00\",\"2021-02-26T00:00:00\",\"2021-03-01T00:00:00\",\"2021-03-02T00:00:00\",\"2021-03-03T00:00:00\",\"2021-03-04T00:00:00\",\"2021-03-05T00:00:00\",\"2021-03-08T00:00:00\",\"2021-03-09T00:00:00\",\"2021-03-10T00:00:00\",\"2021-03-11T00:00:00\",\"2021-03-12T00:00:00\",\"2021-03-15T00:00:00\",\"2021-03-16T00:00:00\",\"2021-03-17T00:00:00\",\"2021-03-18T00:00:00\",\"2021-03-19T00:00:00\",\"2021-03-22T00:00:00\",\"2021-03-23T00:00:00\",\"2021-03-24T00:00:00\",\"2021-03-25T00:00:00\",\"2021-03-26T00:00:00\",\"2021-03-29T00:00:00\",\"2021-03-30T00:00:00\",\"2021-03-31T00:00:00\",\"2021-04-01T00:00:00\",\"2021-04-05T00:00:00\",\"2021-04-06T00:00:00\",\"2021-04-07T00:00:00\",\"2021-04-08T00:00:00\",\"2021-04-09T00:00:00\",\"2021-04-12T00:00:00\",\"2021-04-13T00:00:00\",\"2021-04-14T00:00:00\",\"2021-04-15T00:00:00\",\"2021-04-16T00:00:00\",\"2021-04-19T00:00:00\",\"2021-04-20T00:00:00\",\"2021-04-21T00:00:00\",\"2021-04-22T00:00:00\",\"2021-04-23T00:00:00\",\"2021-04-26T00:00:00\",\"2021-04-27T00:00:00\",\"2021-04-28T00:00:00\",\"2021-04-29T00:00:00\",\"2021-04-30T00:00:00\",\"2021-05-03T00:00:00\",\"2021-05-04T00:00:00\",\"2021-05-05T00:00:00\",\"2021-05-06T00:00:00\",\"2021-05-07T00:00:00\",\"2021-05-10T00:00:00\",\"2021-05-11T00:00:00\",\"2021-05-12T00:00:00\",\"2021-05-13T00:00:00\",\"2021-05-14T00:00:00\",\"2021-05-17T00:00:00\",\"2021-05-18T00:00:00\",\"2021-05-19T00:00:00\",\"2021-05-20T00:00:00\",\"2021-05-21T00:00:00\",\"2021-05-24T00:00:00\",\"2021-05-25T00:00:00\",\"2021-05-26T00:00:00\",\"2021-05-27T00:00:00\",\"2021-05-28T00:00:00\",\"2021-06-01T00:00:00\",\"2021-06-02T00:00:00\",\"2021-06-03T00:00:00\",\"2021-06-04T00:00:00\",\"2021-06-07T00:00:00\",\"2021-06-08T00:00:00\",\"2021-06-09T00:00:00\",\"2021-06-10T00:00:00\",\"2021-06-11T00:00:00\",\"2021-06-14T00:00:00\",\"2021-06-15T00:00:00\",\"2021-06-16T00:00:00\",\"2021-06-17T00:00:00\",\"2021-06-18T00:00:00\",\"2021-06-21T00:00:00\",\"2021-06-22T00:00:00\",\"2021-06-23T00:00:00\",\"2021-06-24T00:00:00\",\"2021-06-25T00:00:00\",\"2021-06-28T00:00:00\",\"2021-06-29T00:00:00\",\"2021-06-30T00:00:00\",\"2021-07-01T00:00:00\",\"2021-07-02T00:00:00\",\"2021-07-06T00:00:00\",\"2021-07-07T00:00:00\",\"2021-07-08T00:00:00\",\"2021-07-09T00:00:00\",\"2021-07-12T00:00:00\",\"2021-07-13T00:00:00\",\"2021-07-14T00:00:00\",\"2021-07-15T00:00:00\",\"2021-07-16T00:00:00\",\"2021-07-19T00:00:00\",\"2021-07-20T00:00:00\",\"2021-07-21T00:00:00\",\"2021-07-22T00:00:00\",\"2021-07-23T00:00:00\",\"2021-07-26T00:00:00\",\"2021-07-27T00:00:00\",\"2021-07-28T00:00:00\",\"2021-07-29T00:00:00\",\"2021-07-30T00:00:00\",\"2021-08-02T00:00:00\",\"2021-08-03T00:00:00\",\"2021-08-04T00:00:00\",\"2021-08-05T00:00:00\",\"2021-08-06T00:00:00\",\"2021-08-09T00:00:00\",\"2021-08-10T00:00:00\",\"2021-08-11T00:00:00\",\"2021-08-12T00:00:00\",\"2021-08-13T00:00:00\",\"2021-08-16T00:00:00\",\"2021-08-17T00:00:00\",\"2021-08-18T00:00:00\",\"2021-08-19T00:00:00\",\"2021-08-20T00:00:00\",\"2021-08-23T00:00:00\",\"2021-08-24T00:00:00\",\"2021-08-25T00:00:00\",\"2021-08-26T00:00:00\",\"2021-08-27T00:00:00\",\"2021-08-30T00:00:00\",\"2021-08-31T00:00:00\",\"2021-09-01T00:00:00\",\"2021-09-02T00:00:00\",\"2021-09-03T00:00:00\",\"2021-09-07T00:00:00\",\"2021-09-08T00:00:00\",\"2021-09-09T00:00:00\",\"2021-09-10T00:00:00\",\"2021-09-13T00:00:00\",\"2021-09-14T00:00:00\",\"2021-09-15T00:00:00\",\"2021-09-16T00:00:00\",\"2021-09-17T00:00:00\",\"2021-09-20T00:00:00\",\"2021-09-21T00:00:00\",\"2021-09-22T00:00:00\",\"2021-09-23T00:00:00\",\"2021-09-24T00:00:00\",\"2021-09-27T00:00:00\",\"2021-09-28T00:00:00\",\"2021-09-29T00:00:00\",\"2021-09-30T00:00:00\",\"2021-10-01T00:00:00\",\"2021-10-04T00:00:00\",\"2021-10-05T00:00:00\",\"2021-10-06T00:00:00\",\"2021-10-07T00:00:00\",\"2021-10-08T00:00:00\",\"2021-10-11T00:00:00\",\"2021-10-12T00:00:00\",\"2021-10-13T00:00:00\",\"2021-10-14T00:00:00\",\"2021-10-15T00:00:00\",\"2021-10-18T00:00:00\",\"2021-10-19T00:00:00\",\"2021-10-20T00:00:00\",\"2021-10-21T00:00:00\",\"2021-10-22T00:00:00\",\"2021-10-25T00:00:00\",\"2021-10-26T00:00:00\",\"2021-10-27T00:00:00\",\"2021-10-28T00:00:00\",\"2021-10-29T00:00:00\",\"2021-11-01T00:00:00\",\"2021-11-02T00:00:00\",\"2021-11-03T00:00:00\",\"2021-11-04T00:00:00\",\"2021-11-05T00:00:00\",\"2021-11-08T00:00:00\",\"2021-11-09T00:00:00\",\"2021-11-10T00:00:00\",\"2021-11-11T00:00:00\",\"2021-11-12T00:00:00\",\"2021-11-15T00:00:00\",\"2021-11-16T00:00:00\",\"2021-11-17T00:00:00\",\"2021-11-18T00:00:00\",\"2021-11-19T00:00:00\",\"2021-11-22T00:00:00\",\"2021-11-23T00:00:00\",\"2021-11-24T00:00:00\",\"2021-11-26T00:00:00\",\"2021-11-29T00:00:00\",\"2021-11-30T00:00:00\",\"2021-12-01T00:00:00\",\"2021-12-02T00:00:00\",\"2021-12-03T00:00:00\",\"2021-12-06T00:00:00\",\"2021-12-07T00:00:00\",\"2021-12-08T00:00:00\",\"2021-12-09T00:00:00\",\"2021-12-10T00:00:00\",\"2021-12-13T00:00:00\",\"2021-12-14T00:00:00\",\"2021-12-15T00:00:00\",\"2021-12-16T00:00:00\",\"2021-12-17T00:00:00\",\"2021-12-20T00:00:00\",\"2021-12-21T00:00:00\",\"2021-12-22T00:00:00\",\"2021-12-23T00:00:00\",\"2021-12-27T00:00:00\",\"2021-12-28T00:00:00\",\"2021-12-29T00:00:00\",\"2021-12-30T00:00:00\",\"2021-12-31T00:00:00\",\"2022-01-03T00:00:00\",\"2022-01-04T00:00:00\",\"2022-01-05T00:00:00\",\"2022-01-06T00:00:00\",\"2022-01-07T00:00:00\",\"2022-01-10T00:00:00\",\"2022-01-11T00:00:00\",\"2022-01-12T00:00:00\",\"2022-01-13T00:00:00\",\"2022-01-14T00:00:00\",\"2022-01-18T00:00:00\",\"2022-01-19T00:00:00\",\"2022-01-20T00:00:00\",\"2022-01-21T00:00:00\",\"2022-01-24T00:00:00\",\"2022-01-25T00:00:00\",\"2022-01-26T00:00:00\",\"2022-01-27T00:00:00\",\"2022-01-28T00:00:00\",\"2022-01-31T00:00:00\",\"2022-02-01T00:00:00\",\"2022-02-02T00:00:00\",\"2022-02-03T00:00:00\",\"2022-02-04T00:00:00\",\"2022-02-07T00:00:00\",\"2022-02-08T00:00:00\",\"2022-02-09T00:00:00\",\"2022-02-10T00:00:00\",\"2022-02-11T00:00:00\",\"2022-02-14T00:00:00\",\"2022-02-15T00:00:00\",\"2022-02-16T00:00:00\",\"2022-02-17T00:00:00\",\"2022-02-18T00:00:00\",\"2022-02-22T00:00:00\",\"2022-02-23T00:00:00\",\"2022-02-24T00:00:00\",\"2022-02-25T00:00:00\",\"2022-02-28T00:00:00\",\"2022-03-01T00:00:00\",\"2022-03-02T00:00:00\",\"2022-03-03T00:00:00\",\"2022-03-04T00:00:00\",\"2022-03-07T00:00:00\",\"2022-03-08T00:00:00\",\"2022-03-09T00:00:00\",\"2022-03-10T00:00:00\",\"2022-03-11T00:00:00\",\"2022-03-14T00:00:00\",\"2022-03-15T00:00:00\",\"2022-03-16T00:00:00\",\"2022-03-17T00:00:00\",\"2022-03-18T00:00:00\",\"2022-03-21T00:00:00\",\"2022-03-22T00:00:00\",\"2022-03-23T00:00:00\",\"2022-03-24T00:00:00\",\"2022-03-25T00:00:00\",\"2022-03-28T00:00:00\",\"2022-03-29T00:00:00\",\"2022-03-30T00:00:00\",\"2022-03-31T00:00:00\",\"2022-04-01T00:00:00\",\"2022-04-04T00:00:00\",\"2022-04-05T00:00:00\",\"2022-04-06T00:00:00\",\"2022-04-07T00:00:00\",\"2022-04-08T00:00:00\",\"2022-04-11T00:00:00\",\"2022-04-12T00:00:00\",\"2022-04-13T00:00:00\",\"2022-04-14T00:00:00\",\"2022-04-18T00:00:00\",\"2022-04-19T00:00:00\",\"2022-04-20T00:00:00\",\"2022-04-21T00:00:00\",\"2022-04-22T00:00:00\",\"2022-04-25T00:00:00\",\"2022-04-26T00:00:00\",\"2022-04-27T00:00:00\",\"2022-04-28T00:00:00\",\"2022-04-29T00:00:00\",\"2022-05-02T00:00:00\",\"2022-05-03T00:00:00\",\"2022-05-04T00:00:00\",\"2022-05-05T00:00:00\",\"2022-05-06T00:00:00\",\"2022-05-09T00:00:00\",\"2022-05-10T00:00:00\",\"2022-05-11T00:00:00\",\"2022-05-12T00:00:00\",\"2022-05-13T00:00:00\",\"2022-05-16T00:00:00\",\"2022-05-17T00:00:00\",\"2022-05-18T00:00:00\",\"2022-05-19T00:00:00\",\"2022-05-20T00:00:00\",\"2022-05-23T00:00:00\",\"2022-05-24T00:00:00\",\"2022-05-25T00:00:00\",\"2022-05-26T00:00:00\",\"2022-05-27T00:00:00\",\"2022-05-31T00:00:00\",\"2022-06-01T00:00:00\",\"2022-06-02T00:00:00\",\"2022-06-03T00:00:00\",\"2022-06-06T00:00:00\",\"2022-06-07T00:00:00\",\"2022-06-08T00:00:00\",\"2022-06-09T00:00:00\",\"2022-06-10T00:00:00\",\"2022-06-13T00:00:00\",\"2022-06-14T00:00:00\",\"2022-06-15T00:00:00\",\"2022-06-16T00:00:00\",\"2022-06-17T00:00:00\",\"2022-06-21T00:00:00\",\"2022-06-22T00:00:00\",\"2022-06-23T00:00:00\",\"2022-06-24T00:00:00\",\"2022-06-27T00:00:00\",\"2022-06-28T00:00:00\",\"2022-06-29T00:00:00\",\"2022-06-30T00:00:00\",\"2022-07-01T00:00:00\",\"2022-07-05T00:00:00\",\"2022-07-06T00:00:00\",\"2022-07-07T00:00:00\",\"2022-07-08T00:00:00\",\"2022-07-11T00:00:00\",\"2022-07-12T00:00:00\",\"2022-07-13T00:00:00\",\"2022-07-14T00:00:00\",\"2022-07-15T00:00:00\",\"2022-07-18T00:00:00\",\"2022-07-19T00:00:00\",\"2022-07-20T00:00:00\",\"2022-07-21T00:00:00\",\"2022-07-22T00:00:00\",\"2022-07-25T00:00:00\",\"2022-07-26T00:00:00\",\"2022-07-27T00:00:00\",\"2022-07-28T00:00:00\",\"2022-07-29T00:00:00\",\"2022-08-01T00:00:00\",\"2022-08-02T00:00:00\",\"2022-08-03T00:00:00\",\"2022-08-04T00:00:00\",\"2022-08-05T00:00:00\",\"2022-08-08T00:00:00\",\"2022-08-09T00:00:00\",\"2022-08-10T00:00:00\",\"2022-08-11T00:00:00\",\"2022-08-12T00:00:00\",\"2022-08-15T00:00:00\",\"2022-08-16T00:00:00\",\"2022-08-17T00:00:00\",\"2022-08-18T00:00:00\",\"2022-08-19T00:00:00\",\"2022-08-22T00:00:00\",\"2022-08-23T00:00:00\",\"2022-08-24T00:00:00\",\"2022-08-25T00:00:00\",\"2022-08-26T00:00:00\",\"2022-08-29T00:00:00\",\"2022-08-30T00:00:00\",\"2022-08-31T00:00:00\",\"2022-09-01T00:00:00\",\"2022-09-02T00:00:00\",\"2022-09-06T00:00:00\",\"2022-09-07T00:00:00\",\"2022-09-08T00:00:00\",\"2022-09-09T00:00:00\",\"2022-09-12T00:00:00\",\"2022-09-13T00:00:00\",\"2022-09-14T00:00:00\",\"2022-09-15T00:00:00\",\"2022-09-16T00:00:00\",\"2022-09-19T00:00:00\",\"2022-09-20T00:00:00\",\"2022-09-21T00:00:00\",\"2022-09-22T00:00:00\",\"2022-09-23T00:00:00\",\"2022-09-26T00:00:00\",\"2022-09-27T00:00:00\",\"2022-09-28T00:00:00\",\"2022-09-29T00:00:00\",\"2022-09-30T00:00:00\",\"2022-10-03T00:00:00\",\"2022-10-04T00:00:00\",\"2022-10-05T00:00:00\",\"2022-10-06T00:00:00\",\"2022-10-07T00:00:00\",\"2022-10-10T00:00:00\",\"2022-10-11T00:00:00\",\"2022-10-12T00:00:00\",\"2022-10-13T00:00:00\",\"2022-10-14T00:00:00\",\"2022-10-17T00:00:00\",\"2022-10-18T00:00:00\",\"2022-10-19T00:00:00\",\"2022-10-20T00:00:00\",\"2022-10-21T00:00:00\",\"2022-10-24T00:00:00\",\"2022-10-25T00:00:00\",\"2022-10-26T00:00:00\",\"2022-10-27T00:00:00\",\"2022-10-28T00:00:00\",\"2022-10-31T00:00:00\",\"2022-11-01T00:00:00\",\"2022-11-02T00:00:00\",\"2022-11-03T00:00:00\",\"2022-11-04T00:00:00\",\"2022-11-07T00:00:00\",\"2022-11-08T00:00:00\",\"2022-11-09T00:00:00\",\"2022-11-10T00:00:00\",\"2022-11-11T00:00:00\",\"2022-11-14T00:00:00\",\"2022-11-15T00:00:00\",\"2022-11-16T00:00:00\",\"2022-11-17T00:00:00\",\"2022-11-18T00:00:00\",\"2022-11-21T00:00:00\",\"2022-11-22T00:00:00\",\"2022-11-23T00:00:00\",\"2022-11-25T00:00:00\",\"2022-11-28T00:00:00\",\"2022-11-29T00:00:00\",\"2022-11-30T00:00:00\",\"2022-12-01T00:00:00\",\"2022-12-02T00:00:00\",\"2022-12-05T00:00:00\",\"2022-12-06T00:00:00\",\"2022-12-07T00:00:00\",\"2022-12-08T00:00:00\",\"2022-12-09T00:00:00\",\"2022-12-12T00:00:00\",\"2022-12-13T00:00:00\",\"2022-12-14T00:00:00\",\"2022-12-15T00:00:00\",\"2022-12-16T00:00:00\",\"2022-12-19T00:00:00\",\"2022-12-20T00:00:00\",\"2022-12-21T00:00:00\",\"2022-12-22T00:00:00\",\"2022-12-23T00:00:00\",\"2022-12-27T00:00:00\",\"2022-12-28T00:00:00\",\"2022-12-29T00:00:00\",\"2022-12-30T00:00:00\",\"2023-01-03T00:00:00\",\"2023-01-04T00:00:00\",\"2023-01-05T00:00:00\",\"2023-01-06T00:00:00\",\"2023-01-09T00:00:00\",\"2023-01-10T00:00:00\",\"2023-01-11T00:00:00\",\"2023-01-12T00:00:00\",\"2023-01-13T00:00:00\",\"2023-01-17T00:00:00\",\"2023-01-18T00:00:00\",\"2023-01-19T00:00:00\",\"2023-01-20T00:00:00\",\"2023-01-23T00:00:00\",\"2023-01-24T00:00:00\",\"2023-01-25T00:00:00\",\"2023-01-26T00:00:00\",\"2023-01-27T00:00:00\",\"2023-01-30T00:00:00\",\"2023-01-31T00:00:00\",\"2023-02-01T00:00:00\",\"2023-02-02T00:00:00\",\"2023-02-03T00:00:00\",\"2023-02-06T00:00:00\",\"2023-02-07T00:00:00\",\"2023-02-08T00:00:00\",\"2023-02-09T00:00:00\",\"2023-02-10T00:00:00\",\"2023-02-13T00:00:00\",\"2023-02-14T00:00:00\",\"2023-02-15T00:00:00\",\"2023-02-16T00:00:00\",\"2023-02-17T00:00:00\",\"2023-02-21T00:00:00\",\"2023-02-22T00:00:00\",\"2023-02-23T00:00:00\",\"2023-02-24T00:00:00\",\"2023-02-27T00:00:00\",\"2023-02-28T00:00:00\",\"2023-03-01T00:00:00\",\"2023-03-02T00:00:00\",\"2023-03-03T00:00:00\",\"2023-03-06T00:00:00\",\"2023-03-07T00:00:00\",\"2023-03-08T00:00:00\",\"2023-03-09T00:00:00\",\"2023-03-10T00:00:00\",\"2023-03-13T00:00:00\",\"2023-03-14T00:00:00\",\"2023-03-15T00:00:00\",\"2023-03-16T00:00:00\",\"2023-03-17T00:00:00\",\"2023-03-20T00:00:00\",\"2023-03-21T00:00:00\",\"2023-03-22T00:00:00\",\"2023-03-23T00:00:00\",\"2023-03-24T00:00:00\",\"2023-03-27T00:00:00\",\"2023-03-28T00:00:00\",\"2023-03-29T00:00:00\",\"2023-03-30T00:00:00\",\"2023-03-31T00:00:00\",\"2023-04-03T00:00:00\",\"2023-04-04T00:00:00\",\"2023-04-05T00:00:00\",\"2023-04-06T00:00:00\",\"2023-04-10T00:00:00\",\"2023-04-11T00:00:00\",\"2023-04-12T00:00:00\",\"2023-04-13T00:00:00\",\"2023-04-14T00:00:00\",\"2023-04-17T00:00:00\",\"2023-04-18T00:00:00\",\"2023-04-19T00:00:00\",\"2023-04-20T00:00:00\",\"2023-04-21T00:00:00\",\"2023-04-24T00:00:00\",\"2023-04-25T00:00:00\",\"2023-04-26T00:00:00\",\"2023-04-27T00:00:00\",\"2023-04-28T00:00:00\",\"2023-05-01T00:00:00\",\"2023-05-02T00:00:00\",\"2023-05-03T00:00:00\",\"2023-05-04T00:00:00\",\"2023-05-05T00:00:00\",\"2023-05-08T00:00:00\",\"2023-05-09T00:00:00\",\"2023-05-10T00:00:00\",\"2023-05-11T00:00:00\",\"2023-05-12T00:00:00\",\"2023-05-15T00:00:00\",\"2023-05-16T00:00:00\",\"2023-05-17T00:00:00\",\"2023-05-18T00:00:00\",\"2023-05-19T00:00:00\",\"2023-05-22T00:00:00\",\"2023-05-23T00:00:00\",\"2023-05-24T00:00:00\",\"2023-05-25T00:00:00\",\"2023-05-26T00:00:00\",\"2023-05-30T00:00:00\",\"2023-05-31T00:00:00\",\"2023-06-01T00:00:00\",\"2023-06-02T00:00:00\",\"2023-06-05T00:00:00\",\"2023-06-06T00:00:00\",\"2023-06-07T00:00:00\",\"2023-06-08T00:00:00\",\"2023-06-09T00:00:00\",\"2023-06-12T00:00:00\",\"2023-06-13T00:00:00\",\"2023-06-14T00:00:00\",\"2023-06-15T00:00:00\",\"2023-06-16T00:00:00\",\"2023-06-20T00:00:00\",\"2023-06-21T00:00:00\",\"2023-06-22T00:00:00\",\"2023-06-23T00:00:00\",\"2023-06-26T00:00:00\",\"2023-06-27T00:00:00\",\"2023-06-28T00:00:00\",\"2023-06-29T00:00:00\",\"2023-06-30T00:00:00\",\"2023-07-03T00:00:00\",\"2023-07-05T00:00:00\",\"2023-07-06T00:00:00\",\"2023-07-07T00:00:00\",\"2023-07-10T00:00:00\",\"2023-07-11T00:00:00\",\"2023-07-12T00:00:00\",\"2023-07-13T00:00:00\",\"2023-07-14T00:00:00\",\"2023-07-17T00:00:00\",\"2023-07-18T00:00:00\",\"2023-07-19T00:00:00\",\"2023-07-20T00:00:00\",\"2023-07-21T00:00:00\",\"2023-07-24T00:00:00\",\"2023-07-25T00:00:00\",\"2023-07-26T00:00:00\",\"2023-07-27T00:00:00\",\"2023-07-28T00:00:00\",\"2023-07-31T00:00:00\",\"2023-08-01T00:00:00\",\"2023-08-02T00:00:00\",\"2023-08-03T00:00:00\",\"2023-08-04T00:00:00\",\"2023-08-07T00:00:00\",\"2023-08-08T00:00:00\",\"2023-08-09T00:00:00\",\"2023-08-10T00:00:00\",\"2023-08-11T00:00:00\",\"2023-08-14T00:00:00\",\"2023-08-15T00:00:00\",\"2023-08-16T00:00:00\",\"2023-08-17T00:00:00\",\"2023-08-18T00:00:00\",\"2023-08-21T00:00:00\",\"2023-08-22T00:00:00\",\"2023-08-23T00:00:00\",\"2023-08-24T00:00:00\",\"2023-08-25T00:00:00\",\"2023-08-28T00:00:00\",\"2023-08-29T00:00:00\",\"2023-08-30T00:00:00\",\"2023-08-31T00:00:00\",\"2023-09-01T00:00:00\",\"2023-09-05T00:00:00\",\"2023-09-06T00:00:00\",\"2023-09-07T00:00:00\",\"2023-09-08T00:00:00\",\"2023-09-11T00:00:00\",\"2023-09-12T00:00:00\",\"2023-09-13T00:00:00\",\"2023-09-14T00:00:00\",\"2023-09-15T00:00:00\",\"2023-09-18T00:00:00\",\"2023-09-19T00:00:00\",\"2023-09-20T00:00:00\",\"2023-09-21T00:00:00\",\"2023-09-22T00:00:00\",\"2023-09-25T00:00:00\",\"2023-09-26T00:00:00\",\"2023-09-27T00:00:00\",\"2023-09-28T00:00:00\",\"2023-09-29T00:00:00\",\"2023-10-02T00:00:00\",\"2023-10-03T00:00:00\",\"2023-10-04T00:00:00\",\"2023-10-05T00:00:00\",\"2023-10-06T00:00:00\",\"2023-10-09T00:00:00\",\"2023-10-10T00:00:00\",\"2023-10-11T00:00:00\",\"2023-10-12T00:00:00\",\"2023-10-13T00:00:00\",\"2023-10-16T00:00:00\",\"2023-10-17T00:00:00\",\"2023-10-18T00:00:00\",\"2023-10-19T00:00:00\",\"2023-10-20T00:00:00\",\"2023-10-23T00:00:00\",\"2023-10-24T00:00:00\",\"2023-10-25T00:00:00\",\"2023-10-26T00:00:00\",\"2023-10-27T00:00:00\",\"2023-10-30T00:00:00\",\"2023-10-31T00:00:00\",\"2023-11-01T00:00:00\",\"2023-11-02T00:00:00\",\"2023-11-03T00:00:00\",\"2023-11-06T00:00:00\",\"2023-11-07T00:00:00\",\"2023-11-08T00:00:00\",\"2023-11-09T00:00:00\",\"2023-11-10T00:00:00\",\"2023-11-13T00:00:00\",\"2023-11-14T00:00:00\",\"2023-11-15T00:00:00\",\"2023-11-16T00:00:00\",\"2023-11-17T00:00:00\",\"2023-11-20T00:00:00\",\"2023-11-21T00:00:00\",\"2023-11-22T00:00:00\",\"2023-11-24T00:00:00\",\"2023-11-27T00:00:00\",\"2023-11-28T00:00:00\",\"2023-11-29T00:00:00\",\"2023-11-30T00:00:00\",\"2023-12-01T00:00:00\",\"2023-12-04T00:00:00\",\"2023-12-05T00:00:00\",\"2023-12-06T00:00:00\",\"2023-12-07T00:00:00\",\"2023-12-08T00:00:00\",\"2023-12-11T00:00:00\",\"2023-12-12T00:00:00\",\"2023-12-13T00:00:00\",\"2023-12-14T00:00:00\",\"2023-12-15T00:00:00\",\"2023-12-18T00:00:00\",\"2023-12-19T00:00:00\",\"2023-12-20T00:00:00\",\"2023-12-21T00:00:00\",\"2023-12-22T00:00:00\",\"2023-12-26T00:00:00\",\"2023-12-27T00:00:00\",\"2023-12-28T00:00:00\",\"2023-12-29T00:00:00\",\"2024-01-02T00:00:00\",\"2024-01-03T00:00:00\",\"2024-01-04T00:00:00\",\"2024-01-05T00:00:00\",\"2024-01-08T00:00:00\",\"2024-01-09T00:00:00\",\"2024-01-10T00:00:00\",\"2024-01-11T00:00:00\",\"2024-01-12T00:00:00\",\"2024-01-16T00:00:00\",\"2024-01-17T00:00:00\",\"2024-01-18T00:00:00\",\"2024-01-19T00:00:00\",\"2024-01-22T00:00:00\",\"2024-01-23T00:00:00\",\"2024-01-24T00:00:00\",\"2024-01-25T00:00:00\",\"2024-01-26T00:00:00\",\"2024-01-29T00:00:00\",\"2024-01-30T00:00:00\",\"2024-01-31T00:00:00\",\"2024-02-01T00:00:00\",\"2024-02-02T00:00:00\",\"2024-02-05T00:00:00\",\"2024-02-06T00:00:00\",\"2024-02-07T00:00:00\",\"2024-02-08T00:00:00\",\"2024-02-09T00:00:00\",\"2024-02-12T00:00:00\",\"2024-02-13T00:00:00\",\"2024-02-14T00:00:00\",\"2024-02-15T00:00:00\",\"2024-02-16T00:00:00\",\"2024-02-20T00:00:00\",\"2024-02-21T00:00:00\",\"2024-02-22T00:00:00\",\"2024-02-23T00:00:00\",\"2024-02-26T00:00:00\",\"2024-02-27T00:00:00\",\"2024-02-28T00:00:00\",\"2024-02-29T00:00:00\",\"2024-03-01T00:00:00\",\"2024-03-04T00:00:00\",\"2024-03-05T00:00:00\",\"2024-03-06T00:00:00\",\"2024-03-07T00:00:00\",\"2024-03-08T00:00:00\",\"2024-03-11T00:00:00\",\"2024-03-12T00:00:00\",\"2024-03-13T00:00:00\",\"2024-03-14T00:00:00\",\"2024-03-15T00:00:00\",\"2024-03-18T00:00:00\",\"2024-03-19T00:00:00\",\"2024-03-20T00:00:00\",\"2024-03-21T00:00:00\",\"2024-03-22T00:00:00\",\"2024-03-25T00:00:00\",\"2024-03-26T00:00:00\",\"2024-03-27T00:00:00\",\"2024-03-28T00:00:00\",\"2024-04-01T00:00:00\",\"2024-04-02T00:00:00\",\"2024-04-03T00:00:00\",\"2024-04-04T00:00:00\",\"2024-04-05T00:00:00\",\"2024-04-08T00:00:00\",\"2024-04-09T00:00:00\",\"2024-04-10T00:00:00\",\"2024-04-11T00:00:00\",\"2024-04-12T00:00:00\",\"2024-04-15T00:00:00\",\"2024-04-16T00:00:00\",\"2024-04-17T00:00:00\",\"2024-04-18T00:00:00\",\"2024-04-19T00:00:00\",\"2024-04-22T00:00:00\",\"2024-04-23T00:00:00\",\"2024-04-24T00:00:00\",\"2024-04-25T00:00:00\",\"2024-04-26T00:00:00\",\"2024-04-29T00:00:00\",\"2024-04-30T00:00:00\",\"2024-05-01T00:00:00\",\"2024-05-02T00:00:00\",\"2024-05-03T00:00:00\",\"2024-05-06T00:00:00\",\"2024-05-07T00:00:00\",\"2024-05-08T00:00:00\",\"2024-05-09T00:00:00\",\"2024-05-10T00:00:00\",\"2024-05-13T00:00:00\",\"2024-05-14T00:00:00\",\"2024-05-15T00:00:00\",\"2024-05-16T00:00:00\",\"2024-05-17T00:00:00\",\"2024-05-20T00:00:00\",\"2024-05-21T00:00:00\",\"2024-05-22T00:00:00\",\"2024-05-23T00:00:00\",\"2024-05-24T00:00:00\",\"2024-05-28T00:00:00\",\"2024-05-29T00:00:00\",\"2024-05-30T00:00:00\",\"2024-05-31T00:00:00\",\"2024-06-03T00:00:00\",\"2024-06-04T00:00:00\",\"2024-06-05T00:00:00\",\"2024-06-06T00:00:00\",\"2024-06-07T00:00:00\",\"2024-06-10T00:00:00\",\"2024-06-11T00:00:00\",\"2024-06-12T00:00:00\",\"2024-06-13T00:00:00\",\"2024-06-14T00:00:00\",\"2024-06-17T00:00:00\",\"2024-06-18T00:00:00\",\"2024-06-20T00:00:00\",\"2024-06-21T00:00:00\",\"2024-06-24T00:00:00\",\"2024-06-25T00:00:00\",\"2024-06-26T00:00:00\",\"2024-06-27T00:00:00\",\"2024-06-28T00:00:00\",\"2024-07-01T00:00:00\",\"2024-07-02T00:00:00\",\"2024-07-03T00:00:00\",\"2024-07-05T00:00:00\",\"2024-07-08T00:00:00\",\"2024-07-09T00:00:00\",\"2024-07-10T00:00:00\",\"2024-07-11T00:00:00\",\"2024-07-12T00:00:00\",\"2024-07-15T00:00:00\",\"2024-07-16T00:00:00\",\"2024-07-17T00:00:00\",\"2024-07-18T00:00:00\",\"2024-07-19T00:00:00\",\"2024-07-22T00:00:00\",\"2024-07-23T00:00:00\",\"2024-07-24T00:00:00\",\"2024-07-25T00:00:00\",\"2024-07-26T00:00:00\",\"2024-07-29T00:00:00\",\"2024-07-30T00:00:00\",\"2024-07-31T00:00:00\",\"2024-08-01T00:00:00\",\"2024-08-02T00:00:00\",\"2024-08-05T00:00:00\",\"2024-08-06T00:00:00\",\"2024-08-07T00:00:00\",\"2024-08-08T00:00:00\",\"2024-08-09T00:00:00\",\"2024-08-12T00:00:00\",\"2024-08-13T00:00:00\",\"2024-08-14T00:00:00\",\"2024-08-15T00:00:00\",\"2024-08-16T00:00:00\",\"2024-08-19T00:00:00\",\"2024-08-20T00:00:00\",\"2024-08-21T00:00:00\",\"2024-08-22T00:00:00\",\"2024-08-23T00:00:00\",\"2024-08-26T00:00:00\",\"2024-08-27T00:00:00\",\"2024-08-28T00:00:00\",\"2024-08-29T00:00:00\",\"2024-08-30T00:00:00\",\"2024-09-03T00:00:00\",\"2024-09-04T00:00:00\",\"2024-09-05T00:00:00\",\"2024-09-06T00:00:00\",\"2024-09-09T00:00:00\",\"2024-09-10T00:00:00\",\"2024-09-11T00:00:00\",\"2024-09-12T00:00:00\",\"2024-09-13T00:00:00\",\"2024-09-16T00:00:00\",\"2024-09-17T00:00:00\",\"2024-09-18T00:00:00\",\"2024-09-19T00:00:00\",\"2024-09-20T00:00:00\",\"2024-09-23T00:00:00\",\"2024-09-24T00:00:00\",\"2024-09-25T00:00:00\",\"2024-09-26T00:00:00\",\"2024-09-27T00:00:00\",\"2024-09-30T00:00:00\",\"2024-10-01T00:00:00\",\"2024-10-02T00:00:00\",\"2024-10-03T00:00:00\",\"2024-10-04T00:00:00\",\"2024-10-07T00:00:00\",\"2024-10-08T00:00:00\",\"2024-10-09T00:00:00\",\"2024-10-10T00:00:00\",\"2024-10-11T00:00:00\",\"2024-10-14T00:00:00\",\"2024-10-15T00:00:00\",\"2024-10-16T00:00:00\",\"2024-10-17T00:00:00\",\"2024-10-18T00:00:00\",\"2024-10-21T00:00:00\",\"2024-10-22T00:00:00\",\"2024-10-23T00:00:00\",\"2024-10-24T00:00:00\",\"2024-10-25T00:00:00\",\"2024-10-28T00:00:00\",\"2024-10-29T00:00:00\",\"2024-10-30T00:00:00\",\"2024-10-31T00:00:00\",\"2024-11-01T00:00:00\",\"2024-11-04T00:00:00\",\"2024-11-05T00:00:00\",\"2024-11-06T00:00:00\",\"2024-11-07T00:00:00\",\"2024-11-08T00:00:00\",\"2024-11-11T00:00:00\",\"2024-11-12T00:00:00\",\"2024-11-13T00:00:00\",\"2024-11-14T00:00:00\",\"2024-11-15T00:00:00\",\"2024-11-18T00:00:00\",\"2024-11-19T00:00:00\",\"2024-11-20T00:00:00\",\"2024-11-21T00:00:00\",\"2024-11-22T00:00:00\",\"2024-11-25T00:00:00\",\"2024-11-26T00:00:00\",\"2024-11-27T00:00:00\",\"2024-11-29T00:00:00\",\"2024-12-02T00:00:00\",\"2024-12-03T00:00:00\",\"2024-12-04T00:00:00\",\"2024-12-05T00:00:00\",\"2024-12-06T00:00:00\",\"2024-12-09T00:00:00\",\"2024-12-10T00:00:00\",\"2024-12-11T00:00:00\",\"2024-12-12T00:00:00\",\"2024-12-13T00:00:00\",\"2024-12-16T00:00:00\",\"2024-12-17T00:00:00\",\"2024-12-18T00:00:00\",\"2024-12-19T00:00:00\",\"2024-12-20T00:00:00\",\"2024-12-23T00:00:00\",\"2024-12-24T00:00:00\",\"2024-12-26T00:00:00\",\"2024-12-27T00:00:00\",\"2024-12-30T00:00:00\",\"2024-12-31T00:00:00\",\"2025-01-02T00:00:00\",\"2025-01-03T00:00:00\",\"2025-01-06T00:00:00\",\"2025-01-07T00:00:00\",\"2025-01-08T00:00:00\",\"2025-01-10T00:00:00\",\"2025-01-13T00:00:00\",\"2025-01-14T00:00:00\",\"2025-01-15T00:00:00\",\"2025-01-16T00:00:00\",\"2025-01-17T00:00:00\",\"2025-01-21T00:00:00\",\"2025-01-22T00:00:00\",\"2025-01-23T00:00:00\",\"2025-01-24T00:00:00\",\"2025-01-27T00:00:00\",\"2025-01-28T00:00:00\",\"2025-01-29T00:00:00\",\"2025-01-30T00:00:00\",\"2025-01-31T00:00:00\",\"2025-02-03T00:00:00\",\"2025-02-04T00:00:00\",\"2025-02-05T00:00:00\",\"2025-02-06T00:00:00\",\"2025-02-07T00:00:00\",\"2025-02-10T00:00:00\",\"2025-02-11T00:00:00\",\"2025-02-12T00:00:00\",\"2025-02-13T00:00:00\",\"2025-02-14T00:00:00\",\"2025-02-18T00:00:00\",\"2025-02-19T00:00:00\",\"2025-02-20T00:00:00\",\"2025-02-21T00:00:00\",\"2025-02-24T00:00:00\",\"2025-02-25T00:00:00\",\"2025-02-26T00:00:00\",\"2025-02-27T00:00:00\",\"2025-02-28T00:00:00\",\"2025-03-03T00:00:00\",\"2025-03-04T00:00:00\",\"2025-03-05T00:00:00\",\"2025-03-06T00:00:00\",\"2025-03-07T00:00:00\",\"2025-03-10T00:00:00\",\"2025-03-11T00:00:00\",\"2025-03-12T00:00:00\",\"2025-03-13T00:00:00\",\"2025-03-14T00:00:00\",\"2025-03-17T00:00:00\",\"2025-03-18T00:00:00\",\"2025-03-19T00:00:00\",\"2025-03-20T00:00:00\",\"2025-03-21T00:00:00\",\"2025-03-24T00:00:00\",\"2025-03-25T00:00:00\",\"2025-03-26T00:00:00\",\"2025-03-27T00:00:00\",\"2025-03-28T00:00:00\",\"2025-03-31T00:00:00\",\"2025-04-01T00:00:00\",\"2025-04-02T00:00:00\",\"2025-04-03T00:00:00\",\"2025-04-04T00:00:00\",\"2025-04-07T00:00:00\",\"2025-04-08T00:00:00\",\"2025-04-09T00:00:00\",\"2025-04-10T00:00:00\",\"2025-04-11T00:00:00\",\"2025-04-14T00:00:00\",\"2025-04-15T00:00:00\",\"2025-04-16T00:00:00\",\"2025-04-17T00:00:00\",\"2025-04-21T00:00:00\",\"2025-04-22T00:00:00\",\"2025-04-23T00:00:00\",\"2025-04-24T00:00:00\",\"2025-04-25T00:00:00\",\"2025-04-28T00:00:00\",\"2025-04-29T00:00:00\",\"2025-04-30T00:00:00\",\"2025-05-01T00:00:00\",\"2025-05-02T00:00:00\",\"2025-05-05T00:00:00\",\"2025-05-06T00:00:00\",\"2025-05-07T00:00:00\",\"2025-05-08T00:00:00\",\"2025-05-09T00:00:00\",\"2025-05-12T00:00:00\",\"2025-05-13T00:00:00\",\"2025-05-14T00:00:00\",\"2025-05-15T00:00:00\",\"2025-05-16T00:00:00\",\"2025-05-19T00:00:00\",\"2025-05-20T00:00:00\",\"2025-05-21T00:00:00\",\"2025-05-22T00:00:00\",\"2025-05-23T00:00:00\",\"2025-05-27T00:00:00\",\"2025-05-28T00:00:00\",\"2025-05-29T00:00:00\",\"2025-05-30T00:00:00\"],\"xaxis\":\"x\",\"y\":{\"dtype\":\"f8\",\"bdata\":\"AAAAAAAAWUD5icdnSklaQO4n550PzltAUAk963g3XUDVhW4xq+pcQN3XFMG0MlxAhvAFJBg6XUCJ1\\u002fPEmyVdQOXBhxLjl19AHaxaXt+EX0CG9IuJnzhfQGlwziWs9F9A7jrZ7eBMX0Dqquc3TxFfQOoMJ6bxFV5ADxF72pk5XkBQSmqBEONfQJx6tXYcv2BA28FMvOOrYEBb1n6PAgRhQCGd9C9ru2BAS+uExE2hYEByZxnMvW1gQANgOFrZM2FAxFFUOSlpYUDzov\\u002fHdYdhQMVZSm9Ao2FAuITUMlREYkAzafz9THpiQP+cWqokR2JAF0U0ZupzYkA4DQsT\\u002fCViQMjnunD+PGFAIffsD5UxYUCXWulETFVhQL7nbTavRGFA7ySHWmC3YED\\u002f3fx1QJFfQMbKNDw+cF9AckK3JZgJX0DIkbuzR75fQGqiJVpCc19Afy8kSHJVX0BXa66T7D5gQHzMyh77UmBAzM\\u002fSI4tbXED9FYZzy05cQG0jHFZaUFxAcbxdbizKUUDcCWQAZulTQJlOHxo08lFAwaMo7aezUkC2jTE4ZL9SQCIAbgdLKFZACk+GJj4vVkCFIkoOjPZWQAOPFq5XGlhArDvwHRvpV0DKNtSuhAlYQK6\\u002f2kOMJ1dAtvXHsvACV0Dm+KRTAQtXQGpiFKMLpVdAKrWvvjtQWEBEoJNyCxlYQEpIv4dQBlpAwDBK2PCuWUDZ+4ayaD9aQDNnLx0VIlpAq9nwX1Z\\u002fWEBYLT4\\u002f8nxYQIWyWeVqxVdAPj19mFN4WUACMsNib2VZQJSxBfMpoVhAXDwMaaqfWEAsxScxsnhZQMZq1zEFl1pA5gsGXAoGW0BLMVJRO+ZbQG1cI5y68FtAnhSbhGZ\\u002fX0AJ8VGq2\\u002fxeQKE7ZqjJuV9AA8m1banlX0Ckgv76PxxgQCshAST2lWBAUbTmZLrOYUCQW0gK3ZxhQAonQ3bbyF5A6PaUOI2CX0DccRfehZZgQJe2xev0amFAMa37QzCxYEANMqrWrmdhQAy3p6rPaGFAxsF+\\u002fmoKYUAenUBHTEBgQJrfvxp7bmBAAvL2cpCeX0BCOOg1xG1gQAM1VsivC2FAe2MH3gDkYEDtvIHTjzFiQKgCBw6LDWFAx6IDha5HYUB\\u002ftUsunIlhQEZwlFK4S2FAxl4EAEJ8YUA3MNFDWYdhQAOi4qhtqWFALOm82D+uYEBl4jVsHfdgQB3KNahO6WBAXLHuHE8RYUBmNXVd2PZgQMHRzk+B12BA7BeabcieYEDpB\\u002fpXBERhQMldnTBJO2FAxwENoYGqYECk61YfJ5RgQDANI6J5ZWBAty8ZzkVyYEBVaOGmDlpgQKj8qxFwg2BAH144eWBTYEBJ0OOS2MZgQI7WM\\u002fxojmBAxF4nYg\\u002ffYEC65sTALZpgQNxIPz6QmmBA4pc+DHGKYEDRjN0XQopgQAdBokkuc2BAOPxrgWpXYEDCpiAHMmBgQOUI2KoTZmBA5fPFvpPGYEDadRdRggthQHxIl2sHJWFAe31fYcoQYUDPCpWQ2apjQImdP4IYh2NAsAfh9A3dY0CXTiAs+uFjQFdc+341Q2RAap0EsuEfZEDnUlNVWQ1kQMwLSLY8BWVAF8b4ez0UZUDSk\\u002fHLj8JkQBRntcNJQWVAjELYBxdrZECy4KZX\\u002fLpkQHuLGko9FmVAKU\\u002fY8T4PZUBYPzwpqu1lQB4AndAbdWVA4ggdSGUKZUA5L51XaEFlQLKyrktyvmRAq57yR94RZUC1dvBAwVZkQLBGLDy\\u002fjmRACG9nXS1DZEASJrL0i6dkQAB45Q3p5mRA7Qw12ZlrZUABIWmDsmxkQJkz2FxOVWJAwReQS2XPYkBCAJwfLyFiQCHJfYD0U2JASN+h50mLYkAsMr0DmJxiQNou7h\\u002fTHGNAQ7fc9QNSY0D6RgD+iKNjQMWBS+Kpl2NAEgggYqWVY0D\\u002fQGcIsrhiQMcFcy6a22JACl2KsbZVYkBqXhZpHkFjQPARDjBEImNAOZfFQAYqY0AGyfaY3GdjQJZph8FOTGNAbAPpS7QAY0A6KFWZyexiQEsR6HNcUGNA79qE1c\\u002f5YkDFXvw0YxdjQEnFTC1oiGNAxrsHBY\\u002fMY0C2t1x1cK1kQOJPFfkhcmRAp1TEBclzZED++SCJ8pFkQFS\\u002faumXQmRAgifnEfQCZUBxU3VTzFJlQJouBZhz8mZApgFD7JczZ0AaGw5V2yNnQEmV916wZWdA4oQEa+luaED4YngIfr9nQC8InUXPC2hAgo\\u002foqJM9aEC9gp3aZD9oQDogHoyL9mhAtFOj9o9KaUCxf0feB+FrQJUi9dah2mtAQH4eKKNva0CV7cmPqlxrQA61bGKvGGxAbLHEPBcgbUAA2vPmFTNtQL\\u002f\\u002fJaiL6W1AfWoq7D+Tb0BvReg259tvQOjqcJnl4W9AHPZsTyepcEDSWIeFPm5wQFkV7TiBGHFAy0JkkYjCcEC+DcBnQJ1uQD50b208j3FAHTc2gsTScEDfscgh8y1xQL0iiEvoZXFAbuZwXx+7cEDsI2dhyCtxQDdsToxmZHBAXqD1VbeZcEDDBt\\u002f\\u002fiVdwQFMHtNRVKHBAYgJyKWI4cUAyGj+Xa19xQDRFpxsgEXNAyeDuYXNndEAS0YVfrbN0QB\\u002f5Q2r5ZnRAtUY6mW1HdUAq6RhxW8t0QHpb5AKlPHVAwnXptrA7eECR7wTDR3t4QMbAT\\u002f\\u002ftzXlAa+uow8DyeUCULDsCEZt8QPZbK\\u002fTbaX5Au8p\\u002fmUB5gECt4CAm6JyBQIX5ODhIQIJA9IGfS27Sf0ANKKCV8ll+QIgPovCYsYBAGGRg\\u002f92HgUDefzkIXnmAQLk21HPWIoBAdKhntRnOf0AeZ3CPh5R7QIod+rHdh31AwYMwpmv1fEDitgOOBSR9QL+zZq56OntAolWA803xfUBx5S5\\u002fD7R+QN5AE7CVAX5AfUs1JoXFf0DOxT+lbsOAQJBx41TmhIBA2krYwGoQgUCebyHak6qEQE1\\u002f\\u002ffEsy4RA84CMNC8YhEC2vzuwvW6FQJRfhSFrQIVARCyxtYkChkDdlk9+SFSHQN7QDiuMHodA3+fWJoAAiUDa5jkYAkCIQDArqGeK14VAs9P2z2w8hkB9AhJvWRGFQH9Sjwf9uoRAqj6ApfAzhkDt97wRh6SFQDd8CBLQm4ZAjVaENmS5hUBddMObUuOFQO17znRzX4dATOkRWKWGiEC\\u002fhMGQSg6JQI8U6mgK3IlAAdmoFN6liUDuiPwjrwKJQBwcr\\u002f99aYlANGrIwBhWikCYgrK9M+KJQKDfkwUPGopAtTcbVt1kiEC5eHJG5HyIQHIT8Mzjm4dA7uhoc1Yhh0AdO36ag6qIQGG43TXA1YlADlZlvnRbikC0TUAvlluKQIX8dMjab4pABOqywoJrikDOF\\u002fx1YwiKQA3ciJ\\u002fqEolAbVexhnUXikD\\u002f7KPkag6KQDxvpB80y4pAoGbBNaJojEAe\\u002fqDniTuMQLc5gA3wUoxAzG4N5IaLi0BhiNXku+2IQELn6TN8Q4lAaYTUnoIdiEBVIkM3\\u002fieHQLvZipVr24ZA\\u002f0u+qMEqiEDIpDjOlJ6IQFIGxYW2hohAMjNqk1D1h0CVRvWFv9WJQMlpag\\u002fGlolA0WHyk\\u002fDbh0Dz53buZLCJQNRP+eq4OolALKXg36aoiUCMdhVmQf2IQPDeOpQAXolAT21hR+P8hUAidv8vqz2GQD+KzGp9UIZAoDacqxB6g0DtTtjCITKDQDFeYX6ljYBA1OqaOpQ+gkD4FsbbQrCAQIPBGtm9UIFA4MT2RvQtgUAIEHo+G5SBQMDKjfbuMYFAI44Zomzwf0BncECSSGmAQDEPhwg9z4BAWFOMgFKKgUDPSIQeRoGAQCLhT3f5Bn5A85GFJc3yfUCS6Qwt5LSAQE6e36xOa4BApYklz6mzgEAqVYM09f2BQBwrQet2E4JAY46EF6MngUBzWauKBAaBQAZPdmZ6AoBARwvrcnJXfEBMxgS+URV9QGbyd0cnLH5ARjJjh1IDf0D\\u002fjiGviE58QMsjEZETz35AA7tNarMLgEBGOkVM\\u002fll\\u002fQKQKDoOWCX5AmHluFgNUfkAAWATCdqF+QEru\\u002f910Sn5AkMoTYnVqfUDytQkQVD1+QKQWMiI+qn1AkJ8x0EtCfUCa4nEH2119QKA3tMRGb3xAWscCOQEdfEAYTotCupJ7QJXzr4BHq3pAFZSPeNq6fEChzkEbN+l8QGLk+6i\\u002fC35ArLJ\\u002fxQW0gEAZF4eeBKGBQPI2o+N35IFApJiA0ublgUAeFAKr9eSCQEb3UouKiYFAMsXM\\u002fmgRgUDMz9c6BciBQMXhGoOFSIJAWZTnDH4ng0C3pOXC7L2EQEjR5deNZIRAhl5yI4plhECibX96FOCDQGq1BHV0YYVA6dd+XpeUhEA45wByqv6DQAPLMh3JCoRAxqGe2UHmhEBjrCDYfRKGQBf0PN4xKoZAwmgJ1ndXhUBK4aNNKOeFQBSvCN37\\u002f4RARaq16l3yhUDzJ\\u002f7s5QyFQC3PdNawGYVA4YOXCSHahUBVHMIPLhGGQLBb1tQTYYZAL\\u002f5YkvjwhEDBLU9Ji56EQAx8FJrnwIRAZMdvYEIUhEBUmvpOUx2EQAk6aJQxEYVAGYVJDVKNhUAFyB9sUGCFQBOb7gc9JYVAIA5kdJ4qg0BNr0EYYTSCQGTpXVJNfoNACaMuX4oVhEDejqCxJyqDQDk69Az75IJAai9go2pbgkCdhq7oF5iCQHgU2lgVl4NAV3AtYYSGhUCfUcr1k\\u002fiFQIfrGiinC4dAsrni1y7EiEBYgIC6CxKIQNvdXzyVJIhAXWaC6lq3iUCiFiKhAxKJQIxfaEDFrYlAF8V5S6ikiUC+cKVD842LQF6NJWtwv4tAMrwl8YC\\u002fjECaAa3QuYWNQBGPvq2F1ItAsrPotK8mi0BAbZpsiTOMQPvzy4sRAYtAaP1ce5opikAEP+Wqpx6LQEReOVWP1otAeQR5C29Ki0DZjXKF50iMQJWjNbGLK4xAHyewWrh9i0DGcrZsUliLQJaiUh38OY5AAAvo59f1jUD2mS8FehONQHb76M5KDo1ASp\\u002fTvluzjEDJy3aF3W6MQFpI+kbf6YpAJfg7O40Bi0AmrZRvNXmJQFP\\u002fDKkNAIpAk5DvP3EuiUDNWvL8AcGJQIYfZmVtLYlAYdmKRP72h0Ce05LINNyJQEK8x\\u002fF0gIlAQe\\u002fL+CeaiUDy\\u002fnV+CESJQM9dEEJB+odAk54fSeWghkA70FABWa6GQEoiVoX7l4ZAgpyAI5NThUBq\\u002fqkZdyKFQBBz0ViJ6IRA0dFKED3ahEBzvigB0t+FQAtKdNjOUoVAC9R\\u002fXjqrhECGL4vd4\\u002fiEQKJXjYRj5IVAOE3MmBrBhUCUSW0ABbiGQF5v5qiDp4ZAaf4P9QlKhUDCijTuAceEQAi+jSkAG4VAempbQiy3hEDk0JL5isiEQPkYN\\u002fpYiIRAedpO9at9g0AypgkK8E6DQCimtnxal4JAmRIfqIO1gkCmV9e2QR6DQAoZFKkzqYNA1GD1j7sNg0BFTWzi7EeDQEUQC7UA9YJADOMnHrSsgkCT5Phm3DKCQPu+KIU3T4BASxlggsdlgEBFVDVnGYiAQKLvMGdufIBAeZjvqzKdgEBirhT2MOeAQGHlAyw4N4FAF2sHNANVgUDu\\u002fTWD+4eAQB+yWIYSn4BAMrBDj9KQgkCgh51hvZyDQFqt6nqYvINAFmErv9TVg0CED5XkOX2DQI1y4tCz+IJAWCM5KjMNg0B1lmS05\\u002fCDQFi9qLGpqoNAIeYLVo0igkC8DZ8UfOiBQHiUzamlIIFA8w6ow1SvgEDQF+1a+yWBQFwWeWDyioFAegjhJaNSg0A2eqYjpdeDQEA5KitXpoNAFiy6dLn9gkBsT5U6LIKBQEqRfsb+BoFAwTVELlNUgUDOqMZSB8iCQDVIC2SDpIFApKe66+5agUD\\u002fkjHNxb6BQP9hGmo2mYFApjxEo\\u002fFngkAeKTRv5FGCQLMRYzQ2s4JAVlrImGRggkCBS210E\\u002fOCQEcPE54\\u002fMINANS5LjY6qg0BhdNb699aDQL4aU7ZCFYVAiAnGLfA7hUANJi0Uxw2FQFjvN8s+X4RAy7BjJlW0hECDTd2AY9uEQO8J53k6YYRAHX4yDi9Ug0DkCxu1NXaDQMnou6Pt6oJAqIgzCy+ugUA\\u002fdpatgPOBQKdcaxyOaoJAjHZkW43dgUCOh+vfjkOCQEVA54cJkYJASCCL8lWCgkDpQy8lVSGCQNCPC58yx4FAxtmemWwZgkDjEz+iVw2BQIYBhhkHjoFAim7UAAnLgUDnpEW9ukWBQJzjSsGCPIFAIxsWs0\\u002fjgEBzQBHBZMKBQI3U7OO1XIBAYbuNqocfgEDMzbkBbBt7QMDZq\\u002f2ywXtAIrY6AsjjeUB4DTvaS\\u002f15QCB29ewzM3pAl+9b7AG4ekC4R0Jw8jh7QIKGjLVJsnlA4HSWJmcfe0CYdP54ViB6QGyri5ADCXpA9GigzYSIekBEukZ8KnN6QN4do9mQL3pA3dgOUA6deUA+0xzH7XF8QAhVmrliqXpAhX1hgXtCe0A6FcGDspN6QB7eE5NaEXxAW3dnfxDge0BA6JnPgAh7QAoeS\\u002fsO8XpABqom140FekCYPbNrqh50QNnjjWll3nNAq2Fr7zwydEBDlT9cWjxyQJWSPMDtUHJApBW\\u002fgrKHckAugBNc9+FxQEp2yWKn3XJAjBHSTAv\\u002fckBPPbhsZY1yQEGxZzU3JXJAwYN1bcP8cUBxFjAjobNxQGL2B4eWPXFAR0p7gXsQckCSf4DdgmJyQNSIhIEFXHNAV8Z5sHFxc0CsTBV4Md5xQBx1EvAUSnFA6\\u002fC6F4MVckBjqlK7eWdyQM5\\u002fiNd+pHJAdcgKyUYedEA0FwG5Ru10QM2T6cEnyXRAYsN2E8m5dEBvjbRgy1J0QMF6EJ3UHHNA\\u002fT09HeYAc0AglsCOK4R0QDsnuAheVXVAuMaZV2BMdUA9LbtHC9x0QGVclsYQj3RAxJqguutwdEATpcKxjD90QPc0HyNY1nRAmzjT7nxNdUCo++bdtrl0QFuottwhbXVAvQdrlGVvdUBxdxaMY9V1QHf4dWt\\u002fmHVA2+ZSi2RedUBEa+d5CeF0QMxkYgTOxHRALfeCFvCtckC04OtIWiVzQPLMSt3wQnNAGbPJRHYkc0BRU+KGnlNzQB5Z8Gl+IHJAB93EFzEpckAzZ1KUZbZxQCbpKdpV8HFAY8RH7Q4CckAChD9uA95xQClf\\u002fWm12nBADJslXWNCcUDhWuwOcEtxQP\\u002f\\u002fACdJIXNAbKI4j+EDdEA6XzWf5ShyQAWc53MoHHJA0bOaHYCgcUBhJDIl2bBxQJFXUXSFfHFAxnLkOODmcEANdx5JOZhwQGq0QuCcXnFAIGcMQRBEcUBITleA5DJxQP\\u002f+ufA1GXFAXPSEG6FhcUBCdDpRJYNxQEI3uUvKYnFAkeElJ7iOcUBo5w8UFzJyQFnE+rK\\u002fCXJAE6pqSbvacUCu4Un8JH1xQHKRz\\u002f1LIHFAG7Cp26oLcUBQBn3g8yNxQK\\u002fWjuOXV3FAwNWlDWoqcUBKIpolCn5xQAor8rp8THFA5fVystkfcUD+HMMGMwxxQBvrhspkJ3FAh11Z4wpPcUDOFOma5PpxQGKCMoJnlXJAkag7L2gmckCztvjwTG1yQJyvLBR+VnJA+WGeZhZUckDzwYCUeAlyQFrQG8gIFXJADtMM6bTrckDl4VumAm9yQCr5PenRlnBAm12OuOJqbECX9PG0Y3hvQJmTiXNNe25AnwEPT7G8bUBDHmM3vDZuQMB2Zloq1G1AN6ssaXLcbUCkDA+YJeFtQMi8cz8OQGxAGeChgW74bEDWQmGvQrltQFmhOEiNkG1AquSeqw0FbUD12YbUV21tQK+J9PbPuG5AWVEycolcbkDRmRszNZRuQPj9YakPYG5AJ53bJZiUbkDi\\u002f1pkBSZuQMdH\\u002fuCL1m5A3sQV45aobkCwYeguKcpuQD0IL5uC0W9AfGC2yjzhb0DQh65RvBJvQKrKLKMbym1AHozM9+lqbUBOycACrEBuQDsVwtQBGG5AdgX7sN8dbkAqP6MilA5uQFBGIUII6m1An2b5GqGebUANTpmOwMdtQL8i6U6KtW1AzdjMFvDYbUB6dA2H8SxuQODSOpfNIG5Ai9xTIJdVbkAfRMU0osVuQFI7+IIJOG9A5fVjgu4LcECY4AYSBeJwQPBYPbQ50HFA\\u002fIaFw\\u002fruckDpLLZIs4JyQBCL7Rjd3XJAMOxqPv5JdEDViu46D4V0QBxkJuHPQHRA4J+wshKvdECHfBLUlZt0QEbqmjgcpnRA9f+iRHZvdEBGpM7n+rN0QLWr29faOXVAI5QNhygAdUDa4sRa\\u002fvp0QB3drashXXRAYk\\u002fv3JzQdEAgnpl2MoZ0QBxOdhOVhXNANJoZtCJfc0A+vay+E4NzQCm93gCb4XNAg1N+gKK\\u002fdUB1Hlvz4SJ1QNgXnICs+nVAGekb6hHddUD6S9juYKR1QD5JOgsZbXVAV3dxRHXBdEDIMZz21gt1QIQcxh3UtXRAydB\\u002fCysodUC5pHxd+wB1QGjoOfwZAnRA7WyKLXcRdEAUzlROXuFzQM461z51bnNAYpYvCRY4ckANYQYo0w9yQF3rnXJepnVAwb48sgIkdkADAE28PM91QHeO9zlDanZAozncal2JeEDBGEeL\\u002f9d4QAsHLguVNXlANOszyK5ueEBieF2xzll5QCPM9SRAmXhAbC7EY05IeECXin\\u002f\\u002frWV4QO6nFxUfXXlAktEh2P8UeUDWqARI6Hp5QPqkeUFD3XhAokMu\\u002fc8zeUA4RCgqFDZ5QDRraBpsF3lAjehqB+yHekDklWDCPg17QMi7MlxB93pAfqpIhc8ye0ApTGRSp0Z7QCp9bIVLWHpA4OnVw3Yye0CG6B+Evsl5QAHnM6SnRXlAyeflx7BneEBHavCzl6B4QBijHyvEU3lAHkSvYCFueUA+HhTZ4F56QCiuKXRLQHpA3ttYE0kieUAp7DPYL6l5QHz0osfN83lAT2+VP3rPeUDZzkYNwmx6QN8D1kpJx3hAjxw61Ce\\u002feEBs0+UmrbZ4QLL1SCVyKHhAeUNUSZn7d0BpQSelZlR4QNakCumoMHhAJrzREpyDeEBuGvJI1QF4QIY3K3oZD3hA2MSOYDMGeEDt\\u002fXKU91t4QMxDXkroj3dAT\\u002fyKwUqwd0BHYTk6+Od3QAO1wdgiyXhAWCFuwZNaeED2mbDLB\\u002f93QDjhvtNuYXhAI1lO+EQMd0B2nEMr9V54QONZltJ3kndAjDs1rp+3d0DXbCYmP7F3QG2Fhd\\u002fiLHdAasvDcpowd0D3JTFgunp2QMbRtVox4nZAa+nJ\\u002fjiOd0De05x5Ulh5QDhtr3Go3XpAtCFvY1DDekBkSfxds3Z7QHNFeuSBFXtA0IasDAd1e0B+QH79KOt6QJDDMX9pPXtA\\u002fjENArhEe0AJ69vXSOB7QOt6NYAsTXtAXyU2zaPCekBkAUbzzCV7QNEBVcRWNntAluVq9KFle0A13jVyHDF7QF+IAnV9KXxApA2jS+wje0BStjAx0vh6QOIumEONtnpAIsbes7DDekBfr2d+xKd6QCBKivyAwnpAT7cOhOEaekA2vBIlcSZ6QOxiUguqQ3pAld3f2p0iekB+0IEuezt6QFNGC60QJ3pADfnFHCKNekDuq64iKhV6QFmeNe5IG3pAW42\\u002fUFQDekAYok0\\u002fuBt6QETj\\u002fkOxoXpA\\u002f9QVo\\u002fdyekBW9mxpwVR6QIRrYkZ0TXpAQ2QlWulPekDjjaFfYBl6QKQMv2YNrnlA14yzem7bd0D8lIavkU53QP\\u002fS5\\u002f2mX3dAEY4TFHhKd0Bga3iPFaZ3QIcetsloaHdAvJoF8SJOd0BFDtQdiFt3QJitH0TfznhAABASWFpseEDsObO2hTN3QKkk+iuTFXdABFHX7tIQd0CyEi6msgp3QDPeVPk7endALoIW1Jstd0B6eqhIbYN2QIyB29MLHXdA242K5oN3d0DXLeEx1L53QLasSDmjzndAjVon6vvvd0DFeNPxnlh4QEw7pUmARnhAj24EmTvFd0DOME1z98d3QGsrBZWVh3dA+3d+jfp0d0Br4n\\u002fIAZR3QL0L90wzLXhAvEWiiAsUeEAcT4T+1qF4QDgDsxjAinhAzk4cLF3feECBwXpMh4d4QODs9pIUAXlAmrc2Z\\u002fSteEAIKJmy04F4QGPweuM\\u002fC3hAdIUNiY\\u002fwd0BSvmsZvgh4QPyakFNLhHlAkNecrIlseUAK35OFhFh5QBKP3XMusnlAIGbGRsmOekCEvB5KTJp9QCca680JVX5AbABXN8PefkD5cGsVeY9+QJvx9OzuVn5AL6rtaqjefkCA523diwR\\u002fQIAjAKnKtH9AvCN8nH5Cf0BqlvtnVBN\\u002fQMx1JCIzWX9A\\u002fxwikjy2f0Av5XOuuuZ\\u002fQG6euvQ4aoBA1rcE2lKxgEDEU6z5X1SAQNvWcu\\u002fIy39AMpKL0TbygEBkD5lzkSyAQOjDrnwtX4BAzGt5V\\u002f3DgEBgMCpGhQWAQG7XTUHhvoBAvizfHtvfgEDFfMqceaqAQO8eMrGL7IBA0phEMK\\u002fvgEC\\u002fQXQ0\\u002ft6AQIidaq\\u002fEToFAfq+LaLTHgkAOdfhZRLiDQAEFWy\\u002f+kYNAnpAxOgZeg0CpYTFTHMKDQBsRD5Nic4JAF6TJiAWLgkAWDcWu\\u002fi+DQHgCuLtAP4NAZjuCi\\u002fDBgkBMuXPSZBGDQAGMrTn36IJAEm8okTSHg0DFYZ61C6CDQN8G02bKroNAT4xbD5UFg0BGjeOJOW+DQPjs1l7jEYNA0i7VLl7VgkAHGlugvRyEQE1ejLgeK4NAMLGQ2aLDg0A0jeCvqcGDQIDUpyA5A4VALAiIgxSkhECDZSsS+duEQFexEBlKvoRA5g3zFLErg0Bcet2WQE6DQOtBKPwIH4NAoRnW8Hh1gkBBNy5XSJ6CQMeD7uaErIFArx2WxD\\u002fTgUDcC1CSw+2BQGJrbU9b3YFAOSGx7gK1gkAlxYmzhF2DQPDON4EUN4NA+Vcnu7QMg0DT1q9tL0WDQMnRf+3KUYNAl6w0u2oVg0CT8hVQNEaDQCx8Ro1504NA82PBOBdEhEC0Lfd6dReFQLpbIw9jWYZALFfxyKxAhkB9WK7vXi+HQLhL3W0uPIdAHEOxt5BVh0DZjujY12OHQMh3APTMMIdAgpeVEp\\u002fzhkCYKDks\\u002f7GGQKQBPqsXZIhAOgvsx5yJiUBXLcVDQ\\u002faLQI\\u002fNmgymYItAmqv5VOrui0BCxOLsbpGOQAj1LWq7ioxA6vaTJseSjUD3YS4zifCNQHRalv71jY5AaUunQvAhkEBZhH9FSPqPQNQurvHiWJBAZcirLJXwj0DOUE6sWwyPQHfJ6ITlN45AFNtNjXayi0DwffrgtGGOQLkuTnFMTI1A8LiZlymIjEDN+ZpO7EuPQPQfVDc\\u002fT49AcRuDnEMSj0CQkElg9KWPQNTfPm6HLo9AqWFaMjZHjUC59eBPWYSNQLoCYyDepY5Aumt4y\\u002f9YjkDa7yoEvAWQQOgIDoEJ7o5AVRuZY\\u002feTj0DWZ6DJlFePQBVaWUiAD45AEZ9ZgslfjEB0OFAQ9IuMQMNmgeadaYtA\\u002fxCXxrJpjEDPRICmlY+MQBdXOvF65o1A1Ob2SjC1jUCWdaD2NcGMQAEHkYqq2IxAtcdLVnqFjECd0B3YTY+MQAFqHDFXIItAJnHx+3IPikA3R1axBHOKQDSgcRFcIoxAShV84oVBjEC0ALwBzOKLQD\\u002fDmO1zX4tAJrDOnLI0jED7Fk+CMjKLQJDk2YuwI4xAAm7nhzyJi0AXsrsvLqWNQCAb9V+LLo1AyPFQuAL\\u002fjUBv1WsHfvaPQKYRO6pGYI9AP1c0fSDsjkD34pfChmOOQNAATRfYp45AtDAiY4SNjkA8pG1mRjuOQDpFza9klY5Aze8OIFkxjkB1VuVrwseOQIrh6JepkY9AKCov96XMj0DZKllgWqePQC5zMMdZBY9AgLKl58gYj0DiSB1XGB+OQB9sLvs2h45AeLFU8CvdjUCGTP8Y0YeNQFJCsF+yvo1AU+c8PyQkjUB04s5lZgCNQLmAXjmErIxAp57pFi33ikAxln1QFKaLQIWkWORQNItAkkILaTGPi0BzmdqhEfyKQGdLujgGHoxAFe9Hisa\\u002fi0BaXuHnUuuKQF185mErWYlAJ3fX7A9eiUDzT51favOJQHlIxl7e1IlAamqlD1aniUDmJTJh2OaJQADv5fomBY1ATKkQDSYfjUDSCKugGq+MQBQI2oiHnoxAPKDfNeDXjUAfCgA1GDyOQGti1lVDfo1A\\u002f5LVCqQ+jUBB6niUCG2NQEai9rGFYY5A+2H5FnLkjUANLgw6kZ2NQMHHlQZr6IxAnl6dCfc8jUBz70HHdnmLQP9TWmpJJ4hAkuBE9j0RiUApssL57p2IQIvQK6ZBm4tA1z0aBjM8i0B5KyGOe42KQB4plCE3HYtAgk63IstGikAMGTDQ+r+JQLlRU0DBWIpAYV+s7GSdikCgcV7uWGaKQIrvph\\u002f+XYtAZfz80SQDi0ANM0YrTqyMQCSXdw1PIYxAAUQUCJ6eikBQbc7GC2iKQDVWooRWkYpAKI80rpByikAIo5adMrGJQA6AknMZ74lAkp+YEbEfiUC0YgByZSKIQGxYY5oSgolAD3r3xiDKiUCMtNH7IqeJQIVSM5nnAIpAzQx5QtUYi0A2kxHQZwiKQEr2t5y9+opADSOFK1WUi0DqaWAtKCiMQGw9V4sTRYxA8gbZ9L5UjED6S4n5FMSMQFjApJFeP4xA623L+8AojUDKcmKKkm6NQNWnXCO2VIxAo1X\\u002fQUM3i0A94cHb3x+LQHUSVgVgLotAaWpJIy7Ei0BqShZDjteLQPb1beuQy4tAu5K86hEai0C9rq+n1\\u002faKQBOKzwBt74tAUBDNJNSLjUCMFuoXx\\u002f2NQM8IKYk9P45A+FLrPNwmjkD2SkTnjZuOQE1ZJ4UyI45ADBp1jnUijkDRQcrzCriNQL6OxqUJfo5A8hooJR7QjUDH9l98E0aPQCJM6pwZRJBA\\u002fI+1OEkukECQ7W61SGmPQLk\\u002fsNxeFY9AscMQogFWjkCmGzV\\u002fSwePQK7HMSk565BA8kp6P3H6kEBXh\\u002fkNIB+RQPZGm\\u002fUy15NAYW7+J4Csk0AsK6goAUOUQLSpS\\u002fMbhJNAhVt8gZhelEDZt393oECUQKW\\u002f7H\\u002fDp5RAMtJyggoalUC\\u002fHfKsjAiWQFHYVKXGJJZAYf0BdzLTlEBXk+q0PJOUQBBvKaP6dpVAEv60XNDMlUCjD65kaXGVQMBJXZ0\\u002feZVAE43GyacXlkB4K8sJHZuVQJzPw5ahWZZAZ9M\\u002fHSrLlUB+JMYDzZ+VQIhp2VlXoZZA7zFiOaJglkBOJlUlu7GWQJUKDodxt5dArpZl9cq9l0DOAevOjGCWQMLAmsV\\u002fzpVAG00iEKzdlUBF3HWE5S2VQKXtOb9cEpZAWo4BW2ptlUDWtD6RChCVQGGfgbnouJRADi1OlerllEAvCGKX6KuVQK0NfbPM8ZVAkRXviyrVlkCxeLjL9a2VQPQaIudaQpVArByafsQulUC1A0ecLSSVQJcE+Hu0l5VAYQzUPA97lkBDYk5gQFCWQJ1srOmsXZdAS\\u002fjx\\u002fB2+l0AupKQ9Wi+XQPgC0QrwQJdAmTkGtCRyl0B1zsBLt9WWQGR\\u002f3ah4qpZAk3qNQDkyl0BuP5m2Um2XQHLmgB\\u002fj55ZA75kC96WulkCbAVDnTuSVQOfzL7RdnJVA9+ipBxmblUD+TQrDa5eVQDMFFwFxy5VA5t66dqlqlUD8JMGzHOWVQHgn\\u002fSjZnJVA6UTo3IfPlUAVxCAcwl6VQJuC8EmFnZVAEHQyFMX+lUAYtoBIUICVQJq93uDCcpRApjuEcS\\u002fZk0BczeLr2t2SQAn5YClP8pJAreOL01ffkkCFc0GWRECTQPE8DRB+gpNA2sxRs0JFlEA8ASTZXB+UQL0Nq7oIZ5NANuHZf+CQkUAht4EO1YiSQOGFvfgVupJADNistQQikkCrJRD3NsiSQK+cgWhRzpJAyC3wZZqAkkCmo1sCbG2TQGXANtKO05JAI5bcynXMkkBtJIh7VpKTQP0W8pjHkJNALMRw8Rdwk0BzmJEI6X+TQK44MrU03pJAUkIpcOR2kkAn6GDL7gyTQBI2j\\u002fFFc5JAmuuEQ5yWkkDJ5wM9CsGSQEDnO7MmuZFAn0KOeXYPkUBSDFh8U3iSQOVlb4GHz5FAr6ZbZeenkkBUNw7PCumSQIVrf6kHt5JA861DXezLkkBW7xe0Rv2SQIW8SYx7k5NAgtS7kaTmlEDOzn0jX\\u002fWUQKdHLgNiA5VAc2jhs9svlUBeKp1jpT6VQIMM1J3oFpVA4KM+43gSlUAQyi0LUZWVQFirhJw8rZVAGGN1oG8xlUCdpQ1lE6eVQCoEjKw8tJVAOS6ddcgXl0B24c6YSQiXQAh3wfY+\\u002f5ZAU8n3KfFMl0CHdWkn2CiXQEwK5ZGYNJdAvG8jX\\u002fkll0BKcnHeMJ+XQC1mhmgK45dA5EPS0lqImEA7Q\\u002f6AmvqYQLjpgLF7\\u002f5dAWPJgUDhhmEDqwdU08hyYQDLZmmg6oZdAOn7G7CJDl0A=\"},\"yaxis\":\"y\",\"type\":\"scattergl\"}],                        {\"template\":{\"layout\":{\"colorway\":[\"#2B3A64\",\"#96aae3\",\"#C3681D\",\"#EFBD95\",\"#E73F74\",\"#80BA5A\",\"#E68310\",\"#008695\",\"#CF1C90\",\"#f97b72\",\"#4b4b8f\",\"#A5AA99\"],\"font\":{\"color\":\"#505050\",\"family\":\"Poppins, Sans-serif\"},\"hoverlabel\":{\"bgcolor\":\"white\"},\"margin\":{\"b\":70,\"l\":100,\"r\":50,\"t\":75},\"paper_bgcolor\":\"white\",\"plot_bgcolor\":\"white\",\"title\":{\"font\":{\"color\":\"black\",\"family\":\"Poppins, Sans-serif\"},\"x\":0.025,\"xanchor\":\"left\",\"y\":0.92,\"yanchor\":\"top\"},\"xaxis\":{\"showgrid\":false},\"yaxis\":{\"gridcolor\":\"lightgrey\",\"gridwidth\":0.1,\"linecolor\":\"black\",\"linewidth\":1,\"nticks\":10,\"rangemode\":\"tozero\",\"showgrid\":true,\"showline\":true}}},\"xaxis\":{\"anchor\":\"y\",\"domain\":[0.0,1.0],\"title\":{\"text\":\"Date\"}},\"yaxis\":{\"anchor\":\"x\",\"domain\":[0.0,1.0],\"title\":{\"text\":\"Normalized Index (log)\"},\"type\":\"log\"},\"legend\":{\"title\":{\"text\":\"Asset\"},\"tracegroupgap\":0},\"title\":{\"text\":\"Log-Scale Performance Comparison: NVIDIA stock price vs Bitcoin (Base 100)\"}},                        {\"responsive\": true}                    ).then(function(){\n",
       "                            \n",
       "var gd = document.getElementById('133ba0b5-aeb9-47e2-9bc6-3f02869191d0');\n",
       "var x = new MutationObserver(function (mutations, observer) {{\n",
       "        var display = window.getComputedStyle(gd).display;\n",
       "        if (!display || display === 'none') {{\n",
       "            console.log([gd, 'removed!']);\n",
       "            Plotly.purge(gd);\n",
       "            observer.disconnect();\n",
       "        }}\n",
       "}});\n",
       "\n",
       "// Listen for the removal of the full notebook cells\n",
       "var notebookContainer = gd.closest('#notebook-container');\n",
       "if (notebookContainer) {{\n",
       "    x.observe(notebookContainer, {childList: true});\n",
       "}}\n",
       "\n",
       "// Listen for the clearing of the current output cell\n",
       "var outputEl = gd.closest('.output');\n",
       "if (outputEl) {{\n",
       "    x.observe(outputEl, {childList: true});\n",
       "}}\n",
       "\n",
       "                        })                };            </script>        </div>"
      ]
     },
     "metadata": {},
     "output_type": "display_data"
    }
   ],
   "source": [
    "fig_log = px.line(normalized,\n",
    "                  x=normalized.index,\n",
    "                  y=[\"NVIDIA\", \"Bitcoin\"],\n",
    "                  title=\"Log-Scale Performance Comparison: NVIDIA stock price vs Bitcoin (Base 100)\",\n",
    "                  labels={\"value\": \"Normalized Index (log)\", \"variable\": \"Asset\"},\n",
    "                  template=\"dc\")\n",
    "\n",
    "fig_log.update_yaxes(type=\"log\")\n",
    "fig_log.show()"
   ]
  },
  {
   "cell_type": "markdown",
   "id": "3424a70d",
   "metadata": {},
   "source": [
    "### Bonus\n"
   ]
  },
  {
   "cell_type": "markdown",
   "id": "766a1596",
   "metadata": {},
   "source": [
    "🧠 Model dataset\n",
    "\n",
    "\n",
    "In order to enrich our understanding of the market, we expanded the dataset with key economic and technical variables:\n",
    "\n",
    "\n",
    "- **VIX**: A measure of the expect market volatility (commonly \"fear index\") \n",
    "- **10Y Yield**: The yield on the 10-year U.S. Treasury bond, a key benchmark for interest rates and economic outlook.\n",
    "- **Volume**: Trading volume for NVIDIA.\n",
    "- **Technical indicators**:\n",
    "    - *ATR* (Avarage True Range): A volatility indicator that measures market fluctuations.\n",
    "\n",
    "    - *MFI* (Money Flow Index): A momentun indicator that uses price and volume data to identify buying and selling pressure\n",
    "\n",
    "\n",
    "these factors provide both technical and macroeconomics context to support the predictive model"
   ]
  },
  {
   "cell_type": "code",
   "execution_count": 15,
   "id": "c348f085",
   "metadata": {},
   "outputs": [
    {
     "name": "stderr",
     "output_type": "stream",
     "text": [
      "2025-06-30 15:01:24.071943: I external/local_xla/xla/tsl/cuda/cudart_stub.cc:32] Could not find cuda drivers on your machine, GPU will not be used.\n",
      "2025-06-30 15:01:24.132642: I external/local_xla/xla/tsl/cuda/cudart_stub.cc:32] Could not find cuda drivers on your machine, GPU will not be used.\n",
      "2025-06-30 15:01:24.176437: E external/local_xla/xla/stream_executor/cuda/cuda_fft.cc:467] Unable to register cuFFT factory: Attempting to register factory for plugin cuFFT when one has already been registered\n",
      "WARNING: All log messages before absl::InitializeLog() is called are written to STDERR\n",
      "E0000 00:00:1751313684.220244  355679 cuda_dnn.cc:8579] Unable to register cuDNN factory: Attempting to register factory for plugin cuDNN when one has already been registered\n",
      "E0000 00:00:1751313684.236070  355679 cuda_blas.cc:1407] Unable to register cuBLAS factory: Attempting to register factory for plugin cuBLAS when one has already been registered\n",
      "W0000 00:00:1751313684.323020  355679 computation_placer.cc:177] computation placer already registered. Please check linkage and avoid linking the same target more than once.\n",
      "W0000 00:00:1751313684.323064  355679 computation_placer.cc:177] computation placer already registered. Please check linkage and avoid linking the same target more than once.\n",
      "W0000 00:00:1751313684.323066  355679 computation_placer.cc:177] computation placer already registered. Please check linkage and avoid linking the same target more than once.\n",
      "W0000 00:00:1751313684.323068  355679 computation_placer.cc:177] computation placer already registered. Please check linkage and avoid linking the same target more than once.\n",
      "2025-06-30 15:01:24.334909: I tensorflow/core/platform/cpu_feature_guard.cc:210] This TensorFlow binary is optimized to use available CPU instructions in performance-critical operations.\n",
      "To enable the following instructions: AVX2 FMA, in other operations, rebuild TensorFlow with the appropriate compiler flags.\n"
     ]
    }
   ],
   "source": [
    "\n",
    "\n",
    "import ta\n",
    "from sklearn.preprocessing import RobustScaler\n",
    "import tensorflow as tf\n",
    "from tensorflow.keras import layers\n",
    "from tensorflow.keras.losses import Huber\n",
    "from sklearn.metrics import r2_score, median_absolute_error\n",
    "import random, os"
   ]
  },
  {
   "cell_type": "code",
   "execution_count": 16,
   "id": "b4f86d72",
   "metadata": {},
   "outputs": [],
   "source": [
    "\n",
    "SEED = 87\n",
    "os.environ['PYTHONHASHSEED'] = str(SEED)\n",
    "random.seed(SEED)\n",
    "np.random.seed(SEED)\n",
    "tf.random.set_seed(SEED)\n",
    "tf.keras.utils.set_random_seed(SEED)\n",
    "tf.config.experimental.enable_op_determinism()\n",
    "\n",
    "\n",
    "start_date = \"2010-01-01\"\n",
    "end_date = datetime.today().strftime(\"%Y-%m-%d\")\n",
    "\n",
    "#tickers\n",
    "\n",
    "tickers = {\n",
    "    \"NVDA\":\"NVDA\",      \n",
    "    \"VIX\": \"^VIX\",\n",
    "    \"10Y_Yield\": \"^TNX\"\n",
    "}\n",
    "                "
   ]
  },
  {
   "cell_type": "code",
   "execution_count": 17,
   "id": "eaab38af",
   "metadata": {},
   "outputs": [
    {
     "name": "stderr",
     "output_type": "stream",
     "text": [
      "/tmp/ipykernel_355679/114096011.py:3: FutureWarning:\n",
      "\n",
      "YF.download() has changed argument auto_adjust default to True\n",
      "\n",
      "[*********************100%***********************]  1 of 1 completed\n",
      "/tmp/ipykernel_355679/114096011.py:3: FutureWarning:\n",
      "\n",
      "YF.download() has changed argument auto_adjust default to True\n",
      "\n",
      "[*********************100%***********************]  1 of 1 completed\n",
      "/tmp/ipykernel_355679/114096011.py:3: FutureWarning:\n",
      "\n",
      "YF.download() has changed argument auto_adjust default to True\n",
      "\n",
      "[*********************100%***********************]  1 of 1 completed\n"
     ]
    }
   ],
   "source": [
    "\n",
    "data = {}\n",
    "for name, ticker in tickers.items():\n",
    "    df = yf.download(ticker, start = start_date, end = end_date)\n",
    "    df.columns = df.columns.droplevel(1)\n",
    "    data[name]=df[\"Close\"].rename(name)\n",
    "\n",
    "# Combine dataframe\n",
    "\n",
    "df_merged = pd.concat(data.values(), axis = 1)\n",
    "df_merged.dropna(inplace= True)\n",
    "final_df = df_merged.copy()"
   ]
  },
  {
   "cell_type": "code",
   "execution_count": 18,
   "id": "01b95dbb",
   "metadata": {},
   "outputs": [
    {
     "name": "stderr",
     "output_type": "stream",
     "text": [
      "/tmp/ipykernel_355679/1758795905.py:3: FutureWarning:\n",
      "\n",
      "YF.download() has changed argument auto_adjust default to True\n",
      "\n",
      "[*********************100%***********************]  1 of 1 completed\n"
     ]
    }
   ],
   "source": [
    "#Volume\n",
    "\n",
    "data_stock = yf.download('NVDA', start= start_date, end= end_date)\n",
    "data_stock.columns = data_stock.columns.droplevel(1)\n",
    "final_df['Volume_NVDA'] = data_stock['Volume']"
   ]
  },
  {
   "cell_type": "code",
   "execution_count": 19,
   "id": "5aae0a09",
   "metadata": {},
   "outputs": [],
   "source": [
    "datos = final_df.copy()\n",
    "datos['atr'] = ta.volatility.AverageTrueRange(high = data_stock['High'], low = data_stock['Low'], close = data_stock['Close'], window = 14).average_true_range()\n",
    "datos['mfi'] = ta.volume.MFIIndicator(high = data_stock['High'], low = data_stock['Low'],\n",
    "                                           close = data_stock['Close'], volume = data_stock['Volume'],\n",
    "                                            window = 14).money_flow_index()\n",
    "datos['NVDA'] = ta.trend.EMAIndicator(datos['NVDA'], window=5).ema_indicator()\n",
    "datos.dropna(inplace= True)"
   ]
  },
  {
   "cell_type": "markdown",
   "id": "0180a40a",
   "metadata": {},
   "source": [
    "⚙️ Preprocessing and scaling\n",
    "\n",
    "We use *RobustScaler* to scaling the techinical and economic variables. This method is particularly effective at handling outliers, ensuring that extreme values do not distort the model's learning process \n"
   ]
  },
  {
   "cell_type": "code",
   "execution_count": 20,
   "id": "1d631a06",
   "metadata": {},
   "outputs": [],
   "source": [
    "cols_to_scale = [\n",
    "    \"NVDA\",\n",
    "    \"Volume_NVDA\",\n",
    "    \"VIX\",\n",
    "    \"10Y_Yield\",\n",
    "    \"atr\", \n",
    "    \"mfi\"\n",
    "]\n",
    "\n",
    "scaled_df = datos.copy()\n",
    "\n",
    "scaler = RobustScaler(quantile_range=(25,75))\n",
    "scaled_df[cols_to_scale] = scaler.fit_transform(scaled_df[cols_to_scale])"
   ]
  },
  {
   "cell_type": "code",
   "execution_count": 21,
   "id": "dd26f422",
   "metadata": {},
   "outputs": [
    {
     "data": {
      "text/html": [
       "<div>\n",
       "<style scoped>\n",
       "    .dataframe tbody tr th:only-of-type {\n",
       "        vertical-align: middle;\n",
       "    }\n",
       "\n",
       "    .dataframe tbody tr th {\n",
       "        vertical-align: top;\n",
       "    }\n",
       "\n",
       "    .dataframe thead th {\n",
       "        text-align: right;\n",
       "    }\n",
       "</style>\n",
       "<table border=\"1\" class=\"dataframe\">\n",
       "  <thead>\n",
       "    <tr style=\"text-align: right;\">\n",
       "      <th></th>\n",
       "      <th>NVDA</th>\n",
       "      <th>VIX</th>\n",
       "      <th>10Y_Yield</th>\n",
       "      <th>Volume_NVDA</th>\n",
       "      <th>atr</th>\n",
       "      <th>mfi</th>\n",
       "    </tr>\n",
       "    <tr>\n",
       "      <th>Date</th>\n",
       "      <th></th>\n",
       "      <th></th>\n",
       "      <th></th>\n",
       "      <th></th>\n",
       "      <th></th>\n",
       "      <th></th>\n",
       "    </tr>\n",
       "  </thead>\n",
       "  <tbody>\n",
       "    <tr>\n",
       "      <th>2010-01-22</th>\n",
       "      <td>-0.228714</td>\n",
       "      <td>1.396909</td>\n",
       "      <td>0.927435</td>\n",
       "      <td>2.179875</td>\n",
       "      <td>-0.178806</td>\n",
       "      <td>-1.419618</td>\n",
       "    </tr>\n",
       "    <tr>\n",
       "      <th>2010-01-25</th>\n",
       "      <td>-0.228879</td>\n",
       "      <td>1.146991</td>\n",
       "      <td>0.952270</td>\n",
       "      <td>0.755171</td>\n",
       "      <td>-0.178898</td>\n",
       "      <td>-1.185309</td>\n",
       "    </tr>\n",
       "    <tr>\n",
       "      <th>2010-01-26</th>\n",
       "      <td>-0.229261</td>\n",
       "      <td>1.033870</td>\n",
       "      <td>0.952270</td>\n",
       "      <td>0.993472</td>\n",
       "      <td>-0.179064</td>\n",
       "      <td>-1.560355</td>\n",
       "    </tr>\n",
       "    <tr>\n",
       "      <th>2010-01-27</th>\n",
       "      <td>-0.229289</td>\n",
       "      <td>0.848405</td>\n",
       "      <td>0.963135</td>\n",
       "      <td>1.322137</td>\n",
       "      <td>-0.178900</td>\n",
       "      <td>-1.533728</td>\n",
       "    </tr>\n",
       "    <tr>\n",
       "      <th>2010-01-28</th>\n",
       "      <td>-0.229597</td>\n",
       "      <td>0.926011</td>\n",
       "      <td>0.974001</td>\n",
       "      <td>0.903230</td>\n",
       "      <td>-0.177980</td>\n",
       "      <td>-1.539709</td>\n",
       "    </tr>\n",
       "    <tr>\n",
       "      <th>...</th>\n",
       "      <td>...</td>\n",
       "      <td>...</td>\n",
       "      <td>...</td>\n",
       "      <td>...</td>\n",
       "      <td>...</td>\n",
       "      <td>...</td>\n",
       "    </tr>\n",
       "    <tr>\n",
       "      <th>2025-06-23</th>\n",
       "      <td>9.449476</td>\n",
       "      <td>0.413022</td>\n",
       "      <td>1.487776</td>\n",
       "      <td>-0.888245</td>\n",
       "      <td>5.981457</td>\n",
       "      <td>0.039004</td>\n",
       "    </tr>\n",
       "    <tr>\n",
       "      <th>2025-06-24</th>\n",
       "      <td>9.533891</td>\n",
       "      <td>0.103913</td>\n",
       "      <td>1.466822</td>\n",
       "      <td>-0.776559</td>\n",
       "      <td>5.977330</td>\n",
       "      <td>0.015747</td>\n",
       "    </tr>\n",
       "    <tr>\n",
       "      <th>2025-06-25</th>\n",
       "      <td>9.734024</td>\n",
       "      <td>0.009207</td>\n",
       "      <td>1.466822</td>\n",
       "      <td>-0.502592</td>\n",
       "      <td>6.292150</td>\n",
       "      <td>0.111994</td>\n",
       "    </tr>\n",
       "    <tr>\n",
       "      <th>2025-06-26</th>\n",
       "      <td>9.883381</td>\n",
       "      <td>-0.013154</td>\n",
       "      <td>1.435778</td>\n",
       "      <td>-0.741030</td>\n",
       "      <td>6.142293</td>\n",
       "      <td>0.503304</td>\n",
       "    </tr>\n",
       "    <tr>\n",
       "      <th>2025-06-27</th>\n",
       "      <td>10.044220</td>\n",
       "      <td>-0.048668</td>\n",
       "      <td>1.459061</td>\n",
       "      <td>-0.537495</td>\n",
       "      <td>6.115131</td>\n",
       "      <td>0.578737</td>\n",
       "    </tr>\n",
       "  </tbody>\n",
       "</table>\n",
       "<p>3880 rows × 6 columns</p>\n",
       "</div>"
      ],
      "text/plain": [
       "                 NVDA       VIX  10Y_Yield  Volume_NVDA       atr       mfi\n",
       "Date                                                                       \n",
       "2010-01-22  -0.228714  1.396909   0.927435     2.179875 -0.178806 -1.419618\n",
       "2010-01-25  -0.228879  1.146991   0.952270     0.755171 -0.178898 -1.185309\n",
       "2010-01-26  -0.229261  1.033870   0.952270     0.993472 -0.179064 -1.560355\n",
       "2010-01-27  -0.229289  0.848405   0.963135     1.322137 -0.178900 -1.533728\n",
       "2010-01-28  -0.229597  0.926011   0.974001     0.903230 -0.177980 -1.539709\n",
       "...               ...       ...        ...          ...       ...       ...\n",
       "2025-06-23   9.449476  0.413022   1.487776    -0.888245  5.981457  0.039004\n",
       "2025-06-24   9.533891  0.103913   1.466822    -0.776559  5.977330  0.015747\n",
       "2025-06-25   9.734024  0.009207   1.466822    -0.502592  6.292150  0.111994\n",
       "2025-06-26   9.883381 -0.013154   1.435778    -0.741030  6.142293  0.503304\n",
       "2025-06-27  10.044220 -0.048668   1.459061    -0.537495  6.115131  0.578737\n",
       "\n",
       "[3880 rows x 6 columns]"
      ]
     },
     "execution_count": 21,
     "metadata": {},
     "output_type": "execute_result"
    }
   ],
   "source": [
    "scaled_df"
   ]
  },
  {
   "cell_type": "markdown",
   "id": "384392fb",
   "metadata": {},
   "source": [
    "⛓️ Preparing the sequential dataset \n",
    "\n",
    "We split the dataset into training, validation and test sets, preserving the chronological order. Then, we constructed temporal sequences in order to enable ***multistep forecasting***, where the sequence predicts the next *n* days\n",
    "\n",
    "This approach is ideal for  models like LSTM and Transformer, which operate using rolling windows over time-series data. "
   ]
  },
  {
   "cell_type": "code",
   "execution_count": 22,
   "id": "7230b821",
   "metadata": {},
   "outputs": [],
   "source": [
    "def split_data(df, train_size=0.7, val_size=0.2):\n",
    "    total_size = len(df)\n",
    "    \n",
    "    train_end = int(total_size * train_size)\n",
    "    val_end = int(total_size * (train_size + val_size))\n",
    "\n",
    "    train = df.iloc[:train_end]\n",
    "    val = df.iloc[train_end:val_end]\n",
    "    test = df.iloc[val_end:]\n",
    "\n",
    "    return train, val, test\n",
    "\n",
    "\n",
    "train_df, val_df, test_df = split_data(scaled_df)\n",
    "seq_length = 30"
   ]
  },
  {
   "cell_type": "code",
   "execution_count": 23,
   "id": "cffa011f",
   "metadata": {},
   "outputs": [],
   "source": [
    "def create_multistep_sequences(data, seq_length, n_steps_out):\n",
    "    X, y = [], []\n",
    "    for i in range(len(data) - seq_length - n_steps_out):\n",
    "        X.append(data.iloc[i:i+seq_length].values)  # entry sequence\n",
    "        y.append(data.iloc[i+seq_length:i+seq_length+n_steps_out, 0])  # 'Close_smooth' from t+1 to t+n\n",
    "    return np.array(X), np.array(y)"
   ]
  },
  {
   "cell_type": "code",
   "execution_count": 24,
   "id": "3d147910",
   "metadata": {},
   "outputs": [],
   "source": [
    "n_steps_out = 5\n",
    "X_train, y_train = create_multistep_sequences(train_df, seq_length, n_steps_out)\n",
    "X_val, y_val = create_multistep_sequences(val_df, seq_length, n_steps_out)\n",
    "X_test, y_test = create_multistep_sequences(test_df, seq_length, n_steps_out)"
   ]
  },
  {
   "cell_type": "code",
   "execution_count": 25,
   "id": "4f3d40f4",
   "metadata": {},
   "outputs": [],
   "source": [
    "class PositionalEmbedding(tf.keras.layers.Layer):\n",
    "    def __init__(self, sequence_length, d_model):\n",
    "        super().__init__()\n",
    "        self.pos_embedding = self.add_weight(\n",
    "            name=\"pos_embedding\",\n",
    "            shape=(sequence_length, d_model),\n",
    "            initializer=\"random_normal\",\n",
    "            trainable=True,\n",
    "        )\n",
    "\n",
    "\n",
    "    def call(self, x):\n",
    "        return x + self.pos_embedding"
   ]
  },
  {
   "cell_type": "markdown",
   "id": "bd2dacc9",
   "metadata": {},
   "source": [
    "\n",
    "🧬 Building the Transformer Model.\n",
    "\n",
    "We built a Transformer model optimized for time series analysis, which includes:\n",
    "\n",
    "- **Initial proyection** of the input data into a  latent dimension.\n",
    "- **Positional embeding**, essential for capturing the temporal nature of the data data.\n",
    "- multiple layers of **Multi-head Attention**, allowing the model to focus on differents parts of the sequence.\n",
    "- **Feed-forward** with *GELU* activation \n",
    "- **Dropout** and **layer normalization** to regularize and stabilize the training.\n",
    "\n",
    "we compile the model using *Huber loss*, which is robust to ouliers, and we added *early stopping* and **Learning Rate Reduction** callbacks to improve training efficiency"
   ]
  },
  {
   "cell_type": "code",
   "execution_count": 26,
   "id": "3a8fc130",
   "metadata": {},
   "outputs": [],
   "source": [
    "def build_optimized_transformer(input_shape, output_dim, num_heads=4, ff_dim=128, num_layers=2, dropout_rate=0.2):\n",
    "    seq_len, n_features = input_shape\n",
    "\n",
    "    inputs = layers.Input(shape=(seq_len, n_features))\n",
    "\n",
    "    # Initial projection to model dimension\n",
    "    x = layers.Dense(ff_dim)(inputs)\n",
    "\n",
    "    \n",
    "    x = PositionalEmbedding(sequence_length=seq_len, d_model=ff_dim)(x)\n",
    "\n",
    "    for _ in range(num_layers):\n",
    "        # Multi-Head Attention\n",
    "        attn_output = layers.MultiHeadAttention(\n",
    "            num_heads=num_heads,\n",
    "            key_dim=ff_dim,\n",
    "            dropout=dropout_rate\n",
    "        )(x, x)\n",
    "\n",
    "        # Residual + LayerNorm\n",
    "        x = layers.LayerNormalization(epsilon=1e-6)(x + attn_output)\n",
    "\n",
    "        # Feed Forward\n",
    "        ffn = tf.keras.Sequential([\n",
    "            layers.Dense(ff_dim * 2, activation='gelu'),\n",
    "            layers.Dropout(dropout_rate),\n",
    "            layers.Dense(ff_dim)\n",
    "        ])\n",
    "        x = layers.LayerNormalization(epsilon=1e-6)(x + ffn(x))\n",
    "\n",
    "    # Pooling y output\n",
    "    x = layers.GlobalAveragePooling1D()(x)\n",
    "    output = layers.Dense(output_dim)(x)\n",
    "\n",
    "    model = tf.keras.Model(inputs=inputs, outputs=output)\n",
    "    model.compile(\n",
    "        optimizer=tf.keras.optimizers.Adam(learning_rate=1e-3),\n",
    "        loss=Huber(),\n",
    "        metrics=['mae']\n",
    "    )\n",
    "\n",
    "    return model"
   ]
  },
  {
   "cell_type": "code",
   "execution_count": 27,
   "id": "29cb9a4c",
   "metadata": {},
   "outputs": [
    {
     "name": "stderr",
     "output_type": "stream",
     "text": [
      "E0000 00:00:1751313693.650015  355679 cuda_executor.cc:1228] INTERNAL: CUDA Runtime error: Failed call to cudaGetRuntimeVersion: Error loading CUDA libraries. GPU will not be used.: Error loading CUDA libraries. GPU will not be used.\n",
      "W0000 00:00:1751313693.653141  355679 gpu_device.cc:2341] Cannot dlopen some GPU libraries. Please make sure the missing libraries mentioned above are installed properly if you would like to use GPU. Follow the guide at https://www.tensorflow.org/install/gpu for how to download and setup the required libraries for your platform.\n",
      "Skipping registering GPU devices...\n"
     ]
    }
   ],
   "source": [
    "input_shape = X_train.shape[1:]  # (seq_len, n_features)\n",
    "output_dim = y_train.shape[1]    # n_steps_out\n",
    "\n",
    "transformer_model_opt = build_optimized_transformer(input_shape, output_dim)\n",
    "\n",
    "early_stop = tf.keras.callbacks.EarlyStopping(patience=10, restore_best_weights=True)\n",
    "lr_reducer = tf.keras.callbacks.ReduceLROnPlateau(patience=5, factor=0.5, min_lr=1e-6)\n"
   ]
  },
  {
   "cell_type": "markdown",
   "id": "afff6d5d",
   "metadata": {},
   "source": [
    "📉 Training and Evaluation\n",
    "\n",
    "We trained the model using our sequential dataset and evaluated its performance on the validation set.\n",
    "We presented a visual comparison of the predictions against the actual values using two approaches:\n",
    "\n",
    "- **One-step ahead prediction** (t+1).\n",
    "\n",
    "- **Multistep prediction** (up to 5 days ahead).\n",
    "\n",
    "This allows us to assess both the model’s immediate accuracy and its ability to maintain consistency over time."
   ]
  },
  {
   "cell_type": "code",
   "execution_count": 28,
   "id": "d7c9e0fd",
   "metadata": {},
   "outputs": [
    {
     "name": "stdout",
     "output_type": "stream",
     "text": [
      "Epoch 1/100\n"
     ]
    },
    {
     "name": "stderr",
     "output_type": "stream",
     "text": [
      "2025-06-30 15:01:33.862889: E tensorflow/core/framework/node_def_util.cc:680] NodeDef mentions attribute use_unbounded_threadpool which is not in the op definition: Op<name=MapDataset; signature=input_dataset:variant, other_arguments: -> handle:variant; attr=f:func; attr=Targuments:list(type),min=0; attr=output_types:list(type),min=1; attr=output_shapes:list(shape),min=1; attr=use_inter_op_parallelism:bool,default=true; attr=preserve_cardinality:bool,default=false; attr=force_synchronous:bool,default=false; attr=metadata:string,default=\"\"> This may be expected if your graph generating binary is newer  than this binary. Unknown attributes will be ignored. NodeDef: {{node ParallelMapDatasetV2/_15}}\n"
     ]
    },
    {
     "name": "stdout",
     "output_type": "stream",
     "text": [
      "\u001b[1m42/42\u001b[0m \u001b[32m━━━━━━━━━━━━━━━━━━━━\u001b[0m\u001b[37m\u001b[0m \u001b[1m0s\u001b[0m 210ms/step - loss: 0.1788 - mae: 0.4295"
     ]
    },
    {
     "name": "stderr",
     "output_type": "stream",
     "text": [
      "2025-06-30 15:01:46.931486: E tensorflow/core/framework/node_def_util.cc:680] NodeDef mentions attribute use_unbounded_threadpool which is not in the op definition: Op<name=MapDataset; signature=input_dataset:variant, other_arguments: -> handle:variant; attr=f:func; attr=Targuments:list(type),min=0; attr=output_types:list(type),min=1; attr=output_shapes:list(shape),min=1; attr=use_inter_op_parallelism:bool,default=true; attr=preserve_cardinality:bool,default=false; attr=force_synchronous:bool,default=false; attr=metadata:string,default=\"\"> This may be expected if your graph generating binary is newer  than this binary. Unknown attributes will be ignored. NodeDef: {{node ParallelMapDatasetV2/_15}}\n"
     ]
    },
    {
     "name": "stdout",
     "output_type": "stream",
     "text": [
      "\u001b[1m42/42\u001b[0m \u001b[32m━━━━━━━━━━━━━━━━━━━━\u001b[0m\u001b[37m\u001b[0m \u001b[1m14s\u001b[0m 236ms/step - loss: 0.1763 - mae: 0.4251 - val_loss: 0.1147 - val_mae: 0.3929 - learning_rate: 0.0010\n",
      "Epoch 2/100\n",
      "\u001b[1m42/42\u001b[0m \u001b[32m━━━━━━━━━━━━━━━━━━━━\u001b[0m\u001b[37m\u001b[0m \u001b[1m9s\u001b[0m 212ms/step - loss: 0.0034 - mae: 0.0651 - val_loss: 0.1311 - val_mae: 0.4279 - learning_rate: 0.0010\n",
      "Epoch 3/100\n",
      "\u001b[1m42/42\u001b[0m \u001b[32m━━━━━━━━━━━━━━━━━━━━\u001b[0m\u001b[37m\u001b[0m \u001b[1m9s\u001b[0m 223ms/step - loss: 0.0021 - mae: 0.0513 - val_loss: 0.1221 - val_mae: 0.4163 - learning_rate: 0.0010\n",
      "Epoch 4/100\n",
      "\u001b[1m42/42\u001b[0m \u001b[32m━━━━━━━━━━━━━━━━━━━━\u001b[0m\u001b[37m\u001b[0m \u001b[1m9s\u001b[0m 209ms/step - loss: 0.0019 - mae: 0.0484 - val_loss: 0.1149 - val_mae: 0.3949 - learning_rate: 0.0010\n",
      "Epoch 5/100\n",
      "\u001b[1m42/42\u001b[0m \u001b[32m━━━━━━━━━━━━━━━━━━━━\u001b[0m\u001b[37m\u001b[0m \u001b[1m9s\u001b[0m 215ms/step - loss: 0.0016 - mae: 0.0446 - val_loss: 0.1162 - val_mae: 0.3983 - learning_rate: 0.0010\n",
      "Epoch 6/100\n",
      "\u001b[1m42/42\u001b[0m \u001b[32m━━━━━━━━━━━━━━━━━━━━\u001b[0m\u001b[37m\u001b[0m \u001b[1m9s\u001b[0m 226ms/step - loss: 0.0014 - mae: 0.0418 - val_loss: 0.1030 - val_mae: 0.3730 - learning_rate: 0.0010\n",
      "Epoch 7/100\n",
      "\u001b[1m11/42\u001b[0m \u001b[32m━━━━━\u001b[0m\u001b[37m━━━━━━━━━━━━━━━\u001b[0m \u001b[1m5s\u001b[0m 191ms/step - loss: 0.0014 - mae: 0.0420"
     ]
    },
    {
     "ename": "KeyboardInterrupt",
     "evalue": "",
     "output_type": "error",
     "traceback": [
      "\u001b[31m---------------------------------------------------------------------------\u001b[39m",
      "\u001b[31mKeyboardInterrupt\u001b[39m                         Traceback (most recent call last)",
      "\u001b[36mCell\u001b[39m\u001b[36m \u001b[39m\u001b[32mIn[28]\u001b[39m\u001b[32m, line 1\u001b[39m\n\u001b[32m----> \u001b[39m\u001b[32m1\u001b[39m history = transformer_model_opt.fit(\n\u001b[32m      2\u001b[39m     X_train, y_train,\n\u001b[32m      3\u001b[39m     validation_data=(X_val, y_val),\n\u001b[32m      4\u001b[39m     epochs=\u001b[32m100\u001b[39m,\n\u001b[32m      5\u001b[39m     batch_size=\u001b[32m64\u001b[39m,\n\u001b[32m      6\u001b[39m     callbacks=[early_stop, lr_reducer],\n\u001b[32m      7\u001b[39m     verbose=\u001b[32m1\u001b[39m\n\u001b[32m      8\u001b[39m )\n",
      "\u001b[36mFile \u001b[39m\u001b[32m~/anaconda3/envs/Analisis/lib/python3.12/site-packages/keras/src/utils/traceback_utils.py:117\u001b[39m, in \u001b[36mfilter_traceback.<locals>.error_handler\u001b[39m\u001b[34m(*args, **kwargs)\u001b[39m\n\u001b[32m    115\u001b[39m filtered_tb = \u001b[38;5;28;01mNone\u001b[39;00m\n\u001b[32m    116\u001b[39m \u001b[38;5;28;01mtry\u001b[39;00m:\n\u001b[32m--> \u001b[39m\u001b[32m117\u001b[39m     \u001b[38;5;28;01mreturn\u001b[39;00m fn(*args, **kwargs)\n\u001b[32m    118\u001b[39m \u001b[38;5;28;01mexcept\u001b[39;00m \u001b[38;5;167;01mException\u001b[39;00m \u001b[38;5;28;01mas\u001b[39;00m e:\n\u001b[32m    119\u001b[39m     filtered_tb = _process_traceback_frames(e.__traceback__)\n",
      "\u001b[36mFile \u001b[39m\u001b[32m~/anaconda3/envs/Analisis/lib/python3.12/site-packages/keras/src/backend/tensorflow/trainer.py:377\u001b[39m, in \u001b[36mTensorFlowTrainer.fit\u001b[39m\u001b[34m(self, x, y, batch_size, epochs, verbose, callbacks, validation_split, validation_data, shuffle, class_weight, sample_weight, initial_epoch, steps_per_epoch, validation_steps, validation_batch_size, validation_freq)\u001b[39m\n\u001b[32m    375\u001b[39m \u001b[38;5;28;01mfor\u001b[39;00m step, iterator \u001b[38;5;129;01min\u001b[39;00m epoch_iterator:\n\u001b[32m    376\u001b[39m     callbacks.on_train_batch_begin(step)\n\u001b[32m--> \u001b[39m\u001b[32m377\u001b[39m     logs = \u001b[38;5;28mself\u001b[39m.train_function(iterator)\n\u001b[32m    378\u001b[39m     callbacks.on_train_batch_end(step, logs)\n\u001b[32m    379\u001b[39m     \u001b[38;5;28;01mif\u001b[39;00m \u001b[38;5;28mself\u001b[39m.stop_training:\n",
      "\u001b[36mFile \u001b[39m\u001b[32m~/anaconda3/envs/Analisis/lib/python3.12/site-packages/keras/src/backend/tensorflow/trainer.py:220\u001b[39m, in \u001b[36mTensorFlowTrainer._make_function.<locals>.function\u001b[39m\u001b[34m(iterator)\u001b[39m\n\u001b[32m    216\u001b[39m \u001b[38;5;28;01mdef\u001b[39;00m\u001b[38;5;250m \u001b[39m\u001b[34mfunction\u001b[39m(iterator):\n\u001b[32m    217\u001b[39m     \u001b[38;5;28;01mif\u001b[39;00m \u001b[38;5;28misinstance\u001b[39m(\n\u001b[32m    218\u001b[39m         iterator, (tf.data.Iterator, tf.distribute.DistributedIterator)\n\u001b[32m    219\u001b[39m     ):\n\u001b[32m--> \u001b[39m\u001b[32m220\u001b[39m         opt_outputs = multi_step_on_iterator(iterator)\n\u001b[32m    221\u001b[39m         \u001b[38;5;28;01mif\u001b[39;00m \u001b[38;5;129;01mnot\u001b[39;00m opt_outputs.has_value():\n\u001b[32m    222\u001b[39m             \u001b[38;5;28;01mraise\u001b[39;00m \u001b[38;5;167;01mStopIteration\u001b[39;00m\n",
      "\u001b[36mFile \u001b[39m\u001b[32m~/anaconda3/envs/Analisis/lib/python3.12/site-packages/tensorflow/python/util/traceback_utils.py:150\u001b[39m, in \u001b[36mfilter_traceback.<locals>.error_handler\u001b[39m\u001b[34m(*args, **kwargs)\u001b[39m\n\u001b[32m    148\u001b[39m filtered_tb = \u001b[38;5;28;01mNone\u001b[39;00m\n\u001b[32m    149\u001b[39m \u001b[38;5;28;01mtry\u001b[39;00m:\n\u001b[32m--> \u001b[39m\u001b[32m150\u001b[39m   \u001b[38;5;28;01mreturn\u001b[39;00m fn(*args, **kwargs)\n\u001b[32m    151\u001b[39m \u001b[38;5;28;01mexcept\u001b[39;00m \u001b[38;5;167;01mException\u001b[39;00m \u001b[38;5;28;01mas\u001b[39;00m e:\n\u001b[32m    152\u001b[39m   filtered_tb = _process_traceback_frames(e.__traceback__)\n",
      "\u001b[36mFile \u001b[39m\u001b[32m~/anaconda3/envs/Analisis/lib/python3.12/site-packages/tensorflow/python/eager/polymorphic_function/polymorphic_function.py:833\u001b[39m, in \u001b[36mFunction.__call__\u001b[39m\u001b[34m(self, *args, **kwds)\u001b[39m\n\u001b[32m    830\u001b[39m compiler = \u001b[33m\"\u001b[39m\u001b[33mxla\u001b[39m\u001b[33m\"\u001b[39m \u001b[38;5;28;01mif\u001b[39;00m \u001b[38;5;28mself\u001b[39m._jit_compile \u001b[38;5;28;01melse\u001b[39;00m \u001b[33m\"\u001b[39m\u001b[33mnonXla\u001b[39m\u001b[33m\"\u001b[39m\n\u001b[32m    832\u001b[39m \u001b[38;5;28;01mwith\u001b[39;00m OptionalXlaContext(\u001b[38;5;28mself\u001b[39m._jit_compile):\n\u001b[32m--> \u001b[39m\u001b[32m833\u001b[39m   result = \u001b[38;5;28mself\u001b[39m._call(*args, **kwds)\n\u001b[32m    835\u001b[39m new_tracing_count = \u001b[38;5;28mself\u001b[39m.experimental_get_tracing_count()\n\u001b[32m    836\u001b[39m without_tracing = (tracing_count == new_tracing_count)\n",
      "\u001b[36mFile \u001b[39m\u001b[32m~/anaconda3/envs/Analisis/lib/python3.12/site-packages/tensorflow/python/eager/polymorphic_function/polymorphic_function.py:878\u001b[39m, in \u001b[36mFunction._call\u001b[39m\u001b[34m(self, *args, **kwds)\u001b[39m\n\u001b[32m    875\u001b[39m \u001b[38;5;28mself\u001b[39m._lock.release()\n\u001b[32m    876\u001b[39m \u001b[38;5;66;03m# In this case we have not created variables on the first call. So we can\u001b[39;00m\n\u001b[32m    877\u001b[39m \u001b[38;5;66;03m# run the first trace but we should fail if variables are created.\u001b[39;00m\n\u001b[32m--> \u001b[39m\u001b[32m878\u001b[39m results = tracing_compilation.call_function(\n\u001b[32m    879\u001b[39m     args, kwds, \u001b[38;5;28mself\u001b[39m._variable_creation_config\n\u001b[32m    880\u001b[39m )\n\u001b[32m    881\u001b[39m \u001b[38;5;28;01mif\u001b[39;00m \u001b[38;5;28mself\u001b[39m._created_variables:\n\u001b[32m    882\u001b[39m   \u001b[38;5;28;01mraise\u001b[39;00m \u001b[38;5;167;01mValueError\u001b[39;00m(\u001b[33m\"\u001b[39m\u001b[33mCreating variables on a non-first call to a function\u001b[39m\u001b[33m\"\u001b[39m\n\u001b[32m    883\u001b[39m                    \u001b[33m\"\u001b[39m\u001b[33m decorated with tf.function.\u001b[39m\u001b[33m\"\u001b[39m)\n",
      "\u001b[36mFile \u001b[39m\u001b[32m~/anaconda3/envs/Analisis/lib/python3.12/site-packages/tensorflow/python/eager/polymorphic_function/tracing_compilation.py:139\u001b[39m, in \u001b[36mcall_function\u001b[39m\u001b[34m(args, kwargs, tracing_options)\u001b[39m\n\u001b[32m    137\u001b[39m bound_args = function.function_type.bind(*args, **kwargs)\n\u001b[32m    138\u001b[39m flat_inputs = function.function_type.unpack_inputs(bound_args)\n\u001b[32m--> \u001b[39m\u001b[32m139\u001b[39m \u001b[38;5;28;01mreturn\u001b[39;00m function._call_flat(  \u001b[38;5;66;03m# pylint: disable=protected-access\u001b[39;00m\n\u001b[32m    140\u001b[39m     flat_inputs, captured_inputs=function.captured_inputs\n\u001b[32m    141\u001b[39m )\n",
      "\u001b[36mFile \u001b[39m\u001b[32m~/anaconda3/envs/Analisis/lib/python3.12/site-packages/tensorflow/python/eager/polymorphic_function/concrete_function.py:1322\u001b[39m, in \u001b[36mConcreteFunction._call_flat\u001b[39m\u001b[34m(self, tensor_inputs, captured_inputs)\u001b[39m\n\u001b[32m   1318\u001b[39m possible_gradient_type = gradients_util.PossibleTapeGradientTypes(args)\n\u001b[32m   1319\u001b[39m \u001b[38;5;28;01mif\u001b[39;00m (possible_gradient_type == gradients_util.POSSIBLE_GRADIENT_TYPES_NONE\n\u001b[32m   1320\u001b[39m     \u001b[38;5;129;01mand\u001b[39;00m executing_eagerly):\n\u001b[32m   1321\u001b[39m   \u001b[38;5;66;03m# No tape is watching; skip to running the function.\u001b[39;00m\n\u001b[32m-> \u001b[39m\u001b[32m1322\u001b[39m   \u001b[38;5;28;01mreturn\u001b[39;00m \u001b[38;5;28mself\u001b[39m._inference_function.call_preflattened(args)\n\u001b[32m   1323\u001b[39m forward_backward = \u001b[38;5;28mself\u001b[39m._select_forward_and_backward_functions(\n\u001b[32m   1324\u001b[39m     args,\n\u001b[32m   1325\u001b[39m     possible_gradient_type,\n\u001b[32m   1326\u001b[39m     executing_eagerly)\n\u001b[32m   1327\u001b[39m forward_function, args_with_tangents = forward_backward.forward()\n",
      "\u001b[36mFile \u001b[39m\u001b[32m~/anaconda3/envs/Analisis/lib/python3.12/site-packages/tensorflow/python/eager/polymorphic_function/atomic_function.py:216\u001b[39m, in \u001b[36mAtomicFunction.call_preflattened\u001b[39m\u001b[34m(self, args)\u001b[39m\n\u001b[32m    214\u001b[39m \u001b[38;5;28;01mdef\u001b[39;00m\u001b[38;5;250m \u001b[39m\u001b[34mcall_preflattened\u001b[39m(\u001b[38;5;28mself\u001b[39m, args: Sequence[core.Tensor]) -> Any:\n\u001b[32m    215\u001b[39m \u001b[38;5;250m  \u001b[39m\u001b[33;03m\"\"\"Calls with flattened tensor inputs and returns the structured output.\"\"\"\u001b[39;00m\n\u001b[32m--> \u001b[39m\u001b[32m216\u001b[39m   flat_outputs = \u001b[38;5;28mself\u001b[39m.call_flat(*args)\n\u001b[32m    217\u001b[39m   \u001b[38;5;28;01mreturn\u001b[39;00m \u001b[38;5;28mself\u001b[39m.function_type.pack_output(flat_outputs)\n",
      "\u001b[36mFile \u001b[39m\u001b[32m~/anaconda3/envs/Analisis/lib/python3.12/site-packages/tensorflow/python/eager/polymorphic_function/atomic_function.py:251\u001b[39m, in \u001b[36mAtomicFunction.call_flat\u001b[39m\u001b[34m(self, *args)\u001b[39m\n\u001b[32m    249\u001b[39m \u001b[38;5;28;01mwith\u001b[39;00m record.stop_recording():\n\u001b[32m    250\u001b[39m   \u001b[38;5;28;01mif\u001b[39;00m \u001b[38;5;28mself\u001b[39m._bound_context.executing_eagerly():\n\u001b[32m--> \u001b[39m\u001b[32m251\u001b[39m     outputs = \u001b[38;5;28mself\u001b[39m._bound_context.call_function(\n\u001b[32m    252\u001b[39m         \u001b[38;5;28mself\u001b[39m.name,\n\u001b[32m    253\u001b[39m         \u001b[38;5;28mlist\u001b[39m(args),\n\u001b[32m    254\u001b[39m         \u001b[38;5;28mlen\u001b[39m(\u001b[38;5;28mself\u001b[39m.function_type.flat_outputs),\n\u001b[32m    255\u001b[39m     )\n\u001b[32m    256\u001b[39m   \u001b[38;5;28;01melse\u001b[39;00m:\n\u001b[32m    257\u001b[39m     outputs = make_call_op_in_graph(\n\u001b[32m    258\u001b[39m         \u001b[38;5;28mself\u001b[39m,\n\u001b[32m    259\u001b[39m         \u001b[38;5;28mlist\u001b[39m(args),\n\u001b[32m    260\u001b[39m         \u001b[38;5;28mself\u001b[39m._bound_context.function_call_options.as_attrs(),\n\u001b[32m    261\u001b[39m     )\n",
      "\u001b[36mFile \u001b[39m\u001b[32m~/anaconda3/envs/Analisis/lib/python3.12/site-packages/tensorflow/python/eager/context.py:1688\u001b[39m, in \u001b[36mContext.call_function\u001b[39m\u001b[34m(self, name, tensor_inputs, num_outputs)\u001b[39m\n\u001b[32m   1686\u001b[39m cancellation_context = cancellation.context()\n\u001b[32m   1687\u001b[39m \u001b[38;5;28;01mif\u001b[39;00m cancellation_context \u001b[38;5;129;01mis\u001b[39;00m \u001b[38;5;28;01mNone\u001b[39;00m:\n\u001b[32m-> \u001b[39m\u001b[32m1688\u001b[39m   outputs = execute.execute(\n\u001b[32m   1689\u001b[39m       name.decode(\u001b[33m\"\u001b[39m\u001b[33mutf-8\u001b[39m\u001b[33m\"\u001b[39m),\n\u001b[32m   1690\u001b[39m       num_outputs=num_outputs,\n\u001b[32m   1691\u001b[39m       inputs=tensor_inputs,\n\u001b[32m   1692\u001b[39m       attrs=attrs,\n\u001b[32m   1693\u001b[39m       ctx=\u001b[38;5;28mself\u001b[39m,\n\u001b[32m   1694\u001b[39m   )\n\u001b[32m   1695\u001b[39m \u001b[38;5;28;01melse\u001b[39;00m:\n\u001b[32m   1696\u001b[39m   outputs = execute.execute_with_cancellation(\n\u001b[32m   1697\u001b[39m       name.decode(\u001b[33m\"\u001b[39m\u001b[33mutf-8\u001b[39m\u001b[33m\"\u001b[39m),\n\u001b[32m   1698\u001b[39m       num_outputs=num_outputs,\n\u001b[32m   (...)\u001b[39m\u001b[32m   1702\u001b[39m       cancellation_manager=cancellation_context,\n\u001b[32m   1703\u001b[39m   )\n",
      "\u001b[36mFile \u001b[39m\u001b[32m~/anaconda3/envs/Analisis/lib/python3.12/site-packages/tensorflow/python/eager/execute.py:53\u001b[39m, in \u001b[36mquick_execute\u001b[39m\u001b[34m(op_name, num_outputs, inputs, attrs, ctx, name)\u001b[39m\n\u001b[32m     51\u001b[39m \u001b[38;5;28;01mtry\u001b[39;00m:\n\u001b[32m     52\u001b[39m   ctx.ensure_initialized()\n\u001b[32m---> \u001b[39m\u001b[32m53\u001b[39m   tensors = pywrap_tfe.TFE_Py_Execute(ctx._handle, device_name, op_name,\n\u001b[32m     54\u001b[39m                                       inputs, attrs, num_outputs)\n\u001b[32m     55\u001b[39m \u001b[38;5;28;01mexcept\u001b[39;00m core._NotOkStatusException \u001b[38;5;28;01mas\u001b[39;00m e:\n\u001b[32m     56\u001b[39m   \u001b[38;5;28;01mif\u001b[39;00m name \u001b[38;5;129;01mis\u001b[39;00m \u001b[38;5;129;01mnot\u001b[39;00m \u001b[38;5;28;01mNone\u001b[39;00m:\n",
      "\u001b[31mKeyboardInterrupt\u001b[39m: "
     ]
    }
   ],
   "source": [
    "history = transformer_model_opt.fit(\n",
    "    X_train, y_train,\n",
    "    validation_data=(X_val, y_val),\n",
    "    epochs=100,\n",
    "    batch_size=64,\n",
    "    callbacks=[early_stop, lr_reducer],\n",
    "    verbose=1\n",
    ")"
   ]
  },
  {
   "cell_type": "code",
   "execution_count": null,
   "id": "cb25d7a7",
   "metadata": {},
   "outputs": [
    {
     "name": "stdout",
     "output_type": "stream",
     "text": [
      "\u001b[1m 1/24\u001b[0m \u001b[37m━━━━━━━━━━━━━━━━━━━━\u001b[0m \u001b[1m4s\u001b[0m 175ms/step"
     ]
    },
    {
     "name": "stderr",
     "output_type": "stream",
     "text": [
      "2025-06-13 14:57:54.468302: E tensorflow/core/framework/node_def_util.cc:680] NodeDef mentions attribute use_unbounded_threadpool which is not in the op definition: Op<name=MapDataset; signature=input_dataset:variant, other_arguments: -> handle:variant; attr=f:func; attr=Targuments:list(type),min=0; attr=output_types:list(type),min=1; attr=output_shapes:list(shape),min=1; attr=use_inter_op_parallelism:bool,default=true; attr=preserve_cardinality:bool,default=false; attr=force_synchronous:bool,default=false; attr=metadata:string,default=\"\"> This may be expected if your graph generating binary is newer  than this binary. Unknown attributes will be ignored. NodeDef: {{node ParallelMapDatasetV2/_14}}\n"
     ]
    },
    {
     "name": "stdout",
     "output_type": "stream",
     "text": [
      "\u001b[1m24/24\u001b[0m \u001b[32m━━━━━━━━━━━━━━━━━━━━\u001b[0m\u001b[37m\u001b[0m \u001b[1m1s\u001b[0m 25ms/step\n"
     ]
    }
   ],
   "source": [
    "y_pred = transformer_model_opt.predict(X_val)\n"
   ]
  },
  {
   "cell_type": "code",
   "execution_count": null,
   "id": "aa8c9477",
   "metadata": {},
   "outputs": [
    {
     "data": {
      "application/vnd.plotly.v1+json": {
       "config": {
        "plotlyServerURL": "https://plot.ly"
       },
       "data": [
        {
         "line": {
          "color": "royalblue"
         },
         "mode": "lines",
         "name": "Real",
         "type": "scatter",
         "y": {
          "bdata": "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",
          "dtype": "f8"
         }
        },
        {
         "line": {
          "color": "firebrick"
         },
         "mode": "lines",
         "name": "Predicción",
         "type": "scatter",
         "y": {
          "bdata": "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",
          "dtype": "f4"
         }
        }
       ],
       "layout": {
        "template": {
         "data": {
          "bar": [
           {
            "error_x": {
             "color": "#2a3f5f"
            },
            "error_y": {
             "color": "#2a3f5f"
            },
            "marker": {
             "line": {
              "color": "white",
              "width": 0.5
             },
             "pattern": {
              "fillmode": "overlay",
              "size": 10,
              "solidity": 0.2
             }
            },
            "type": "bar"
           }
          ],
          "barpolar": [
           {
            "marker": {
             "line": {
              "color": "white",
              "width": 0.5
             },
             "pattern": {
              "fillmode": "overlay",
              "size": 10,
              "solidity": 0.2
             }
            },
            "type": "barpolar"
           }
          ],
          "carpet": [
           {
            "aaxis": {
             "endlinecolor": "#2a3f5f",
             "gridcolor": "#C8D4E3",
             "linecolor": "#C8D4E3",
             "minorgridcolor": "#C8D4E3",
             "startlinecolor": "#2a3f5f"
            },
            "baxis": {
             "endlinecolor": "#2a3f5f",
             "gridcolor": "#C8D4E3",
             "linecolor": "#C8D4E3",
             "minorgridcolor": "#C8D4E3",
             "startlinecolor": "#2a3f5f"
            },
            "type": "carpet"
           }
          ],
          "choropleth": [
           {
            "colorbar": {
             "outlinewidth": 0,
             "ticks": ""
            },
            "type": "choropleth"
           }
          ],
          "contour": [
           {
            "colorbar": {
             "outlinewidth": 0,
             "ticks": ""
            },
            "colorscale": [
             [
              0,
              "#0d0887"
             ],
             [
              0.1111111111111111,
              "#46039f"
             ],
             [
              0.2222222222222222,
              "#7201a8"
             ],
             [
              0.3333333333333333,
              "#9c179e"
             ],
             [
              0.4444444444444444,
              "#bd3786"
             ],
             [
              0.5555555555555556,
              "#d8576b"
             ],
             [
              0.6666666666666666,
              "#ed7953"
             ],
             [
              0.7777777777777778,
              "#fb9f3a"
             ],
             [
              0.8888888888888888,
              "#fdca26"
             ],
             [
              1,
              "#f0f921"
             ]
            ],
            "type": "contour"
           }
          ],
          "contourcarpet": [
           {
            "colorbar": {
             "outlinewidth": 0,
             "ticks": ""
            },
            "type": "contourcarpet"
           }
          ],
          "heatmap": [
           {
            "colorbar": {
             "outlinewidth": 0,
             "ticks": ""
            },
            "colorscale": [
             [
              0,
              "#0d0887"
             ],
             [
              0.1111111111111111,
              "#46039f"
             ],
             [
              0.2222222222222222,
              "#7201a8"
             ],
             [
              0.3333333333333333,
              "#9c179e"
             ],
             [
              0.4444444444444444,
              "#bd3786"
             ],
             [
              0.5555555555555556,
              "#d8576b"
             ],
             [
              0.6666666666666666,
              "#ed7953"
             ],
             [
              0.7777777777777778,
              "#fb9f3a"
             ],
             [
              0.8888888888888888,
              "#fdca26"
             ],
             [
              1,
              "#f0f921"
             ]
            ],
            "type": "heatmap"
           }
          ],
          "histogram": [
           {
            "marker": {
             "pattern": {
              "fillmode": "overlay",
              "size": 10,
              "solidity": 0.2
             }
            },
            "type": "histogram"
           }
          ],
          "histogram2d": [
           {
            "colorbar": {
             "outlinewidth": 0,
             "ticks": ""
            },
            "colorscale": [
             [
              0,
              "#0d0887"
             ],
             [
              0.1111111111111111,
              "#46039f"
             ],
             [
              0.2222222222222222,
              "#7201a8"
             ],
             [
              0.3333333333333333,
              "#9c179e"
             ],
             [
              0.4444444444444444,
              "#bd3786"
             ],
             [
              0.5555555555555556,
              "#d8576b"
             ],
             [
              0.6666666666666666,
              "#ed7953"
             ],
             [
              0.7777777777777778,
              "#fb9f3a"
             ],
             [
              0.8888888888888888,
              "#fdca26"
             ],
             [
              1,
              "#f0f921"
             ]
            ],
            "type": "histogram2d"
           }
          ],
          "histogram2dcontour": [
           {
            "colorbar": {
             "outlinewidth": 0,
             "ticks": ""
            },
            "colorscale": [
             [
              0,
              "#0d0887"
             ],
             [
              0.1111111111111111,
              "#46039f"
             ],
             [
              0.2222222222222222,
              "#7201a8"
             ],
             [
              0.3333333333333333,
              "#9c179e"
             ],
             [
              0.4444444444444444,
              "#bd3786"
             ],
             [
              0.5555555555555556,
              "#d8576b"
             ],
             [
              0.6666666666666666,
              "#ed7953"
             ],
             [
              0.7777777777777778,
              "#fb9f3a"
             ],
             [
              0.8888888888888888,
              "#fdca26"
             ],
             [
              1,
              "#f0f921"
             ]
            ],
            "type": "histogram2dcontour"
           }
          ],
          "mesh3d": [
           {
            "colorbar": {
             "outlinewidth": 0,
             "ticks": ""
            },
            "type": "mesh3d"
           }
          ],
          "parcoords": [
           {
            "line": {
             "colorbar": {
              "outlinewidth": 0,
              "ticks": ""
             }
            },
            "type": "parcoords"
           }
          ],
          "pie": [
           {
            "automargin": true,
            "type": "pie"
           }
          ],
          "scatter": [
           {
            "fillpattern": {
             "fillmode": "overlay",
             "size": 10,
             "solidity": 0.2
            },
            "type": "scatter"
           }
          ],
          "scatter3d": [
           {
            "line": {
             "colorbar": {
              "outlinewidth": 0,
              "ticks": ""
             }
            },
            "marker": {
             "colorbar": {
              "outlinewidth": 0,
              "ticks": ""
             }
            },
            "type": "scatter3d"
           }
          ],
          "scattercarpet": [
           {
            "marker": {
             "colorbar": {
              "outlinewidth": 0,
              "ticks": ""
             }
            },
            "type": "scattercarpet"
           }
          ],
          "scattergeo": [
           {
            "marker": {
             "colorbar": {
              "outlinewidth": 0,
              "ticks": ""
             }
            },
            "type": "scattergeo"
           }
          ],
          "scattergl": [
           {
            "marker": {
             "colorbar": {
              "outlinewidth": 0,
              "ticks": ""
             }
            },
            "type": "scattergl"
           }
          ],
          "scattermap": [
           {
            "marker": {
             "colorbar": {
              "outlinewidth": 0,
              "ticks": ""
             }
            },
            "type": "scattermap"
           }
          ],
          "scattermapbox": [
           {
            "marker": {
             "colorbar": {
              "outlinewidth": 0,
              "ticks": ""
             }
            },
            "type": "scattermapbox"
           }
          ],
          "scatterpolar": [
           {
            "marker": {
             "colorbar": {
              "outlinewidth": 0,
              "ticks": ""
             }
            },
            "type": "scatterpolar"
           }
          ],
          "scatterpolargl": [
           {
            "marker": {
             "colorbar": {
              "outlinewidth": 0,
              "ticks": ""
             }
            },
            "type": "scatterpolargl"
           }
          ],
          "scatterternary": [
           {
            "marker": {
             "colorbar": {
              "outlinewidth": 0,
              "ticks": ""
             }
            },
            "type": "scatterternary"
           }
          ],
          "surface": [
           {
            "colorbar": {
             "outlinewidth": 0,
             "ticks": ""
            },
            "colorscale": [
             [
              0,
              "#0d0887"
             ],
             [
              0.1111111111111111,
              "#46039f"
             ],
             [
              0.2222222222222222,
              "#7201a8"
             ],
             [
              0.3333333333333333,
              "#9c179e"
             ],
             [
              0.4444444444444444,
              "#bd3786"
             ],
             [
              0.5555555555555556,
              "#d8576b"
             ],
             [
              0.6666666666666666,
              "#ed7953"
             ],
             [
              0.7777777777777778,
              "#fb9f3a"
             ],
             [
              0.8888888888888888,
              "#fdca26"
             ],
             [
              1,
              "#f0f921"
             ]
            ],
            "type": "surface"
           }
          ],
          "table": [
           {
            "cells": {
             "fill": {
              "color": "#EBF0F8"
             },
             "line": {
              "color": "white"
             }
            },
            "header": {
             "fill": {
              "color": "#C8D4E3"
             },
             "line": {
              "color": "white"
             }
            },
            "type": "table"
           }
          ]
         },
         "layout": {
          "annotationdefaults": {
           "arrowcolor": "#2a3f5f",
           "arrowhead": 0,
           "arrowwidth": 1
          },
          "autotypenumbers": "strict",
          "coloraxis": {
           "colorbar": {
            "outlinewidth": 0,
            "ticks": ""
           }
          },
          "colorscale": {
           "diverging": [
            [
             0,
             "#8e0152"
            ],
            [
             0.1,
             "#c51b7d"
            ],
            [
             0.2,
             "#de77ae"
            ],
            [
             0.3,
             "#f1b6da"
            ],
            [
             0.4,
             "#fde0ef"
            ],
            [
             0.5,
             "#f7f7f7"
            ],
            [
             0.6,
             "#e6f5d0"
            ],
            [
             0.7,
             "#b8e186"
            ],
            [
             0.8,
             "#7fbc41"
            ],
            [
             0.9,
             "#4d9221"
            ],
            [
             1,
             "#276419"
            ]
           ],
           "sequential": [
            [
             0,
             "#0d0887"
            ],
            [
             0.1111111111111111,
             "#46039f"
            ],
            [
             0.2222222222222222,
             "#7201a8"
            ],
            [
             0.3333333333333333,
             "#9c179e"
            ],
            [
             0.4444444444444444,
             "#bd3786"
            ],
            [
             0.5555555555555556,
             "#d8576b"
            ],
            [
             0.6666666666666666,
             "#ed7953"
            ],
            [
             0.7777777777777778,
             "#fb9f3a"
            ],
            [
             0.8888888888888888,
             "#fdca26"
            ],
            [
             1,
             "#f0f921"
            ]
           ],
           "sequentialminus": [
            [
             0,
             "#0d0887"
            ],
            [
             0.1111111111111111,
             "#46039f"
            ],
            [
             0.2222222222222222,
             "#7201a8"
            ],
            [
             0.3333333333333333,
             "#9c179e"
            ],
            [
             0.4444444444444444,
             "#bd3786"
            ],
            [
             0.5555555555555556,
             "#d8576b"
            ],
            [
             0.6666666666666666,
             "#ed7953"
            ],
            [
             0.7777777777777778,
             "#fb9f3a"
            ],
            [
             0.8888888888888888,
             "#fdca26"
            ],
            [
             1,
             "#f0f921"
            ]
           ]
          },
          "colorway": [
           "#636efa",
           "#EF553B",
           "#00cc96",
           "#ab63fa",
           "#FFA15A",
           "#19d3f3",
           "#FF6692",
           "#B6E880",
           "#FF97FF",
           "#FECB52"
          ],
          "font": {
           "color": "#2a3f5f"
          },
          "geo": {
           "bgcolor": "white",
           "lakecolor": "white",
           "landcolor": "white",
           "showlakes": true,
           "showland": true,
           "subunitcolor": "#C8D4E3"
          },
          "hoverlabel": {
           "align": "left"
          },
          "hovermode": "closest",
          "mapbox": {
           "style": "light"
          },
          "paper_bgcolor": "white",
          "plot_bgcolor": "white",
          "polar": {
           "angularaxis": {
            "gridcolor": "#EBF0F8",
            "linecolor": "#EBF0F8",
            "ticks": ""
           },
           "bgcolor": "white",
           "radialaxis": {
            "gridcolor": "#EBF0F8",
            "linecolor": "#EBF0F8",
            "ticks": ""
           }
          },
          "scene": {
           "xaxis": {
            "backgroundcolor": "white",
            "gridcolor": "#DFE8F3",
            "gridwidth": 2,
            "linecolor": "#EBF0F8",
            "showbackground": true,
            "ticks": "",
            "zerolinecolor": "#EBF0F8"
           },
           "yaxis": {
            "backgroundcolor": "white",
            "gridcolor": "#DFE8F3",
            "gridwidth": 2,
            "linecolor": "#EBF0F8",
            "showbackground": true,
            "ticks": "",
            "zerolinecolor": "#EBF0F8"
           },
           "zaxis": {
            "backgroundcolor": "white",
            "gridcolor": "#DFE8F3",
            "gridwidth": 2,
            "linecolor": "#EBF0F8",
            "showbackground": true,
            "ticks": "",
            "zerolinecolor": "#EBF0F8"
           }
          },
          "shapedefaults": {
           "line": {
            "color": "#2a3f5f"
           }
          },
          "ternary": {
           "aaxis": {
            "gridcolor": "#DFE8F3",
            "linecolor": "#A2B1C6",
            "ticks": ""
           },
           "baxis": {
            "gridcolor": "#DFE8F3",
            "linecolor": "#A2B1C6",
            "ticks": ""
           },
           "bgcolor": "white",
           "caxis": {
            "gridcolor": "#DFE8F3",
            "linecolor": "#A2B1C6",
            "ticks": ""
           }
          },
          "title": {
           "x": 0.05
          },
          "xaxis": {
           "automargin": true,
           "gridcolor": "#EBF0F8",
           "linecolor": "#EBF0F8",
           "ticks": "",
           "title": {
            "standoff": 15
           },
           "zerolinecolor": "#EBF0F8",
           "zerolinewidth": 2
          },
          "yaxis": {
           "automargin": true,
           "gridcolor": "#EBF0F8",
           "linecolor": "#EBF0F8",
           "ticks": "",
           "title": {
            "standoff": 15
           },
           "zerolinecolor": "#EBF0F8",
           "zerolinewidth": 2
          }
         }
        },
        "title": {
         "text": "Predicción vs Real (Paso t+1)"
        },
        "xaxis": {
         "title": {
          "text": "Índice temporal"
         }
        },
        "yaxis": {
         "title": {
          "text": "Valor escalado NVIDIA"
         }
        }
       }
      }
     },
     "metadata": {},
     "output_type": "display_data"
    }
   ],
   "source": [
    "# one step\n",
    "\n",
    "fig = go.Figure()\n",
    "\n",
    "fig.add_trace(go.Scatter(\n",
    "    y = y_val[:,0], \n",
    "    mode='lines',\n",
    "    name='Real',\n",
    "    line = dict(color ='royalblue')\n",
    "))\n",
    "\n",
    "fig.add_trace(go.Scatter(\n",
    "    y=y_pred[:,0],\n",
    "    mode='lines',\n",
    "    name='Predicción',\n",
    "    line=dict(color='firebrick')\n",
    "))\n",
    "\n",
    "fig.update_layout(\n",
    "    title=\"Predicción vs Real (Paso t+1)\",\n",
    "    xaxis_title=\"Índice temporal\",\n",
    "    yaxis_title=\"Valor escalado NVIDIA\",\n",
    "    template=\"plotly_white\"\n",
    ")\n",
    "\n",
    "fig.show()\n"
   ]
  },
  {
   "cell_type": "code",
   "execution_count": null,
   "id": "073801c2",
   "metadata": {},
   "outputs": [
    {
     "data": {
      "application/vnd.plotly.v1+json": {
       "config": {
        "plotlyServerURL": "https://plot.ly"
       },
       "data": [
        {
         "line": {
          "color": "royalblue"
         },
         "mode": "lines+markers",
         "name": "Real",
         "type": "scatter",
         "y": {
          "bdata": "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",
          "dtype": "f8"
         }
        },
        {
         "line": {
          "color": "firebrick"
         },
         "mode": "lines+markers",
         "name": "Predicción",
         "type": "scatter",
         "y": {
          "bdata": "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",
          "dtype": "f4"
         }
        }
       ],
       "layout": {
        "template": {
         "data": {
          "bar": [
           {
            "error_x": {
             "color": "#2a3f5f"
            },
            "error_y": {
             "color": "#2a3f5f"
            },
            "marker": {
             "line": {
              "color": "white",
              "width": 0.5
             },
             "pattern": {
              "fillmode": "overlay",
              "size": 10,
              "solidity": 0.2
             }
            },
            "type": "bar"
           }
          ],
          "barpolar": [
           {
            "marker": {
             "line": {
              "color": "white",
              "width": 0.5
             },
             "pattern": {
              "fillmode": "overlay",
              "size": 10,
              "solidity": 0.2
             }
            },
            "type": "barpolar"
           }
          ],
          "carpet": [
           {
            "aaxis": {
             "endlinecolor": "#2a3f5f",
             "gridcolor": "#C8D4E3",
             "linecolor": "#C8D4E3",
             "minorgridcolor": "#C8D4E3",
             "startlinecolor": "#2a3f5f"
            },
            "baxis": {
             "endlinecolor": "#2a3f5f",
             "gridcolor": "#C8D4E3",
             "linecolor": "#C8D4E3",
             "minorgridcolor": "#C8D4E3",
             "startlinecolor": "#2a3f5f"
            },
            "type": "carpet"
           }
          ],
          "choropleth": [
           {
            "colorbar": {
             "outlinewidth": 0,
             "ticks": ""
            },
            "type": "choropleth"
           }
          ],
          "contour": [
           {
            "colorbar": {
             "outlinewidth": 0,
             "ticks": ""
            },
            "colorscale": [
             [
              0,
              "#0d0887"
             ],
             [
              0.1111111111111111,
              "#46039f"
             ],
             [
              0.2222222222222222,
              "#7201a8"
             ],
             [
              0.3333333333333333,
              "#9c179e"
             ],
             [
              0.4444444444444444,
              "#bd3786"
             ],
             [
              0.5555555555555556,
              "#d8576b"
             ],
             [
              0.6666666666666666,
              "#ed7953"
             ],
             [
              0.7777777777777778,
              "#fb9f3a"
             ],
             [
              0.8888888888888888,
              "#fdca26"
             ],
             [
              1,
              "#f0f921"
             ]
            ],
            "type": "contour"
           }
          ],
          "contourcarpet": [
           {
            "colorbar": {
             "outlinewidth": 0,
             "ticks": ""
            },
            "type": "contourcarpet"
           }
          ],
          "heatmap": [
           {
            "colorbar": {
             "outlinewidth": 0,
             "ticks": ""
            },
            "colorscale": [
             [
              0,
              "#0d0887"
             ],
             [
              0.1111111111111111,
              "#46039f"
             ],
             [
              0.2222222222222222,
              "#7201a8"
             ],
             [
              0.3333333333333333,
              "#9c179e"
             ],
             [
              0.4444444444444444,
              "#bd3786"
             ],
             [
              0.5555555555555556,
              "#d8576b"
             ],
             [
              0.6666666666666666,
              "#ed7953"
             ],
             [
              0.7777777777777778,
              "#fb9f3a"
             ],
             [
              0.8888888888888888,
              "#fdca26"
             ],
             [
              1,
              "#f0f921"
             ]
            ],
            "type": "heatmap"
           }
          ],
          "histogram": [
           {
            "marker": {
             "pattern": {
              "fillmode": "overlay",
              "size": 10,
              "solidity": 0.2
             }
            },
            "type": "histogram"
           }
          ],
          "histogram2d": [
           {
            "colorbar": {
             "outlinewidth": 0,
             "ticks": ""
            },
            "colorscale": [
             [
              0,
              "#0d0887"
             ],
             [
              0.1111111111111111,
              "#46039f"
             ],
             [
              0.2222222222222222,
              "#7201a8"
             ],
             [
              0.3333333333333333,
              "#9c179e"
             ],
             [
              0.4444444444444444,
              "#bd3786"
             ],
             [
              0.5555555555555556,
              "#d8576b"
             ],
             [
              0.6666666666666666,
              "#ed7953"
             ],
             [
              0.7777777777777778,
              "#fb9f3a"
             ],
             [
              0.8888888888888888,
              "#fdca26"
             ],
             [
              1,
              "#f0f921"
             ]
            ],
            "type": "histogram2d"
           }
          ],
          "histogram2dcontour": [
           {
            "colorbar": {
             "outlinewidth": 0,
             "ticks": ""
            },
            "colorscale": [
             [
              0,
              "#0d0887"
             ],
             [
              0.1111111111111111,
              "#46039f"
             ],
             [
              0.2222222222222222,
              "#7201a8"
             ],
             [
              0.3333333333333333,
              "#9c179e"
             ],
             [
              0.4444444444444444,
              "#bd3786"
             ],
             [
              0.5555555555555556,
              "#d8576b"
             ],
             [
              0.6666666666666666,
              "#ed7953"
             ],
             [
              0.7777777777777778,
              "#fb9f3a"
             ],
             [
              0.8888888888888888,
              "#fdca26"
             ],
             [
              1,
              "#f0f921"
             ]
            ],
            "type": "histogram2dcontour"
           }
          ],
          "mesh3d": [
           {
            "colorbar": {
             "outlinewidth": 0,
             "ticks": ""
            },
            "type": "mesh3d"
           }
          ],
          "parcoords": [
           {
            "line": {
             "colorbar": {
              "outlinewidth": 0,
              "ticks": ""
             }
            },
            "type": "parcoords"
           }
          ],
          "pie": [
           {
            "automargin": true,
            "type": "pie"
           }
          ],
          "scatter": [
           {
            "fillpattern": {
             "fillmode": "overlay",
             "size": 10,
             "solidity": 0.2
            },
            "type": "scatter"
           }
          ],
          "scatter3d": [
           {
            "line": {
             "colorbar": {
              "outlinewidth": 0,
              "ticks": ""
             }
            },
            "marker": {
             "colorbar": {
              "outlinewidth": 0,
              "ticks": ""
             }
            },
            "type": "scatter3d"
           }
          ],
          "scattercarpet": [
           {
            "marker": {
             "colorbar": {
              "outlinewidth": 0,
              "ticks": ""
             }
            },
            "type": "scattercarpet"
           }
          ],
          "scattergeo": [
           {
            "marker": {
             "colorbar": {
              "outlinewidth": 0,
              "ticks": ""
             }
            },
            "type": "scattergeo"
           }
          ],
          "scattergl": [
           {
            "marker": {
             "colorbar": {
              "outlinewidth": 0,
              "ticks": ""
             }
            },
            "type": "scattergl"
           }
          ],
          "scattermap": [
           {
            "marker": {
             "colorbar": {
              "outlinewidth": 0,
              "ticks": ""
             }
            },
            "type": "scattermap"
           }
          ],
          "scattermapbox": [
           {
            "marker": {
             "colorbar": {
              "outlinewidth": 0,
              "ticks": ""
             }
            },
            "type": "scattermapbox"
           }
          ],
          "scatterpolar": [
           {
            "marker": {
             "colorbar": {
              "outlinewidth": 0,
              "ticks": ""
             }
            },
            "type": "scatterpolar"
           }
          ],
          "scatterpolargl": [
           {
            "marker": {
             "colorbar": {
              "outlinewidth": 0,
              "ticks": ""
             }
            },
            "type": "scatterpolargl"
           }
          ],
          "scatterternary": [
           {
            "marker": {
             "colorbar": {
              "outlinewidth": 0,
              "ticks": ""
             }
            },
            "type": "scatterternary"
           }
          ],
          "surface": [
           {
            "colorbar": {
             "outlinewidth": 0,
             "ticks": ""
            },
            "colorscale": [
             [
              0,
              "#0d0887"
             ],
             [
              0.1111111111111111,
              "#46039f"
             ],
             [
              0.2222222222222222,
              "#7201a8"
             ],
             [
              0.3333333333333333,
              "#9c179e"
             ],
             [
              0.4444444444444444,
              "#bd3786"
             ],
             [
              0.5555555555555556,
              "#d8576b"
             ],
             [
              0.6666666666666666,
              "#ed7953"
             ],
             [
              0.7777777777777778,
              "#fb9f3a"
             ],
             [
              0.8888888888888888,
              "#fdca26"
             ],
             [
              1,
              "#f0f921"
             ]
            ],
            "type": "surface"
           }
          ],
          "table": [
           {
            "cells": {
             "fill": {
              "color": "#EBF0F8"
             },
             "line": {
              "color": "white"
             }
            },
            "header": {
             "fill": {
              "color": "#C8D4E3"
             },
             "line": {
              "color": "white"
             }
            },
            "type": "table"
           }
          ]
         },
         "layout": {
          "annotationdefaults": {
           "arrowcolor": "#2a3f5f",
           "arrowhead": 0,
           "arrowwidth": 1
          },
          "autotypenumbers": "strict",
          "coloraxis": {
           "colorbar": {
            "outlinewidth": 0,
            "ticks": ""
           }
          },
          "colorscale": {
           "diverging": [
            [
             0,
             "#8e0152"
            ],
            [
             0.1,
             "#c51b7d"
            ],
            [
             0.2,
             "#de77ae"
            ],
            [
             0.3,
             "#f1b6da"
            ],
            [
             0.4,
             "#fde0ef"
            ],
            [
             0.5,
             "#f7f7f7"
            ],
            [
             0.6,
             "#e6f5d0"
            ],
            [
             0.7,
             "#b8e186"
            ],
            [
             0.8,
             "#7fbc41"
            ],
            [
             0.9,
             "#4d9221"
            ],
            [
             1,
             "#276419"
            ]
           ],
           "sequential": [
            [
             0,
             "#0d0887"
            ],
            [
             0.1111111111111111,
             "#46039f"
            ],
            [
             0.2222222222222222,
             "#7201a8"
            ],
            [
             0.3333333333333333,
             "#9c179e"
            ],
            [
             0.4444444444444444,
             "#bd3786"
            ],
            [
             0.5555555555555556,
             "#d8576b"
            ],
            [
             0.6666666666666666,
             "#ed7953"
            ],
            [
             0.7777777777777778,
             "#fb9f3a"
            ],
            [
             0.8888888888888888,
             "#fdca26"
            ],
            [
             1,
             "#f0f921"
            ]
           ],
           "sequentialminus": [
            [
             0,
             "#0d0887"
            ],
            [
             0.1111111111111111,
             "#46039f"
            ],
            [
             0.2222222222222222,
             "#7201a8"
            ],
            [
             0.3333333333333333,
             "#9c179e"
            ],
            [
             0.4444444444444444,
             "#bd3786"
            ],
            [
             0.5555555555555556,
             "#d8576b"
            ],
            [
             0.6666666666666666,
             "#ed7953"
            ],
            [
             0.7777777777777778,
             "#fb9f3a"
            ],
            [
             0.8888888888888888,
             "#fdca26"
            ],
            [
             1,
             "#f0f921"
            ]
           ]
          },
          "colorway": [
           "#636efa",
           "#EF553B",
           "#00cc96",
           "#ab63fa",
           "#FFA15A",
           "#19d3f3",
           "#FF6692",
           "#B6E880",
           "#FF97FF",
           "#FECB52"
          ],
          "font": {
           "color": "#2a3f5f"
          },
          "geo": {
           "bgcolor": "white",
           "lakecolor": "white",
           "landcolor": "white",
           "showlakes": true,
           "showland": true,
           "subunitcolor": "#C8D4E3"
          },
          "hoverlabel": {
           "align": "left"
          },
          "hovermode": "closest",
          "mapbox": {
           "style": "light"
          },
          "paper_bgcolor": "white",
          "plot_bgcolor": "white",
          "polar": {
           "angularaxis": {
            "gridcolor": "#EBF0F8",
            "linecolor": "#EBF0F8",
            "ticks": ""
           },
           "bgcolor": "white",
           "radialaxis": {
            "gridcolor": "#EBF0F8",
            "linecolor": "#EBF0F8",
            "ticks": ""
           }
          },
          "scene": {
           "xaxis": {
            "backgroundcolor": "white",
            "gridcolor": "#DFE8F3",
            "gridwidth": 2,
            "linecolor": "#EBF0F8",
            "showbackground": true,
            "ticks": "",
            "zerolinecolor": "#EBF0F8"
           },
           "yaxis": {
            "backgroundcolor": "white",
            "gridcolor": "#DFE8F3",
            "gridwidth": 2,
            "linecolor": "#EBF0F8",
            "showbackground": true,
            "ticks": "",
            "zerolinecolor": "#EBF0F8"
           },
           "zaxis": {
            "backgroundcolor": "white",
            "gridcolor": "#DFE8F3",
            "gridwidth": 2,
            "linecolor": "#EBF0F8",
            "showbackground": true,
            "ticks": "",
            "zerolinecolor": "#EBF0F8"
           }
          },
          "shapedefaults": {
           "line": {
            "color": "#2a3f5f"
           }
          },
          "ternary": {
           "aaxis": {
            "gridcolor": "#DFE8F3",
            "linecolor": "#A2B1C6",
            "ticks": ""
           },
           "baxis": {
            "gridcolor": "#DFE8F3",
            "linecolor": "#A2B1C6",
            "ticks": ""
           },
           "bgcolor": "white",
           "caxis": {
            "gridcolor": "#DFE8F3",
            "linecolor": "#A2B1C6",
            "ticks": ""
           }
          },
          "title": {
           "x": 0.05
          },
          "xaxis": {
           "automargin": true,
           "gridcolor": "#EBF0F8",
           "linecolor": "#EBF0F8",
           "ticks": "",
           "title": {
            "standoff": 15
           },
           "zerolinecolor": "#EBF0F8",
           "zerolinewidth": 2
          },
          "yaxis": {
           "automargin": true,
           "gridcolor": "#EBF0F8",
           "linecolor": "#EBF0F8",
           "ticks": "",
           "title": {
            "standoff": 15
           },
           "zerolinecolor": "#EBF0F8",
           "zerolinewidth": 2
          }
         }
        },
        "title": {
         "text": "Predicción multistep"
        },
        "xaxis": {
         "title": {
          "text": "Horizonte (pasos hacia adelante)"
         }
        },
        "yaxis": {
         "title": {
          "text": "Valor escalado NVIDIA"
         }
        }
       }
      }
     },
     "metadata": {},
     "output_type": "display_data"
    }
   ],
   "source": [
    "# multi step\n",
    "\n",
    "fig = go.Figure()\n",
    "\n",
    "fig.add_trace(go.Scatter(\n",
    "    y=y_val[:, -1], \n",
    "    mode='lines+markers', \n",
    "    name='Real',\n",
    "    line=dict(color='royalblue')\n",
    "))\n",
    "\n",
    "fig.add_trace(go.Scatter(\n",
    "    y=y_pred[:, -1],\n",
    "    mode='lines+markers',\n",
    "    name='Predicción',\n",
    "    line=dict(color='firebrick')\n",
    "))\n",
    "\n",
    "fig.update_layout(\n",
    "    title=\"Predicción multistep\",\n",
    "    xaxis_title=\"Horizonte (pasos hacia adelante)\",\n",
    "    yaxis_title=\"Valor escalado NVIDIA\",\n",
    "    template=\"plotly_white\"\n",
    ")\n",
    "\n",
    "fig.show()\n"
   ]
  },
  {
   "cell_type": "markdown",
   "id": "b4fc90d2",
   "metadata": {},
   "source": [
    "📊 Model Metrics\n",
    "\n",
    "We evaluated the model’s performance using the following metrics:\n",
    "\n",
    "- **R² Score**: Measures how well the predictions explain the variance in the actual data.\n",
    "\n",
    "- **MedAE (Median Absolute Error)**: A robust measure of prediction error, less sensitive to outliers.\n",
    "\n",
    "- **Percentage of errors < 1%**: Indicates how many predictions fall within a very small error margin.\n",
    "\n",
    "These metrics are essential to validate the model's practical utility in financial scenarios."
   ]
  },
  {
   "cell_type": "code",
   "execution_count": null,
   "id": "8b437412",
   "metadata": {},
   "outputs": [],
   "source": [
    "min_len = min(len(y_val), len(y_pred))\n",
    "y_val = y_val[:min_len]\n",
    "y_pred_val = y_pred[:min_len]"
   ]
  },
  {
   "cell_type": "code",
   "execution_count": null,
   "id": "6c3c5519",
   "metadata": {},
   "outputs": [],
   "source": [
    "errors_b = y_val.flatten() - y_pred_val.flatten()\n",
    "\n",
    "r2= r2_score(y_val, y_pred_val)\n",
    "medae = median_absolute_error(y_val, y_pred_val)\n",
    "\n"
   ]
  },
  {
   "cell_type": "code",
   "execution_count": null,
   "id": "562325c6",
   "metadata": {},
   "outputs": [
    {
     "data": {
      "application/vnd.plotly.v1+json": {
       "config": {
        "plotlyServerURL": "https://plot.ly"
       },
       "data": [
        {
         "delta": {
          "reference": 1,
          "relative": true
         },
         "domain": {
          "column": 0,
          "row": 0
         },
         "mode": "number+delta",
         "number": {
          "valueformat": ".4f"
         },
         "title": {
          "text": "R² Score"
         },
         "type": "indicator",
         "value": 0.8641321679143854
        },
        {
         "domain": {
          "column": 1,
          "row": 0
         },
         "mode": "number",
         "number": {
          "valueformat": ".4f"
         },
         "title": {
          "text": "MedAE"
         },
         "type": "indicator",
         "value": 0.1809850911703373
        },
        {
         "domain": {
          "column": 2,
          "row": 0
         },
         "mode": "number",
         "number": {
          "suffix": "%",
          "valueformat": ".2f"
         },
         "title": {
          "text": "% Errores < 1%"
         },
         "type": "indicator",
         "value": 1.4634146341463417
        }
       ],
       "layout": {
        "grid": {
         "columns": 3,
         "pattern": "independent",
         "rows": 1
        },
        "template": {
         "data": {
          "bar": [
           {
            "error_x": {
             "color": "#2a3f5f"
            },
            "error_y": {
             "color": "#2a3f5f"
            },
            "marker": {
             "line": {
              "color": "white",
              "width": 0.5
             },
             "pattern": {
              "fillmode": "overlay",
              "size": 10,
              "solidity": 0.2
             }
            },
            "type": "bar"
           }
          ],
          "barpolar": [
           {
            "marker": {
             "line": {
              "color": "white",
              "width": 0.5
             },
             "pattern": {
              "fillmode": "overlay",
              "size": 10,
              "solidity": 0.2
             }
            },
            "type": "barpolar"
           }
          ],
          "carpet": [
           {
            "aaxis": {
             "endlinecolor": "#2a3f5f",
             "gridcolor": "#C8D4E3",
             "linecolor": "#C8D4E3",
             "minorgridcolor": "#C8D4E3",
             "startlinecolor": "#2a3f5f"
            },
            "baxis": {
             "endlinecolor": "#2a3f5f",
             "gridcolor": "#C8D4E3",
             "linecolor": "#C8D4E3",
             "minorgridcolor": "#C8D4E3",
             "startlinecolor": "#2a3f5f"
            },
            "type": "carpet"
           }
          ],
          "choropleth": [
           {
            "colorbar": {
             "outlinewidth": 0,
             "ticks": ""
            },
            "type": "choropleth"
           }
          ],
          "contour": [
           {
            "colorbar": {
             "outlinewidth": 0,
             "ticks": ""
            },
            "colorscale": [
             [
              0,
              "#0d0887"
             ],
             [
              0.1111111111111111,
              "#46039f"
             ],
             [
              0.2222222222222222,
              "#7201a8"
             ],
             [
              0.3333333333333333,
              "#9c179e"
             ],
             [
              0.4444444444444444,
              "#bd3786"
             ],
             [
              0.5555555555555556,
              "#d8576b"
             ],
             [
              0.6666666666666666,
              "#ed7953"
             ],
             [
              0.7777777777777778,
              "#fb9f3a"
             ],
             [
              0.8888888888888888,
              "#fdca26"
             ],
             [
              1,
              "#f0f921"
             ]
            ],
            "type": "contour"
           }
          ],
          "contourcarpet": [
           {
            "colorbar": {
             "outlinewidth": 0,
             "ticks": ""
            },
            "type": "contourcarpet"
           }
          ],
          "heatmap": [
           {
            "colorbar": {
             "outlinewidth": 0,
             "ticks": ""
            },
            "colorscale": [
             [
              0,
              "#0d0887"
             ],
             [
              0.1111111111111111,
              "#46039f"
             ],
             [
              0.2222222222222222,
              "#7201a8"
             ],
             [
              0.3333333333333333,
              "#9c179e"
             ],
             [
              0.4444444444444444,
              "#bd3786"
             ],
             [
              0.5555555555555556,
              "#d8576b"
             ],
             [
              0.6666666666666666,
              "#ed7953"
             ],
             [
              0.7777777777777778,
              "#fb9f3a"
             ],
             [
              0.8888888888888888,
              "#fdca26"
             ],
             [
              1,
              "#f0f921"
             ]
            ],
            "type": "heatmap"
           }
          ],
          "histogram": [
           {
            "marker": {
             "pattern": {
              "fillmode": "overlay",
              "size": 10,
              "solidity": 0.2
             }
            },
            "type": "histogram"
           }
          ],
          "histogram2d": [
           {
            "colorbar": {
             "outlinewidth": 0,
             "ticks": ""
            },
            "colorscale": [
             [
              0,
              "#0d0887"
             ],
             [
              0.1111111111111111,
              "#46039f"
             ],
             [
              0.2222222222222222,
              "#7201a8"
             ],
             [
              0.3333333333333333,
              "#9c179e"
             ],
             [
              0.4444444444444444,
              "#bd3786"
             ],
             [
              0.5555555555555556,
              "#d8576b"
             ],
             [
              0.6666666666666666,
              "#ed7953"
             ],
             [
              0.7777777777777778,
              "#fb9f3a"
             ],
             [
              0.8888888888888888,
              "#fdca26"
             ],
             [
              1,
              "#f0f921"
             ]
            ],
            "type": "histogram2d"
           }
          ],
          "histogram2dcontour": [
           {
            "colorbar": {
             "outlinewidth": 0,
             "ticks": ""
            },
            "colorscale": [
             [
              0,
              "#0d0887"
             ],
             [
              0.1111111111111111,
              "#46039f"
             ],
             [
              0.2222222222222222,
              "#7201a8"
             ],
             [
              0.3333333333333333,
              "#9c179e"
             ],
             [
              0.4444444444444444,
              "#bd3786"
             ],
             [
              0.5555555555555556,
              "#d8576b"
             ],
             [
              0.6666666666666666,
              "#ed7953"
             ],
             [
              0.7777777777777778,
              "#fb9f3a"
             ],
             [
              0.8888888888888888,
              "#fdca26"
             ],
             [
              1,
              "#f0f921"
             ]
            ],
            "type": "histogram2dcontour"
           }
          ],
          "mesh3d": [
           {
            "colorbar": {
             "outlinewidth": 0,
             "ticks": ""
            },
            "type": "mesh3d"
           }
          ],
          "parcoords": [
           {
            "line": {
             "colorbar": {
              "outlinewidth": 0,
              "ticks": ""
             }
            },
            "type": "parcoords"
           }
          ],
          "pie": [
           {
            "automargin": true,
            "type": "pie"
           }
          ],
          "scatter": [
           {
            "fillpattern": {
             "fillmode": "overlay",
             "size": 10,
             "solidity": 0.2
            },
            "type": "scatter"
           }
          ],
          "scatter3d": [
           {
            "line": {
             "colorbar": {
              "outlinewidth": 0,
              "ticks": ""
             }
            },
            "marker": {
             "colorbar": {
              "outlinewidth": 0,
              "ticks": ""
             }
            },
            "type": "scatter3d"
           }
          ],
          "scattercarpet": [
           {
            "marker": {
             "colorbar": {
              "outlinewidth": 0,
              "ticks": ""
             }
            },
            "type": "scattercarpet"
           }
          ],
          "scattergeo": [
           {
            "marker": {
             "colorbar": {
              "outlinewidth": 0,
              "ticks": ""
             }
            },
            "type": "scattergeo"
           }
          ],
          "scattergl": [
           {
            "marker": {
             "colorbar": {
              "outlinewidth": 0,
              "ticks": ""
             }
            },
            "type": "scattergl"
           }
          ],
          "scattermap": [
           {
            "marker": {
             "colorbar": {
              "outlinewidth": 0,
              "ticks": ""
             }
            },
            "type": "scattermap"
           }
          ],
          "scattermapbox": [
           {
            "marker": {
             "colorbar": {
              "outlinewidth": 0,
              "ticks": ""
             }
            },
            "type": "scattermapbox"
           }
          ],
          "scatterpolar": [
           {
            "marker": {
             "colorbar": {
              "outlinewidth": 0,
              "ticks": ""
             }
            },
            "type": "scatterpolar"
           }
          ],
          "scatterpolargl": [
           {
            "marker": {
             "colorbar": {
              "outlinewidth": 0,
              "ticks": ""
             }
            },
            "type": "scatterpolargl"
           }
          ],
          "scatterternary": [
           {
            "marker": {
             "colorbar": {
              "outlinewidth": 0,
              "ticks": ""
             }
            },
            "type": "scatterternary"
           }
          ],
          "surface": [
           {
            "colorbar": {
             "outlinewidth": 0,
             "ticks": ""
            },
            "colorscale": [
             [
              0,
              "#0d0887"
             ],
             [
              0.1111111111111111,
              "#46039f"
             ],
             [
              0.2222222222222222,
              "#7201a8"
             ],
             [
              0.3333333333333333,
              "#9c179e"
             ],
             [
              0.4444444444444444,
              "#bd3786"
             ],
             [
              0.5555555555555556,
              "#d8576b"
             ],
             [
              0.6666666666666666,
              "#ed7953"
             ],
             [
              0.7777777777777778,
              "#fb9f3a"
             ],
             [
              0.8888888888888888,
              "#fdca26"
             ],
             [
              1,
              "#f0f921"
             ]
            ],
            "type": "surface"
           }
          ],
          "table": [
           {
            "cells": {
             "fill": {
              "color": "#EBF0F8"
             },
             "line": {
              "color": "white"
             }
            },
            "header": {
             "fill": {
              "color": "#C8D4E3"
             },
             "line": {
              "color": "white"
             }
            },
            "type": "table"
           }
          ]
         },
         "layout": {
          "annotationdefaults": {
           "arrowcolor": "#2a3f5f",
           "arrowhead": 0,
           "arrowwidth": 1
          },
          "autotypenumbers": "strict",
          "coloraxis": {
           "colorbar": {
            "outlinewidth": 0,
            "ticks": ""
           }
          },
          "colorscale": {
           "diverging": [
            [
             0,
             "#8e0152"
            ],
            [
             0.1,
             "#c51b7d"
            ],
            [
             0.2,
             "#de77ae"
            ],
            [
             0.3,
             "#f1b6da"
            ],
            [
             0.4,
             "#fde0ef"
            ],
            [
             0.5,
             "#f7f7f7"
            ],
            [
             0.6,
             "#e6f5d0"
            ],
            [
             0.7,
             "#b8e186"
            ],
            [
             0.8,
             "#7fbc41"
            ],
            [
             0.9,
             "#4d9221"
            ],
            [
             1,
             "#276419"
            ]
           ],
           "sequential": [
            [
             0,
             "#0d0887"
            ],
            [
             0.1111111111111111,
             "#46039f"
            ],
            [
             0.2222222222222222,
             "#7201a8"
            ],
            [
             0.3333333333333333,
             "#9c179e"
            ],
            [
             0.4444444444444444,
             "#bd3786"
            ],
            [
             0.5555555555555556,
             "#d8576b"
            ],
            [
             0.6666666666666666,
             "#ed7953"
            ],
            [
             0.7777777777777778,
             "#fb9f3a"
            ],
            [
             0.8888888888888888,
             "#fdca26"
            ],
            [
             1,
             "#f0f921"
            ]
           ],
           "sequentialminus": [
            [
             0,
             "#0d0887"
            ],
            [
             0.1111111111111111,
             "#46039f"
            ],
            [
             0.2222222222222222,
             "#7201a8"
            ],
            [
             0.3333333333333333,
             "#9c179e"
            ],
            [
             0.4444444444444444,
             "#bd3786"
            ],
            [
             0.5555555555555556,
             "#d8576b"
            ],
            [
             0.6666666666666666,
             "#ed7953"
            ],
            [
             0.7777777777777778,
             "#fb9f3a"
            ],
            [
             0.8888888888888888,
             "#fdca26"
            ],
            [
             1,
             "#f0f921"
            ]
           ]
          },
          "colorway": [
           "#636efa",
           "#EF553B",
           "#00cc96",
           "#ab63fa",
           "#FFA15A",
           "#19d3f3",
           "#FF6692",
           "#B6E880",
           "#FF97FF",
           "#FECB52"
          ],
          "font": {
           "color": "#2a3f5f"
          },
          "geo": {
           "bgcolor": "white",
           "lakecolor": "white",
           "landcolor": "white",
           "showlakes": true,
           "showland": true,
           "subunitcolor": "#C8D4E3"
          },
          "hoverlabel": {
           "align": "left"
          },
          "hovermode": "closest",
          "mapbox": {
           "style": "light"
          },
          "paper_bgcolor": "white",
          "plot_bgcolor": "white",
          "polar": {
           "angularaxis": {
            "gridcolor": "#EBF0F8",
            "linecolor": "#EBF0F8",
            "ticks": ""
           },
           "bgcolor": "white",
           "radialaxis": {
            "gridcolor": "#EBF0F8",
            "linecolor": "#EBF0F8",
            "ticks": ""
           }
          },
          "scene": {
           "xaxis": {
            "backgroundcolor": "white",
            "gridcolor": "#DFE8F3",
            "gridwidth": 2,
            "linecolor": "#EBF0F8",
            "showbackground": true,
            "ticks": "",
            "zerolinecolor": "#EBF0F8"
           },
           "yaxis": {
            "backgroundcolor": "white",
            "gridcolor": "#DFE8F3",
            "gridwidth": 2,
            "linecolor": "#EBF0F8",
            "showbackground": true,
            "ticks": "",
            "zerolinecolor": "#EBF0F8"
           },
           "zaxis": {
            "backgroundcolor": "white",
            "gridcolor": "#DFE8F3",
            "gridwidth": 2,
            "linecolor": "#EBF0F8",
            "showbackground": true,
            "ticks": "",
            "zerolinecolor": "#EBF0F8"
           }
          },
          "shapedefaults": {
           "line": {
            "color": "#2a3f5f"
           }
          },
          "ternary": {
           "aaxis": {
            "gridcolor": "#DFE8F3",
            "linecolor": "#A2B1C6",
            "ticks": ""
           },
           "baxis": {
            "gridcolor": "#DFE8F3",
            "linecolor": "#A2B1C6",
            "ticks": ""
           },
           "bgcolor": "white",
           "caxis": {
            "gridcolor": "#DFE8F3",
            "linecolor": "#A2B1C6",
            "ticks": ""
           }
          },
          "title": {
           "x": 0.05
          },
          "xaxis": {
           "automargin": true,
           "gridcolor": "#EBF0F8",
           "linecolor": "#EBF0F8",
           "ticks": "",
           "title": {
            "standoff": 15
           },
           "zerolinecolor": "#EBF0F8",
           "zerolinewidth": 2
          },
          "yaxis": {
           "automargin": true,
           "gridcolor": "#EBF0F8",
           "linecolor": "#EBF0F8",
           "ticks": "",
           "title": {
            "standoff": 15
           },
           "zerolinecolor": "#EBF0F8",
           "zerolinewidth": 2
          }
         }
        },
        "title": {
         "text": "📊 Métricas de Rendimiento del Modelo (Transformers)"
        }
       }
      }
     },
     "metadata": {},
     "output_type": "display_data"
    }
   ],
   "source": [
    "\n",
    "fig = go.Figure()\n",
    "\n",
    "# R²\n",
    "fig.add_trace(go.Indicator(\n",
    "    mode = \"number+delta\",\n",
    "    value = r2,\n",
    "    delta = {\"reference\": 1, \"relative\": True},\n",
    "    title = {\"text\": \"R² Score\"},\n",
    "    number = {'valueformat': '.4f'},\n",
    "    domain = {'row': 0, 'column': 0}\n",
    "))\n",
    "\n",
    "# MedAE\n",
    "fig.add_trace(go.Indicator(\n",
    "    mode = \"number\",\n",
    "    value = medae,\n",
    "    title = {\"text\": \"MedAE\"},\n",
    "    number = {'valueformat': '.4f'},\n",
    "    domain = {'row': 0, 'column': 1}\n",
    "))\n",
    "\n",
    "# % errores < 1%\n",
    "porcentaje_errores = np.mean(np.abs(errors_b) < 0.01) * 100\n",
    "fig.add_trace(go.Indicator(\n",
    "    mode = \"number\",\n",
    "    value = porcentaje_errores,\n",
    "    title = {\"text\": \"% Errores < 1%\"},\n",
    "    number = {'suffix': '%', 'valueformat': '.2f'},\n",
    "    domain = {'row': 0, 'column': 2}\n",
    "))\n",
    "\n",
    "fig.update_layout(\n",
    "    grid = {'rows': 1, 'columns': 3, 'pattern': \"independent\"},\n",
    "    title_text = \"📊 Métricas de Rendimiento del Modelo (Transformers)\",\n",
    "    template=\"plotly_white\"\n",
    ")\n",
    "\n",
    "fig.show()"
   ]
  },
  {
   "cell_type": "markdown",
   "id": "db732b28",
   "metadata": {},
   "source": [
    "🧾 Conclusion\n",
    "\n",
    "In this analysis, we explored the behavior and performance of **NVIDIA stock** and **Bitcoin** from 2020 to mid-2025. Through normalization and comparative visualizations, we identified key differences in growth, volatility, and market reaction to critical events such as the tariff war.\n",
    "\n",
    "As an additional component, we built a **Transformer-based model** to predict short-term movements of NVIDIA stock. Although this model was not the main goal of the project, it demonstrated the potential of deep learning techniques in time series forecasting when complemented by macroeconomic and technical indicators.\n",
    "\n",
    "The predictive results were promising, particularly in one-step forecasts, while longer-term predictions revealed the inherent challenge of modeling financial markets. Future improvements could include hyperparameter tuning, feature engineering with sentiment analysis, or the incorporation of macroeconomic calendar events.\n",
    "\n",
    "This project not only highlights the power of data-driven analysis in finance, but also lays the foundation for more complex and robust forecasting systems."
   ]
  }
 ],
 "metadata": {
  "kernelspec": {
   "display_name": "Analisis",
   "language": "python",
   "name": "python3"
  },
  "language_info": {
   "codemirror_mode": {
    "name": "ipython",
    "version": 3
   },
   "file_extension": ".py",
   "mimetype": "text/x-python",
   "name": "python",
   "nbconvert_exporter": "python",
   "pygments_lexer": "ipython3",
   "version": "3.12.2"
  }
 },
 "nbformat": 4,
 "nbformat_minor": 5
}
